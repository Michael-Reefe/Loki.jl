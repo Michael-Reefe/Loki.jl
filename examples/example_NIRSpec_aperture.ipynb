{
 "cells": [
  {
   "attachments": {},
   "cell_type": "markdown",
   "id": "faa40c44",
   "metadata": {},
   "source": [
    "# Likelihood Optimization of gas Kinematics in IFUs (LOKI)\n",
    "## Fitting example: NIRSpec multichannel model (aperture)\n",
    "\n",
    "Michael Reefe\n",
    "\n",
    "This example notebook provides a tutorial on how to run LOKI on a multi-channel NIRSpec IFU cube, combining data from the F100LP, F170LP, and F290LP filters, and fitting an integrated spectrum within an aperture."
   ]
  },
  {
   "cell_type": "code",
   "execution_count": 1,
   "id": "323538a7",
   "metadata": {},
   "outputs": [
    {
     "name": "stderr",
     "output_type": "stream",
     "text": [
      "\u001b[32m\u001b[1m  Activating\u001b[22m\u001b[39m project at `~/Dropbox/Astrophysics/Phoenix_Cluster/Loki`\n",
      "\u001b[32m\u001b[1mPrecompiling\u001b[22m\u001b[39m packages...\n",
      "  10958.6 ms\u001b[32m  ✓ \u001b[39mLoki\n",
      "  1 dependency successfully precompiled in 13 seconds. 308 already precompiled.\n"
     ]
    }
   ],
   "source": [
    "using Pkg\n",
    "Pkg.activate(dirname(@__DIR__))\n",
    "Pkg.instantiate()\n",
    "Pkg.precompile()\n",
    "using Loki\n",
    "using Unitful "
   ]
  },
  {
   "attachments": {},
   "cell_type": "markdown",
   "id": "2862b182",
   "metadata": {},
   "source": [
    "Now we want to load in our data. For this example, we'll be using the data for NGC 7469 in three filter/grating combinations, which are located in the same folder as this notebook. The JWST reduced data does not include a redshift, so we must provide the redshift ourselves.  We can use the `from_fits` function to load in the JWST-formatted FITS files, along with the redshift."
   ]
  },
  {
   "cell_type": "code",
   "execution_count": 2,
   "id": "08c04fee",
   "metadata": {},
   "outputs": [
    {
     "name": "stdout",
     "output_type": "stream",
     "text": [
      "\u001b[36m\u001b[1m[ \u001b[22m\u001b[39m\u001b[36m\u001b[1mInfo: \u001b[22m\u001b[39mInitializing DataCube struct from f100lp_g140h-f100lp_s3d.fits\n",
      "\u001b[36m\u001b[1m[ \u001b[22m\u001b[39m\u001b[36m\u001b[1mInfo: \u001b[22m\u001b[39mInitializing DataCube struct from f170lp_g235h-f170lp_s3d.fits\n",
      "\u001b[36m\u001b[1m[ \u001b[22m\u001b[39m\u001b[36m\u001b[1mInfo: \u001b[22m\u001b[39mInitializing DataCube struct from f290lp_g395h-f290lp_s3d.fits\n"
     ]
    }
   ],
   "source": [
    "# The redshift of the target object: NGC 7469\n",
    "z = 0.016317\n",
    "# The semicolon at the end suppresses printing the output Observation object, which is long and not very enlightening\n",
    "obs = from_fits([\"f100lp_g140h-f100lp_s3d.fits\", \"f170lp_g235h-f170lp_s3d.fits\", \"f290lp_g395h-f290lp_s3d.fits\"], z);"
   ]
  },
  {
   "attachments": {},
   "cell_type": "markdown",
   "id": "aea827e4",
   "metadata": {},
   "source": [
    "Next, we create some variables that we will use later. We will be fitting data from multiple grating/filter combos, and we can take the `name` property from the Observation object we just loaded in to get the name of the target. Here, `run_name` is just a unique identifier that we will use for this run."
   ]
  },
  {
   "cell_type": "code",
   "execution_count": 3,
   "id": "8f602574",
   "metadata": {},
   "outputs": [
    {
     "data": {
      "text/plain": [
       "\"NGC_7469_NIRSpecAll_nuc_aperture\""
      ]
     },
     "metadata": {},
     "output_type": "display_data"
    }
   ],
   "source": [
    "channel = \"NIRSpecAll\"\n",
    "nm = replace(obs.name, \" \" => \"_\") \n",
    "run_name = \"$(nm)_$(channel)_nuc_aperture\""
   ]
  },
  {
   "attachments": {},
   "cell_type": "markdown",
   "id": "4f793d58",
   "metadata": {},
   "source": [
    "Before fitting, we want to do some pre-processing on the data. We want to convert the data to the rest-frame, mast out / interpolate any bad pixels, and replace the JWST pipeline-generated errors with some more realistic ones.  All of this is achieved in the next block of code."
   ]
  },
  {
   "cell_type": "code",
   "execution_count": 4,
   "id": "3dfbae1c",
   "metadata": {},
   "outputs": [
    {
     "name": "stdout",
     "output_type": "stream",
     "text": [
      "\u001b[36m\u001b[1m[ \u001b[22m\u001b[39m\u001b[36m\u001b[1mInfo: \u001b[22m\u001b[39mInitializing DataCube struct from NGC_7469.channelNIRSpecAll.rest_frame.fits\n"
     ]
    },
    {
     "data": {
      "text/plain": [
       "Observation(Dict{Any, DataCube}(\"NIRSpecAll\" => DataCube{Vector{Quantity{Float64, 𝐋, Unitful.FreeUnits{(μm,), 𝐋, nothing}}}, Array{Quantity{Float64, 𝐌 𝐓⁻², Unitful.FreeUnits{(erg, Hz⁻¹, cm⁻², s⁻¹, sr⁻¹), 𝐌 𝐓⁻², nothing}}, 3}}(Quantity{Float64, 𝐋, Unitful.FreeUnits{(μm,), 𝐋, nothing}}[0.9547734895800328 μm, 0.9550047726596355 μm, 0.9552361117649484 μm, 0.9554675069095432 μm, 0.9556989581069948 μm, 0.9559304653708812 μm, 0.9561620287147841 μm, 0.9563936481522881 μm, 0.9566253236969813 μm, 0.956857055362455 μm  …  5.173831522439116 μm, 5.1750848246106935 μm, 5.1763384303805475 μm, 5.17759233982222 μm, 5.178846553009275 μm, 5.180101070015289 μm, 5.18135589091386 μm, 5.182611015778601 μm, 5.1838664446831455 μm, 5.185122177701144 μm], Quantity{Float64, 𝐌 𝐓⁻², Unitful.FreeUnits{(erg, Hz⁻¹, cm⁻², s⁻¹, sr⁻¹), 𝐌 𝐓⁻², nothing}}[NaN erg Hz⁻¹ cm⁻² s⁻¹ sr⁻¹ NaN erg Hz⁻¹ cm⁻² s⁻¹ sr⁻¹ … NaN erg Hz⁻¹ cm⁻² s⁻¹ sr⁻¹ NaN erg Hz⁻¹ cm⁻² s⁻¹ sr⁻¹; NaN erg Hz⁻¹ cm⁻² s⁻¹ sr⁻¹ NaN erg Hz⁻¹ cm⁻² s⁻¹ sr⁻¹ … NaN erg Hz⁻¹ cm⁻² s⁻¹ sr⁻¹ NaN erg Hz⁻¹ cm⁻² s⁻¹ sr⁻¹; … ; NaN erg Hz⁻¹ cm⁻² s⁻¹ sr⁻¹ NaN erg Hz⁻¹ cm⁻² s⁻¹ sr⁻¹ … NaN erg Hz⁻¹ cm⁻² s⁻¹ sr⁻¹ NaN erg Hz⁻¹ cm⁻² s⁻¹ sr⁻¹; NaN erg Hz⁻¹ cm⁻² s⁻¹ sr⁻¹ NaN erg Hz⁻¹ cm⁻² s⁻¹ sr⁻¹ … NaN erg Hz⁻¹ cm⁻² s⁻¹ sr⁻¹ NaN erg Hz⁻¹ cm⁻² s⁻¹ sr⁻¹;;; NaN erg Hz⁻¹ cm⁻² s⁻¹ sr⁻¹ NaN erg Hz⁻¹ cm⁻² s⁻¹ sr⁻¹ … NaN erg Hz⁻¹ cm⁻² s⁻¹ sr⁻¹ NaN erg Hz⁻¹ cm⁻² s⁻¹ sr⁻¹; NaN erg Hz⁻¹ cm⁻² s⁻¹ sr⁻¹ NaN erg Hz⁻¹ cm⁻² s⁻¹ sr⁻¹ … NaN erg Hz⁻¹ cm⁻² s⁻¹ sr⁻¹ NaN erg Hz⁻¹ cm⁻² s⁻¹ sr⁻¹; … ; NaN erg Hz⁻¹ cm⁻² s⁻¹ sr⁻¹ NaN erg Hz⁻¹ cm⁻² s⁻¹ sr⁻¹ … NaN erg Hz⁻¹ cm⁻² s⁻¹ sr⁻¹ NaN erg Hz⁻¹ cm⁻² s⁻¹ sr⁻¹; NaN erg Hz⁻¹ cm⁻² s⁻¹ sr⁻¹ NaN erg Hz⁻¹ cm⁻² s⁻¹ sr⁻¹ … NaN erg Hz⁻¹ cm⁻² s⁻¹ sr⁻¹ NaN erg Hz⁻¹ cm⁻² s⁻¹ sr⁻¹;;; NaN erg Hz⁻¹ cm⁻² s⁻¹ sr⁻¹ NaN erg Hz⁻¹ cm⁻² s⁻¹ sr⁻¹ … NaN erg Hz⁻¹ cm⁻² s⁻¹ sr⁻¹ NaN erg Hz⁻¹ cm⁻² s⁻¹ sr⁻¹; NaN erg Hz⁻¹ cm⁻² s⁻¹ sr⁻¹ NaN erg Hz⁻¹ cm⁻² s⁻¹ sr⁻¹ … NaN erg Hz⁻¹ cm⁻² s⁻¹ sr⁻¹ NaN erg Hz⁻¹ cm⁻² s⁻¹ sr⁻¹; … ; NaN erg Hz⁻¹ cm⁻² s⁻¹ sr⁻¹ NaN erg Hz⁻¹ cm⁻² s⁻¹ sr⁻¹ … NaN erg Hz⁻¹ cm⁻² s⁻¹ sr⁻¹ NaN erg Hz⁻¹ cm⁻² s⁻¹ sr⁻¹; NaN erg Hz⁻¹ cm⁻² s⁻¹ sr⁻¹ NaN erg Hz⁻¹ cm⁻² s⁻¹ sr⁻¹ … NaN erg Hz⁻¹ cm⁻² s⁻¹ sr⁻¹ NaN erg Hz⁻¹ cm⁻² s⁻¹ sr⁻¹;;; … ;;; NaN erg Hz⁻¹ cm⁻² s⁻¹ sr⁻¹ NaN erg Hz⁻¹ cm⁻² s⁻¹ sr⁻¹ … NaN erg Hz⁻¹ cm⁻² s⁻¹ sr⁻¹ NaN erg Hz⁻¹ cm⁻² s⁻¹ sr⁻¹; NaN erg Hz⁻¹ cm⁻² s⁻¹ sr⁻¹ NaN erg Hz⁻¹ cm⁻² s⁻¹ sr⁻¹ … NaN erg Hz⁻¹ cm⁻² s⁻¹ sr⁻¹ NaN erg Hz⁻¹ cm⁻² s⁻¹ sr⁻¹; … ; NaN erg Hz⁻¹ cm⁻² s⁻¹ sr⁻¹ NaN erg Hz⁻¹ cm⁻² s⁻¹ sr⁻¹ … NaN erg Hz⁻¹ cm⁻² s⁻¹ sr⁻¹ NaN erg Hz⁻¹ cm⁻² s⁻¹ sr⁻¹; NaN erg Hz⁻¹ cm⁻² s⁻¹ sr⁻¹ NaN erg Hz⁻¹ cm⁻² s⁻¹ sr⁻¹ … NaN erg Hz⁻¹ cm⁻² s⁻¹ sr⁻¹ NaN erg Hz⁻¹ cm⁻² s⁻¹ sr⁻¹;;; NaN erg Hz⁻¹ cm⁻² s⁻¹ sr⁻¹ NaN erg Hz⁻¹ cm⁻² s⁻¹ sr⁻¹ … NaN erg Hz⁻¹ cm⁻² s⁻¹ sr⁻¹ NaN erg Hz⁻¹ cm⁻² s⁻¹ sr⁻¹; NaN erg Hz⁻¹ cm⁻² s⁻¹ sr⁻¹ NaN erg Hz⁻¹ cm⁻² s⁻¹ sr⁻¹ … NaN erg Hz⁻¹ cm⁻² s⁻¹ sr⁻¹ NaN erg Hz⁻¹ cm⁻² s⁻¹ sr⁻¹; … ; NaN erg Hz⁻¹ cm⁻² s⁻¹ sr⁻¹ NaN erg Hz⁻¹ cm⁻² s⁻¹ sr⁻¹ … NaN erg Hz⁻¹ cm⁻² s⁻¹ sr⁻¹ NaN erg Hz⁻¹ cm⁻² s⁻¹ sr⁻¹; NaN erg Hz⁻¹ cm⁻² s⁻¹ sr⁻¹ NaN erg Hz⁻¹ cm⁻² s⁻¹ sr⁻¹ … NaN erg Hz⁻¹ cm⁻² s⁻¹ sr⁻¹ NaN erg Hz⁻¹ cm⁻² s⁻¹ sr⁻¹;;; NaN erg Hz⁻¹ cm⁻² s⁻¹ sr⁻¹ NaN erg Hz⁻¹ cm⁻² s⁻¹ sr⁻¹ … NaN erg Hz⁻¹ cm⁻² s⁻¹ sr⁻¹ NaN erg Hz⁻¹ cm⁻² s⁻¹ sr⁻¹; NaN erg Hz⁻¹ cm⁻² s⁻¹ sr⁻¹ NaN erg Hz⁻¹ cm⁻² s⁻¹ sr⁻¹ … NaN erg Hz⁻¹ cm⁻² s⁻¹ sr⁻¹ NaN erg Hz⁻¹ cm⁻² s⁻¹ sr⁻¹; … ; NaN erg Hz⁻¹ cm⁻² s⁻¹ sr⁻¹ NaN erg Hz⁻¹ cm⁻² s⁻¹ sr⁻¹ … NaN erg Hz⁻¹ cm⁻² s⁻¹ sr⁻¹ NaN erg Hz⁻¹ cm⁻² s⁻¹ sr⁻¹; NaN erg Hz⁻¹ cm⁻² s⁻¹ sr⁻¹ NaN erg Hz⁻¹ cm⁻² s⁻¹ sr⁻¹ … NaN erg Hz⁻¹ cm⁻² s⁻¹ sr⁻¹ NaN erg Hz⁻¹ cm⁻² s⁻¹ sr⁻¹], Quantity{Float64, 𝐌 𝐓⁻², Unitful.FreeUnits{(erg, Hz⁻¹, cm⁻², s⁻¹, sr⁻¹), 𝐌 𝐓⁻², nothing}}[NaN erg Hz⁻¹ cm⁻² s⁻¹ sr⁻¹ NaN erg Hz⁻¹ cm⁻² s⁻¹ sr⁻¹ … NaN erg Hz⁻¹ cm⁻² s⁻¹ sr⁻¹ NaN erg Hz⁻¹ cm⁻² s⁻¹ sr⁻¹; NaN erg Hz⁻¹ cm⁻² s⁻¹ sr⁻¹ NaN erg Hz⁻¹ cm⁻² s⁻¹ sr⁻¹ … NaN erg Hz⁻¹ cm⁻² s⁻¹ sr⁻¹ NaN erg Hz⁻¹ cm⁻² s⁻¹ sr⁻¹; … ; NaN erg Hz⁻¹ cm⁻² s⁻¹ sr⁻¹ NaN erg Hz⁻¹ cm⁻² s⁻¹ sr⁻¹ … NaN erg Hz⁻¹ cm⁻² s⁻¹ sr⁻¹ NaN erg Hz⁻¹ cm⁻² s⁻¹ sr⁻¹; NaN erg Hz⁻¹ cm⁻² s⁻¹ sr⁻¹ NaN erg Hz⁻¹ cm⁻² s⁻¹ sr⁻¹ … NaN erg Hz⁻¹ cm⁻² s⁻¹ sr⁻¹ NaN erg Hz⁻¹ cm⁻² s⁻¹ sr⁻¹;;; NaN erg Hz⁻¹ cm⁻² s⁻¹ sr⁻¹ NaN erg Hz⁻¹ cm⁻² s⁻¹ sr⁻¹ … NaN erg Hz⁻¹ cm⁻² s⁻¹ sr⁻¹ NaN erg Hz⁻¹ cm⁻² s⁻¹ sr⁻¹; NaN erg Hz⁻¹ cm⁻² s⁻¹ sr⁻¹ NaN erg Hz⁻¹ cm⁻² s⁻¹ sr⁻¹ … NaN erg Hz⁻¹ cm⁻² s⁻¹ sr⁻¹ NaN erg Hz⁻¹ cm⁻² s⁻¹ sr⁻¹; … ; NaN erg Hz⁻¹ cm⁻² s⁻¹ sr⁻¹ NaN erg Hz⁻¹ cm⁻² s⁻¹ sr⁻¹ … NaN erg Hz⁻¹ cm⁻² s⁻¹ sr⁻¹ NaN erg Hz⁻¹ cm⁻² s⁻¹ sr⁻¹; NaN erg Hz⁻¹ cm⁻² s⁻¹ sr⁻¹ NaN erg Hz⁻¹ cm⁻² s⁻¹ sr⁻¹ … NaN erg Hz⁻¹ cm⁻² s⁻¹ sr⁻¹ NaN erg Hz⁻¹ cm⁻² s⁻¹ sr⁻¹;;; NaN erg Hz⁻¹ cm⁻² s⁻¹ sr⁻¹ NaN erg Hz⁻¹ cm⁻² s⁻¹ sr⁻¹ … NaN erg Hz⁻¹ cm⁻² s⁻¹ sr⁻¹ NaN erg Hz⁻¹ cm⁻² s⁻¹ sr⁻¹; NaN erg Hz⁻¹ cm⁻² s⁻¹ sr⁻¹ NaN erg Hz⁻¹ cm⁻² s⁻¹ sr⁻¹ … NaN erg Hz⁻¹ cm⁻² s⁻¹ sr⁻¹ NaN erg Hz⁻¹ cm⁻² s⁻¹ sr⁻¹; … ; NaN erg Hz⁻¹ cm⁻² s⁻¹ sr⁻¹ NaN erg Hz⁻¹ cm⁻² s⁻¹ sr⁻¹ … NaN erg Hz⁻¹ cm⁻² s⁻¹ sr⁻¹ NaN erg Hz⁻¹ cm⁻² s⁻¹ sr⁻¹; NaN erg Hz⁻¹ cm⁻² s⁻¹ sr⁻¹ NaN erg Hz⁻¹ cm⁻² s⁻¹ sr⁻¹ … NaN erg Hz⁻¹ cm⁻² s⁻¹ sr⁻¹ NaN erg Hz⁻¹ cm⁻² s⁻¹ sr⁻¹;;; … ;;; NaN erg Hz⁻¹ cm⁻² s⁻¹ sr⁻¹ NaN erg Hz⁻¹ cm⁻² s⁻¹ sr⁻¹ … NaN erg Hz⁻¹ cm⁻² s⁻¹ sr⁻¹ NaN erg Hz⁻¹ cm⁻² s⁻¹ sr⁻¹; NaN erg Hz⁻¹ cm⁻² s⁻¹ sr⁻¹ NaN erg Hz⁻¹ cm⁻² s⁻¹ sr⁻¹ … NaN erg Hz⁻¹ cm⁻² s⁻¹ sr⁻¹ NaN erg Hz⁻¹ cm⁻² s⁻¹ sr⁻¹; … ; NaN erg Hz⁻¹ cm⁻² s⁻¹ sr⁻¹ NaN erg Hz⁻¹ cm⁻² s⁻¹ sr⁻¹ … NaN erg Hz⁻¹ cm⁻² s⁻¹ sr⁻¹ NaN erg Hz⁻¹ cm⁻² s⁻¹ sr⁻¹; NaN erg Hz⁻¹ cm⁻² s⁻¹ sr⁻¹ NaN erg Hz⁻¹ cm⁻² s⁻¹ sr⁻¹ … NaN erg Hz⁻¹ cm⁻² s⁻¹ sr⁻¹ NaN erg Hz⁻¹ cm⁻² s⁻¹ sr⁻¹;;; NaN erg Hz⁻¹ cm⁻² s⁻¹ sr⁻¹ NaN erg Hz⁻¹ cm⁻² s⁻¹ sr⁻¹ … NaN erg Hz⁻¹ cm⁻² s⁻¹ sr⁻¹ NaN erg Hz⁻¹ cm⁻² s⁻¹ sr⁻¹; NaN erg Hz⁻¹ cm⁻² s⁻¹ sr⁻¹ NaN erg Hz⁻¹ cm⁻² s⁻¹ sr⁻¹ … NaN erg Hz⁻¹ cm⁻² s⁻¹ sr⁻¹ NaN erg Hz⁻¹ cm⁻² s⁻¹ sr⁻¹; … ; NaN erg Hz⁻¹ cm⁻² s⁻¹ sr⁻¹ NaN erg Hz⁻¹ cm⁻² s⁻¹ sr⁻¹ … NaN erg Hz⁻¹ cm⁻² s⁻¹ sr⁻¹ NaN erg Hz⁻¹ cm⁻² s⁻¹ sr⁻¹; NaN erg Hz⁻¹ cm⁻² s⁻¹ sr⁻¹ NaN erg Hz⁻¹ cm⁻² s⁻¹ sr⁻¹ … NaN erg Hz⁻¹ cm⁻² s⁻¹ sr⁻¹ NaN erg Hz⁻¹ cm⁻² s⁻¹ sr⁻¹;;; NaN erg Hz⁻¹ cm⁻² s⁻¹ sr⁻¹ NaN erg Hz⁻¹ cm⁻² s⁻¹ sr⁻¹ … NaN erg Hz⁻¹ cm⁻² s⁻¹ sr⁻¹ NaN erg Hz⁻¹ cm⁻² s⁻¹ sr⁻¹; NaN erg Hz⁻¹ cm⁻² s⁻¹ sr⁻¹ NaN erg Hz⁻¹ cm⁻² s⁻¹ sr⁻¹ … NaN erg Hz⁻¹ cm⁻² s⁻¹ sr⁻¹ NaN erg Hz⁻¹ cm⁻² s⁻¹ sr⁻¹; … ; NaN erg Hz⁻¹ cm⁻² s⁻¹ sr⁻¹ NaN erg Hz⁻¹ cm⁻² s⁻¹ sr⁻¹ … NaN erg Hz⁻¹ cm⁻² s⁻¹ sr⁻¹ NaN erg Hz⁻¹ cm⁻² s⁻¹ sr⁻¹; NaN erg Hz⁻¹ cm⁻² s⁻¹ sr⁻¹ NaN erg Hz⁻¹ cm⁻² s⁻¹ sr⁻¹ … NaN erg Hz⁻¹ cm⁻² s⁻¹ sr⁻¹ NaN erg Hz⁻¹ cm⁻² s⁻¹ sr⁻¹], Bool[1 1 … 1 1; 1 1 … 1 1; … ; 1 1 … 1 1; 1 1 … 1 1;;; 1 1 … 1 1; 1 1 … 1 1; … ; 1 1 … 1 1; 1 1 … 1 1;;; 1 1 … 1 1; 1 1 … 1 1; … ; 1 1 … 1 1; 1 1 … 1 1;;; … ;;; 1 1 … 1 1; 1 1 … 1 1; … ; 1 1 … 1 1; 1 1 … 1 1;;; 1 1 … 1 1; 1 1 … 1 1; … ; 1 1 … 1 1; 1 1 … 1 1;;; 1 1 … 1 1; 1 1 … 1 1; … ; 1 1 … 1 1; 1 1 … 1 1], nothing, 2.35040007004737e-13 sr, 345.815041666667°, 8.87389444444445°, -0.0 rad, Quantity{Float64, NoDims, Unitful.FreeUnits{(″,), NoDims, nothing}}[0.04802163344411384 ″, 0.04802939032265905 ″, 0.04803714908022036 ″, 0.04804490971725294 ″, 0.04805267223421208 ″, 0.04806043663155315 ″, 0.04806820290973166 ″, 0.048075971069203235 ″, 0.048083741110423586 ″, 0.048091513033848544 ″  …  0.18952234673589488 ″, 0.18956438056189756 ″, 0.1896064245701192 ″, 0.18964847876302623 ″, 0.189690543143086 ″, 0.18973261771276606 ″, 0.1897747024745347 ″, 0.189816797430861 ″, 0.1898589025842143 ″, 0.1899010179370649 ″], Quantity{Float64, 𝐋 𝐓⁻¹, Unitful.FreeUnits{(km, s⁻¹), 𝐋 𝐓⁻¹, nothing}}[66.93596520336838 km s⁻¹, 66.93641486341377 km s⁻¹, 66.93686463842788 km s⁻¹, 66.93731452844159 km s⁻¹, 66.9377645334858 km s⁻¹, 66.93821465359146 km s⁻¹, 66.93866488878946 km s⁻¹, 66.93911523911076 km s⁻¹, 66.9395657045863 km s⁻¹, 66.94001628524703 km s⁻¹  …  76.28416250047437 km s⁻¹, 76.2873274104521 km s⁻¹, 76.29049334931669 km s⁻¹, 76.29366031747666 km s⁻¹, 76.2968283153407 km s⁻¹, 76.29999734331774 km s⁻¹, 76.30316740181681 km s⁻¹, 76.3063384912473 km s⁻¹, 76.30951061201867 km s⁻¹, 76.3126837645407 km s⁻¹], WCSTransform(naxis=3,cdelt=[2.77777781916989e-5, 2.77777781916989e-5, 2.34999999520368e-10],crval=[-14.184956076678, 8.87389856697997, 9.7011752860999e-7],crpix=[29.0, 31.0, 1.0]), \"NIRSpecAll\", \"MULTIPLE\", 57, 61, 6987, Loki.SpectralRegion{Quantity{Float64, 𝐋, Unitful.FreeUnits{(μm,), 𝐋, nothing}}}((0.9547734895800328 μm, 5.185122177701144 μm), Tuple{Quantity{Float64, 𝐋, Unitful.FreeUnits{(μm,), 𝐋, nothing}}, Quantity{Float64, 𝐋, Unitful.FreeUnits{(μm,), 𝐋, nothing}}}[], 6, BitVector[[1, 1, 1, 1, 1, 1, 1, 1, 1, 1  …  0, 0, 0, 0, 0, 0, 0, 0, 0, 0], [0, 0, 0, 0, 0, 0, 0, 0, 0, 0  …  0, 0, 0, 0, 0, 0, 0, 0, 0, 0], [0, 0, 0, 0, 0, 0, 0, 0, 0, 0  …  0, 0, 0, 0, 0, 0, 0, 0, 0, 0], [0, 0, 0, 0, 0, 0, 0, 0, 0, 0  …  0, 0, 0, 0, 0, 0, 0, 0, 0, 0], [0, 0, 0, 0, 0, 0, 0, 0, 0, 0  …  0, 0, 0, 0, 0, 0, 0, 0, 0, 0], [0, 0, 0, 0, 0, 0, 0, 0, 0, 0  …  1, 1, 1, 1, 1, 1, 1, 1, 1, 1]], Quantity{Float64, 𝐋, Unitful.FreeUnits{(μm,), 𝐋, nothing}}[1.775 μm, 3.02 μm], Tuple{Quantity{Float64, 𝐋, Unitful.FreeUnits{(μm,), 𝐋, nothing}}, Quantity{Float64, 𝐋, Unitful.FreeUnits{(μm,), 𝐋, nothing}}}[], Loki.UVOptIR), true, true, true, true, true, true, nothing)), \"NGC 7469\", 0.016317, 345.815041666667°, 8.87389444444445°, \"NIRSPEC\", true, true, true, true, true, true)"
      ]
     },
     "metadata": {},
     "output_type": "display_data"
    }
   ],
   "source": [
    "if isfile(\"$nm.channel$channel.rest_frame.fits\")\n",
    "    # If we've already performed this step in a previous run, just load in the pre-processed data\n",
    "    obs = from_fits([\"$nm.channel$channel.rest_frame.fits\"], obs.z);\n",
    "    \n",
    "else\n",
    "    # Convert to rest-frame wavelength vector, and mask out bad spaxels\n",
    "    correct!(obs)\n",
    "\n",
    "    channels = [:G140H_F100LP, :G235H_F170LP, :G395H_F290LP]\n",
    "    # Reproject the sub-channels onto the same WCS grid and combine them into one full channel\n",
    "    # - The channels vector gives the names of each channel to concatenate. By default, JWST subchannels are\n",
    "    #   given labels of \"A\" for short, \"B\" for medium, and \"C\" for long, followed by the channel number.  \n",
    "    # - The \"out_id\" argument will determine the label given to the combined channel data. \n",
    "    combine_channels!(obs, channels, out_id=channel, order=1, adjust_wcs_headerinfo=true, extract_from_ap=0.)\n",
    "\n",
    "    # rotate to the RA/Dec axes on the sky\n",
    "    rotate_to_sky_axes!(obs.channels[channel])\n",
    "\n",
    "    # We interpolate any rogue NaNs using a linear interpolation, since the MPFIT minimizer does not handle NaNs well.\n",
    "    interpolate_nans!(obs.channels[channel])\n",
    "\n",
    "    # Finally, we calculate the statistical errors (i.e. the standard deviation of the residuals with a cubic spline fit)\n",
    "    # and replace the errors in the cube with these, since the provided errors are typically underestimated.\n",
    "    # You can skip this step if you wish to use the default errors.\n",
    "    calculate_statistical_errors!(obs.channels[channel])\n",
    "    \n",
    "    # Save the pre-processed data as a FITS file so it can be quickly reloaded later\n",
    "    save_fits(\".\", obs, [channel]);\n",
    "end"
   ]
  },
  {
   "cell_type": "markdown",
   "id": "5852c622",
   "metadata": {},
   "source": [
    "We next create an aperture to define the region of interest that we would like to fit. We can do this with the `make_aperture` function. We can customize the aperture's shape, centroid, radius, etc."
   ]
  },
  {
   "cell_type": "code",
   "execution_count": 5,
   "id": "06e37398",
   "metadata": {},
   "outputs": [
    {
     "name": "stdout",
     "output_type": "stream",
     "text": [
      "\u001b[36m\u001b[1m[ \u001b[22m\u001b[39m\u001b[36m\u001b[1mInfo: \u001b[22m\u001b[39mCreating a circular aperture at 23:03:15.610, +8:52:26.10\n",
      "\u001b[36m\u001b[1m[ \u001b[22m\u001b[39m\u001b[36m\u001b[1mInfo: \u001b[22m\u001b[39mAperture centroid adjusted to 0h56m44.367627587881486s, 8d52m26.152075720917907s\n"
     ]
    },
    {
     "data": {
      "text/plain": [
       "11×11 Photometry.Aperture.CircularAperture{Float64} with indices 21:31×27:37:\n",
       " 0.0          0.0         0.0       …  0.0232627  0.0       0.0\n",
       " 0.0          0.00746973  0.581917     0.820831   0.112055  0.0\n",
       " 0.0          0.479336    1.0          1.0        0.808096  0.0159328\n",
       " 0.0452131    0.950514    1.0          1.0        1.0       0.34042\n",
       " 0.260201     1.0         1.0          1.0        1.0       0.604894\n",
       " 0.313734     1.0         1.0       …  1.0        1.0       0.658427\n",
       " 0.163444     1.0         1.0          1.0        1.0       0.508136\n",
       " 0.000378579  0.788039    1.0          1.0        0.983891  0.149219\n",
       " 0.0          0.17843     0.942279     0.999993   0.465409  0.0\n",
       " 0.0          0.0         0.168787     0.37325    0.0       0.0\n",
       " 0.0          0.0         0.0       …  0.0        0.0       0.0"
      ]
     },
     "metadata": {},
     "output_type": "display_data"
    }
   ],
   "source": [
    "# - The first argument is the data cube\n",
    "# - The second argument is the aperture shape, which may be one of: (Circular, Rectangular, Elliptical)\n",
    "# - Next are the right ascension in sexagesimal hours and the declination in sexagesimal degrees\n",
    "# - The next arguments depend on the aperture shape:\n",
    "#    - For circles, it is the radius in arcseconds\n",
    "#    - For rectangles, it is the width in arcseconds, height in arcseconds, and rotation angle in degrees\n",
    "#    - For ellipses, it is the semimajor axis in arcseconds, semiminor axis in arcseconds, and rotation angle in degrees\n",
    "# - The auto_centroid argument, if true, will adjust the aperture centroid to the closest peak in brightness\n",
    "# - The scale_psf argument, if true, will create a series of apertures (as a function of wavelength) with increasing radii \n",
    "#   that scale at the same rate as the PSF\n",
    "ap = make_aperture(obs.channels[channel], :Circular, \"23:03:15.610\", \"+8:52:26.10\", 0.5, auto_centroid=true)"
   ]
  },
  {
   "attachments": {},
   "cell_type": "markdown",
   "id": "baaa4ddb",
   "metadata": {},
   "source": [
    "Finally, we create the `CubeFitter` object and call the `fit_cube!` function to fit the data. Note specifically for NIRSpec data, we want to enable the option \"nirspec_mask_chip_gaps\".  This will make sure that when fitting any integrated regions larger than a single spaxel (i.e. apertures, voronoi bins, or the initial integrated fit over the whole FOV) the chip gap regions will be fully masked out.  This is necessary because the wavelengths of the chip gaps vary based on the position in the IFU, so when making integrated spectra, in regions where some spaxels are masked and others aren't, it can create artifical dips or peaks in the continuum.  The \"nirspec_mask_chip_gaps\" options masks out the maximum extent of the chip gaps over all of the IFU positions (but again, only when fitting regions larger than a single spaxel).\n",
    "\n",
    "\\*\\*\\*IMPORTANT\\*\\*\\* For this example to look like the plot I've shown at the bottom, you'll need to enable a power law component to the continuum fit. You can do so by editing the \"optical.toml\" config file and uncommenting the power law section (specifically the entry for \"[[power_law_indices]]\"). Then run the cell below to fit with the power law component.  You'll also need to edit the \"lines.toml\" config file to enable a second velocity component for all kinematic groups.  This can be done by uncommenting the lines under the \"[acomps]\" key near the very bottom of the file."
   ]
  },
  {
   "cell_type": "code",
   "execution_count": 12,
   "id": "de75b965",
   "metadata": {},
   "outputs": [
    {
     "name": "stdout",
     "output_type": "stream",
     "text": [
      "\u001b[36m\u001b[1m[ \u001b[22m\u001b[39m\u001b[36m\u001b[1mInfo: \u001b[22m\u001b[39mPreparing output directories\n",
      "\u001b[36m\u001b[1m┌ \u001b[22m\u001b[39m\u001b[36m\u001b[1mInfo: \u001b[22m\u001b[39m\n",
      "\u001b[36m\u001b[1m│ \u001b[22m\u001b[39m\n",
      "\u001b[36m\u001b[1m│ \u001b[22m\u001b[39m#############################################################################\n",
      "\u001b[36m\u001b[1m│ \u001b[22m\u001b[39m######## BEGINNING FULL CUBE FITTING ROUTINE FOR NGC_7469_NIRSpecAll_nuc_aperture ########\n",
      "\u001b[36m\u001b[1m│ \u001b[22m\u001b[39m#############################################################################\n",
      "\u001b[36m\u001b[1m│ \u001b[22m\u001b[39m\n",
      "\u001b[36m\u001b[1m│ \u001b[22m\u001b[39m------------------------\n",
      "\u001b[36m\u001b[1m│ \u001b[22m\u001b[39mWorker Processes:     1\n",
      "\u001b[36m\u001b[1m│ \u001b[22m\u001b[39mThreads per process:  1\n",
      "\u001b[36m\u001b[1m└ \u001b[22m\u001b[39m------------------------\n",
      "\u001b[36m\u001b[1m[ \u001b[22m\u001b[39m\u001b[36m\u001b[1mInfo: \u001b[22m\u001b[39m===> Preparing output data structures... <===\n",
      "\u001b[36m\u001b[1m[ \u001b[22m\u001b[39m\u001b[36m\u001b[1mInfo: \u001b[22m\u001b[39mPerforming aperture photometry to get an integrated spectrum...\n",
      "\u001b[36m\u001b[1m[ \u001b[22m\u001b[39m\u001b[36m\u001b[1mInfo: \u001b[22m\u001b[39m===> Beginning integrated spectrum fitting... <===\n",
      "\u001b[36m\u001b[1m[ \u001b[22m\u001b[39m\u001b[36m\u001b[1mInfo: \u001b[22m\u001b[39m===> Generating parameter maps and model cubes... <===\n",
      "\u001b[36m\u001b[1m[ \u001b[22m\u001b[39m\u001b[36m\u001b[1mInfo: \u001b[22m\u001b[39m===> Writing FITS outputs... <===\n",
      "\u001b[36m\u001b[1m┌ \u001b[22m\u001b[39m\u001b[36m\u001b[1mInfo: \u001b[22m\u001b[39m\n",
      "\u001b[36m\u001b[1m│ \u001b[22m\u001b[39m\n",
      "\u001b[36m\u001b[1m│ \u001b[22m\u001b[39m#############################################################################\n",
      "\u001b[36m\u001b[1m│ \u001b[22m\u001b[39m################################### Done!! ##################################\n",
      "\u001b[36m\u001b[1m└ \u001b[22m\u001b[39m#############################################################################\n"
     ]
    },
    {
     "data": {
      "text/plain": [
       "(CubeFitter{Float64, Int64, Quantity{Float64, 𝐌 𝐓⁻², Unitful.FreeUnits{(erg, Hz⁻¹, cm⁻², s⁻¹, sr⁻¹), 𝐌 𝐓⁻², nothing}}, Quantity{Float64, 𝐋 𝐓⁻¹, Unitful.FreeUnits{(km, s⁻¹), 𝐋 𝐓⁻¹, nothing}}, Quantity{Float64, 𝐋, Unitful.FreeUnits{(μm,), 𝐋, nothing}}}(DataCube{Vector{Quantity{Float64, 𝐋, Unitful.FreeUnits{(μm,), 𝐋, nothing}}}, Array{Quantity{Float64, 𝐌 𝐓⁻², Unitful.FreeUnits{(erg, Hz⁻¹, cm⁻², s⁻¹, sr⁻¹), 𝐌 𝐓⁻², nothing}}, 3}}(Quantity{Float64, 𝐋, Unitful.FreeUnits{(μm,), 𝐋, nothing}}[0.9547734895800328 μm, 0.9550047726596355 μm, 0.9552361117649484 μm, 0.9554675069095432 μm, 0.9556989581069948 μm, 0.9559304653708812 μm, 0.9561620287147841 μm, 0.9563936481522881 μm, 0.9566253236969813 μm, 0.956857055362455 μm  …  5.173831522439116 μm, 5.1750848246106935 μm, 5.1763384303805475 μm, 5.17759233982222 μm, 5.178846553009275 μm, 5.180101070015289 μm, 5.18135589091386 μm, 5.182611015778601 μm, 5.1838664446831455 μm, 5.185122177701144 μm], Quantity{Float64, 𝐌 𝐓⁻², Unitful.FreeUnits{(erg, Hz⁻¹, cm⁻², s⁻¹, sr⁻¹), 𝐌 𝐓⁻², nothing}}[NaN erg Hz⁻¹ cm⁻² s⁻¹ sr⁻¹ NaN erg Hz⁻¹ cm⁻² s⁻¹ sr⁻¹ … NaN erg Hz⁻¹ cm⁻² s⁻¹ sr⁻¹ NaN erg Hz⁻¹ cm⁻² s⁻¹ sr⁻¹; NaN erg Hz⁻¹ cm⁻² s⁻¹ sr⁻¹ NaN erg Hz⁻¹ cm⁻² s⁻¹ sr⁻¹ … NaN erg Hz⁻¹ cm⁻² s⁻¹ sr⁻¹ NaN erg Hz⁻¹ cm⁻² s⁻¹ sr⁻¹; … ; NaN erg Hz⁻¹ cm⁻² s⁻¹ sr⁻¹ NaN erg Hz⁻¹ cm⁻² s⁻¹ sr⁻¹ … NaN erg Hz⁻¹ cm⁻² s⁻¹ sr⁻¹ NaN erg Hz⁻¹ cm⁻² s⁻¹ sr⁻¹; NaN erg Hz⁻¹ cm⁻² s⁻¹ sr⁻¹ NaN erg Hz⁻¹ cm⁻² s⁻¹ sr⁻¹ … NaN erg Hz⁻¹ cm⁻² s⁻¹ sr⁻¹ NaN erg Hz⁻¹ cm⁻² s⁻¹ sr⁻¹;;; NaN erg Hz⁻¹ cm⁻² s⁻¹ sr⁻¹ NaN erg Hz⁻¹ cm⁻² s⁻¹ sr⁻¹ … NaN erg Hz⁻¹ cm⁻² s⁻¹ sr⁻¹ NaN erg Hz⁻¹ cm⁻² s⁻¹ sr⁻¹; NaN erg Hz⁻¹ cm⁻² s⁻¹ sr⁻¹ NaN erg Hz⁻¹ cm⁻² s⁻¹ sr⁻¹ … NaN erg Hz⁻¹ cm⁻² s⁻¹ sr⁻¹ NaN erg Hz⁻¹ cm⁻² s⁻¹ sr⁻¹; … ; NaN erg Hz⁻¹ cm⁻² s⁻¹ sr⁻¹ NaN erg Hz⁻¹ cm⁻² s⁻¹ sr⁻¹ … NaN erg Hz⁻¹ cm⁻² s⁻¹ sr⁻¹ NaN erg Hz⁻¹ cm⁻² s⁻¹ sr⁻¹; NaN erg Hz⁻¹ cm⁻² s⁻¹ sr⁻¹ NaN erg Hz⁻¹ cm⁻² s⁻¹ sr⁻¹ … NaN erg Hz⁻¹ cm⁻² s⁻¹ sr⁻¹ NaN erg Hz⁻¹ cm⁻² s⁻¹ sr⁻¹;;; NaN erg Hz⁻¹ cm⁻² s⁻¹ sr⁻¹ NaN erg Hz⁻¹ cm⁻² s⁻¹ sr⁻¹ … NaN erg Hz⁻¹ cm⁻² s⁻¹ sr⁻¹ NaN erg Hz⁻¹ cm⁻² s⁻¹ sr⁻¹; NaN erg Hz⁻¹ cm⁻² s⁻¹ sr⁻¹ NaN erg Hz⁻¹ cm⁻² s⁻¹ sr⁻¹ … NaN erg Hz⁻¹ cm⁻² s⁻¹ sr⁻¹ NaN erg Hz⁻¹ cm⁻² s⁻¹ sr⁻¹; … ; NaN erg Hz⁻¹ cm⁻² s⁻¹ sr⁻¹ NaN erg Hz⁻¹ cm⁻² s⁻¹ sr⁻¹ … NaN erg Hz⁻¹ cm⁻² s⁻¹ sr⁻¹ NaN erg Hz⁻¹ cm⁻² s⁻¹ sr⁻¹; NaN erg Hz⁻¹ cm⁻² s⁻¹ sr⁻¹ NaN erg Hz⁻¹ cm⁻² s⁻¹ sr⁻¹ … NaN erg Hz⁻¹ cm⁻² s⁻¹ sr⁻¹ NaN erg Hz⁻¹ cm⁻² s⁻¹ sr⁻¹;;; … ;;; NaN erg Hz⁻¹ cm⁻² s⁻¹ sr⁻¹ NaN erg Hz⁻¹ cm⁻² s⁻¹ sr⁻¹ … NaN erg Hz⁻¹ cm⁻² s⁻¹ sr⁻¹ NaN erg Hz⁻¹ cm⁻² s⁻¹ sr⁻¹; NaN erg Hz⁻¹ cm⁻² s⁻¹ sr⁻¹ NaN erg Hz⁻¹ cm⁻² s⁻¹ sr⁻¹ … NaN erg Hz⁻¹ cm⁻² s⁻¹ sr⁻¹ NaN erg Hz⁻¹ cm⁻² s⁻¹ sr⁻¹; … ; NaN erg Hz⁻¹ cm⁻² s⁻¹ sr⁻¹ NaN erg Hz⁻¹ cm⁻² s⁻¹ sr⁻¹ … NaN erg Hz⁻¹ cm⁻² s⁻¹ sr⁻¹ NaN erg Hz⁻¹ cm⁻² s⁻¹ sr⁻¹; NaN erg Hz⁻¹ cm⁻² s⁻¹ sr⁻¹ NaN erg Hz⁻¹ cm⁻² s⁻¹ sr⁻¹ … NaN erg Hz⁻¹ cm⁻² s⁻¹ sr⁻¹ NaN erg Hz⁻¹ cm⁻² s⁻¹ sr⁻¹;;; NaN erg Hz⁻¹ cm⁻² s⁻¹ sr⁻¹ NaN erg Hz⁻¹ cm⁻² s⁻¹ sr⁻¹ … NaN erg Hz⁻¹ cm⁻² s⁻¹ sr⁻¹ NaN erg Hz⁻¹ cm⁻² s⁻¹ sr⁻¹; NaN erg Hz⁻¹ cm⁻² s⁻¹ sr⁻¹ NaN erg Hz⁻¹ cm⁻² s⁻¹ sr⁻¹ … NaN erg Hz⁻¹ cm⁻² s⁻¹ sr⁻¹ NaN erg Hz⁻¹ cm⁻² s⁻¹ sr⁻¹; … ; NaN erg Hz⁻¹ cm⁻² s⁻¹ sr⁻¹ NaN erg Hz⁻¹ cm⁻² s⁻¹ sr⁻¹ … NaN erg Hz⁻¹ cm⁻² s⁻¹ sr⁻¹ NaN erg Hz⁻¹ cm⁻² s⁻¹ sr⁻¹; NaN erg Hz⁻¹ cm⁻² s⁻¹ sr⁻¹ NaN erg Hz⁻¹ cm⁻² s⁻¹ sr⁻¹ … NaN erg Hz⁻¹ cm⁻² s⁻¹ sr⁻¹ NaN erg Hz⁻¹ cm⁻² s⁻¹ sr⁻¹;;; NaN erg Hz⁻¹ cm⁻² s⁻¹ sr⁻¹ NaN erg Hz⁻¹ cm⁻² s⁻¹ sr⁻¹ … NaN erg Hz⁻¹ cm⁻² s⁻¹ sr⁻¹ NaN erg Hz⁻¹ cm⁻² s⁻¹ sr⁻¹; NaN erg Hz⁻¹ cm⁻² s⁻¹ sr⁻¹ NaN erg Hz⁻¹ cm⁻² s⁻¹ sr⁻¹ … NaN erg Hz⁻¹ cm⁻² s⁻¹ sr⁻¹ NaN erg Hz⁻¹ cm⁻² s⁻¹ sr⁻¹; … ; NaN erg Hz⁻¹ cm⁻² s⁻¹ sr⁻¹ NaN erg Hz⁻¹ cm⁻² s⁻¹ sr⁻¹ … NaN erg Hz⁻¹ cm⁻² s⁻¹ sr⁻¹ NaN erg Hz⁻¹ cm⁻² s⁻¹ sr⁻¹; NaN erg Hz⁻¹ cm⁻² s⁻¹ sr⁻¹ NaN erg Hz⁻¹ cm⁻² s⁻¹ sr⁻¹ … NaN erg Hz⁻¹ cm⁻² s⁻¹ sr⁻¹ NaN erg Hz⁻¹ cm⁻² s⁻¹ sr⁻¹], Quantity{Float64, 𝐌 𝐓⁻², Unitful.FreeUnits{(erg, Hz⁻¹, cm⁻², s⁻¹, sr⁻¹), 𝐌 𝐓⁻², nothing}}[NaN erg Hz⁻¹ cm⁻² s⁻¹ sr⁻¹ NaN erg Hz⁻¹ cm⁻² s⁻¹ sr⁻¹ … NaN erg Hz⁻¹ cm⁻² s⁻¹ sr⁻¹ NaN erg Hz⁻¹ cm⁻² s⁻¹ sr⁻¹; NaN erg Hz⁻¹ cm⁻² s⁻¹ sr⁻¹ NaN erg Hz⁻¹ cm⁻² s⁻¹ sr⁻¹ … NaN erg Hz⁻¹ cm⁻² s⁻¹ sr⁻¹ NaN erg Hz⁻¹ cm⁻² s⁻¹ sr⁻¹; … ; NaN erg Hz⁻¹ cm⁻² s⁻¹ sr⁻¹ NaN erg Hz⁻¹ cm⁻² s⁻¹ sr⁻¹ … NaN erg Hz⁻¹ cm⁻² s⁻¹ sr⁻¹ NaN erg Hz⁻¹ cm⁻² s⁻¹ sr⁻¹; NaN erg Hz⁻¹ cm⁻² s⁻¹ sr⁻¹ NaN erg Hz⁻¹ cm⁻² s⁻¹ sr⁻¹ … NaN erg Hz⁻¹ cm⁻² s⁻¹ sr⁻¹ NaN erg Hz⁻¹ cm⁻² s⁻¹ sr⁻¹;;; NaN erg Hz⁻¹ cm⁻² s⁻¹ sr⁻¹ NaN erg Hz⁻¹ cm⁻² s⁻¹ sr⁻¹ … NaN erg Hz⁻¹ cm⁻² s⁻¹ sr⁻¹ NaN erg Hz⁻¹ cm⁻² s⁻¹ sr⁻¹; NaN erg Hz⁻¹ cm⁻² s⁻¹ sr⁻¹ NaN erg Hz⁻¹ cm⁻² s⁻¹ sr⁻¹ … NaN erg Hz⁻¹ cm⁻² s⁻¹ sr⁻¹ NaN erg Hz⁻¹ cm⁻² s⁻¹ sr⁻¹; … ; NaN erg Hz⁻¹ cm⁻² s⁻¹ sr⁻¹ NaN erg Hz⁻¹ cm⁻² s⁻¹ sr⁻¹ … NaN erg Hz⁻¹ cm⁻² s⁻¹ sr⁻¹ NaN erg Hz⁻¹ cm⁻² s⁻¹ sr⁻¹; NaN erg Hz⁻¹ cm⁻² s⁻¹ sr⁻¹ NaN erg Hz⁻¹ cm⁻² s⁻¹ sr⁻¹ … NaN erg Hz⁻¹ cm⁻² s⁻¹ sr⁻¹ NaN erg Hz⁻¹ cm⁻² s⁻¹ sr⁻¹;;; NaN erg Hz⁻¹ cm⁻² s⁻¹ sr⁻¹ NaN erg Hz⁻¹ cm⁻² s⁻¹ sr⁻¹ … NaN erg Hz⁻¹ cm⁻² s⁻¹ sr⁻¹ NaN erg Hz⁻¹ cm⁻² s⁻¹ sr⁻¹; NaN erg Hz⁻¹ cm⁻² s⁻¹ sr⁻¹ NaN erg Hz⁻¹ cm⁻² s⁻¹ sr⁻¹ … NaN erg Hz⁻¹ cm⁻² s⁻¹ sr⁻¹ NaN erg Hz⁻¹ cm⁻² s⁻¹ sr⁻¹; … ; NaN erg Hz⁻¹ cm⁻² s⁻¹ sr⁻¹ NaN erg Hz⁻¹ cm⁻² s⁻¹ sr⁻¹ … NaN erg Hz⁻¹ cm⁻² s⁻¹ sr⁻¹ NaN erg Hz⁻¹ cm⁻² s⁻¹ sr⁻¹; NaN erg Hz⁻¹ cm⁻² s⁻¹ sr⁻¹ NaN erg Hz⁻¹ cm⁻² s⁻¹ sr⁻¹ … NaN erg Hz⁻¹ cm⁻² s⁻¹ sr⁻¹ NaN erg Hz⁻¹ cm⁻² s⁻¹ sr⁻¹;;; … ;;; NaN erg Hz⁻¹ cm⁻² s⁻¹ sr⁻¹ NaN erg Hz⁻¹ cm⁻² s⁻¹ sr⁻¹ … NaN erg Hz⁻¹ cm⁻² s⁻¹ sr⁻¹ NaN erg Hz⁻¹ cm⁻² s⁻¹ sr⁻¹; NaN erg Hz⁻¹ cm⁻² s⁻¹ sr⁻¹ NaN erg Hz⁻¹ cm⁻² s⁻¹ sr⁻¹ … NaN erg Hz⁻¹ cm⁻² s⁻¹ sr⁻¹ NaN erg Hz⁻¹ cm⁻² s⁻¹ sr⁻¹; … ; NaN erg Hz⁻¹ cm⁻² s⁻¹ sr⁻¹ NaN erg Hz⁻¹ cm⁻² s⁻¹ sr⁻¹ … NaN erg Hz⁻¹ cm⁻² s⁻¹ sr⁻¹ NaN erg Hz⁻¹ cm⁻² s⁻¹ sr⁻¹; NaN erg Hz⁻¹ cm⁻² s⁻¹ sr⁻¹ NaN erg Hz⁻¹ cm⁻² s⁻¹ sr⁻¹ … NaN erg Hz⁻¹ cm⁻² s⁻¹ sr⁻¹ NaN erg Hz⁻¹ cm⁻² s⁻¹ sr⁻¹;;; NaN erg Hz⁻¹ cm⁻² s⁻¹ sr⁻¹ NaN erg Hz⁻¹ cm⁻² s⁻¹ sr⁻¹ … NaN erg Hz⁻¹ cm⁻² s⁻¹ sr⁻¹ NaN erg Hz⁻¹ cm⁻² s⁻¹ sr⁻¹; NaN erg Hz⁻¹ cm⁻² s⁻¹ sr⁻¹ NaN erg Hz⁻¹ cm⁻² s⁻¹ sr⁻¹ … NaN erg Hz⁻¹ cm⁻² s⁻¹ sr⁻¹ NaN erg Hz⁻¹ cm⁻² s⁻¹ sr⁻¹; … ; NaN erg Hz⁻¹ cm⁻² s⁻¹ sr⁻¹ NaN erg Hz⁻¹ cm⁻² s⁻¹ sr⁻¹ … NaN erg Hz⁻¹ cm⁻² s⁻¹ sr⁻¹ NaN erg Hz⁻¹ cm⁻² s⁻¹ sr⁻¹; NaN erg Hz⁻¹ cm⁻² s⁻¹ sr⁻¹ NaN erg Hz⁻¹ cm⁻² s⁻¹ sr⁻¹ … NaN erg Hz⁻¹ cm⁻² s⁻¹ sr⁻¹ NaN erg Hz⁻¹ cm⁻² s⁻¹ sr⁻¹;;; NaN erg Hz⁻¹ cm⁻² s⁻¹ sr⁻¹ NaN erg Hz⁻¹ cm⁻² s⁻¹ sr⁻¹ … NaN erg Hz⁻¹ cm⁻² s⁻¹ sr⁻¹ NaN erg Hz⁻¹ cm⁻² s⁻¹ sr⁻¹; NaN erg Hz⁻¹ cm⁻² s⁻¹ sr⁻¹ NaN erg Hz⁻¹ cm⁻² s⁻¹ sr⁻¹ … NaN erg Hz⁻¹ cm⁻² s⁻¹ sr⁻¹ NaN erg Hz⁻¹ cm⁻² s⁻¹ sr⁻¹; … ; NaN erg Hz⁻¹ cm⁻² s⁻¹ sr⁻¹ NaN erg Hz⁻¹ cm⁻² s⁻¹ sr⁻¹ … NaN erg Hz⁻¹ cm⁻² s⁻¹ sr⁻¹ NaN erg Hz⁻¹ cm⁻² s⁻¹ sr⁻¹; NaN erg Hz⁻¹ cm⁻² s⁻¹ sr⁻¹ NaN erg Hz⁻¹ cm⁻² s⁻¹ sr⁻¹ … NaN erg Hz⁻¹ cm⁻² s⁻¹ sr⁻¹ NaN erg Hz⁻¹ cm⁻² s⁻¹ sr⁻¹], Bool[1 1 … 1 1; 1 1 … 1 1; … ; 1 1 … 1 1; 1 1 … 1 1;;; 1 1 … 1 1; 1 1 … 1 1; … ; 1 1 … 1 1; 1 1 … 1 1;;; 1 1 … 1 1; 1 1 … 1 1; … ; 1 1 … 1 1; 1 1 … 1 1;;; … ;;; 1 1 … 1 1; 1 1 … 1 1; … ; 1 1 … 1 1; 1 1 … 1 1;;; 1 1 … 1 1; 1 1 … 1 1; … ; 1 1 … 1 1; 1 1 … 1 1;;; 1 1 … 1 1; 1 1 … 1 1; … ; 1 1 … 1 1; 1 1 … 1 1], nothing, 2.35040007004737e-13 sr, 345.815041666667°, 8.87389444444445°, -0.0 rad, Quantity{Float64, NoDims, Unitful.FreeUnits{(″,), NoDims, nothing}}[0.04802163344411384 ″, 0.04802939032265905 ″, 0.04803714908022036 ″, 0.04804490971725294 ″, 0.04805267223421208 ″, 0.04806043663155315 ″, 0.04806820290973166 ″, 0.048075971069203235 ″, 0.048083741110423586 ″, 0.048091513033848544 ″  …  0.18952234673589488 ″, 0.18956438056189756 ″, 0.1896064245701192 ″, 0.18964847876302623 ″, 0.189690543143086 ″, 0.18973261771276606 ″, 0.1897747024745347 ″, 0.189816797430861 ″, 0.1898589025842143 ″, 0.1899010179370649 ″], Quantity{Float64, 𝐋 𝐓⁻¹, Unitful.FreeUnits{(km, s⁻¹), 𝐋 𝐓⁻¹, nothing}}[66.93596520336838 km s⁻¹, 66.93641486341377 km s⁻¹, 66.93686463842788 km s⁻¹, 66.93731452844159 km s⁻¹, 66.9377645334858 km s⁻¹, 66.93821465359146 km s⁻¹, 66.93866488878946 km s⁻¹, 66.93911523911076 km s⁻¹, 66.9395657045863 km s⁻¹, 66.94001628524703 km s⁻¹  …  76.28416250047437 km s⁻¹, 76.2873274104521 km s⁻¹, 76.29049334931669 km s⁻¹, 76.29366031747666 km s⁻¹, 76.2968283153407 km s⁻¹, 76.29999734331774 km s⁻¹, 76.30316740181681 km s⁻¹, 76.3063384912473 km s⁻¹, 76.30951061201867 km s⁻¹, 76.3126837645407 km s⁻¹], WCSTransform(naxis=3,cdelt=[2.77777781916989e-5, 2.77777781916989e-5, 2.34999999520368e-10],crval=[-14.184956076678, 8.87389856697997, 9.7011752860999e-7],crpix=[29.0, 31.0, 1.0]), \"NIRSpecAll\", \"MULTIPLE\", 57, 61, 6987, Loki.SpectralRegion{Quantity{Float64, 𝐋, Unitful.FreeUnits{(μm,), 𝐋, nothing}}}((0.9547734895800328 μm, 5.185122177701144 μm), Tuple{Quantity{Float64, 𝐋, Unitful.FreeUnits{(μm,), 𝐋, nothing}}, Quantity{Float64, 𝐋, Unitful.FreeUnits{(μm,), 𝐋, nothing}}}[], 6, BitVector[[1, 1, 1, 1, 1, 1, 1, 1, 1, 1  …  0, 0, 0, 0, 0, 0, 0, 0, 0, 0], [0, 0, 0, 0, 0, 0, 0, 0, 0, 0  …  0, 0, 0, 0, 0, 0, 0, 0, 0, 0], [0, 0, 0, 0, 0, 0, 0, 0, 0, 0  …  0, 0, 0, 0, 0, 0, 0, 0, 0, 0], [0, 0, 0, 0, 0, 0, 0, 0, 0, 0  …  0, 0, 0, 0, 0, 0, 0, 0, 0, 0], [0, 0, 0, 0, 0, 0, 0, 0, 0, 0  …  0, 0, 0, 0, 0, 0, 0, 0, 0, 0], [0, 0, 0, 0, 0, 0, 0, 0, 0, 0  …  1, 1, 1, 1, 1, 1, 1, 1, 1, 1]], Quantity{Float64, 𝐋, Unitful.FreeUnits{(μm,), 𝐋, nothing}}[1.775 μm, 3.02 μm], Tuple{Quantity{Float64, 𝐋, Unitful.FreeUnits{(μm,), 𝐋, nothing}}, Quantity{Float64, 𝐋, Unitful.FreeUnits{(μm,), 𝐋, nothing}}}[], Loki.UVOptIR), true, true, true, true, true, true, nothing), 0.016317, \"NGC_7469_NIRSpecAll_nuc_aperture\", Loki.SpectralRegion{Quantity{Float64, 𝐋, Unitful.FreeUnits{(μm,), 𝐋, nothing}}}((0.9547734895800328 μm, 5.185122177701144 μm), Tuple{Quantity{Float64, 𝐋, Unitful.FreeUnits{(μm,), 𝐋, nothing}}, Quantity{Float64, 𝐋, Unitful.FreeUnits{(μm,), 𝐋, nothing}}}[], 6, BitVector[[1, 1, 1, 1, 1, 1, 1, 1, 1, 1  …  0, 0, 0, 0, 0, 0, 0, 0, 0, 0], [0, 0, 0, 0, 0, 0, 0, 0, 0, 0  …  0, 0, 0, 0, 0, 0, 0, 0, 0, 0], [0, 0, 0, 0, 0, 0, 0, 0, 0, 0  …  0, 0, 0, 0, 0, 0, 0, 0, 0, 0], [0, 0, 0, 0, 0, 0, 0, 0, 0, 0  …  0, 0, 0, 0, 0, 0, 0, 0, 0, 0], [0, 0, 0, 0, 0, 0, 0, 0, 0, 0  …  0, 0, 0, 0, 0, 0, 0, 0, 0, 0], [0, 0, 0, 0, 0, 0, 0, 0, 0, 0  …  1, 1, 1, 1, 1, 1, 1, 1, 1, 1]], Quantity{Float64, 𝐋, Unitful.FreeUnits{(μm,), 𝐋, nothing}}[1.775 μm, 3.02 μm], Tuple{Quantity{Float64, 𝐋, Unitful.FreeUnits{(μm,), 𝐋, nothing}}, Quantity{Float64, 𝐋, Unitful.FreeUnits{(μm,), 𝐋, nothing}}}[], Loki.UVOptIR), Loki.OutputOptions(:both, true, nothing, false, \"pmap\", true, true, false, false, true, false, 3.0, :flux, [1.0052128, 1.0735157753583922, 1.1052199160712735, 1.1416149269802967, 1.2443850730197032, 1.2821587, 1.644, 1.8756133, 1.9450871, 2.0139061337057957  …  2.6259, 3.027, 3.9357, 4.05225, 4.181, 4.3187619516203375, 4.487314024326688, 4.627058023260847, 4.793984656654481, 5.05312]), Loki.FittingOptions{Float64, Int64}(0.0, \"d+\", \"calz\", true, nothing, nothing, nothing, nothing, false, 100.0, true, false, false, nothing, false, false, false, true, false, false, false, false, false, false, true, true, 0, 123456789, [[:HeI_1083m, :HI_Pa_alpha], [:ArVI_4529m], [:MgVII_3027m]], 0.003, true, false, true), \"ModelParameters | Continuum parameters: 20, PAH parameters: 20, Line parameters: 256, Non-fit parameters: 477\", Array{Quantity{Float64, 𝐌 𝐓⁻², Unitful.FreeUnits{(erg, Hz⁻¹, cm⁻², s⁻¹, sr⁻¹), 𝐌 𝐓⁻², nothing}}, 4}(undef, 57, 61, 6987, 0), String[], nothing, nothing, NaN km s⁻¹, 0, 4, 1, 5, 0, 0, 32, 64, 40, 20, 256, 477, 773, Loki.var\"#86#88\"{DataCube{Vector{Quantity{Float64, 𝐋, Unitful.FreeUnits{(μm,), 𝐋, nothing}}}, Array{Quantity{Float64, 𝐌 𝐓⁻², Unitful.FreeUnits{(erg, Hz⁻¹, cm⁻², s⁻¹, sr⁻¹), 𝐌 𝐓⁻², nothing}}, 3}}, Dierckx.Spline1D}(DataCube{Vector{Quantity{Float64, 𝐋, Unitful.FreeUnits{(μm,), 𝐋, nothing}}}, Array{Quantity{Float64, 𝐌 𝐓⁻², Unitful.FreeUnits{(erg, Hz⁻¹, cm⁻², s⁻¹, sr⁻¹), 𝐌 𝐓⁻², nothing}}, 3}}(Quantity{Float64, 𝐋, Unitful.FreeUnits{(μm,), 𝐋, nothing}}[0.9547734895800328 μm, 0.9550047726596355 μm, 0.9552361117649484 μm, 0.9554675069095432 μm, 0.9556989581069948 μm, 0.9559304653708812 μm, 0.9561620287147841 μm, 0.9563936481522881 μm, 0.9566253236969813 μm, 0.956857055362455 μm  …  5.173831522439116 μm, 5.1750848246106935 μm, 5.1763384303805475 μm, 5.17759233982222 μm, 5.178846553009275 μm, 5.180101070015289 μm, 5.18135589091386 μm, 5.182611015778601 μm, 5.1838664446831455 μm, 5.185122177701144 μm], Quantity{Float64, 𝐌 𝐓⁻², Unitful.FreeUnits{(erg, Hz⁻¹, cm⁻², s⁻¹, sr⁻¹), 𝐌 𝐓⁻², nothing}}[NaN erg Hz⁻¹ cm⁻² s⁻¹ sr⁻¹ NaN erg Hz⁻¹ cm⁻² s⁻¹ sr⁻¹ … NaN erg Hz⁻¹ cm⁻² s⁻¹ sr⁻¹ NaN erg Hz⁻¹ cm⁻² s⁻¹ sr⁻¹; NaN erg Hz⁻¹ cm⁻² s⁻¹ sr⁻¹ NaN erg Hz⁻¹ cm⁻² s⁻¹ sr⁻¹ … NaN erg Hz⁻¹ cm⁻² s⁻¹ sr⁻¹ NaN erg Hz⁻¹ cm⁻² s⁻¹ sr⁻¹; … ; NaN erg Hz⁻¹ cm⁻² s⁻¹ sr⁻¹ NaN erg Hz⁻¹ cm⁻² s⁻¹ sr⁻¹ … NaN erg Hz⁻¹ cm⁻² s⁻¹ sr⁻¹ NaN erg Hz⁻¹ cm⁻² s⁻¹ sr⁻¹; NaN erg Hz⁻¹ cm⁻² s⁻¹ sr⁻¹ NaN erg Hz⁻¹ cm⁻² s⁻¹ sr⁻¹ … NaN erg Hz⁻¹ cm⁻² s⁻¹ sr⁻¹ NaN erg Hz⁻¹ cm⁻² s⁻¹ sr⁻¹;;; NaN erg Hz⁻¹ cm⁻² s⁻¹ sr⁻¹ NaN erg Hz⁻¹ cm⁻² s⁻¹ sr⁻¹ … NaN erg Hz⁻¹ cm⁻² s⁻¹ sr⁻¹ NaN erg Hz⁻¹ cm⁻² s⁻¹ sr⁻¹; NaN erg Hz⁻¹ cm⁻² s⁻¹ sr⁻¹ NaN erg Hz⁻¹ cm⁻² s⁻¹ sr⁻¹ … NaN erg Hz⁻¹ cm⁻² s⁻¹ sr⁻¹ NaN erg Hz⁻¹ cm⁻² s⁻¹ sr⁻¹; … ; NaN erg Hz⁻¹ cm⁻² s⁻¹ sr⁻¹ NaN erg Hz⁻¹ cm⁻² s⁻¹ sr⁻¹ … NaN erg Hz⁻¹ cm⁻² s⁻¹ sr⁻¹ NaN erg Hz⁻¹ cm⁻² s⁻¹ sr⁻¹; NaN erg Hz⁻¹ cm⁻² s⁻¹ sr⁻¹ NaN erg Hz⁻¹ cm⁻² s⁻¹ sr⁻¹ … NaN erg Hz⁻¹ cm⁻² s⁻¹ sr⁻¹ NaN erg Hz⁻¹ cm⁻² s⁻¹ sr⁻¹;;; NaN erg Hz⁻¹ cm⁻² s⁻¹ sr⁻¹ NaN erg Hz⁻¹ cm⁻² s⁻¹ sr⁻¹ … NaN erg Hz⁻¹ cm⁻² s⁻¹ sr⁻¹ NaN erg Hz⁻¹ cm⁻² s⁻¹ sr⁻¹; NaN erg Hz⁻¹ cm⁻² s⁻¹ sr⁻¹ NaN erg Hz⁻¹ cm⁻² s⁻¹ sr⁻¹ … NaN erg Hz⁻¹ cm⁻² s⁻¹ sr⁻¹ NaN erg Hz⁻¹ cm⁻² s⁻¹ sr⁻¹; … ; NaN erg Hz⁻¹ cm⁻² s⁻¹ sr⁻¹ NaN erg Hz⁻¹ cm⁻² s⁻¹ sr⁻¹ … NaN erg Hz⁻¹ cm⁻² s⁻¹ sr⁻¹ NaN erg Hz⁻¹ cm⁻² s⁻¹ sr⁻¹; NaN erg Hz⁻¹ cm⁻² s⁻¹ sr⁻¹ NaN erg Hz⁻¹ cm⁻² s⁻¹ sr⁻¹ … NaN erg Hz⁻¹ cm⁻² s⁻¹ sr⁻¹ NaN erg Hz⁻¹ cm⁻² s⁻¹ sr⁻¹;;; … ;;; NaN erg Hz⁻¹ cm⁻² s⁻¹ sr⁻¹ NaN erg Hz⁻¹ cm⁻² s⁻¹ sr⁻¹ … NaN erg Hz⁻¹ cm⁻² s⁻¹ sr⁻¹ NaN erg Hz⁻¹ cm⁻² s⁻¹ sr⁻¹; NaN erg Hz⁻¹ cm⁻² s⁻¹ sr⁻¹ NaN erg Hz⁻¹ cm⁻² s⁻¹ sr⁻¹ … NaN erg Hz⁻¹ cm⁻² s⁻¹ sr⁻¹ NaN erg Hz⁻¹ cm⁻² s⁻¹ sr⁻¹; … ; NaN erg Hz⁻¹ cm⁻² s⁻¹ sr⁻¹ NaN erg Hz⁻¹ cm⁻² s⁻¹ sr⁻¹ … NaN erg Hz⁻¹ cm⁻² s⁻¹ sr⁻¹ NaN erg Hz⁻¹ cm⁻² s⁻¹ sr⁻¹; NaN erg Hz⁻¹ cm⁻² s⁻¹ sr⁻¹ NaN erg Hz⁻¹ cm⁻² s⁻¹ sr⁻¹ … NaN erg Hz⁻¹ cm⁻² s⁻¹ sr⁻¹ NaN erg Hz⁻¹ cm⁻² s⁻¹ sr⁻¹;;; NaN erg Hz⁻¹ cm⁻² s⁻¹ sr⁻¹ NaN erg Hz⁻¹ cm⁻² s⁻¹ sr⁻¹ … NaN erg Hz⁻¹ cm⁻² s⁻¹ sr⁻¹ NaN erg Hz⁻¹ cm⁻² s⁻¹ sr⁻¹; NaN erg Hz⁻¹ cm⁻² s⁻¹ sr⁻¹ NaN erg Hz⁻¹ cm⁻² s⁻¹ sr⁻¹ … NaN erg Hz⁻¹ cm⁻² s⁻¹ sr⁻¹ NaN erg Hz⁻¹ cm⁻² s⁻¹ sr⁻¹; … ; NaN erg Hz⁻¹ cm⁻² s⁻¹ sr⁻¹ NaN erg Hz⁻¹ cm⁻² s⁻¹ sr⁻¹ … NaN erg Hz⁻¹ cm⁻² s⁻¹ sr⁻¹ NaN erg Hz⁻¹ cm⁻² s⁻¹ sr⁻¹; NaN erg Hz⁻¹ cm⁻² s⁻¹ sr⁻¹ NaN erg Hz⁻¹ cm⁻² s⁻¹ sr⁻¹ … NaN erg Hz⁻¹ cm⁻² s⁻¹ sr⁻¹ NaN erg Hz⁻¹ cm⁻² s⁻¹ sr⁻¹;;; NaN erg Hz⁻¹ cm⁻² s⁻¹ sr⁻¹ NaN erg Hz⁻¹ cm⁻² s⁻¹ sr⁻¹ … NaN erg Hz⁻¹ cm⁻² s⁻¹ sr⁻¹ NaN erg Hz⁻¹ cm⁻² s⁻¹ sr⁻¹; NaN erg Hz⁻¹ cm⁻² s⁻¹ sr⁻¹ NaN erg Hz⁻¹ cm⁻² s⁻¹ sr⁻¹ … NaN erg Hz⁻¹ cm⁻² s⁻¹ sr⁻¹ NaN erg Hz⁻¹ cm⁻² s⁻¹ sr⁻¹; … ; NaN erg Hz⁻¹ cm⁻² s⁻¹ sr⁻¹ NaN erg Hz⁻¹ cm⁻² s⁻¹ sr⁻¹ … NaN erg Hz⁻¹ cm⁻² s⁻¹ sr⁻¹ NaN erg Hz⁻¹ cm⁻² s⁻¹ sr⁻¹; NaN erg Hz⁻¹ cm⁻² s⁻¹ sr⁻¹ NaN erg Hz⁻¹ cm⁻² s⁻¹ sr⁻¹ … NaN erg Hz⁻¹ cm⁻² s⁻¹ sr⁻¹ NaN erg Hz⁻¹ cm⁻² s⁻¹ sr⁻¹], Quantity{Float64, 𝐌 𝐓⁻², Unitful.FreeUnits{(erg, Hz⁻¹, cm⁻², s⁻¹, sr⁻¹), 𝐌 𝐓⁻², nothing}}[NaN erg Hz⁻¹ cm⁻² s⁻¹ sr⁻¹ NaN erg Hz⁻¹ cm⁻² s⁻¹ sr⁻¹ … NaN erg Hz⁻¹ cm⁻² s⁻¹ sr⁻¹ NaN erg Hz⁻¹ cm⁻² s⁻¹ sr⁻¹; NaN erg Hz⁻¹ cm⁻² s⁻¹ sr⁻¹ NaN erg Hz⁻¹ cm⁻² s⁻¹ sr⁻¹ … NaN erg Hz⁻¹ cm⁻² s⁻¹ sr⁻¹ NaN erg Hz⁻¹ cm⁻² s⁻¹ sr⁻¹; … ; NaN erg Hz⁻¹ cm⁻² s⁻¹ sr⁻¹ NaN erg Hz⁻¹ cm⁻² s⁻¹ sr⁻¹ … NaN erg Hz⁻¹ cm⁻² s⁻¹ sr⁻¹ NaN erg Hz⁻¹ cm⁻² s⁻¹ sr⁻¹; NaN erg Hz⁻¹ cm⁻² s⁻¹ sr⁻¹ NaN erg Hz⁻¹ cm⁻² s⁻¹ sr⁻¹ … NaN erg Hz⁻¹ cm⁻² s⁻¹ sr⁻¹ NaN erg Hz⁻¹ cm⁻² s⁻¹ sr⁻¹;;; NaN erg Hz⁻¹ cm⁻² s⁻¹ sr⁻¹ NaN erg Hz⁻¹ cm⁻² s⁻¹ sr⁻¹ … NaN erg Hz⁻¹ cm⁻² s⁻¹ sr⁻¹ NaN erg Hz⁻¹ cm⁻² s⁻¹ sr⁻¹; NaN erg Hz⁻¹ cm⁻² s⁻¹ sr⁻¹ NaN erg Hz⁻¹ cm⁻² s⁻¹ sr⁻¹ … NaN erg Hz⁻¹ cm⁻² s⁻¹ sr⁻¹ NaN erg Hz⁻¹ cm⁻² s⁻¹ sr⁻¹; … ; NaN erg Hz⁻¹ cm⁻² s⁻¹ sr⁻¹ NaN erg Hz⁻¹ cm⁻² s⁻¹ sr⁻¹ … NaN erg Hz⁻¹ cm⁻² s⁻¹ sr⁻¹ NaN erg Hz⁻¹ cm⁻² s⁻¹ sr⁻¹; NaN erg Hz⁻¹ cm⁻² s⁻¹ sr⁻¹ NaN erg Hz⁻¹ cm⁻² s⁻¹ sr⁻¹ … NaN erg Hz⁻¹ cm⁻² s⁻¹ sr⁻¹ NaN erg Hz⁻¹ cm⁻² s⁻¹ sr⁻¹;;; NaN erg Hz⁻¹ cm⁻² s⁻¹ sr⁻¹ NaN erg Hz⁻¹ cm⁻² s⁻¹ sr⁻¹ … NaN erg Hz⁻¹ cm⁻² s⁻¹ sr⁻¹ NaN erg Hz⁻¹ cm⁻² s⁻¹ sr⁻¹; NaN erg Hz⁻¹ cm⁻² s⁻¹ sr⁻¹ NaN erg Hz⁻¹ cm⁻² s⁻¹ sr⁻¹ … NaN erg Hz⁻¹ cm⁻² s⁻¹ sr⁻¹ NaN erg Hz⁻¹ cm⁻² s⁻¹ sr⁻¹; … ; NaN erg Hz⁻¹ cm⁻² s⁻¹ sr⁻¹ NaN erg Hz⁻¹ cm⁻² s⁻¹ sr⁻¹ … NaN erg Hz⁻¹ cm⁻² s⁻¹ sr⁻¹ NaN erg Hz⁻¹ cm⁻² s⁻¹ sr⁻¹; NaN erg Hz⁻¹ cm⁻² s⁻¹ sr⁻¹ NaN erg Hz⁻¹ cm⁻² s⁻¹ sr⁻¹ … NaN erg Hz⁻¹ cm⁻² s⁻¹ sr⁻¹ NaN erg Hz⁻¹ cm⁻² s⁻¹ sr⁻¹;;; … ;;; NaN erg Hz⁻¹ cm⁻² s⁻¹ sr⁻¹ NaN erg Hz⁻¹ cm⁻² s⁻¹ sr⁻¹ … NaN erg Hz⁻¹ cm⁻² s⁻¹ sr⁻¹ NaN erg Hz⁻¹ cm⁻² s⁻¹ sr⁻¹; NaN erg Hz⁻¹ cm⁻² s⁻¹ sr⁻¹ NaN erg Hz⁻¹ cm⁻² s⁻¹ sr⁻¹ … NaN erg Hz⁻¹ cm⁻² s⁻¹ sr⁻¹ NaN erg Hz⁻¹ cm⁻² s⁻¹ sr⁻¹; … ; NaN erg Hz⁻¹ cm⁻² s⁻¹ sr⁻¹ NaN erg Hz⁻¹ cm⁻² s⁻¹ sr⁻¹ … NaN erg Hz⁻¹ cm⁻² s⁻¹ sr⁻¹ NaN erg Hz⁻¹ cm⁻² s⁻¹ sr⁻¹; NaN erg Hz⁻¹ cm⁻² s⁻¹ sr⁻¹ NaN erg Hz⁻¹ cm⁻² s⁻¹ sr⁻¹ … NaN erg Hz⁻¹ cm⁻² s⁻¹ sr⁻¹ NaN erg Hz⁻¹ cm⁻² s⁻¹ sr⁻¹;;; NaN erg Hz⁻¹ cm⁻² s⁻¹ sr⁻¹ NaN erg Hz⁻¹ cm⁻² s⁻¹ sr⁻¹ … NaN erg Hz⁻¹ cm⁻² s⁻¹ sr⁻¹ NaN erg Hz⁻¹ cm⁻² s⁻¹ sr⁻¹; NaN erg Hz⁻¹ cm⁻² s⁻¹ sr⁻¹ NaN erg Hz⁻¹ cm⁻² s⁻¹ sr⁻¹ … NaN erg Hz⁻¹ cm⁻² s⁻¹ sr⁻¹ NaN erg Hz⁻¹ cm⁻² s⁻¹ sr⁻¹; … ; NaN erg Hz⁻¹ cm⁻² s⁻¹ sr⁻¹ NaN erg Hz⁻¹ cm⁻² s⁻¹ sr⁻¹ … NaN erg Hz⁻¹ cm⁻² s⁻¹ sr⁻¹ NaN erg Hz⁻¹ cm⁻² s⁻¹ sr⁻¹; NaN erg Hz⁻¹ cm⁻² s⁻¹ sr⁻¹ NaN erg Hz⁻¹ cm⁻² s⁻¹ sr⁻¹ … NaN erg Hz⁻¹ cm⁻² s⁻¹ sr⁻¹ NaN erg Hz⁻¹ cm⁻² s⁻¹ sr⁻¹;;; NaN erg Hz⁻¹ cm⁻² s⁻¹ sr⁻¹ NaN erg Hz⁻¹ cm⁻² s⁻¹ sr⁻¹ … NaN erg Hz⁻¹ cm⁻² s⁻¹ sr⁻¹ NaN erg Hz⁻¹ cm⁻² s⁻¹ sr⁻¹; NaN erg Hz⁻¹ cm⁻² s⁻¹ sr⁻¹ NaN erg Hz⁻¹ cm⁻² s⁻¹ sr⁻¹ … NaN erg Hz⁻¹ cm⁻² s⁻¹ sr⁻¹ NaN erg Hz⁻¹ cm⁻² s⁻¹ sr⁻¹; … ; NaN erg Hz⁻¹ cm⁻² s⁻¹ sr⁻¹ NaN erg Hz⁻¹ cm⁻² s⁻¹ sr⁻¹ … NaN erg Hz⁻¹ cm⁻² s⁻¹ sr⁻¹ NaN erg Hz⁻¹ cm⁻² s⁻¹ sr⁻¹; NaN erg Hz⁻¹ cm⁻² s⁻¹ sr⁻¹ NaN erg Hz⁻¹ cm⁻² s⁻¹ sr⁻¹ … NaN erg Hz⁻¹ cm⁻² s⁻¹ sr⁻¹ NaN erg Hz⁻¹ cm⁻² s⁻¹ sr⁻¹], Bool[1 1 … 1 1; 1 1 … 1 1; … ; 1 1 … 1 1; 1 1 … 1 1;;; 1 1 … 1 1; 1 1 … 1 1; … ; 1 1 … 1 1; 1 1 … 1 1;;; 1 1 … 1 1; 1 1 … 1 1; … ; 1 1 … 1 1; 1 1 … 1 1;;; … ;;; 1 1 … 1 1; 1 1 … 1 1; … ; 1 1 … 1 1; 1 1 … 1 1;;; 1 1 … 1 1; 1 1 … 1 1; … ; 1 1 … 1 1; 1 1 … 1 1;;; 1 1 … 1 1; 1 1 … 1 1; … ; 1 1 … 1 1; 1 1 … 1 1], nothing, 2.35040007004737e-13 sr, 345.815041666667°, 8.87389444444445°, -0.0 rad, Quantity{Float64, NoDims, Unitful.FreeUnits{(″,), NoDims, nothing}}[0.04802163344411384 ″, 0.04802939032265905 ″, 0.04803714908022036 ″, 0.04804490971725294 ″, 0.04805267223421208 ″, 0.04806043663155315 ″, 0.04806820290973166 ″, 0.048075971069203235 ″, 0.048083741110423586 ″, 0.048091513033848544 ″  …  0.18952234673589488 ″, 0.18956438056189756 ″, 0.1896064245701192 ″, 0.18964847876302623 ″, 0.189690543143086 ″, 0.18973261771276606 ″, 0.1897747024745347 ″, 0.189816797430861 ″, 0.1898589025842143 ″, 0.1899010179370649 ″], Quantity{Float64, 𝐋 𝐓⁻¹, Unitful.FreeUnits{(km, s⁻¹), 𝐋 𝐓⁻¹, nothing}}[66.93596520336838 km s⁻¹, 66.93641486341377 km s⁻¹, 66.93686463842788 km s⁻¹, 66.93731452844159 km s⁻¹, 66.9377645334858 km s⁻¹, 66.93821465359146 km s⁻¹, 66.93866488878946 km s⁻¹, 66.93911523911076 km s⁻¹, 66.9395657045863 km s⁻¹, 66.94001628524703 km s⁻¹  …  76.28416250047437 km s⁻¹, 76.2873274104521 km s⁻¹, 76.29049334931669 km s⁻¹, 76.29366031747666 km s⁻¹, 76.2968283153407 km s⁻¹, 76.29999734331774 km s⁻¹, 76.30316740181681 km s⁻¹, 76.3063384912473 km s⁻¹, 76.30951061201867 km s⁻¹, 76.3126837645407 km s⁻¹], WCSTransform(naxis=3,cdelt=[2.77777781916989e-5, 2.77777781916989e-5, 2.34999999520368e-10],crval=[-14.184956076678, 8.87389856697997, 9.7011752860999e-7],crpix=[29.0, 31.0, 1.0]), \"NIRSpecAll\", \"MULTIPLE\", 57, 61, 6987, Loki.SpectralRegion{Quantity{Float64, 𝐋, Unitful.FreeUnits{(μm,), 𝐋, nothing}}}((0.9547734895800328 μm, 5.185122177701144 μm), Tuple{Quantity{Float64, 𝐋, Unitful.FreeUnits{(μm,), 𝐋, nothing}}, Quantity{Float64, 𝐋, Unitful.FreeUnits{(μm,), 𝐋, nothing}}}[], 6, BitVector[[1, 1, 1, 1, 1, 1, 1, 1, 1, 1  …  0, 0, 0, 0, 0, 0, 0, 0, 0, 0], [0, 0, 0, 0, 0, 0, 0, 0, 0, 0  …  0, 0, 0, 0, 0, 0, 0, 0, 0, 0], [0, 0, 0, 0, 0, 0, 0, 0, 0, 0  …  0, 0, 0, 0, 0, 0, 0, 0, 0, 0], [0, 0, 0, 0, 0, 0, 0, 0, 0, 0  …  0, 0, 0, 0, 0, 0, 0, 0, 0, 0], [0, 0, 0, 0, 0, 0, 0, 0, 0, 0  …  0, 0, 0, 0, 0, 0, 0, 0, 0, 0], [0, 0, 0, 0, 0, 0, 0, 0, 0, 0  …  1, 1, 1, 1, 1, 1, 1, 1, 1, 1]], Quantity{Float64, 𝐋, Unitful.FreeUnits{(μm,), 𝐋, nothing}}[1.775 μm, 3.02 μm], Tuple{Quantity{Float64, 𝐋, Unitful.FreeUnits{(μm,), 𝐋, nothing}}, Quantity{Float64, 𝐋, Unitful.FreeUnits{(μm,), 𝐋, nothing}}}[], Loki.UVOptIR), true, true, true, true, true, true, nothing), Spline1D(knots=[0.954773,0.955005 … 5.18387,5.18512] (6987 elements), k=1, extrapolation=\"nearest\", residual=0.0)), Dict{String, Tuple{Vector{<:Union{Quantity{Float64, 𝐋, Unitful.FreeUnits{(μm,), 𝐋, nothing}}, Quantity{Float64, 𝐋, Unitful.FreeUnits{(Å,), 𝐋, nothing}}}}, Vector{<:AbstractFloat}}}(\"dp\" => (Quantity{Float64, 𝐋, Unitful.FreeUnits{(μm,), 𝐋, nothing}}[4.872 μm, 4.901 μm, 4.93 μm, 4.958 μm, 4.987 μm, 5.015 μm, 5.044 μm, 5.072 μm, 5.101 μm, 5.13 μm  …  33.376 μm, 33.536 μm, 33.696 μm, 33.856 μm, 34.016 μm, 34.176 μm, 34.336 μm, 34.496 μm, 34.656 μm, 34.816 μm], [0.00013932881488852732, 0.00012685486467259, 0.00011438091445665264, 0.00010233710045505773, 8.98631502391204e-5, 7.781933623752588e-5, 6.534538602158853e-5, 5.3301572019993625e-5, 4.082762180405629e-5, 2.8353671588118956e-5  …  -0.010248753808906576, -0.008849555783209551, -0.008018046120299584, -0.007737073532587197, -0.0047568949322396225, -2.059222995799695e-5, 0.0010045279449709462, 0.0018514592908683103, 0.002922183468301147, 0.003849698889710785]), \"ohm\" => (Quantity{Float64, 𝐋, Unitful.FreeUnits{(μm,), 𝐋, nothing}}[0.00998911 μm, 0.0144932 μm, 0.0178575 μm, 0.0193776 μm, 0.0234454 μm, 0.0288864 μm, 0.03401 μm, 0.0411485 μm, 0.0535353 μm, 0.0690269 μm  …  41.5447 μm, 44.6626 μm, 47.1521 μm, 51.6185 μm, 55.4938 μm, 62.9911 μm, 67.7227 μm, 71.5013 μm, 80.4332 μm, 1000.0 μm], [80.35792803056988, 92.57227673224875, 96.21447502350316, 98.72196323549059, 98.72196323549059, 97.4602025521867, 92.57227673224875, 90.22099031451705, 90.22099031451705, 97.4602025521867  …  0.15092834394517635, 0.11973268358569357, 0.09746020255218671, 0.07632753305623508, 0.06212920293358144, 0.04504344741975528, 0.03810716463377603, 0.03265637791603, 0.025248574628261595, 0.0])), Dict{String, Dierckx.Spline1D}(\"smith3\" => Spline1D(knots=[1.01,1.03 … 39.97,39.99] (3897 elements), k=3, extrapolation=\"nearest\", residual=0.0), \"dp\" => Spline1D(knots=[4.872,4.93 … 34.496,34.816] (359 elements), k=3, extrapolation=\"nearest\", residual=0.0), \"smith4\" => Spline1D(knots=[1.01,1.03 … 39.97,39.99] (3897 elements), k=3, extrapolation=\"nearest\", residual=0.0), \"ohm\" => Spline1D(knots=[0.00998911,0.0178575 … 71.5013,1000.0] (78 elements), k=3, extrapolation=\"nearest\", residual=0.0)), Dict(:HI_Hu_epsilon => [2 1 … 1 1; 1 1 … 1 1; … ; 1 1 … 1 1; 1 1 … 1 1], :ArVI_4529m => [2 1 … 1 1; 1 1 … 1 1; … ; 1 1 … 1 1; 1 1 … 1 1], :H210_S5 => [1 1 … 1 1; 1 1 … 1 1; … ; 1 1 … 1 1; 1 1 … 1 1], :H200_S8 => [1 1 … 1 1; 1 1 … 1 1; … ; 1 1 … 1 1; 1 1 … 1 1], :HI_Br_alpha => [2 1 … 1 1; 1 1 … 1 1; … ; 1 1 … 1 1; 1 1 … 1 1], :HI_Pa_beta => [2 1 … 1 1; 1 1 … 1 1; … ; 1 1 … 1 1; 1 1 … 1 1], :HI_Hu_delta => [2 1 … 1 1; 1 1 … 1 1; … ; 1 1 … 1 1; 1 1 … 1 1], :H200_S9 => [1 1 … 1 1; 1 1 … 1 1; … ; 1 1 … 1 1; 1 1 … 1 1], :OI_1129m => [2 1 … 1 1; 1 1 … 1 1; … ; 1 1 … 1 1; 1 1 … 1 1], :H210_S2 => [1 1 … 1 1; 1 1 … 1 1; … ; 1 1 … 1 1; 1 1 … 1 1]…), Cosmology.FlatLCDM{Float64}(0.7, 0.73, 0.27, 0.0), Tuple{Quantity{Float64, 𝐋, Unitful.FreeUnits{(μm,), 𝐋, nothing}}, Quantity{Float64, 𝐋, Unitful.FreeUnits{(μm,), 𝐋, nothing}}}[(0.995 μm, 1.02 μm), (1.069 μm, 1.107 μm), (1.12 μm, 1.14 μm), (1.273 μm, 1.294 μm), (1.857 μm, 1.9 μm), (1.933 μm, 1.967 μm), (2.153 μm, 2.183 μm), (2.609 μm, 2.64 μm), (3.014 μm, 3.043 μm), (3.292 μm, 3.303 μm), (3.733 μm, 3.762 μm), (4.462 μm, 4.5 μm), (4.512 μm, 4.54 μm), (4.641 μm, 4.704 μm), (5.047 μm, 5.056 μm), (5.135 μm, 5.145 μm)], 1000.0 km s⁻¹, Number[0.0, 0.0, 0.0, 0.0, 0.0, 0.0, 0.0, 0.0, 0.0, 0.0  …  0.0, 0.0, 0.0, 0.0, 0.0, 0.0, 0.0, 0.0, 0.0, 0.0], Number[0.0, 0.0, 0.0, 0.0, 0.0, 0.0, 0.0, 0.0, 0.0, 0.0  …  0.0, 0.0, 0.0, 0.0, 0.0, 0.0, 0.0, 0.0, 0.0, 0.0], Number[0.0, 0.0]), ParamMaps(Quantity{Float64}[0.0;;; 0.44;;; 0.0;;; … ;;; -64.67500786586254 km s⁻¹;;; 205834.54193264342;;; 6202.0], Quantity{Float64}[0.0;;; 0.0;;; 0.0;;; … ;;; 32.22178086222976 km s⁻¹;;; 0.0;;; 0.0], Quantity{Float64}[0.0;;; 0.0;;; 0.0;;; … ;;; 32.22178086222976 km s⁻¹;;; 0.0;;; 0.0], Loki.AllParameters([\"extinction.E_BV\", \"extinction.E_BV_factor\", \"extinction.tau_97\", \"extinction.beta\", \"continuum.power_law.1.amp\", \"continuum.power_law.1.index\", \"continuum.dust.1.amp\", \"continuum.dust.1.temp\", \"continuum.dust.2.amp\", \"continuum.dust.2.temp\"  …  \"lines.HI_Hu_delta.total_flux\", \"lines.HI_Hu_delta.total_eqw\", \"lines.HI_Hu_delta.total_snr\", \"lines.HI_Hu_delta.n_comps\", \"lines.HI_Hu_delta.w80\", \"lines.HI_Hu_delta.delta_v\", \"lines.HI_Hu_delta.vmed\", \"lines.HI_Hu_delta.vpeak\", \"statistics.chi2\", \"statistics.dof\"], [\"\\$E(B-V)_{\\\\rm gas}\\$\", \"\\$E(B-V)_{\\\\rm stars}/E(B-V)_{\\\\rm gas}\\$\", \"\\$\\\\tau_{9.7}\\$\", \"\\$\\\\beta\\$\", \"\\$\\\\log_{10}(I \\$ / \\$\\\\mathrm{erg}\\\\,\\\\mathrm{s}^{-1}\\\\,\\\\mathrm{cm}^{-2}\\\\,\\\\mathrm{Hz}^{-1}\\\\,\\\\mathrm{sr}^{-1}\\$\\$)\\$\", \"\\$\\\\alpha\\$\", \"\\$\\\\log_{10}(A_{\\\\rm dust})\\$\", \"\\$T\\$ (K)\", \"\\$\\\\log_{10}(A_{\\\\rm dust})\\$\", \"\\$T\\$ (K)\"  …  \"\\$\\\\log_{10}(F /\\$ \\$\\\\mathrm{erg}\\\\,\\\\mathrm{s}^{-1}\\\\,\\\\mathrm{cm}^{-2}\\$\\$)\\$\", \"\\$W_{\\\\rm eq}\\$ (\\$\\\\mathrm{\\\\mu{}m}\\$)\", \"\\$S/N\\$\", \"\\$n_{\\\\rm comp}\\$\", \"\\$W_{80}\\$ (km s\\$^{-1}\\$)\", \"\\$\\\\Delta v\\$ (km s\\$^{-1}\\$)\", \"\\$v_{\\\\rm med}\\$ (km s\\$^{-1}\\$)\", \"\\$v_{\\\\rm peak}\\$ (km s\\$^{-1}\\$)\", \"\\$\\\\chi^2\\$\", \"d.o.f.\"], Vector{Loki.Transformation}[[], [], [], [], [Loki.RestframeTransform, Loki.LogTransform, Loki.NormalizeTransform], [], [Loki.RestframeTransform, Loki.LogTransform], [], [Loki.RestframeTransform, Loki.LogTransform], []  …  [Loki.LogTransform], [Loki.RestframeTransform], [], [], [], [], [], [], [], []], Union{Loki.FitParameter, Loki.NonFitParameter}[\"Parameter: value = 0.0 | locked = false | limits = (0.0, 1.0)\", \"Parameter: value = 0.44 | locked = true | limits = (0.0, 10.0)\", \"Parameter: value = 0.1 | locked = false | limits = (0.0, 10.0)\", \"Parameter: value = 0.0 | locked = true | limits = (0.0, 1.0)\", \"Parameter: value = NaN | locked = false | limits = (0.0, Inf)\", \"Parameter: value = 0.0 | locked = false | limits = (-6.0, 6.0)\", \"Parameter: value = NaN | locked = false | limits = (0.0, Inf)\", \"Parameter: value = 400.0 K | locked = false | limits = (35.0 K, 1500.0 K)\", \"Parameter: value = NaN | locked = false | limits = (0.0, Inf)\", \"Parameter: value = 300.0 K | locked = false | limits = (35.0 K, 300.0 K)\"  …  Loki.NonFitParameter{Quantity{Float64, 𝐌 𝐓⁻³, Unitful.FreeUnits{(erg, cm⁻², s⁻¹), 𝐌 𝐓⁻³, nothing}}}(Quantity{Float64, 𝐌 𝐓⁻³, Unitful.FreeUnits{(erg, cm⁻², s⁻¹), 𝐌 𝐓⁻³, nothing}}), Loki.NonFitParameter{Quantity{Float64, 𝐋, Unitful.FreeUnits{(μm,), 𝐋, nothing}}}(Quantity{Float64, 𝐋, Unitful.FreeUnits{(μm,), 𝐋, nothing}}), Loki.NonFitParameter{Float64}(Float64), Loki.NonFitParameter{Int64}(Int64), Loki.NonFitParameter{Quantity{Float64, 𝐋 𝐓⁻¹, Unitful.FreeUnits{(km, s⁻¹), 𝐋 𝐓⁻¹, nothing}}}(Quantity{Float64, 𝐋 𝐓⁻¹, Unitful.FreeUnits{(km, s⁻¹), 𝐋 𝐓⁻¹, nothing}}), Loki.NonFitParameter{Quantity{Float64, 𝐋 𝐓⁻¹, Unitful.FreeUnits{(km, s⁻¹), 𝐋 𝐓⁻¹, nothing}}}(Quantity{Float64, 𝐋 𝐓⁻¹, Unitful.FreeUnits{(km, s⁻¹), 𝐋 𝐓⁻¹, nothing}}), Loki.NonFitParameter{Quantity{Float64, 𝐋 𝐓⁻¹, Unitful.FreeUnits{(km, s⁻¹), 𝐋 𝐓⁻¹, nothing}}}(Quantity{Float64, 𝐋 𝐓⁻¹, Unitful.FreeUnits{(km, s⁻¹), 𝐋 𝐓⁻¹, nothing}}), Loki.NonFitParameter{Quantity{Float64, 𝐋 𝐓⁻¹, Unitful.FreeUnits{(km, s⁻¹), 𝐋 𝐓⁻¹, nothing}}}(Quantity{Float64, 𝐋 𝐓⁻¹, Unitful.FreeUnits{(km, s⁻¹), 𝐋 𝐓⁻¹, nothing}}), Loki.NonFitParameter{Float64}(Float64), Loki.NonFitParameter{Int64}(Int64)])), CubeModel{Float32, Quantity{Float32, 𝐌 𝐓⁻², Unitful.FreeUnits{(erg, Hz⁻¹, cm⁻², s⁻¹, sr⁻¹), 𝐌 𝐓⁻², nothing}}}(Quantity{Float32, 𝐌 𝐓⁻², Unitful.FreeUnits{(erg, Hz⁻¹, cm⁻², s⁻¹, sr⁻¹), 𝐌 𝐓⁻², nothing}}[5.38304f-15 erg Hz⁻¹ cm⁻² s⁻¹ sr⁻¹; 5.3839824f-15 erg Hz⁻¹ cm⁻² s⁻¹ sr⁻¹; … ; 7.3287906f-14 erg Hz⁻¹ cm⁻² s⁻¹ sr⁻¹; 7.33135f-14 erg Hz⁻¹ cm⁻² s⁻¹ sr⁻¹;;;], Float32[1.0; 1.0; … ; 1.0; 1.0;;;], Float32[1.0; 1.0; … ; 1.0; 1.0;;;], Float32[1.0; 1.0; … ; 1.0; 1.0;;;;], nothing, nothing, Quantity{Float32, 𝐌 𝐓⁻², Unitful.FreeUnits{(erg, Hz⁻¹, cm⁻², s⁻¹, sr⁻¹), 𝐌 𝐓⁻², nothing}}[0.0f0 erg Hz⁻¹ cm⁻² s⁻¹ sr⁻¹; 0.0f0 erg Hz⁻¹ cm⁻² s⁻¹ sr⁻¹; … ; 0.0f0 erg Hz⁻¹ cm⁻² s⁻¹ sr⁻¹; 0.0f0 erg Hz⁻¹ cm⁻² s⁻¹ sr⁻¹;;;], nothing, nothing, Quantity{Float32, 𝐌 𝐓⁻², Unitful.FreeUnits{(erg, Hz⁻¹, cm⁻², s⁻¹, sr⁻¹), 𝐌 𝐓⁻², nothing}}[4.3851607f-15 erg Hz⁻¹ cm⁻² s⁻¹ sr⁻¹; 4.3845487f-15 erg Hz⁻¹ cm⁻² s⁻¹ sr⁻¹; … ; 1.653576f-15 erg Hz⁻¹ cm⁻² s⁻¹ sr⁻¹; 1.6533451f-15 erg Hz⁻¹ cm⁻² s⁻¹ sr⁻¹;;;;], Quantity{Float32, 𝐌 𝐓⁻², Unitful.FreeUnits{(erg, Hz⁻¹, cm⁻², s⁻¹, sr⁻¹), 𝐌 𝐓⁻², nothing}}[1.7396804f-21 erg Hz⁻¹ cm⁻² s⁻¹ sr⁻¹; 1.7508584f-21 erg Hz⁻¹ cm⁻² s⁻¹ sr⁻¹; … ; 5.1263616f-14 erg Hz⁻¹ cm⁻² s⁻¹ sr⁻¹; 5.1273662f-14 erg Hz⁻¹ cm⁻² s⁻¹ sr⁻¹;;;; 0.0f0 erg Hz⁻¹ cm⁻² s⁻¹ sr⁻¹; 0.0f0 erg Hz⁻¹ cm⁻² s⁻¹ sr⁻¹; … ; 0.0f0 erg Hz⁻¹ cm⁻² s⁻¹ sr⁻¹; 0.0f0 erg Hz⁻¹ cm⁻² s⁻¹ sr⁻¹;;;; 3.987789f-39 erg Hz⁻¹ cm⁻² s⁻¹ sr⁻¹; 4.060011f-39 erg Hz⁻¹ cm⁻² s⁻¹ sr⁻¹; … ; 9.069606f-15 erg Hz⁻¹ cm⁻² s⁻¹ sr⁻¹; 9.090653f-15 erg Hz⁻¹ cm⁻² s⁻¹ sr⁻¹;;;; 0.0f0 erg Hz⁻¹ cm⁻² s⁻¹ sr⁻¹; 0.0f0 erg Hz⁻¹ cm⁻² s⁻¹ sr⁻¹; … ; 0.0f0 erg Hz⁻¹ cm⁻² s⁻¹ sr⁻¹; 0.0f0 erg Hz⁻¹ cm⁻² s⁻¹ sr⁻¹], Quantity{Float32, 𝐌 𝐓⁻², Unitful.FreeUnits{(erg, Hz⁻¹, cm⁻², s⁻¹, sr⁻¹), 𝐌 𝐓⁻², nothing}}[9.978155f-16 erg Hz⁻¹ cm⁻² s⁻¹ sr⁻¹; 9.993699f-16 erg Hz⁻¹ cm⁻² s⁻¹ sr⁻¹; … ; 1.1300798f-14 erg Hz⁻¹ cm⁻² s⁻¹ sr⁻¹; 1.1295541f-14 erg Hz⁻¹ cm⁻² s⁻¹ sr⁻¹;;;], Array{Quantity{Float32, 𝐌 𝐓⁻², Unitful.FreeUnits{(erg, Hz⁻¹, cm⁻², s⁻¹, sr⁻¹), 𝐌 𝐓⁻², nothing}}, 4}(undef, 6987, 1, 1, 0), Array{Float32, 4}(undef, 6987, 1, 1, 0), Quantity{Float32, 𝐌 𝐓⁻², Unitful.FreeUnits{(erg, Hz⁻¹, cm⁻², s⁻¹, sr⁻¹), 𝐌 𝐓⁻², nothing}}[6.2188666f-20 erg Hz⁻¹ cm⁻² s⁻¹ sr⁻¹; 6.2221695f-20 erg Hz⁻¹ cm⁻² s⁻¹ sr⁻¹; … ; 2.4182648f-19 erg Hz⁻¹ cm⁻² s⁻¹ sr⁻¹; 2.4145322f-19 erg Hz⁻¹ cm⁻² s⁻¹ sr⁻¹;;;; 0.0f0 erg Hz⁻¹ cm⁻² s⁻¹ sr⁻¹; 0.0f0 erg Hz⁻¹ cm⁻² s⁻¹ sr⁻¹; … ; 0.0f0 erg Hz⁻¹ cm⁻² s⁻¹ sr⁻¹; 0.0f0 erg Hz⁻¹ cm⁻² s⁻¹ sr⁻¹;;;; 2.8532409f-24 erg Hz⁻¹ cm⁻² s⁻¹ sr⁻¹; 2.8563594f-24 erg Hz⁻¹ cm⁻² s⁻¹ sr⁻¹; … ; 1.9450365f-20 erg Hz⁻¹ cm⁻² s⁻¹ sr⁻¹; 1.9432038f-20 erg Hz⁻¹ cm⁻² s⁻¹ sr⁻¹;;;; 0.0f0 erg Hz⁻¹ cm⁻² s⁻¹ sr⁻¹; 0.0f0 erg Hz⁻¹ cm⁻² s⁻¹ sr⁻¹; … ; 0.0f0 erg Hz⁻¹ cm⁻² s⁻¹ sr⁻¹; 0.0f0 erg Hz⁻¹ cm⁻² s⁻¹ sr⁻¹;;;; 0.0f0 erg Hz⁻¹ cm⁻² s⁻¹ sr⁻¹; 0.0f0 erg Hz⁻¹ cm⁻² s⁻¹ sr⁻¹; … ; 0.0f0 erg Hz⁻¹ cm⁻² s⁻¹ sr⁻¹; 0.0f0 erg Hz⁻¹ cm⁻² s⁻¹ sr⁻¹], Quantity{Float32, 𝐌 𝐓⁻², Unitful.FreeUnits{(erg, Hz⁻¹, cm⁻², s⁻¹, sr⁻¹), 𝐌 𝐓⁻², nothing}}[0.0f0 erg Hz⁻¹ cm⁻² s⁻¹ sr⁻¹; 0.0f0 erg Hz⁻¹ cm⁻² s⁻¹ sr⁻¹; … ; 0.0f0 erg Hz⁻¹ cm⁻² s⁻¹ sr⁻¹; 0.0f0 erg Hz⁻¹ cm⁻² s⁻¹ sr⁻¹;;;; 0.0f0 erg Hz⁻¹ cm⁻² s⁻¹ sr⁻¹; 0.0f0 erg Hz⁻¹ cm⁻² s⁻¹ sr⁻¹; … ; 0.0f0 erg Hz⁻¹ cm⁻² s⁻¹ sr⁻¹; 0.0f0 erg Hz⁻¹ cm⁻² s⁻¹ sr⁻¹;;;; 0.0f0 erg Hz⁻¹ cm⁻² s⁻¹ sr⁻¹; 0.0f0 erg Hz⁻¹ cm⁻² s⁻¹ sr⁻¹; … ; 0.0f0 erg Hz⁻¹ cm⁻² s⁻¹ sr⁻¹; 0.0f0 erg Hz⁻¹ cm⁻² s⁻¹ sr⁻¹;;;; … ;;;; 0.0f0 erg Hz⁻¹ cm⁻² s⁻¹ sr⁻¹; 0.0f0 erg Hz⁻¹ cm⁻² s⁻¹ sr⁻¹; … ; 0.0f0 erg Hz⁻¹ cm⁻² s⁻¹ sr⁻¹; 0.0f0 erg Hz⁻¹ cm⁻² s⁻¹ sr⁻¹;;;; 0.0f0 erg Hz⁻¹ cm⁻² s⁻¹ sr⁻¹; 0.0f0 erg Hz⁻¹ cm⁻² s⁻¹ sr⁻¹; … ; 0.0f0 erg Hz⁻¹ cm⁻² s⁻¹ sr⁻¹; 0.0f0 erg Hz⁻¹ cm⁻² s⁻¹ sr⁻¹;;;; 0.0f0 erg Hz⁻¹ cm⁻² s⁻¹ sr⁻¹; 0.0f0 erg Hz⁻¹ cm⁻² s⁻¹ sr⁻¹; … ; 4.9911034f-20 erg Hz⁻¹ cm⁻² s⁻¹ sr⁻¹; 3.6299968f-20 erg Hz⁻¹ cm⁻² s⁻¹ sr⁻¹]))"
      ]
     },
     "metadata": {},
     "output_type": "display_data"
    }
   ],
   "source": [
    "# To see a full list of keyword arguments, please refer to the docstring, which can be accessed by typing `?CubeFitter` in the command\n",
    "# line after importing Loki.\n",
    "cube_fitter = CubeFitter(\n",
    "    obs.channels[channel], \n",
    "    obs.z, \n",
    "    run_name; \n",
    "    nirspec_mask_chip_gaps=true,\n",
    "    parallel=false, \n",
    "    plot_spaxels=:both, \n",
    "    plot_maps=true, \n",
    "    save_fits=true,\n",
    "    silicate_absorption=\"d+\",\n",
    "    extinction_screen=true, \n",
    "    use_pah_templates=true,\n",
    "    fit_sil_emission=true, \n",
    "    fit_stellar_continuum=false, \n",
    "    save_full_model=true, \n",
    "    map_snr_thresh=3., \n",
    "    subtract_cubic_spline=true,\n",
    "    # we will use a custom emission line mask for this one because the lines vary in width quite a bit,\n",
    "    # so the default behavior of masking +/-500 km/s from each line position doesn't work very well\n",
    "    linemask_overrides=[\n",
    "        (0.995, 1.020) .* u\"μm\",\n",
    "        (1.069, 1.107) .* u\"μm\",\n",
    "        (1.120, 1.140) .* u\"μm\",\n",
    "        (1.273, 1.294) .* u\"μm\",\n",
    "        (1.857, 1.900) .* u\"μm\",\n",
    "        (1.933, 1.967) .* u\"μm\",\n",
    "        (2.153, 2.183) .* u\"μm\",\n",
    "        (2.609, 2.640) .* u\"μm\",\n",
    "        (3.014, 3.043) .* u\"μm\",\n",
    "        (3.292, 3.303) .* u\"μm\",\n",
    "        (3.733, 3.762) .* u\"μm\",\n",
    "        (4.462, 4.500) .* u\"μm\",\n",
    "        (4.512, 4.540) .* u\"μm\",\n",
    "        (4.641, 4.704) .* u\"μm\",\n",
    "        (5.047, 5.056) .* u\"μm\",\n",
    "        (5.135, 5.145) .* u\"μm\"\n",
    "    ],\n",
    "    # we will also do a line test to see if a 2nd velocity component is statistically significant; here \n",
    "    # we choose which lines will be tested for each kinematic group\n",
    "    line_test_lines=[[\"HeI_1083m\", \"HI_Pa_alpha\"], [\"ArVI_4529m\"], [\"MgVII_3027m\"]]\n",
    ")\n",
    "\n",
    "# Call the fit_cube! function on the cube_fitter object, using the aperture we defined.\n",
    "fit_cube!(cube_fitter, ap)"
   ]
  },
  {
   "attachments": {},
   "cell_type": "markdown",
   "id": "05295663",
   "metadata": {},
   "source": [
    "And the results can be found in the \"output_[run_name]\" directory, just like the other examples!  Here is what the fit looks like:\n",
    "\n",
    "![](./NGC7469.NIRSpecAll.aperture.png)\n",
    "\n",
    "The orange line shows the final model.  The decomposed components of the model consist of:\n",
    "- Thermal dust continuum and a power law, in gray\n",
    "- Hot dust emission, in light green\n",
    "- Emission lines, in purple\n",
    "- Extinction, in dotted gray (read from the right axis)\n",
    "\n",
    "The gray band(s) shows a masked out part of the spectrum -- this is due to NIRSpec's chip gaps.  There are three of them because this is combined data from 3 filters.\n",
    "\n",
    "We can also see the results of our line tests that determined whether multiple components were necessary.  As an example, here is Paschen alpha:\n",
    "\n",
    "![](./NGC7469.NIRSpecAll.linetest.png)\n"
   ]
  }
 ],
 "metadata": {
  "kernelspec": {
   "display_name": "Julia 1.10.9",
   "language": "julia",
   "name": "julia-1.10"
  },
  "language_info": {
   "file_extension": ".jl",
   "mimetype": "application/julia",
   "name": "julia",
   "version": "1.10.9"
  }
 },
 "nbformat": 4,
 "nbformat_minor": 5
}
