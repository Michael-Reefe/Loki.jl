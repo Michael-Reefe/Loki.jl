{
 "cells": [
  {
   "attachments": {},
   "cell_type": "markdown",
   "id": "faa40c44",
   "metadata": {},
   "source": [
    "# Likelihood Optimization of gas Kinematics in IFUs (LOKI)\n",
    "## Fitting example: Polynomials\n",
    "\n",
    "Michael Reefe\n",
    "\n",
    "This example notebook provides a quick tutorial on how to use the additive and multiplicative polynomial components in LOKI."
   ]
  },
  {
   "cell_type": "code",
   "execution_count": 1,
   "id": "323538a7",
   "metadata": {},
   "outputs": [
    {
     "name": "stderr",
     "output_type": "stream",
     "text": [
      "\u001b[32m\u001b[1m  Activating\u001b[22m\u001b[39m project at `~/Dropbox/Astrophysics/Phoenix_Cluster/Loki`\n"
     ]
    }
   ],
   "source": [
    "using Pkg\n",
    "Pkg.activate(dirname(@__DIR__))\n",
    "Pkg.instantiate()\n",
    "Pkg.precompile()\n",
    "\n",
    "using Loki"
   ]
  },
  {
   "attachments": {},
   "cell_type": "markdown",
   "id": "2862b182",
   "metadata": {},
   "source": [
    "Now we want to load in our data. For this example, we'll be using a far-ultraviolet spectrum of the Fornax Cluster BCG (NGC 1399) from FUSE. This spectrum has been background-subtracted, but the background is not perfect, so we will model residual background emission with an additive polynomial.  We'll also use multiplicative polynomials on the purely stellar continuum to account for any possible relative flux calibration offsets.\n",
    "\n",
    "Since this is not a JWST formatted data product, just like with the SDSS example notebook, there is no built-in functionality for LOKI to read its contents and convert it into a data format that it can work with.  This is also notably not an IFU data cube, but just a single spectrum.  This is fine, as we can effectively treat it as an IFU cube with spatial dimensions of 1x1.  We'll start by reading in the FITS file with Julia's `FITSIO` module and storing relevant information in arrays."
   ]
  },
  {
   "cell_type": "code",
   "execution_count": 2,
   "id": "08c04fee",
   "metadata": {},
   "outputs": [],
   "source": [
    "using FITSIO                    # for reading/writing FITS files\n",
    "using Unitful, UnitfulAstro     # to add units to the data"
   ]
  },
  {
   "cell_type": "code",
   "execution_count": 3,
   "id": "37630d63",
   "metadata": {},
   "outputs": [
    {
     "name": "stdout",
     "output_type": "stream",
     "text": [
      "Bad pixels: 72/1459\n"
     ]
    }
   ],
   "source": [
    "# Read in the FITS file and header\n",
    "hdu = FITS(\"abells0373-g1.final.fits.gz\")\n",
    "hdr0 = read_header(hdu[1])\n",
    "hdr = read_header(hdu[\"SPECTRUM\"])\n",
    "\n",
    "# Wavelength vector (angstrom)\n",
    "λ = read(hdu[\"SPECTRUM\"], \"WAVE\") .* u\"angstrom\"\n",
    "\n",
    "# Flux - background (erg/s/cm^2/ang)\n",
    "F = (read(hdu[\"SPECTRUM\"], \"FLUX\") .- read(hdu[\"SPECTRUM\"], \"BKGD\")) .* u\"erg/s/cm^2/angstrom\"\n",
    "# Reshape to a 1 x 1 x (n_wavelength) cube\n",
    "F = reshape(F, (1,1,length(F))) \n",
    "\n",
    "# Error cube (erg/s/cm^2/ang)\n",
    "eF = read(hdu[\"SPECTRUM\"], \"ERROR\") .* u\"erg/s/cm^2/angstrom\"\n",
    "# Reshape to a 1 x 1 x (n_wavelength) cube\n",
    "eF = reshape(eF, (1,1,length(eF)))\n",
    "\n",
    "# Bad pixel mask \n",
    "mask = read(hdu[\"SPECTRUM\"], \"QUALITY\") .!= 100.0\n",
    "mask .|= .~isfinite.(F[1,1,:]) .| .~isfinite.(eF[1,1,:])\n",
    "mask = reshape(mask, (1,1,length(mask)))\n",
    "\n",
    "# Auxiliary information\n",
    "z = 0.004753\n",
    "ra = hdr0[\"RA_TARG\"]\n",
    "dec = hdr0[\"DEC_TARG\"]\n",
    "\n",
    "# Switches\n",
    "rest_frame = false    # the input spectrum is not in the rest frame\n",
    "masked = false        # the bad pixel mask has not been applied (i.e. bad pixels are still in the spectrum)\n",
    "vacuum_wave = true    # the wavelengths provided are in vacuum wavelengths (SDSS spectra already come in vacuum wavelengths)\n",
    "dereddened = false    # the spectrum has not been corrected for Milky Way dust absorption along the line of sight\n",
    "log_binned = false    # the input wavelength vector is logarithmically spaced\n",
    "sky_aligned = true    # this parameter only makes sense for a full IFU cube -- if true, the input cube has x/y axes aligned with\n",
    "                      # the RA/Dec axes on the sky, otherwise, it may have any arbitrary orientation\n",
    "\n",
    "# Since LOKI works in intensities rather than fluxes, we need the solid angle covered\n",
    "# by each pixel in the input data cube.  Since we only have a single spectrum here,\n",
    "# we take the solid angle as that which is covered by the FUSE aperture, which have a\n",
    "# size of 30\" x 30\"\n",
    "Ω = uconvert(u\"sr\", (30.0u\"arcsecond\")^2)\n",
    "\n",
    "# Then we convert the fluxes into intensities\n",
    "I = F ./ Ω\n",
    "σ = eF ./ Ω\n",
    "\n",
    "# We also need some measurements of the *spectral* and *spatial* resolutions of the input cube.\n",
    "\n",
    "# Again, in our case since there is only 1 \"pixel\", we don't really have a concept of spatial resolution. So we'll\n",
    "# just assume here that the spatial resolution is equal to the size of the aperture:\n",
    "psf_fwhm = uconvert(u\"arcsecond\", sqrt(Ω))\n",
    "\n",
    "# For the spectral resolution, FUSE nominally has a really high resolution of ~15 km/s or R ~ 20,000\n",
    "R = 20000. .* ones(length(λ))\n",
    "\n",
    "println(\"Bad pixels: $(sum(mask))/$(length(λ))\")\n",
    "\n",
    "# Close the FITS file\n",
    "close(hdu)"
   ]
  },
  {
   "cell_type": "code",
   "execution_count": 4,
   "id": "59e2ec29",
   "metadata": {},
   "outputs": [
    {
     "name": "stdout",
     "output_type": "stream",
     "text": [
      "\u001b[33m\u001b[1m┌ \u001b[22m\u001b[39m\u001b[33m\u001b[1mWarning: \u001b[22m\u001b[39mThe DataCube format is not JWST! Please manually input the channel edges (if any), otherwise it will be assumed that there is only one channel\n",
      "\u001b[33m\u001b[1m└ \u001b[22m\u001b[39m\u001b[90m@ Loki ~/Dropbox/Astrophysics/Phoenix_Cluster/Loki/src/core/cubedata.jl:635\u001b[39m\n"
     ]
    },
    {
     "data": {
      "text/plain": [
       "Observation(Dict{Any, DataCube}(0 => DataCube{Vector{Quantity{Float64, 𝐋, Unitful.FreeUnits{(Å,), 𝐋, nothing}}}, Array{Quantity{Float64, 𝐌 𝐋⁻¹ 𝐓⁻³, Unitful.FreeUnits{(Å⁻¹, erg, cm⁻², s⁻¹, sr⁻¹), 𝐌 𝐋⁻¹ 𝐓⁻³, nothing}}, 3}}(Quantity{Float64, 𝐋, Unitful.FreeUnits{(Å,), 𝐋, nothing}}[904.2899780273438 Å, 904.4849853515625 Å, 904.6799926757812 Å, 904.875 Å, 905.0700073242188 Å, 905.2650146484375 Å, 905.4600219726562 Å, 905.655029296875 Å, 905.8499755859375 Å, 906.0449829101562 Å  …  1186.6629638671875 Å, 1186.8580322265625 Å, 1187.052978515625 Å, 1187.248046875 Å, 1187.4429931640625 Å, 1187.637939453125 Å, 1187.8330078125 Å, 1188.0279541015625 Å, 1188.2230224609375 Å, 1188.41796875 Å], Quantity{Float64, 𝐌 𝐋⁻¹ 𝐓⁻³, Unitful.FreeUnits{(Å⁻¹, erg, cm⁻², s⁻¹, sr⁻¹), 𝐌 𝐋⁻¹ 𝐓⁻³, nothing}}[4.097816007256042e-7 erg Å⁻¹ cm⁻² s⁻¹ sr⁻¹;;; -3.9421058412359453e-7 erg Å⁻¹ cm⁻² s⁻¹ sr⁻¹;;; -2.2729045855902156e-7 erg Å⁻¹ cm⁻² s⁻¹ sr⁻¹;;; … ;;; 1.542694483733691e-6 erg Å⁻¹ cm⁻² s⁻¹ sr⁻¹;;; 1.3852290677257685e-6 erg Å⁻¹ cm⁻² s⁻¹ sr⁻¹;;; 1.24275118664218e-6 erg Å⁻¹ cm⁻² s⁻¹ sr⁻¹], Quantity{Float64, 𝐌 𝐋⁻¹ 𝐓⁻³, Unitful.FreeUnits{(Å⁻¹, erg, cm⁻², s⁻¹, sr⁻¹), 𝐌 𝐋⁻¹ 𝐓⁻³, nothing}}[1.614584936104847e-7 erg Å⁻¹ cm⁻² s⁻¹ sr⁻¹;;; 1.614584936104847e-7 erg Å⁻¹ cm⁻² s⁻¹ sr⁻¹;;; 1.614584936104847e-7 erg Å⁻¹ cm⁻² s⁻¹ sr⁻¹;;; … ;;; 1.614584936104847e-7 erg Å⁻¹ cm⁻² s⁻¹ sr⁻¹;;; 1.614584936104847e-7 erg Å⁻¹ cm⁻² s⁻¹ sr⁻¹;;; 1.614584936104847e-7 erg Å⁻¹ cm⁻² s⁻¹ sr⁻¹], Bool[0;;; 0;;; 0;;; … ;;; 0;;; 0;;; 0], nothing, 2.1153987485188093e-8 sr, 54.622083°, -35.450278°, 0.0 rad, Quantity{Float64, NoDims, Unitful.FreeUnits{(″,), NoDims, nothing}}[30.0 ″, 30.0 ″, 30.0 ″, 30.0 ″, 30.0 ″, 30.0 ″, 30.0 ″, 30.0 ″, 30.0 ″, 30.0 ″  …  30.0 ″, 30.0 ″, 30.0 ″, 30.0 ″, 30.0 ″, 30.0 ″, 30.0 ″, 30.0 ″, 30.0 ″, 30.0 ″], Quantity{Float64, 𝐋 𝐓⁻¹, Unitful.FreeUnits{(km, s⁻¹), 𝐋 𝐓⁻¹, nothing}}[14.989622899999999 km s⁻¹, 14.989622899999999 km s⁻¹, 14.989622899999999 km s⁻¹, 14.989622899999999 km s⁻¹, 14.989622899999999 km s⁻¹, 14.989622899999999 km s⁻¹, 14.989622899999999 km s⁻¹, 14.989622899999999 km s⁻¹, 14.989622899999999 km s⁻¹, 14.989622899999999 km s⁻¹  …  14.989622899999999 km s⁻¹, 14.989622899999999 km s⁻¹, 14.989622899999999 km s⁻¹, 14.989622899999999 km s⁻¹, 14.989622899999999 km s⁻¹, 14.989622899999999 km s⁻¹, 14.989622899999999 km s⁻¹, 14.989622899999999 km s⁻¹, 14.989622899999999 km s⁻¹, 14.989622899999999 km s⁻¹], WCSTransform(naxis=3,cdelt=[0.008333333333333333, 0.008333333333333333, 1.0],crval=[54.622083, -35.450278, 1.0],crpix=[1.0, 1.0, 1.0]), \"Generic Channel\", \"Generic Band\", 1, 1, 1459, Loki.SpectralRegion{Quantity{Float64, 𝐋, Unitful.FreeUnits{(Å,), 𝐋, nothing}}}((900.0122199459407 Å, 1182.7961387027458 Å), Tuple{Quantity{Float64, 𝐋, Unitful.FreeUnits{(Å,), 𝐋, nothing}}, Quantity{Float64, 𝐋, Unitful.FreeUnits{(Å,), 𝐋, nothing}}}[], 1, BitVector[[1, 1, 1, 1, 1, 1, 1, 1, 1, 1  …  1, 1, 1, 1, 1, 1, 1, 1, 1, 1]], Quantity{Float64, 𝐋, Unitful.FreeUnits{(Å,), 𝐋, nothing}}[], Tuple{Quantity{Float64, 𝐋, Unitful.FreeUnits{(Å,), 𝐋, nothing}}, Quantity{Float64, 𝐋, Unitful.FreeUnits{(Å,), 𝐋, nothing}}}[], Loki.UVOptical), false, false, true, false, false, true, nothing)), \"abells0373\", 0.004753, 54.622083°, -35.450278°, \"FUSE\", false, false, true, false, false, true)"
      ]
     },
     "metadata": {},
     "output_type": "display_data"
    }
   ],
   "source": [
    "# Create a LOKI Cube object\n",
    "cube = from_data(Ω, z, λ, I; α=ra, δ=dec, psf_fwhm=psf_fwhm, R=R, wcs=nothing, psf_model=nothing,\n",
    "                 rest_frame=rest_frame, masked=masked, vacuum_wave=vacuum_wave, dereddened=dereddened, sky_aligned=sky_aligned, log_binned=log_binned)\n",
    "# Create an Observation object\n",
    "obs = from_cubes(\"abells0373\", z, [cube], [0], inst=\"FUSE\")"
   ]
  },
  {
   "cell_type": "code",
   "execution_count": 5,
   "id": "8f602574",
   "metadata": {},
   "outputs": [
    {
     "data": {
      "text/plain": [
       "\"NGC1399_example\""
      ]
     },
     "metadata": {},
     "output_type": "display_data"
    }
   ],
   "source": [
    "channel = 0  # (this is just used as a dummy value when the instrument doesn't have distinct spectral channels)\n",
    "nm = \"NGC1399\"\n",
    "run_name = \"$(nm)_example\""
   ]
  },
  {
   "attachments": {},
   "cell_type": "markdown",
   "id": "4f793d58",
   "metadata": {},
   "source": [
    "Before fitting, we want to do some pre-processing on the data, just like in the MIRI example.  Exactly which pre-processing steps are performed are largely controlled by the boolean parameters listed above when creating the Cube object (i.e. `rest_frame`, `masked`, `vacuum_wave`, `dereddened`, `log_binned`, and `sky_aligned`). The corrections are actually carried out by calling the `correct!` function.  This is also where we could combine data from multiple channels into a single cube, if desired, using the `combine_channels!` function, but in this quick example we only have one sub-channel."
   ]
  },
  {
   "cell_type": "code",
   "execution_count": 6,
   "id": "3dfbae1c",
   "metadata": {},
   "outputs": [
    {
     "name": "stdout",
     "output_type": "stream",
     "text": [
      "\n",
      "new_wave contains values outside the range in old_wave, new_fluxes and new_errs will be filled with the value set in the 'fill' keyword argument. \n",
      "\n",
      "\u001b[36m\u001b[1m[ \u001b[22m\u001b[39m\u001b[36m\u001b[1mInfo: \u001b[22m\u001b[39mUsing SFD98 dust map at (α=54.622083°, δ=-35.450278°): E(B-V)=0.012660949453254057\n",
      "\u001b[33m\u001b[1m┌ \u001b[22m\u001b[39m\u001b[33m\u001b[1mWarning: \u001b[22m\u001b[39mInput wavelength vector has values outside the allowable range of 1/λ > 11. Returning ones.\n",
      "\u001b[33m\u001b[1m└ \u001b[22m\u001b[39m\u001b[90m@ Loki ~/Dropbox/Astrophysics/Phoenix_Cluster/Loki/src/util/math.jl:932\u001b[39m\n",
      "\u001b[33m\u001b[1m┌ \u001b[22m\u001b[39m\u001b[33m\u001b[1mWarning: \u001b[22m\u001b[39mInput wavelength vector has values outside the allowable range of 1/λ > 11. Returning ones.\n",
      "\u001b[33m\u001b[1m└ \u001b[22m\u001b[39m\u001b[90m@ Loki ~/Dropbox/Astrophysics/Phoenix_Cluster/Loki/src/util/math.jl:932\u001b[39m\n",
      "\u001b[33m\u001b[1m┌ \u001b[22m\u001b[39m\u001b[33m\u001b[1mWarning: \u001b[22m\u001b[39mInput wavelength vector has values outside the allowable range of 1/λ > 11. Returning ones.\n",
      "\u001b[33m\u001b[1m└ \u001b[22m\u001b[39m\u001b[90m@ Loki ~/Dropbox/Astrophysics/Phoenix_Cluster/Loki/src/util/math.jl:932\u001b[39m\n",
      "\u001b[33m\u001b[1m┌ \u001b[22m\u001b[39m\u001b[33m\u001b[1mWarning: \u001b[22m\u001b[39mInput wavelength vector has values outside the allowable range of 1/λ > 11. Returning ones.\n",
      "\u001b[33m\u001b[1m└ \u001b[22m\u001b[39m\u001b[90m@ Loki ~/Dropbox/Astrophysics/Phoenix_Cluster/Loki/src/util/math.jl:932\u001b[39m\n",
      "\u001b[33m\u001b[1m┌ \u001b[22m\u001b[39m\u001b[33m\u001b[1mWarning: \u001b[22m\u001b[39mInput wavelength vector has values outside the allowable range of 1/λ > 11. Returning ones.\n",
      "\u001b[33m\u001b[1m└ \u001b[22m\u001b[39m\u001b[90m@ Loki ~/Dropbox/Astrophysics/Phoenix_Cluster/Loki/src/util/math.jl:932\u001b[39m\n",
      "\u001b[33m\u001b[1m┌ \u001b[22m\u001b[39m\u001b[33m\u001b[1mWarning: \u001b[22m\u001b[39mInput wavelength vector has values outside the allowable range of 1/λ > 11. Returning ones.\n",
      "\u001b[33m\u001b[1m└ \u001b[22m\u001b[39m\u001b[90m@ Loki ~/Dropbox/Astrophysics/Phoenix_Cluster/Loki/src/util/math.jl:932\u001b[39m\n",
      "\u001b[33m\u001b[1m┌ \u001b[22m\u001b[39m\u001b[33m\u001b[1mWarning: \u001b[22m\u001b[39mInput wavelength vector has values outside the allowable range of 1/λ > 11. Returning ones.\n",
      "\u001b[33m\u001b[1m└ \u001b[22m\u001b[39m\u001b[90m@ Loki ~/Dropbox/Astrophysics/Phoenix_Cluster/Loki/src/util/math.jl:932\u001b[39m\n",
      "\u001b[33m\u001b[1m┌ \u001b[22m\u001b[39m\u001b[33m\u001b[1mWarning: \u001b[22m\u001b[39mInput wavelength vector has values outside the allowable range of 1/λ > 11. Returning ones.\n",
      "\u001b[33m\u001b[1m└ \u001b[22m\u001b[39m\u001b[90m@ Loki ~/Dropbox/Astrophysics/Phoenix_Cluster/Loki/src/util/math.jl:932\u001b[39m\n",
      "\u001b[33m\u001b[1m┌ \u001b[22m\u001b[39m\u001b[33m\u001b[1mWarning: \u001b[22m\u001b[39mInput wavelength vector has values outside the allowable range of 1/λ > 11. Returning ones.\n",
      "\u001b[33m\u001b[1m└ \u001b[22m\u001b[39m\u001b[90m@ Loki ~/Dropbox/Astrophysics/Phoenix_Cluster/Loki/src/util/math.jl:932\u001b[39m\n",
      "\u001b[33m\u001b[1m┌ \u001b[22m\u001b[39m\u001b[33m\u001b[1mWarning: \u001b[22m\u001b[39mInput wavelength vector has values outside the allowable range of 1/λ > 11. Returning ones.\n",
      "\u001b[33m\u001b[1m└ \u001b[22m\u001b[39m\u001b[90m@ Loki ~/Dropbox/Astrophysics/Phoenix_Cluster/Loki/src/util/math.jl:932\u001b[39m\n",
      "\u001b[33m\u001b[1m┌ \u001b[22m\u001b[39m\u001b[33m\u001b[1mWarning: \u001b[22m\u001b[39mInput wavelength vector has values outside the allowable range of 1/λ > 11. Returning ones.\n",
      "\u001b[33m\u001b[1m└ \u001b[22m\u001b[39m\u001b[90m@ Loki ~/Dropbox/Astrophysics/Phoenix_Cluster/Loki/src/util/math.jl:932\u001b[39m\n",
      "\u001b[33m\u001b[1m┌ \u001b[22m\u001b[39m\u001b[33m\u001b[1mWarning: \u001b[22m\u001b[39mInput wavelength vector has values outside the allowable range of 1/λ > 11. Returning ones.\n",
      "\u001b[33m\u001b[1m└ \u001b[22m\u001b[39m\u001b[90m@ Loki ~/Dropbox/Astrophysics/Phoenix_Cluster/Loki/src/util/math.jl:932\u001b[39m\n",
      "\u001b[33m\u001b[1m┌ \u001b[22m\u001b[39m\u001b[33m\u001b[1mWarning: \u001b[22m\u001b[39mInput wavelength vector has values outside the allowable range of 1/λ > 11. Returning ones.\n",
      "\u001b[33m\u001b[1m└ \u001b[22m\u001b[39m\u001b[90m@ Loki ~/Dropbox/Astrophysics/Phoenix_Cluster/Loki/src/util/math.jl:932\u001b[39m\n",
      "\u001b[33m\u001b[1m┌ \u001b[22m\u001b[39m\u001b[33m\u001b[1mWarning: \u001b[22m\u001b[39mInput wavelength vector has values outside the allowable range of 1/λ > 11. Returning ones.\n",
      "\u001b[33m\u001b[1m└ \u001b[22m\u001b[39m\u001b[90m@ Loki ~/Dropbox/Astrophysics/Phoenix_Cluster/Loki/src/util/math.jl:932\u001b[39m\n",
      "\u001b[33m\u001b[1m┌ \u001b[22m\u001b[39m\u001b[33m\u001b[1mWarning: \u001b[22m\u001b[39mInput wavelength vector has values outside the allowable range of 1/λ > 11. Returning ones.\n",
      "\u001b[33m\u001b[1m└ \u001b[22m\u001b[39m\u001b[90m@ Loki ~/Dropbox/Astrophysics/Phoenix_Cluster/Loki/src/util/math.jl:932\u001b[39m\n",
      "\u001b[33m\u001b[1m┌ \u001b[22m\u001b[39m\u001b[33m\u001b[1mWarning: \u001b[22m\u001b[39mInput wavelength vector has values outside the allowable range of 1/λ > 11. Returning ones.\n",
      "\u001b[33m\u001b[1m└ \u001b[22m\u001b[39m\u001b[90m@ Loki ~/Dropbox/Astrophysics/Phoenix_Cluster/Loki/src/util/math.jl:932\u001b[39m\n",
      "\u001b[33m\u001b[1m┌ \u001b[22m\u001b[39m\u001b[33m\u001b[1mWarning: \u001b[22m\u001b[39mInput wavelength vector has values outside the allowable range of 1/λ > 11. Returning ones.\n",
      "\u001b[33m\u001b[1m└ \u001b[22m\u001b[39m\u001b[90m@ Loki ~/Dropbox/Astrophysics/Phoenix_Cluster/Loki/src/util/math.jl:932\u001b[39m\n",
      "\u001b[33m\u001b[1m┌ \u001b[22m\u001b[39m\u001b[33m\u001b[1mWarning: \u001b[22m\u001b[39mInput wavelength vector has values outside the allowable range of 1/λ > 11. Returning ones.\n",
      "\u001b[33m\u001b[1m└ \u001b[22m\u001b[39m\u001b[90m@ Loki ~/Dropbox/Astrophysics/Phoenix_Cluster/Loki/src/util/math.jl:932\u001b[39m\n",
      "\u001b[33m\u001b[1m┌ \u001b[22m\u001b[39m\u001b[33m\u001b[1mWarning: \u001b[22m\u001b[39mInput wavelength vector has values outside the allowable range of 1/λ > 11. Returning ones.\n",
      "\u001b[33m\u001b[1m└ \u001b[22m\u001b[39m\u001b[90m@ Loki ~/Dropbox/Astrophysics/Phoenix_Cluster/Loki/src/util/math.jl:932\u001b[39m\n",
      "\u001b[33m\u001b[1m┌ \u001b[22m\u001b[39m\u001b[33m\u001b[1mWarning: \u001b[22m\u001b[39mInput wavelength vector has values outside the allowable range of 1/λ > 11. Returning ones.\n",
      "\u001b[33m\u001b[1m└ \u001b[22m\u001b[39m\u001b[90m@ Loki ~/Dropbox/Astrophysics/Phoenix_Cluster/Loki/src/util/math.jl:932\u001b[39m\n",
      "\u001b[33m\u001b[1m┌ \u001b[22m\u001b[39m\u001b[33m\u001b[1mWarning: \u001b[22m\u001b[39mInput wavelength vector has values outside the allowable range of 1/λ > 11. Returning ones.\n",
      "\u001b[33m\u001b[1m└ \u001b[22m\u001b[39m\u001b[90m@ Loki ~/Dropbox/Astrophysics/Phoenix_Cluster/Loki/src/util/math.jl:932\u001b[39m\n",
      "\u001b[33m\u001b[1m┌ \u001b[22m\u001b[39m\u001b[33m\u001b[1mWarning: \u001b[22m\u001b[39mInput wavelength vector has values outside the allowable range of 1/λ > 11. Returning ones.\n",
      "\u001b[33m\u001b[1m└ \u001b[22m\u001b[39m\u001b[90m@ Loki ~/Dropbox/Astrophysics/Phoenix_Cluster/Loki/src/util/math.jl:932\u001b[39m\n",
      "\u001b[33m\u001b[1m┌ \u001b[22m\u001b[39m\u001b[33m\u001b[1mWarning: \u001b[22m\u001b[39mInput wavelength vector has values outside the allowable range of 1/λ > 11. Returning ones.\n",
      "\u001b[33m\u001b[1m└ \u001b[22m\u001b[39m\u001b[90m@ Loki ~/Dropbox/Astrophysics/Phoenix_Cluster/Loki/src/util/math.jl:932\u001b[39m\n",
      "\u001b[33m\u001b[1m┌ \u001b[22m\u001b[39m\u001b[33m\u001b[1mWarning: \u001b[22m\u001b[39mInput wavelength vector has values outside the allowable range of 1/λ > 11. Returning ones.\n",
      "\u001b[33m\u001b[1m└ \u001b[22m\u001b[39m\u001b[90m@ Loki ~/Dropbox/Astrophysics/Phoenix_Cluster/Loki/src/util/math.jl:932\u001b[39m\n",
      "\u001b[33m\u001b[1m┌ \u001b[22m\u001b[39m\u001b[33m\u001b[1mWarning: \u001b[22m\u001b[39mInput wavelength vector has values outside the allowable range of 1/λ > 11. Returning ones.\n",
      "\u001b[33m\u001b[1m└ \u001b[22m\u001b[39m\u001b[90m@ Loki ~/Dropbox/Astrophysics/Phoenix_Cluster/Loki/src/util/math.jl:932\u001b[39m\n",
      "\u001b[33m\u001b[1m┌ \u001b[22m\u001b[39m\u001b[33m\u001b[1mWarning: \u001b[22m\u001b[39mInput wavelength vector has values outside the allowable range of 1/λ > 11. Returning ones.\n",
      "\u001b[33m\u001b[1m└ \u001b[22m\u001b[39m\u001b[90m@ Loki ~/Dropbox/Astrophysics/Phoenix_Cluster/Loki/src/util/math.jl:932\u001b[39m\n",
      "\u001b[33m\u001b[1m┌ \u001b[22m\u001b[39m\u001b[33m\u001b[1mWarning: \u001b[22m\u001b[39mInput wavelength vector has values outside the allowable range of 1/λ > 11. Returning ones.\n",
      "\u001b[33m\u001b[1m└ \u001b[22m\u001b[39m\u001b[90m@ Loki ~/Dropbox/Astrophysics/Phoenix_Cluster/Loki/src/util/math.jl:932\u001b[39m\n",
      "\u001b[33m\u001b[1m┌ \u001b[22m\u001b[39m\u001b[33m\u001b[1mWarning: \u001b[22m\u001b[39mInput wavelength vector has values outside the allowable range of 1/λ > 11. Returning ones.\n",
      "\u001b[33m\u001b[1m└ \u001b[22m\u001b[39m\u001b[90m@ Loki ~/Dropbox/Astrophysics/Phoenix_Cluster/Loki/src/util/math.jl:932\u001b[39m\n",
      "\u001b[33m\u001b[1m┌ \u001b[22m\u001b[39m\u001b[33m\u001b[1mWarning: \u001b[22m\u001b[39mInput wavelength vector has values outside the allowable range of 1/λ > 11. Returning ones.\n",
      "\u001b[33m\u001b[1m└ \u001b[22m\u001b[39m\u001b[90m@ Loki ~/Dropbox/Astrophysics/Phoenix_Cluster/Loki/src/util/math.jl:932\u001b[39m\n",
      "\u001b[33m\u001b[1m┌ \u001b[22m\u001b[39m\u001b[33m\u001b[1mWarning: \u001b[22m\u001b[39mInput wavelength vector has values outside the allowable range of 1/λ > 11. Returning ones.\n",
      "\u001b[33m\u001b[1m└ \u001b[22m\u001b[39m\u001b[90m@ Loki ~/Dropbox/Astrophysics/Phoenix_Cluster/Loki/src/util/math.jl:932\u001b[39m\n",
      "\u001b[33m\u001b[1m┌ \u001b[22m\u001b[39m\u001b[33m\u001b[1mWarning: \u001b[22m\u001b[39mInput wavelength vector has values outside the allowable range of 1/λ > 11. Returning ones.\n",
      "\u001b[33m\u001b[1m└ \u001b[22m\u001b[39m\u001b[90m@ Loki ~/Dropbox/Astrophysics/Phoenix_Cluster/Loki/src/util/math.jl:932\u001b[39m\n",
      "\u001b[33m\u001b[1m┌ \u001b[22m\u001b[39m\u001b[33m\u001b[1mWarning: \u001b[22m\u001b[39mInput wavelength vector has values outside the allowable range of 1/λ > 11. Returning ones.\n",
      "\u001b[33m\u001b[1m└ \u001b[22m\u001b[39m\u001b[90m@ Loki ~/Dropbox/Astrophysics/Phoenix_Cluster/Loki/src/util/math.jl:932\u001b[39m\n",
      "\u001b[33m\u001b[1m┌ \u001b[22m\u001b[39m\u001b[33m\u001b[1mWarning: \u001b[22m\u001b[39mInput wavelength vector has values outside the allowable range of 1/λ > 11. Returning ones.\n",
      "\u001b[33m\u001b[1m└ \u001b[22m\u001b[39m\u001b[90m@ Loki ~/Dropbox/Astrophysics/Phoenix_Cluster/Loki/src/util/math.jl:932\u001b[39m\n",
      "\u001b[33m\u001b[1m┌ \u001b[22m\u001b[39m\u001b[33m\u001b[1mWarning: \u001b[22m\u001b[39mInput wavelength vector has values outside the allowable range of 1/λ > 11. Returning ones.\n",
      "\u001b[33m\u001b[1m└ \u001b[22m\u001b[39m\u001b[90m@ Loki ~/Dropbox/Astrophysics/Phoenix_Cluster/Loki/src/util/math.jl:932\u001b[39m\n",
      "\u001b[33m\u001b[1m┌ \u001b[22m\u001b[39m\u001b[33m\u001b[1mWarning: \u001b[22m\u001b[39mInput wavelength vector has values outside the allowable range of 1/λ > 11. Returning ones.\n",
      "\u001b[33m\u001b[1m└ \u001b[22m\u001b[39m\u001b[90m@ Loki ~/Dropbox/Astrophysics/Phoenix_Cluster/Loki/src/util/math.jl:932\u001b[39m\n",
      "\u001b[33m\u001b[1m┌ \u001b[22m\u001b[39m\u001b[33m\u001b[1mWarning: \u001b[22m\u001b[39mInput wavelength vector has values outside the allowable range of 1/λ > 11. Returning ones.\n",
      "\u001b[33m\u001b[1m└ \u001b[22m\u001b[39m\u001b[90m@ Loki ~/Dropbox/Astrophysics/Phoenix_Cluster/Loki/src/util/math.jl:932\u001b[39m\n",
      "\u001b[33m\u001b[1m┌ \u001b[22m\u001b[39m\u001b[33m\u001b[1mWarning: \u001b[22m\u001b[39mInput wavelength vector has values outside the allowable range of 1/λ > 11. Returning ones.\n",
      "\u001b[33m\u001b[1m└ \u001b[22m\u001b[39m\u001b[90m@ Loki ~/Dropbox/Astrophysics/Phoenix_Cluster/Loki/src/util/math.jl:932\u001b[39m\n",
      "\u001b[33m\u001b[1m┌ \u001b[22m\u001b[39m\u001b[33m\u001b[1mWarning: \u001b[22m\u001b[39mInput wavelength vector has values outside the allowable range of 1/λ > 11. Returning ones.\n",
      "\u001b[33m\u001b[1m└ \u001b[22m\u001b[39m\u001b[90m@ Loki ~/Dropbox/Astrophysics/Phoenix_Cluster/Loki/src/util/math.jl:932\u001b[39m\n",
      "\u001b[33m\u001b[1m┌ \u001b[22m\u001b[39m\u001b[33m\u001b[1mWarning: \u001b[22m\u001b[39mInput wavelength vector has values outside the allowable range of 1/λ > 11. Returning ones.\n",
      "\u001b[33m\u001b[1m└ \u001b[22m\u001b[39m\u001b[90m@ Loki ~/Dropbox/Astrophysics/Phoenix_Cluster/Loki/src/util/math.jl:932\u001b[39m\n",
      "\u001b[33m\u001b[1m┌ \u001b[22m\u001b[39m\u001b[33m\u001b[1mWarning: \u001b[22m\u001b[39mInput wavelength vector has values outside the allowable range of 1/λ > 11. Returning ones.\n",
      "\u001b[33m\u001b[1m└ \u001b[22m\u001b[39m\u001b[90m@ Loki ~/Dropbox/Astrophysics/Phoenix_Cluster/Loki/src/util/math.jl:932\u001b[39m\n",
      "\u001b[33m\u001b[1m┌ \u001b[22m\u001b[39m\u001b[33m\u001b[1mWarning: \u001b[22m\u001b[39mInput wavelength vector has values outside the allowable range of 1/λ > 11. Returning ones.\n",
      "\u001b[33m\u001b[1m└ \u001b[22m\u001b[39m\u001b[90m@ Loki ~/Dropbox/Astrophysics/Phoenix_Cluster/Loki/src/util/math.jl:932\u001b[39m\n",
      "\u001b[33m\u001b[1m┌ \u001b[22m\u001b[39m\u001b[33m\u001b[1mWarning: \u001b[22m\u001b[39mInput wavelength vector has values outside the allowable range of 1/λ > 11. Returning ones.\n",
      "\u001b[33m\u001b[1m└ \u001b[22m\u001b[39m\u001b[90m@ Loki ~/Dropbox/Astrophysics/Phoenix_Cluster/Loki/src/util/math.jl:932\u001b[39m\n",
      "\u001b[33m\u001b[1m┌ \u001b[22m\u001b[39m\u001b[33m\u001b[1mWarning: \u001b[22m\u001b[39mInput wavelength vector has values outside the allowable range of 1/λ > 11. Returning ones.\n",
      "\u001b[33m\u001b[1m└ \u001b[22m\u001b[39m\u001b[90m@ Loki ~/Dropbox/Astrophysics/Phoenix_Cluster/Loki/src/util/math.jl:932\u001b[39m\n",
      "\u001b[33m\u001b[1m┌ \u001b[22m\u001b[39m\u001b[33m\u001b[1mWarning: \u001b[22m\u001b[39mInput wavelength vector has values outside the allowable range of 1/λ > 11. Returning ones.\n",
      "\u001b[33m\u001b[1m└ \u001b[22m\u001b[39m\u001b[90m@ Loki ~/Dropbox/Astrophysics/Phoenix_Cluster/Loki/src/util/math.jl:932\u001b[39m\n",
      "\u001b[33m\u001b[1m┌ \u001b[22m\u001b[39m\u001b[33m\u001b[1mWarning: \u001b[22m\u001b[39mInput wavelength vector has values outside the allowable range of 1/λ > 11. Returning ones.\n",
      "\u001b[33m\u001b[1m└ \u001b[22m\u001b[39m\u001b[90m@ Loki ~/Dropbox/Astrophysics/Phoenix_Cluster/Loki/src/util/math.jl:932\u001b[39m\n",
      "\u001b[33m\u001b[1m┌ \u001b[22m\u001b[39m\u001b[33m\u001b[1mWarning: \u001b[22m\u001b[39mInput wavelength vector has values outside the allowable range of 1/λ > 11. Returning ones.\n",
      "\u001b[33m\u001b[1m└ \u001b[22m\u001b[39m\u001b[90m@ Loki ~/Dropbox/Astrophysics/Phoenix_Cluster/Loki/src/util/math.jl:932\u001b[39m\n",
      "\u001b[33m\u001b[1m┌ \u001b[22m\u001b[39m\u001b[33m\u001b[1mWarning: \u001b[22m\u001b[39mInput wavelength vector has values outside the allowable range of 1/λ > 11. Returning ones.\n",
      "\u001b[33m\u001b[1m└ \u001b[22m\u001b[39m\u001b[90m@ Loki ~/Dropbox/Astrophysics/Phoenix_Cluster/Loki/src/util/math.jl:932\u001b[39m\n",
      "\u001b[36m\u001b[1m[ \u001b[22m\u001b[39m\u001b[36m\u001b[1mInfo: \u001b[22m\u001b[39mInterpolating NaNs in cube with channel Generic Channel, band Generic Band:\n",
      "\u001b[36m\u001b[1m[ \u001b[22m\u001b[39m\u001b[36m\u001b[1mInfo: \u001b[22m\u001b[39mCalculating statistical errors for each spaxel...\n",
      "\u001b[36m\u001b[1m[ \u001b[22m\u001b[39m\u001b[36m\u001b[1mInfo: \u001b[22m\u001b[39mWriting FITS file from Observation object\n"
     ]
    }
   ],
   "source": [
    "if isfile(\"$nm.channel$channel.rest_frame.fits\")\n",
    "    # If we've already performed this step in a previous run, just load in the pre-processed data\n",
    "    obs = from_fits([\"$nm.channel$channel.rest_frame.fits\"], obs.z);\n",
    "    \n",
    "else\n",
    "    # Convert to rest-frame wavelength vector, and mask out bad spaxels\n",
    "    correct!(obs)\n",
    "    \n",
    "    # We interpolate any rogue NaNs using a linear interpolation, since the MPFIT minimizer does not handle NaNs well.\n",
    "    interpolate_nans!(obs.channels[channel])\n",
    "\n",
    "    # Finally, we calculate the statistical errors (i.e. the standard deviation of the residuals with a cubic spline fit)\n",
    "    # and replace the errors in the cube with these, since the provided errors are typically underestimated.\n",
    "    # You can skip this step if you wish to use the default errors.\n",
    "    calculate_statistical_errors!(obs.channels[channel])\n",
    "    \n",
    "    # Save the pre-processed data as a FITS file so it can be quickly reloaded later\n",
    "    save_fits(\".\", obs, [channel]);\n",
    "end"
   ]
  },
  {
   "attachments": {},
   "cell_type": "markdown",
   "id": "baaa4ddb",
   "metadata": {},
   "source": [
    "Finally, we create the `CubeFitter` object and call the `fit_cube!` function to fit the data, same as with the MIRI example, but without an aperture argument since there is only one spaxel anyways.\n",
    "\n",
    "\\*\\*\\*IMPORTANT\\*\\*\\*: Since this is a far-UV spectrum, we need to include young, hot stars in the stellar continuum, which are not included by default.  If you want your fit to look like my example plot below, you'll need to go into the options.toml configuration file, find the \"[starts.teff]\" option, and adjust to min=10000 K and max=250000 K.  I also adjusted \"[stars.logg]\" to min=-0.5 and max=+9.0.  If you want to speed up the fitting, you can try limiting the number of stellar templates by restricting \"[stars.logz]\" to min=-1.0 and max=-1.0, which shouldn't have a drastic effect on the final results."
   ]
  },
  {
   "cell_type": "code",
   "execution_count": null,
   "id": "de75b965",
   "metadata": {},
   "outputs": [
    {
     "name": "stdout",
     "output_type": "stream",
     "text": [
      "\u001b[36m\u001b[1m[ \u001b[22m\u001b[39m\u001b[36m\u001b[1mInfo: \u001b[22m\u001b[39mPreparing output directories\n",
      "\u001b[33m\u001b[1m┌ \u001b[22m\u001b[39m\u001b[33m\u001b[1mWarning: \u001b[22m\u001b[39mThe maximum wavelength in the input spectrum is < 2 μm! Thermal dust emission will be disabled.\n",
      "\u001b[33m\u001b[1m└ \u001b[22m\u001b[39m\u001b[90m@ Loki ~/Dropbox/Astrophysics/Phoenix_Cluster/Loki/src/util/create_params.jl:363\u001b[39m\n",
      "\u001b[33m\u001b[1m┌ \u001b[22m\u001b[39m\u001b[33m\u001b[1mWarning: \u001b[22m\u001b[39mThere are no PAH features within the input wavelength range of the spectrum. The use_pah_templates option will be disabled.\n",
      "\u001b[33m\u001b[1m└ \u001b[22m\u001b[39m\u001b[90m@ Loki ~/Dropbox/Astrophysics/Phoenix_Cluster/Loki/src/util/create_params.jl:540\u001b[39m\n",
      "\u001b[36m\u001b[1m[ \u001b[22m\u001b[39m\u001b[36m\u001b[1mInfo: \u001b[22m\u001b[39mGenerating 400 simple stellar population templates with ages ∈ (0.0010000000000000002 Gyr, 13.7 Gyr), log(Z/Zsun) ∈ (-2.3, 0.4)\n",
      "\u001b[36m\u001b[1m[ \u001b[22m\u001b[39m\u001b[36m\u001b[1mInfo: \u001b[22m\u001b[39mResampling wavelengths...\n"
     ]
    },
    {
     "name": "stderr",
     "output_type": "stream",
     "text": [
      "\u001b[32mProgress: 100%|███████████████████████████| Time: 0:00:00 ( 0.50 ms/it)\u001b[39m\u001b[K\n"
     ]
    },
    {
     "name": "stdout",
     "output_type": "stream",
     "text": [
      "\u001b[36m\u001b[1m[ \u001b[22m\u001b[39m\u001b[36m\u001b[1mInfo: \u001b[22m\u001b[39mResampling ages/logzs...\n"
     ]
    },
    {
     "name": "stderr",
     "output_type": "stream",
     "text": [
      "\u001b[32mProgress: 100%|███████████████████████████| Time: 0:00:00 ( 0.44 ms/it)\u001b[39m\u001b[K\n"
     ]
    },
    {
     "name": "stdout",
     "output_type": "stream",
     "text": [
      "\u001b[36m\u001b[1m[ \u001b[22m\u001b[39m\u001b[36m\u001b[1mInfo: \u001b[22m\u001b[39mApplying instrumental broadening...\n"
     ]
    },
    {
     "name": "stderr",
     "output_type": "stream",
     "text": [
      "\u001b[32mProgress: 100%|███████████████████████████| Time: 0:00:00 ( 1.31 ms/it)\u001b[39m\u001b[K\n"
     ]
    },
    {
     "name": "stdout",
     "output_type": "stream",
     "text": [
      "(1458, 400)\n",
      "\u001b[36m\u001b[1m┌ \u001b[22m\u001b[39m\u001b[36m\u001b[1mInfo: \u001b[22m\u001b[39m\n",
      "\u001b[36m\u001b[1m│ \u001b[22m\u001b[39m\n",
      "\u001b[36m\u001b[1m│ \u001b[22m\u001b[39m#############################################################################\n",
      "\u001b[36m\u001b[1m│ \u001b[22m\u001b[39m######## BEGINNING FULL CUBE FITTING ROUTINE FOR NGC1399_example ########\n",
      "\u001b[36m\u001b[1m│ \u001b[22m\u001b[39m#############################################################################\n",
      "\u001b[36m\u001b[1m│ \u001b[22m\u001b[39m\n",
      "\u001b[36m\u001b[1m│ \u001b[22m\u001b[39m------------------------\n",
      "\u001b[36m\u001b[1m│ \u001b[22m\u001b[39mWorker Processes:     1\n",
      "\u001b[36m\u001b[1m│ \u001b[22m\u001b[39mThreads per process:  1\n",
      "\u001b[36m\u001b[1m└ \u001b[22m\u001b[39m------------------------\n",
      "\u001b[36m\u001b[1m[ \u001b[22m\u001b[39m\u001b[36m\u001b[1mInfo: \u001b[22m\u001b[39m===> Preparing output data structures... <===\n",
      "\u001b[36m\u001b[1m[ \u001b[22m\u001b[39m\u001b[36m\u001b[1mInfo: \u001b[22m\u001b[39mIntegrating spectrum across the whole cube...\n",
      "\u001b[36m\u001b[1m[ \u001b[22m\u001b[39m\u001b[36m\u001b[1mInfo: \u001b[22m\u001b[39m===> Beginning integrated spectrum fitting... <===\n",
      "\u001b[36m\u001b[1m[ \u001b[22m\u001b[39m\u001b[36m\u001b[1mInfo: \u001b[22m\u001b[39m===> Generating parameter maps and model cubes... <===\n",
      "\u001b[36m\u001b[1m[ \u001b[22m\u001b[39m\u001b[36m\u001b[1mInfo: \u001b[22m\u001b[39m===> Writing FITS outputs... <===\n",
      "\u001b[36m\u001b[1m[ \u001b[22m\u001b[39m\u001b[36m\u001b[1mInfo: \u001b[22m\u001b[39m===> Writing CSV tables... <=== \n",
      "\u001b[36m\u001b[1m┌ \u001b[22m\u001b[39m\u001b[36m\u001b[1mInfo: \u001b[22m\u001b[39m\n",
      "\u001b[36m\u001b[1m│ \u001b[22m\u001b[39m\n",
      "\u001b[36m\u001b[1m│ \u001b[22m\u001b[39m#############################################################################\n",
      "\u001b[36m\u001b[1m│ \u001b[22m\u001b[39m################################### Done!! ##################################\n",
      "\u001b[36m\u001b[1m└ \u001b[22m\u001b[39m#############################################################################\n"
     ]
    },
    {
     "data": {
      "text/plain": [
       "(CubeFitter{Float64, Int64, Quantity{Float64, 𝐌 𝐋⁻¹ 𝐓⁻³, Unitful.FreeUnits{(Å⁻¹, erg, cm⁻², s⁻¹, sr⁻¹), 𝐌 𝐋⁻¹ 𝐓⁻³, nothing}}, Quantity{Float64, 𝐋 𝐓⁻¹, Unitful.FreeUnits{(km, s⁻¹), 𝐋 𝐓⁻¹, nothing}}, Quantity{Float64, 𝐋, Unitful.FreeUnits{(Å,), 𝐋, nothing}}}(DataCube{Vector{Quantity{Float64, 𝐋, Unitful.FreeUnits{(Å,), 𝐋, nothing}}}, Array{Quantity{Float64, 𝐌 𝐋⁻¹ 𝐓⁻³, Unitful.FreeUnits{(Å⁻¹, erg, cm⁻², s⁻¹, sr⁻¹), 𝐌 𝐋⁻¹ 𝐓⁻³, nothing}}, 3}}(Quantity{Float64, 𝐋, Unitful.FreeUnits{(Å,), 𝐋, nothing}}[900.0122199459404 Å, 900.2063047849193 Å, 900.4004314776906 Å, 900.594600033281 Å, 900.7888104607164 Å, 900.983062769027 Å, 901.1773569672444 Å, 901.3716930644019 Å, 901.566071069535 Å, 901.7604909916819 Å  …  1180.4640299919058 Å, 1180.718593392384 Å, 1180.9732116886687 Å, 1181.2278848925987 Å, 1181.4826130160131 Å, 1181.7373960707557 Å, 1181.9922340686726 Å, 1182.247127021612 Å, 1182.5020749414246 Å, 1182.7570778399652 Å], Quantity{Float64, 𝐌 𝐋⁻¹ 𝐓⁻³, Unitful.FreeUnits{(Å⁻¹, erg, cm⁻², s⁻¹, sr⁻¹), 𝐌 𝐋⁻¹ 𝐓⁻³, nothing}}[-2.9242984442563776e-7 erg Å⁻¹ cm⁻² s⁻¹ sr⁻¹;;; -3.960661855313623e-7 erg Å⁻¹ cm⁻² s⁻¹ sr⁻¹;;; -2.2839756169886055e-7 erg Å⁻¹ cm⁻² s⁻¹ sr⁻¹;;; … ;;; 1.8812236628906091e-6 erg Å⁻¹ cm⁻² s⁻¹ sr⁻¹;;; 1.6444993735642786e-6 erg Å⁻¹ cm⁻² s⁻¹ sr⁻¹;;; 1.4377964199383965e-6 erg Å⁻¹ cm⁻² s⁻¹ sr⁻¹], Quantity{Float64, 𝐌 𝐋⁻¹ 𝐓⁻³, Unitful.FreeUnits{(Å⁻¹, erg, cm⁻², s⁻¹, sr⁻¹), 𝐌 𝐋⁻¹ 𝐓⁻³, nothing}}[0.0008257229100845099 erg Å⁻¹ cm⁻² s⁻¹ sr⁻¹;;; 1.9695629708381889e-7 erg Å⁻¹ cm⁻² s⁻¹ sr⁻¹;;; 1.9378130055521065e-7 erg Å⁻¹ cm⁻² s⁻¹ sr⁻¹;;; … ;;; 1.278979962136453e-7 erg Å⁻¹ cm⁻² s⁻¹ sr⁻¹;;; 1.224126678264101e-7 erg Å⁻¹ cm⁻² s⁻¹ sr⁻¹;;; 1.243788997400999e-7 erg Å⁻¹ cm⁻² s⁻¹ sr⁻¹], Bool[1;;; 0;;; 0;;; … ;;; 0;;; 0;;; 0], nothing, 2.1153987485188093e-8 sr, 54.622083°, -35.450278°, 0.0 rad, Quantity{Float64, NoDims, Unitful.FreeUnits{(″,), NoDims, nothing}}[30.0 ″, 29.999999999999996 ″, 30.0 ″, 30.0 ″, 30.0 ″, 29.999999999999996 ″, 30.0 ″, 30.000000000000004 ″, 30.0 ″, 29.999999999999996 ″  …  30.000000000000007 ″, 30.0 ″, 29.999999999999996 ″, 30.000000000000004 ″, 30.000000000000004 ″, 30.0 ″, 30.0 ″, 30.0 ″, 30.000000000000004 ″, 30.0 ″], Quantity{Float64, 𝐋 𝐓⁻¹, Unitful.FreeUnits{(km, s⁻¹), 𝐋 𝐓⁻¹, nothing}}[14.989622899999997 km s⁻¹, 14.989622899999997 km s⁻¹, 14.989622899999997 km s⁻¹, 14.989622899999997 km s⁻¹, 14.989622899999997 km s⁻¹, 14.989622899999999 km s⁻¹, 14.989622899999999 km s⁻¹, 14.9896229 km s⁻¹, 14.989622899999999 km s⁻¹, 14.989622899999997 km s⁻¹  …  14.989622900000002 km s⁻¹, 14.989622899999999 km s⁻¹, 14.989622899999997 km s⁻¹, 14.9896229 km s⁻¹, 14.989622899999999 km s⁻¹, 14.989622899999999 km s⁻¹, 14.989622899999999 km s⁻¹, 14.989622899999999 km s⁻¹, 14.9896229 km s⁻¹, 14.989622899999999 km s⁻¹], WCSTransform(naxis=3,cdelt=[0.008333333333333333, 0.008333333333333333, 1.0],crval=[54.622083, -35.450278, 1.0],crpix=[1.0, 1.0, 1.0]), \"Generic Channel\", \"Generic Band\", 1, 1, 1459, Loki.SpectralRegion{Quantity{Float64, 𝐋, Unitful.FreeUnits{(Å,), 𝐋, nothing}}}((900.0122199459407 Å, 1182.7961387027458 Å), Tuple{Quantity{Float64, 𝐋, Unitful.FreeUnits{(Å,), 𝐋, nothing}}, Quantity{Float64, 𝐋, Unitful.FreeUnits{(Å,), 𝐋, nothing}}}[(966.3215573495692 Å, 969.5502439787176 Å), (1077.5802610193748 Å, 1081.6817665635238 Å), (1019.1671782475153 Å, 1022.5724333784266 Å), (966.3215573495692 Å, 969.5502439787176 Å), (1077.5802610193748 Å, 1081.6817665635238 Å), (1019.1671782475153 Å, 1022.5724333784266 Å), (966.3215573495692 Å, 969.5502439787176 Å), (1077.5802610193748 Å, 1081.6817665635238 Å), (1019.1671782475153 Å, 1022.5724333784266 Å)], 1, BitVector[[1, 1, 1, 1, 1, 1, 1, 1, 1, 1  …  1, 1, 1, 1, 1, 1, 1, 1, 1, 1]], Quantity{Float64, 𝐋, Unitful.FreeUnits{(Å,), 𝐋, nothing}}[], Tuple{Quantity{Float64, 𝐋, Unitful.FreeUnits{(Å,), 𝐋, nothing}}, Quantity{Float64, 𝐋, Unitful.FreeUnits{(Å,), 𝐋, nothing}}}[], Loki.UVOptical), true, true, true, true, true, true, nothing), 0.004753, \"NGC1399_example\", Loki.SpectralRegion{Quantity{Float64, 𝐋, Unitful.FreeUnits{(Å,), 𝐋, nothing}}}((900.0122199459407 Å, 1182.7961387027458 Å), Tuple{Quantity{Float64, 𝐋, Unitful.FreeUnits{(Å,), 𝐋, nothing}}, Quantity{Float64, 𝐋, Unitful.FreeUnits{(Å,), 𝐋, nothing}}}[(966.3215573495692 Å, 969.5502439787176 Å), (1077.5802610193748 Å, 1081.6817665635238 Å), (1019.1671782475153 Å, 1022.5724333784266 Å), (966.3215573495692 Å, 969.5502439787176 Å), (1077.5802610193748 Å, 1081.6817665635238 Å), (1019.1671782475153 Å, 1022.5724333784266 Å), (966.3215573495692 Å, 969.5502439787176 Å), (1077.5802610193748 Å, 1081.6817665635238 Å), (1019.1671782475153 Å, 1022.5724333784266 Å)], 1, BitVector[[1, 1, 1, 1, 1, 1, 1, 1, 1, 1  …  1, 1, 1, 1, 1, 1, 1, 1, 1, 1]], Quantity{Float64, 𝐋, Unitful.FreeUnits{(Å,), 𝐋, nothing}}[], Tuple{Quantity{Float64, 𝐋, Unitful.FreeUnits{(Å,), 𝐋, nothing}}, Quantity{Float64, 𝐋, Unitful.FreeUnits{(Å,), 𝐋, nothing}}}[], Loki.UVOptical), Loki.OutputOptions(:both, false, nothing, false, \"pmap\", true, true, true, false, false, true, false, 3.0, :flux, [1025.722, 1031.912, 1037.613, 1066.66, 1084.9]), Loki.FittingOptions{Float64, Int64}(0.0, \"d+\", \"calz\", true, nothing, nothing, nothing, nothing, true, 0.0, \"ssp\", nothing, nothing, nothing, false, false, false, nothing, false, false, false, false, false, false, false, false, false, false, false, true, 0, 123456789, Vector{Symbol}[], 0.003, true, false, false), \"ModelParameters | Continuum parameters: 32, PAH parameters: 0, Line parameters: 20, Non-fit parameters: 57\", Array{Quantity{Float64, 𝐌 𝐋⁻¹ 𝐓⁻³, Unitful.FreeUnits{(Å⁻¹, erg, cm⁻², s⁻¹, sr⁻¹), 𝐌 𝐋⁻¹ 𝐓⁻³, nothing}}, 4}(undef, 1, 1, 1268, 0), String[], Loki.StellarPopulations{Quantity{Float64, 𝐋, Unitful.FreeUnits{(Å,), 𝐋, nothing}}, Quantity{Float64, 𝐓, Unitful.FreeUnits{(Gyr,), 𝐓, nothing}}, Quantity{Float64, 𝐋 𝐓⁻¹, Unitful.FreeUnits{(km, s⁻¹), 𝐋 𝐓⁻¹, nothing}}, Float64, Quantity{Float64, 𝐋⁻¹ 𝐓⁻³, Unitful.FreeUnits{(Å⁻¹, erg, cm⁻², s⁻¹, M⊙⁻¹), 𝐋⁻¹ 𝐓⁻³, nothing}}}(Quantity{Float64, 𝐋, Unitful.FreeUnits{(Å,), 𝐋, nothing}}[882.0119755470215 Å, 882.202178689221 Å, 882.3924228481371 Å, 882.582708032615 Å, 882.7730342515016 Å, 882.9634015136463 Å, 883.1538098278994 Å, 883.3442592031139 Å, 883.5347496481445 Å, 883.7252811718479 Å  …  1205.2335819483267 Å, 1205.4934868257276 Å, 1205.7534477508082 Å, 1206.0134647356542 Å, 1206.2735377923557 Å, 1206.5336669330036 Å, 1206.7938521696924 Å, 1207.054093514519 Å, 1207.3143909795833 Å, 1207.574744576987 Å], Quantity{Float64, 𝐓, Unitful.FreeUnits{(Gyr,), 𝐓, nothing}}[0.0010000000000000002 Gyr, 0.0012766438520306928 Gyr, 0.001629819524927765 Gyr, 0.002080699076418613 Gyr, 0.002656311683835762 Gyr, 0.0033911639802462223 Gyr, 0.004329308646609272 Gyr, 0.005526985267237045 Gyr, 0.007055991761682387 Gyr, 0.009007988502531025 Gyr  …  1.520872278661394 Gyr, 1.941612244276978 Gyr, 2.4787473346837188 Gyr, 3.164477545561434 Gyr, 4.03991080343018 Gyr, 5.157527289951513 Gyr, 6.584325506397116 Gyr, 8.405838677510754 Gyr, 10.731262268805907 Gyr, 13.7 Gyr], [-2.3, -2.0, -1.7, -1.4, -1.1, -0.8, -0.5, -0.2, 0.1, 0.4], Quantity{Float64, 𝐋⁻¹ 𝐓⁻³, Unitful.FreeUnits{(Å⁻¹, erg, cm⁻², s⁻¹, M⊙⁻¹), 𝐋⁻¹ 𝐓⁻³, nothing}}[1.904556446532489e-21 erg Å⁻¹ cm⁻² s⁻¹ M⊙⁻¹ 1.99468385576628e-21 erg Å⁻¹ cm⁻² s⁻¹ M⊙⁻¹ … 1.1098092551378658e-26 erg Å⁻¹ cm⁻² s⁻¹ M⊙⁻¹ 6.568949923978376e-27 erg Å⁻¹ cm⁻² s⁻¹ M⊙⁻¹; 1.9045391936391266e-21 erg Å⁻¹ cm⁻² s⁻¹ M⊙⁻¹ 1.994669580615354e-21 erg Å⁻¹ cm⁻² s⁻¹ M⊙⁻¹ … 1.1085561892120078e-26 erg Å⁻¹ cm⁻² s⁻¹ M⊙⁻¹ 6.55824653307407e-27 erg Å⁻¹ cm⁻² s⁻¹ M⊙⁻¹; … ; 3.0872863265102375e-20 erg Å⁻¹ cm⁻² s⁻¹ M⊙⁻¹ 3.2743737710137193e-20 erg Å⁻¹ cm⁻² s⁻¹ M⊙⁻¹ … 8.951939380423073e-27 erg Å⁻¹ cm⁻² s⁻¹ M⊙⁻¹ 6.515793921145892e-27 erg Å⁻¹ cm⁻² s⁻¹ M⊙⁻¹; 3.0872863265102375e-20 erg Å⁻¹ cm⁻² s⁻¹ M⊙⁻¹ 3.2743737710137193e-20 erg Å⁻¹ cm⁻² s⁻¹ M⊙⁻¹ … 8.951939380423073e-27 erg Å⁻¹ cm⁻² s⁻¹ M⊙⁻¹ 6.515793921145892e-27 erg Å⁻¹ cm⁻² s⁻¹ M⊙⁻¹], Quantity{Float64, 𝐋 𝐓⁻¹, Unitful.FreeUnits{(km, s⁻¹), 𝐋 𝐓⁻¹, nothing}}[-6056.619284973781 km s⁻¹]), nothing, 64.6423424313909 km s⁻¹, 400, 0, 0, 0, 0, 0, 5, 5, 5, 20, :Legendre, :Chebyshev, 32, 0, 20, 57, 109, Loki.var\"#117#119\"{DataCube{Vector{Quantity{Float64, 𝐋, Unitful.FreeUnits{(Å,), 𝐋, nothing}}}, Array{Quantity{Float64, 𝐌 𝐋⁻¹ 𝐓⁻³, Unitful.FreeUnits{(Å⁻¹, erg, cm⁻², s⁻¹, sr⁻¹), 𝐌 𝐋⁻¹ 𝐓⁻³, nothing}}, 3}}, Dierckx.Spline1D}(DataCube{Vector{Quantity{Float64, 𝐋, Unitful.FreeUnits{(Å,), 𝐋, nothing}}}, Array{Quantity{Float64, 𝐌 𝐋⁻¹ 𝐓⁻³, Unitful.FreeUnits{(Å⁻¹, erg, cm⁻², s⁻¹, sr⁻¹), 𝐌 𝐋⁻¹ 𝐓⁻³, nothing}}, 3}}(Quantity{Float64, 𝐋, Unitful.FreeUnits{(Å,), 𝐋, nothing}}[900.0122199459404 Å, 900.2063047849193 Å, 900.4004314776906 Å, 900.594600033281 Å, 900.7888104607164 Å, 900.983062769027 Å, 901.1773569672444 Å, 901.3716930644019 Å, 901.566071069535 Å, 901.7604909916819 Å  …  1180.4640299919058 Å, 1180.718593392384 Å, 1180.9732116886687 Å, 1181.2278848925987 Å, 1181.4826130160131 Å, 1181.7373960707557 Å, 1181.9922340686726 Å, 1182.247127021612 Å, 1182.5020749414246 Å, 1182.7570778399652 Å], Quantity{Float64, 𝐌 𝐋⁻¹ 𝐓⁻³, Unitful.FreeUnits{(Å⁻¹, erg, cm⁻², s⁻¹, sr⁻¹), 𝐌 𝐋⁻¹ 𝐓⁻³, nothing}}[-2.9242984442563776e-7 erg Å⁻¹ cm⁻² s⁻¹ sr⁻¹;;; -3.960661855313623e-7 erg Å⁻¹ cm⁻² s⁻¹ sr⁻¹;;; -2.2839756169886055e-7 erg Å⁻¹ cm⁻² s⁻¹ sr⁻¹;;; … ;;; 1.8812236628906091e-6 erg Å⁻¹ cm⁻² s⁻¹ sr⁻¹;;; 1.6444993735642786e-6 erg Å⁻¹ cm⁻² s⁻¹ sr⁻¹;;; 1.4377964199383965e-6 erg Å⁻¹ cm⁻² s⁻¹ sr⁻¹], Quantity{Float64, 𝐌 𝐋⁻¹ 𝐓⁻³, Unitful.FreeUnits{(Å⁻¹, erg, cm⁻², s⁻¹, sr⁻¹), 𝐌 𝐋⁻¹ 𝐓⁻³, nothing}}[0.0008257229100845099 erg Å⁻¹ cm⁻² s⁻¹ sr⁻¹;;; 1.9695629708381889e-7 erg Å⁻¹ cm⁻² s⁻¹ sr⁻¹;;; 1.9378130055521065e-7 erg Å⁻¹ cm⁻² s⁻¹ sr⁻¹;;; … ;;; 1.278979962136453e-7 erg Å⁻¹ cm⁻² s⁻¹ sr⁻¹;;; 1.224126678264101e-7 erg Å⁻¹ cm⁻² s⁻¹ sr⁻¹;;; 1.243788997400999e-7 erg Å⁻¹ cm⁻² s⁻¹ sr⁻¹], Bool[1;;; 0;;; 0;;; … ;;; 0;;; 0;;; 0], nothing, 2.1153987485188093e-8 sr, 54.622083°, -35.450278°, 0.0 rad, Quantity{Float64, NoDims, Unitful.FreeUnits{(″,), NoDims, nothing}}[30.0 ″, 29.999999999999996 ″, 30.0 ″, 30.0 ″, 30.0 ″, 29.999999999999996 ″, 30.0 ″, 30.000000000000004 ″, 30.0 ″, 29.999999999999996 ″  …  30.000000000000007 ″, 30.0 ″, 29.999999999999996 ″, 30.000000000000004 ″, 30.000000000000004 ″, 30.0 ″, 30.0 ″, 30.0 ″, 30.000000000000004 ″, 30.0 ″], Quantity{Float64, 𝐋 𝐓⁻¹, Unitful.FreeUnits{(km, s⁻¹), 𝐋 𝐓⁻¹, nothing}}[14.989622899999997 km s⁻¹, 14.989622899999997 km s⁻¹, 14.989622899999997 km s⁻¹, 14.989622899999997 km s⁻¹, 14.989622899999997 km s⁻¹, 14.989622899999999 km s⁻¹, 14.989622899999999 km s⁻¹, 14.9896229 km s⁻¹, 14.989622899999999 km s⁻¹, 14.989622899999997 km s⁻¹  …  14.989622900000002 km s⁻¹, 14.989622899999999 km s⁻¹, 14.989622899999997 km s⁻¹, 14.9896229 km s⁻¹, 14.989622899999999 km s⁻¹, 14.989622899999999 km s⁻¹, 14.989622899999999 km s⁻¹, 14.989622899999999 km s⁻¹, 14.9896229 km s⁻¹, 14.989622899999999 km s⁻¹], WCSTransform(naxis=3,cdelt=[0.008333333333333333, 0.008333333333333333, 1.0],crval=[54.622083, -35.450278, 1.0],crpix=[1.0, 1.0, 1.0]), \"Generic Channel\", \"Generic Band\", 1, 1, 1459, Loki.SpectralRegion{Quantity{Float64, 𝐋, Unitful.FreeUnits{(Å,), 𝐋, nothing}}}((900.0122199459407 Å, 1182.7961387027458 Å), Tuple{Quantity{Float64, 𝐋, Unitful.FreeUnits{(Å,), 𝐋, nothing}}, Quantity{Float64, 𝐋, Unitful.FreeUnits{(Å,), 𝐋, nothing}}}[(966.3215573495692 Å, 969.5502439787176 Å), (1077.5802610193748 Å, 1081.6817665635238 Å), (1019.1671782475153 Å, 1022.5724333784266 Å), (966.3215573495692 Å, 969.5502439787176 Å), (1077.5802610193748 Å, 1081.6817665635238 Å), (1019.1671782475153 Å, 1022.5724333784266 Å), (966.3215573495692 Å, 969.5502439787176 Å), (1077.5802610193748 Å, 1081.6817665635238 Å), (1019.1671782475153 Å, 1022.5724333784266 Å)], 1, BitVector[[1, 1, 1, 1, 1, 1, 1, 1, 1, 1  …  1, 1, 1, 1, 1, 1, 1, 1, 1, 1]], Quantity{Float64, 𝐋, Unitful.FreeUnits{(Å,), 𝐋, nothing}}[], Tuple{Quantity{Float64, 𝐋, Unitful.FreeUnits{(Å,), 𝐋, nothing}}, Quantity{Float64, 𝐋, Unitful.FreeUnits{(Å,), 𝐋, nothing}}}[], Loki.UVOptical), true, true, true, true, true, true, nothing), Spline1D(knots=[900.012,900.206 … 1182.5,1182.76] (1268 elements), k=1, extrapolation=\"nearest\", residual=0.0)), Dict{String, Tuple{Vector{<:Union{Quantity{Float64, 𝐋, Unitful.FreeUnits{(μm,), 𝐋, nothing}}, Quantity{Float64, 𝐋, Unitful.FreeUnits{(Å,), 𝐋, nothing}}}}, Vector{<:AbstractFloat}}}(\"dp\" => (Quantity{Float64, 𝐋, Unitful.FreeUnits{(μm,), 𝐋, nothing}}[4.872 μm, 4.901 μm, 4.93 μm, 4.958 μm, 4.987 μm, 5.015 μm, 5.044 μm, 5.072 μm, 5.101 μm, 5.13 μm  …  33.376 μm, 33.536 μm, 33.696 μm, 33.856 μm, 34.016 μm, 34.176 μm, 34.336 μm, 34.496 μm, 34.656 μm, 34.816 μm], [0.00013932881488852732, 0.00012685486467259, 0.00011438091445665264, 0.00010233710045505773, 8.98631502391204e-5, 7.781933623752588e-5, 6.534538602158853e-5, 5.3301572019993625e-5, 4.082762180405629e-5, 2.8353671588118956e-5  …  -0.010248753808906576, -0.008849555783209551, -0.008018046120299584, -0.007737073532587197, -0.0047568949322396225, -2.059222995799695e-5, 0.0010045279449709462, 0.0018514592908683103, 0.002922183468301147, 0.003849698889710785]), \"ohm\" => (Quantity{Float64, 𝐋, Unitful.FreeUnits{(μm,), 𝐋, nothing}}[0.00998911 μm, 0.0144932 μm, 0.0178575 μm, 0.0193776 μm, 0.0234454 μm, 0.0288864 μm, 0.03401 μm, 0.0411485 μm, 0.0535353 μm, 0.0690269 μm  …  41.5447 μm, 44.6626 μm, 47.1521 μm, 51.6185 μm, 55.4938 μm, 62.9911 μm, 67.7227 μm, 71.5013 μm, 80.4332 μm, 1000.0 μm], [80.35792803056988, 92.57227673224875, 96.21447502350316, 98.72196323549059, 98.72196323549059, 97.4602025521867, 92.57227673224875, 90.22099031451705, 90.22099031451705, 97.4602025521867  …  0.15092834394517635, 0.11973268358569357, 0.09746020255218671, 0.07632753305623508, 0.06212920293358144, 0.04504344741975528, 0.03810716463377603, 0.03265637791603, 0.025248574628261595, 0.0])), Dict{String, Dierckx.Spline1D}(\"dp\" => Spline1D(knots=[48720.0,49300.0 … 344960.0,348160.0] (359 elements), k=3, extrapolation=\"nearest\", residual=0.0), \"ohm\" => Spline1D(knots=[99.8911,178.575 … 715013.0,1.0e7] (78 elements), k=3, extrapolation=\"nearest\", residual=0.0)), Dict(:OVI_1038A => [1;;], :HI_Ly_beta => [1;;], :ArI_1067A => [1;;], :HeII_1085A => [1;;], :OVI_1032A => [1;;]), Cosmology.FlatLCDM{Float64}(0.7, 0.73, 0.27, 0.0), Tuple{Quantity{Float64, 𝐋, Unitful.FreeUnits{(Å,), 𝐋, nothing}}, Quantity{Float64, 𝐋, Unitful.FreeUnits{(Å,), 𝐋, nothing}}}[(1025.3798559691452 Å, 1026.064144030855 Å), (1031.5677912073959 Å, 1032.2562087926042 Å), (1037.2668895584893 Å, 1037.959110441511 Å), (1066.304200522216 Å, 1067.0157994777842 Å), (1084.5381163131196 Å, 1085.2618836868808 Å)], 100.0 km s⁻¹, Number[0.0, 0.0, 0.0, 0.0, 0.0, 0.0, 0.0, 0.0, 0.0, 0.0  …  0.0, 0.0, 0.0, 0.0, 0.0, 0.0, 0.0, 0.0, 0.0, 0.0], Number[0.0, 0.0, 0.0, 0.0, 0.0, 0.0, 0.0, 0.0, 0.0, 0.0, 0.0, 0.0, 0.0, 0.0, 0.0, 0.0, 0.0, 0.0, 0.0, 0.0], Number[0.0, 0.0]), ParamMaps(Quantity{Float64}[0.034013036193611956;;; 0.44;;; 0.0;;; … ;;; -0.5;;; 0.4;;; 0.4], Quantity{Float64}[0.3006945248363039;;; 0.0;;; 0.0;;; … ;;; NaN;;; NaN;;; NaN], Quantity{Float64}[0.3006945248363039;;; 0.0;;; 0.0;;; … ;;; NaN;;; NaN;;; NaN], Loki.AllParameters([\"extinction.E_BV\", \"extinction.E_BV_factor\", \"extinction.tau_97\", \"extinction.beta\", \"polynomials.acoeff.0\", \"polynomials.acoeff.1\", \"polynomials.acoeff.2\", \"polynomials.acoeff.3\", \"polynomials.acoeff.4\", \"polynomials.acoeff.5\"  …  \"continuum.stellar_populations.5.age\", \"continuum.stellar_populations.6.age\", \"continuum.stellar_populations.7.age\", \"continuum.stellar_populations.1.metallicity\", \"continuum.stellar_populations.2.metallicity\", \"continuum.stellar_populations.3.metallicity\", \"continuum.stellar_populations.4.metallicity\", \"continuum.stellar_populations.5.metallicity\", \"continuum.stellar_populations.6.metallicity\", \"continuum.stellar_populations.7.metallicity\"], [\"\\$E(B-V)_{\\\\rm gas}\\$\", \"\\$E(B-V)_{\\\\rm stars}/E(B-V)_{\\\\rm gas}\\$\", \"\\$\\\\tau_{9.7}\\$\", \"\\$\\\\beta\\$\", \"\\$c_{{\\\\rm a},0}\\$\", \"\\$c_{{\\\\rm a},1}\\$\", \"\\$c_{{\\\\rm a},2}\\$\", \"\\$c_{{\\\\rm a},3}\\$\", \"\\$c_{{\\\\rm a},4}\\$\", \"\\$c_{{\\\\rm a},5}\\$\"  …  \"Age (Gyr)\", \"Age (Gyr)\", \"Age (Gyr)\", \"\\$\\\\log_{10}(Z/Z_\\\\odot)\\$\", \"\\$\\\\log_{10}(Z/Z_\\\\odot)\\$\", \"\\$\\\\log_{10}(Z/Z_\\\\odot)\\$\", \"\\$\\\\log_{10}(Z/Z_\\\\odot)\\$\", \"\\$\\\\log_{10}(Z/Z_\\\\odot)\\$\", \"\\$\\\\log_{10}(Z/Z_\\\\odot)\\$\", \"\\$\\\\log_{10}(Z/Z_\\\\odot)\\$\"], Vector{Loki.Transformation}[[], [], [], [], [Loki.RestframeTransform, Loki.NormalizeTransform], [Loki.RestframeTransform, Loki.NormalizeTransform], [Loki.RestframeTransform, Loki.NormalizeTransform], [Loki.RestframeTransform, Loki.NormalizeTransform], [Loki.RestframeTransform, Loki.NormalizeTransform], [Loki.RestframeTransform, Loki.NormalizeTransform]  …  [], [], [], [], [], [], [], [], [], []], Union{Loki.FitParameter, Loki.NonFitParameter}[\"Parameter: value = 0.0 | locked = false | limits = (0.0, 1.0)\", \"Parameter: value = 0.44 | locked = true | limits = (0.0, 10.0)\", \"Parameter: value = 0.0 | locked = true | limits = (0.0, 10.0)\", \"Parameter: value = 0.0 | locked = true | limits = (0.0, 1.0)\", \"Parameter: value = 0.0 | locked = false | limits = (0.0, 100.0)\", \"Parameter: value = 0.0 | locked = false | limits = (0.0, 100.0)\", \"Parameter: value = 0.0 | locked = false | limits = (0.0, 100.0)\", \"Parameter: value = 0.0 | locked = false | limits = (0.0, 100.0)\", \"Parameter: value = 0.0 | locked = false | limits = (0.0, 100.0)\", \"Parameter: value = 0.0 | locked = false | limits = (0.0, 100.0)\"  …  Loki.NonFitParameter{Quantity{Float64, 𝐓, Unitful.FreeUnits{(Gyr,), 𝐓, nothing}}}(Quantity{Float64, 𝐓, Unitful.FreeUnits{(Gyr,), 𝐓, nothing}}), Loki.NonFitParameter{Quantity{Float64, 𝐓, Unitful.FreeUnits{(Gyr,), 𝐓, nothing}}}(Quantity{Float64, 𝐓, Unitful.FreeUnits{(Gyr,), 𝐓, nothing}}), Loki.NonFitParameter{Quantity{Float64, 𝐓, Unitful.FreeUnits{(Gyr,), 𝐓, nothing}}}(Quantity{Float64, 𝐓, Unitful.FreeUnits{(Gyr,), 𝐓, nothing}}), Loki.NonFitParameter{Float64}(Float64), Loki.NonFitParameter{Float64}(Float64), Loki.NonFitParameter{Float64}(Float64), Loki.NonFitParameter{Float64}(Float64), Loki.NonFitParameter{Float64}(Float64), Loki.NonFitParameter{Float64}(Float64), Loki.NonFitParameter{Float64}(Float64)])), CubeModel{Float32, Quantity{Float32, 𝐌 𝐋⁻¹ 𝐓⁻³, Unitful.FreeUnits{(Å⁻¹, erg, cm⁻², s⁻¹, sr⁻¹), 𝐌 𝐋⁻¹ 𝐓⁻³, nothing}}}(Quantity{Float32, 𝐌 𝐋⁻¹ 𝐓⁻³, Unitful.FreeUnits{(Å⁻¹, erg, cm⁻², s⁻¹, sr⁻¹), 𝐌 𝐋⁻¹ 𝐓⁻³, nothing}}[1.4784759f-8 erg Å⁻¹ cm⁻² s⁻¹ sr⁻¹; 1.47662504f-8 erg Å⁻¹ cm⁻² s⁻¹ sr⁻¹; … ; 1.7374833f-6 erg Å⁻¹ cm⁻² s⁻¹ sr⁻¹; 1.7079396f-6 erg Å⁻¹ cm⁻² s⁻¹ sr⁻¹;;;], Float32[0.78001946; 0.78010046; … ; 0.8442055; 0.8442348;;;], Float32[0.56857157; 0.56870574; … ; 0.6805135; 0.68056726;;;], Float32[1.0; 1.0; … ; 1.0; 1.0;;;;], nothing, nothing, Quantity{Float32, 𝐌 𝐋⁻¹ 𝐓⁻³, Unitful.FreeUnits{(Å⁻¹, erg, cm⁻², s⁻¹, sr⁻¹), 𝐌 𝐋⁻¹ 𝐓⁻³, nothing}}[0.0f0 erg Å⁻¹ cm⁻² s⁻¹ sr⁻¹; 0.0f0 erg Å⁻¹ cm⁻² s⁻¹ sr⁻¹; … ; 5.0160685f-7 erg Å⁻¹ cm⁻² s⁻¹ sr⁻¹; 5.103048f-7 erg Å⁻¹ cm⁻² s⁻¹ sr⁻¹;;;], Float32[0.1; 0.1; … ; 1.1076605; 1.0782949;;;], Quantity{Float32, 𝐌 𝐋⁻¹ 𝐓⁻³, Unitful.FreeUnits{(Å⁻¹, erg, cm⁻², s⁻¹, sr⁻¹), 𝐌 𝐋⁻¹ 𝐓⁻³, nothing}}[1.8954346f-7 erg Å⁻¹ cm⁻² s⁻¹ sr⁻¹; 1.8928651f-7 erg Å⁻¹ cm⁻² s⁻¹ sr⁻¹; … ; 1.3216614f-6 erg Å⁻¹ cm⁻² s⁻¹ sr⁻¹; 1.3155993f-6 erg Å⁻¹ cm⁻² s⁻¹ sr⁻¹;;;], nothing, nothing, Array{Quantity{Float32, 𝐌 𝐋⁻¹ 𝐓⁻³, Unitful.FreeUnits{(Å⁻¹, erg, cm⁻², s⁻¹, sr⁻¹), 𝐌 𝐋⁻¹ 𝐓⁻³, nothing}}, 4}(undef, 1268, 1, 1, 0), Array{Quantity{Float32, 𝐌 𝐋⁻¹ 𝐓⁻³, Unitful.FreeUnits{(Å⁻¹, erg, cm⁻², s⁻¹, sr⁻¹), 𝐌 𝐋⁻¹ 𝐓⁻³, nothing}}, 4}(undef, 1268, 1, 1, 0), nothing, Array{Quantity{Float32, 𝐌 𝐋⁻¹ 𝐓⁻³, Unitful.FreeUnits{(Å⁻¹, erg, cm⁻², s⁻¹, sr⁻¹), 𝐌 𝐋⁻¹ 𝐓⁻³, nothing}}, 4}(undef, 1268, 1, 1, 0), Array{Float32, 4}(undef, 1268, 1, 1, 0), Array{Quantity{Float32, 𝐌 𝐋⁻¹ 𝐓⁻³, Unitful.FreeUnits{(Å⁻¹, erg, cm⁻², s⁻¹, sr⁻¹), 𝐌 𝐋⁻¹ 𝐓⁻³, nothing}}, 4}(undef, 1268, 1, 1, 0), Quantity{Float32, 𝐌 𝐋⁻¹ 𝐓⁻³, Unitful.FreeUnits{(Å⁻¹, erg, cm⁻², s⁻¹, sr⁻¹), 𝐌 𝐋⁻¹ 𝐓⁻³, nothing}}[0.0f0 erg Å⁻¹ cm⁻² s⁻¹ sr⁻¹; 0.0f0 erg Å⁻¹ cm⁻² s⁻¹ sr⁻¹; … ; 0.0f0 erg Å⁻¹ cm⁻² s⁻¹ sr⁻¹; 0.0f0 erg Å⁻¹ cm⁻² s⁻¹ sr⁻¹;;;; 0.0f0 erg Å⁻¹ cm⁻² s⁻¹ sr⁻¹; 0.0f0 erg Å⁻¹ cm⁻² s⁻¹ sr⁻¹; … ; 0.0f0 erg Å⁻¹ cm⁻² s⁻¹ sr⁻¹; 0.0f0 erg Å⁻¹ cm⁻² s⁻¹ sr⁻¹;;;; 0.0f0 erg Å⁻¹ cm⁻² s⁻¹ sr⁻¹; 0.0f0 erg Å⁻¹ cm⁻² s⁻¹ sr⁻¹; … ; 0.0f0 erg Å⁻¹ cm⁻² s⁻¹ sr⁻¹; 0.0f0 erg Å⁻¹ cm⁻² s⁻¹ sr⁻¹;;;; 0.0f0 erg Å⁻¹ cm⁻² s⁻¹ sr⁻¹; 0.0f0 erg Å⁻¹ cm⁻² s⁻¹ sr⁻¹; … ; 0.0f0 erg Å⁻¹ cm⁻² s⁻¹ sr⁻¹; 0.0f0 erg Å⁻¹ cm⁻² s⁻¹ sr⁻¹;;;; 0.0f0 erg Å⁻¹ cm⁻² s⁻¹ sr⁻¹; 0.0f0 erg Å⁻¹ cm⁻² s⁻¹ sr⁻¹; … ; 0.0f0 erg Å⁻¹ cm⁻² s⁻¹ sr⁻¹; 0.0f0 erg Å⁻¹ cm⁻² s⁻¹ sr⁻¹]))"
      ]
     },
     "metadata": {},
     "output_type": "display_data"
    }
   ],
   "source": [
    "# To see a full list of keyword arguments, please refer to the docstring, which can be accessed by typing `?CubeFitter` in the command\n",
    "# line after importing Loki.\n",
    "C_KMS = 299792.458\n",
    "\n",
    "cube_fitter = CubeFitter(\n",
    "    obs.channels[channel],\n",
    "    obs.z, \n",
    "    run_name; \n",
    "    parallel=false, \n",
    "    plot_spaxels=:both, \n",
    "    plot_maps=false,  # <= this disables plotting 2D parameter maps, which we do here because it's a 1x1 cube and maps wouldn't really be informative\n",
    "    save_fits=true,\n",
    "    extinction_curve=\"calz\", \n",
    "    # Here we set the degrees of the additive and multiplicative polynomials.\n",
    "    # Higher degree = more freedom, but also more free parameters (i.e. longer fitting time) and can lead to over-fitting.\n",
    "    # Note: apoly_degree must be at least 0 to include an additive polynomial \n",
    "    #       mpoly_degree must be at least 1 to include a multiplicative polynomial (as the 0th order term is disabled)\n",
    "    apoly_degree=5,\n",
    "    mpoly_degree=20,\n",
    "    # Here we set the type of polynomials (the options are either Legendre or Chebyshev; I'll do one of each for comparison's sake)\n",
    "    apoly_type=\"Legendre\",\n",
    "    mpoly_type=\"Chebyshev\",\n",
    "    # A few more various options\n",
    "    linemask_width=100.0u\"km/s\",\n",
    "    stellar_template_type=\"stars\",\n",
    "    ssp_regularize=0.,\n",
    "    # Mask out some bad regions in the FUSE spectra \n",
    "    user_mask=[\n",
    "        (1-500.0/C_KMS, 1+500.0/C_KMS).*972.5365.*u\"angstrom\" ./ (1+z), # Lyman-gamma airglow\n",
    "        (1082.702, 1086.823).*u\"angstrom\" ./ (1+z),                           # FUSE chip gap\n",
    "        (1-500.0/C_KMS, 1+500.0/C_KMS).*1025.722u\"angstrom\" ./ (1+z),   # Lyman-beta airglow\n",
    "    ]\n",
    ")\n",
    "println(size(cube_fitter.ssps.templates))\n",
    "\n",
    "# Call the fit_cube! function on the cube_fitter object, using the aperture we defined.\n",
    "fit_cube!(cube_fitter)"
   ]
  },
  {
   "attachments": {},
   "cell_type": "markdown",
   "id": "05295663",
   "metadata": {},
   "source": [
    "And the results can be found in the \"output_[run_name]\" directory!\n",
    "I'm going to do a comparison.  First, here is what the fit looks like WITHOUT including any polynomials (setting apoly_degree=-1 and mpoly_degree=-1):\n",
    "\n",
    "![](./Fornax.nopoly.png)\n",
    "\n",
    "(Note: The O VI line is not that big. It's compensating for the poor continuum fit in that region)\n",
    "\n",
    "And here is the fit WITH polynomials (apoly_degree=5 and mpoly_degree=20):\n",
    "\n",
    "![](./Fornax.poly.png)\n",
    "\n",
    "The orange line shows the final model.  The decomposed components of the model consist of:\n",
    "- Stellar continuum, in pink\n",
    "- Emission lines, in purple\n",
    "- Additive polynomial, in dotted grey (bottom)\n",
    "- Extinction, in dotted gray (top, read from the right axis)\n",
    "\n",
    "There are a few things to notice here.  And this is meant to be just as much a cautionary tale on using polynomials as it is a showcase of their potential.  The polynomial fit does have a better overall reduced chi^2, and visually fits better at the ends of the spectrum.  But one will notice that the fit is actually worse in the middle (from ~1010-1040 angstroms).  Polynomials are very flexible, but they're not a fix-all by any means.  Also notice how the inferred level of extinction is driven up drastically in the polynomial fit compared to the no-polynomial fit.  This is because the shape of the extinction curve is mildly degenerate with the low-order multiplicative polynomials.  I'd recommend, if you're including multiplicative polynomials in a real fit, to either fix or constrain E(B-V) to alleviate this degeneracy.\n"
   ]
  }
 ],
 "metadata": {
  "kernelspec": {
   "display_name": "Julia 1.10.9",
   "language": "julia",
   "name": "julia-1.10"
  },
  "language_info": {
   "file_extension": ".jl",
   "mimetype": "application/julia",
   "name": "julia",
   "version": "1.10.9"
  }
 },
 "nbformat": 4,
 "nbformat_minor": 5
}
