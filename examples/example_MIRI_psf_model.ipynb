{
 "cells": [
  {
   "attachments": {},
   "cell_type": "markdown",
   "id": "faa40c44",
   "metadata": {},
   "source": [
    "# Likelihood Optimization of gas Kinematics in IFUs (LOKI)\n",
    "## Fitting example: MIRI + PSF model\n",
    "\n",
    "Michael Reefe\n",
    "\n",
    "This example notebook provides a tutorial on how to run LOKI on a multi-channel MIRI/MRS cube, including a PSF model to separate out light from a bright quasar."
   ]
  },
  {
   "attachments": {},
   "cell_type": "markdown",
   "id": "288ac322",
   "metadata": {},
   "source": [
    "In this example, we'll utilize the multi-processing capabilities of the code."
   ]
  },
  {
   "cell_type": "code",
   "execution_count": 1,
   "id": "323538a7",
   "metadata": {},
   "outputs": [
    {
     "name": "stderr",
     "output_type": "stream",
     "text": [
      "\u001b[32m\u001b[1m  Activating\u001b[22m\u001b[39m project at `~/Dropbox/Astrophysics/Phoenix_Cluster/Loki`\n"
     ]
    },
    {
     "name": "stdout",
     "output_type": "stream",
     "text": [
      "      From worker 3:\t\u001b[32m\u001b[1m  Activating\u001b[22m\u001b[39m project at `~/Dropbox/Astrophysics/Phoenix_Cluster/Loki`\n",
      "      From worker 4:\t\u001b[32m\u001b[1m  Activating\u001b[22m\u001b[39m project at `~/Dropbox/Astrophysics/Phoenix_Cluster/Loki`\n",
      "      From worker 2:\t\u001b[32m\u001b[1m  Activating\u001b[22m\u001b[39m project at `~/Dropbox/Astrophysics/Phoenix_Cluster/Loki`\n",
      "      From worker 5:\t\u001b[32m\u001b[1m  Activating\u001b[22m\u001b[39m project at `~/Dropbox/Astrophysics/Phoenix_Cluster/Loki`\n"
     ]
    }
   ],
   "source": [
    "using Distributed\n",
    "procs = addprocs(Sys.CPU_THREADS, exeflags=\"--heap-size-hint=4G\")\n",
    "\n",
    "@everywhere begin\n",
    "    using Pkg\n",
    "    Pkg.activate(dirname(@__DIR__))\n",
    "    Pkg.instantiate()\n",
    "    Pkg.precompile()\n",
    "    using Loki\n",
    "    using Unitful \n",
    "end"
   ]
  },
  {
   "attachments": {},
   "cell_type": "markdown",
   "id": "2862b182",
   "metadata": {},
   "source": [
    "Now we want to load in our data. For this example, we'll be using the channel 1-4 data for NGC 7469, which is located in the same folder as this notebook. The JWST reduced data does not include a redshift, so we must provide the redshift ourselves.  We can use the `from_fits` function to load in the JWST-formatted FITS files, along with the redshift."
   ]
  },
  {
   "cell_type": "code",
   "execution_count": 2,
   "id": "08c04fee",
   "metadata": {},
   "outputs": [
    {
     "name": "stdout",
     "output_type": "stream",
     "text": [
      "\u001b[36m\u001b[1m[ \u001b[22m\u001b[39m\u001b[36m\u001b[1mInfo: \u001b[22m\u001b[39mInitializing DataCube struct from Level3_ch1-long_s3d.fits\n",
      "\u001b[36m\u001b[1m[ \u001b[22m\u001b[39m\u001b[36m\u001b[1mInfo: \u001b[22m\u001b[39mInitializing DataCube struct from Level3_ch1-medium_s3d.fits\n",
      "\u001b[36m\u001b[1m[ \u001b[22m\u001b[39m\u001b[36m\u001b[1mInfo: \u001b[22m\u001b[39mInitializing DataCube struct from Level3_ch1-short_s3d.fits\n",
      "\u001b[36m\u001b[1m[ \u001b[22m\u001b[39m\u001b[36m\u001b[1mInfo: \u001b[22m\u001b[39mInitializing DataCube struct from Level3_ch2-long_s3d.fits\n",
      "\u001b[36m\u001b[1m[ \u001b[22m\u001b[39m\u001b[36m\u001b[1mInfo: \u001b[22m\u001b[39mInitializing DataCube struct from Level3_ch2-medium_s3d.fits\n",
      "\u001b[36m\u001b[1m[ \u001b[22m\u001b[39m\u001b[36m\u001b[1mInfo: \u001b[22m\u001b[39mInitializing DataCube struct from Level3_ch2-short_s3d.fits\n",
      "\u001b[36m\u001b[1m[ \u001b[22m\u001b[39m\u001b[36m\u001b[1mInfo: \u001b[22m\u001b[39mInitializing DataCube struct from Level3_ch3-long_s3d.fits\n",
      "\u001b[36m\u001b[1m[ \u001b[22m\u001b[39m\u001b[36m\u001b[1mInfo: \u001b[22m\u001b[39mInitializing DataCube struct from Level3_ch3-medium_s3d.fits\n",
      "\u001b[36m\u001b[1m[ \u001b[22m\u001b[39m\u001b[36m\u001b[1mInfo: \u001b[22m\u001b[39mInitializing DataCube struct from Level3_ch3-short_s3d.fits\n",
      "\u001b[36m\u001b[1m[ \u001b[22m\u001b[39m\u001b[36m\u001b[1mInfo: \u001b[22m\u001b[39mInitializing DataCube struct from Level3_ch4-long_s3d.fits\n",
      "\u001b[36m\u001b[1m[ \u001b[22m\u001b[39m\u001b[36m\u001b[1mInfo: \u001b[22m\u001b[39mInitializing DataCube struct from Level3_ch4-medium_s3d.fits\n",
      "\u001b[36m\u001b[1m[ \u001b[22m\u001b[39m\u001b[36m\u001b[1mInfo: \u001b[22m\u001b[39mInitializing DataCube struct from Level3_ch4-short_s3d.fits\n"
     ]
    }
   ],
   "source": [
    "# The redshift of the target object: NGC 7469\n",
    "z = 0.016317\n",
    "# The semicolon at the end suppresses printing the output Observation object, which is long and not very enlightening\n",
    "obs = from_fits([\"Level3_ch1-long_s3d.fits\", \n",
    "                 \"Level3_ch1-medium_s3d.fits\", \n",
    "                 \"Level3_ch1-short_s3d.fits\",\n",
    "                 \"Level3_ch2-long_s3d.fits\",\n",
    "                 \"Level3_ch2-medium_s3d.fits\",\n",
    "                 \"Level3_ch2-short_s3d.fits\",\n",
    "                 \"Level3_ch3-long_s3d.fits\",\n",
    "                 \"Level3_ch3-medium_s3d.fits\",\n",
    "                 \"Level3_ch3-short_s3d.fits\",\n",
    "                 \"Level3_ch4-long_s3d.fits\",\n",
    "                 \"Level3_ch4-medium_s3d.fits\",\n",
    "                 \"Level3_ch4-short_s3d.fits\"], z);"
   ]
  },
  {
   "attachments": {},
   "cell_type": "markdown",
   "id": "aea827e4",
   "metadata": {},
   "source": [
    "Next, we create some variables that we will use later. We will be fitting multi-channel data, and we can take the `name` property from the Observation object we just loaded in to get the name of the target. Here, `run_name` is just a unique identifier that we will use for this run."
   ]
  },
  {
   "cell_type": "code",
   "execution_count": 3,
   "id": "8f602574",
   "metadata": {},
   "outputs": [
    {
     "data": {
      "text/plain": [
       "\"NGC_7469_ch0_psf_model\""
      ]
     },
     "metadata": {},
     "output_type": "display_data"
    }
   ],
   "source": [
    "channel = 0   # since we are including data from all 4 channels, this is just a placeholder\n",
    "nm = replace(obs.name, \" \" => \"_\") \n",
    "run_name = \"$(nm)_ch$(channel)_psf_model\""
   ]
  },
  {
   "attachments": {},
   "cell_type": "markdown",
   "id": "4f793d58",
   "metadata": {},
   "source": [
    "Before fitting, we want to do some pre-processing on the data. We want to convert the data to the rest-frame, mast out / interpolate any bad pixels, and replace the JWST pipeline-generated errors with some more realistic ones.  We also need to create our PSF model that we will use to model the bright nuclear point-source from the AGN.  All of this is achieved in the next block of code. This is also where we will combine data from multiple channels into a single cube using the `combine_channels!` function."
   ]
  },
  {
   "cell_type": "code",
   "execution_count": 4,
   "id": "3dfbae1c",
   "metadata": {},
   "outputs": [
    {
     "name": "stdout",
     "output_type": "stream",
     "text": [
      "\u001b[36m\u001b[1m[ \u001b[22m\u001b[39m\u001b[36m\u001b[1mInfo: \u001b[22m\u001b[39mLoading 1 PSF models from /Users/mreefe/Dropbox/Astrophysics/Phoenix_Cluster/Loki/src/core/../templates/psfs_stars...\n",
      "\u001b[36m\u001b[1m[ \u001b[22m\u001b[39m\u001b[36m\u001b[1mInfo: \u001b[22m\u001b[39mLoading 1 PSF models from /Users/mreefe/Dropbox/Astrophysics/Phoenix_Cluster/Loki/src/core/../templates/psfs_stars...\n",
      "\u001b[36m\u001b[1m[ \u001b[22m\u001b[39m\u001b[36m\u001b[1mInfo: \u001b[22m\u001b[39mLoading 1 PSF models from /Users/mreefe/Dropbox/Astrophysics/Phoenix_Cluster/Loki/src/core/../templates/psfs_stars...\n",
      "\u001b[36m\u001b[1m[ \u001b[22m\u001b[39m\u001b[36m\u001b[1mInfo: \u001b[22m\u001b[39mLoading 1 PSF models from /Users/mreefe/Dropbox/Astrophysics/Phoenix_Cluster/Loki/src/core/../templates/psfs_stars...\n",
      "\u001b[36m\u001b[1m[ \u001b[22m\u001b[39m\u001b[36m\u001b[1mInfo: \u001b[22m\u001b[39mLoading 1 PSF models from /Users/mreefe/Dropbox/Astrophysics/Phoenix_Cluster/Loki/src/core/../templates/psfs_stars...\n",
      "\u001b[36m\u001b[1m[ \u001b[22m\u001b[39m\u001b[36m\u001b[1mInfo: \u001b[22m\u001b[39mLoading 1 PSF models from /Users/mreefe/Dropbox/Astrophysics/Phoenix_Cluster/Loki/src/core/../templates/psfs_stars...\n",
      "\u001b[36m\u001b[1m[ \u001b[22m\u001b[39m\u001b[36m\u001b[1mInfo: \u001b[22m\u001b[39mLoading 1 PSF models from /Users/mreefe/Dropbox/Astrophysics/Phoenix_Cluster/Loki/src/core/../templates/psfs_stars...\n",
      "\u001b[36m\u001b[1m[ \u001b[22m\u001b[39m\u001b[36m\u001b[1mInfo: \u001b[22m\u001b[39mLoading 1 PSF models from /Users/mreefe/Dropbox/Astrophysics/Phoenix_Cluster/Loki/src/core/../templates/psfs_stars...\n",
      "\u001b[36m\u001b[1m[ \u001b[22m\u001b[39m\u001b[36m\u001b[1mInfo: \u001b[22m\u001b[39mLoading 1 PSF models from /Users/mreefe/Dropbox/Astrophysics/Phoenix_Cluster/Loki/src/core/../templates/psfs_stars...\n",
      "\u001b[36m\u001b[1m[ \u001b[22m\u001b[39m\u001b[36m\u001b[1mInfo: \u001b[22m\u001b[39mLoading 1 PSF models from /Users/mreefe/Dropbox/Astrophysics/Phoenix_Cluster/Loki/src/core/../templates/psfs_stars...\n",
      "\u001b[36m\u001b[1m[ \u001b[22m\u001b[39m\u001b[36m\u001b[1mInfo: \u001b[22m\u001b[39mLoading 1 PSF models from /Users/mreefe/Dropbox/Astrophysics/Phoenix_Cluster/Loki/src/core/../templates/psfs_stars...\n",
      "\u001b[36m\u001b[1m[ \u001b[22m\u001b[39m\u001b[36m\u001b[1mInfo: \u001b[22m\u001b[39mInterpolating over the 12.22um spectral leak artifact\n",
      "\u001b[36m\u001b[1m[ \u001b[22m\u001b[39m\u001b[36m\u001b[1mInfo: \u001b[22m\u001b[39mLoading 1 PSF models from /Users/mreefe/Dropbox/Astrophysics/Phoenix_Cluster/Loki/src/core/../templates/psfs_stars...\n",
      "\n",
      "new_wave contains values outside the range in old_wave, new_fluxes and new_errs will be filled with the value set in the 'fill' keyword argument. \n",
      "\n",
      "\n",
      "new_wave contains values outside the range in old_wave, new_fluxes and new_errs will be filled with the value set in the 'fill' keyword argument. \n",
      "\n",
      "\n",
      "new_wave contains values outside the range in old_wave, new_fluxes and new_errs will be filled with the value set in the 'fill' keyword argument. \n",
      "\n",
      "\n",
      "new_wave contains values outside the range in old_wave, new_fluxes and new_errs will be filled with the value set in the 'fill' keyword argument. \n",
      "\n",
      "\n",
      "new_wave contains values outside the range in old_wave, new_fluxes and new_errs will be filled with the value set in the 'fill' keyword argument. \n",
      "\n",
      "\n",
      "new_wave contains values outside the range in old_wave, new_fluxes and new_errs will be filled with the value set in the 'fill' keyword argument. \n",
      "\n",
      "\u001b[36m\u001b[1m[ \u001b[22m\u001b[39m\u001b[36m\u001b[1mInfo: \u001b[22m\u001b[39mUsing SFD98 dust map at (α=345.8150416666667°, δ=8.873894444444446°): E(B-V)=0.06873496901798093\n",
      "\u001b[36m\u001b[1m[ \u001b[22m\u001b[39m\u001b[36m\u001b[1mInfo: \u001b[22m\u001b[39mUsing SFD98 dust map at (α=345.8150416666667°, δ=8.873894444444446°): E(B-V)=0.06873496901798093\n",
      "\u001b[36m\u001b[1m[ \u001b[22m\u001b[39m\u001b[36m\u001b[1mInfo: \u001b[22m\u001b[39mUsing SFD98 dust map at (α=345.8150416666667°, δ=8.873894444444446°): E(B-V)=0.06873496901798093\n",
      "\u001b[36m\u001b[1m[ \u001b[22m\u001b[39m\u001b[36m\u001b[1mInfo: \u001b[22m\u001b[39mUsing SFD98 dust map at (α=345.8150416666667°, δ=8.873894444444446°): E(B-V)=0.06873496901798093\n",
      "\u001b[36m\u001b[1m[ \u001b[22m\u001b[39m\u001b[36m\u001b[1mInfo: \u001b[22m\u001b[39mUsing SFD98 dust map at (α=345.8150416666667°, δ=8.873894444444446°): E(B-V)=0.06873496901798093\n",
      "\u001b[36m\u001b[1m[ \u001b[22m\u001b[39m\u001b[36m\u001b[1mInfo: \u001b[22m\u001b[39mUsing SFD98 dust map at (α=345.8150416666667°, δ=8.873894444444446°): E(B-V)=0.06873496901798093\n",
      "\u001b[36m\u001b[1m[ \u001b[22m\u001b[39m\u001b[36m\u001b[1mInfo: \u001b[22m\u001b[39mUsing SFD98 dust map at (α=345.8150416666667°, δ=8.873894444444446°): E(B-V)=0.06873496901798093\n",
      "\u001b[36m\u001b[1m[ \u001b[22m\u001b[39m\u001b[36m\u001b[1mInfo: \u001b[22m\u001b[39mUsing SFD98 dust map at (α=345.8150416666667°, δ=8.873894444444446°): E(B-V)=0.06873496901798093\n",
      "\u001b[36m\u001b[1m[ \u001b[22m\u001b[39m\u001b[36m\u001b[1mInfo: \u001b[22m\u001b[39mUsing SFD98 dust map at (α=345.8150416666667°, δ=8.873894444444446°): E(B-V)=0.06873496901798093\n",
      "\u001b[36m\u001b[1m[ \u001b[22m\u001b[39m\u001b[36m\u001b[1mInfo: \u001b[22m\u001b[39mUsing SFD98 dust map at (α=345.8150416666667°, δ=8.873894444444446°): E(B-V)=0.06873496901798093\n",
      "\u001b[36m\u001b[1m[ \u001b[22m\u001b[39m\u001b[36m\u001b[1mInfo: \u001b[22m\u001b[39mUsing SFD98 dust map at (α=345.8150416666667°, δ=8.873894444444446°): E(B-V)=0.06873496901798093\n",
      "\u001b[36m\u001b[1m[ \u001b[22m\u001b[39m\u001b[36m\u001b[1mInfo: \u001b[22m\u001b[39mUsing SFD98 dust map at (α=345.8150416666667°, δ=8.873894444444446°): E(B-V)=0.06873496901798093\n",
      "\u001b[36m\u001b[1m[ \u001b[22m\u001b[39m\u001b[36m\u001b[1mInfo: \u001b[22m\u001b[39mFitting PSF with a cubic spline with knots spaced by 100 pixels\n",
      "\u001b[36m\u001b[1m[ \u001b[22m\u001b[39m\u001b[36m\u001b[1mInfo: \u001b[22m\u001b[39mFitting PSF with a cubic spline with knots spaced by 100 pixels\n",
      "\u001b[36m\u001b[1m[ \u001b[22m\u001b[39m\u001b[36m\u001b[1mInfo: \u001b[22m\u001b[39mFitting PSF with a cubic spline with knots spaced by 100 pixels\n",
      "\u001b[36m\u001b[1m[ \u001b[22m\u001b[39m\u001b[36m\u001b[1mInfo: \u001b[22m\u001b[39mFitting PSF with a cubic spline with knots spaced by 100 pixels\n",
      "\u001b[36m\u001b[1m[ \u001b[22m\u001b[39m\u001b[36m\u001b[1mInfo: \u001b[22m\u001b[39mFitting PSF with a cubic spline with knots spaced by 100 pixels\n",
      "\u001b[36m\u001b[1m[ \u001b[22m\u001b[39m\u001b[36m\u001b[1mInfo: \u001b[22m\u001b[39mFitting PSF with a cubic spline with knots spaced by 100 pixels\n",
      "\u001b[36m\u001b[1m[ \u001b[22m\u001b[39m\u001b[36m\u001b[1mInfo: \u001b[22m\u001b[39mFitting PSF with a cubic spline with knots spaced by 100 pixels\n",
      "\u001b[36m\u001b[1m[ \u001b[22m\u001b[39m\u001b[36m\u001b[1mInfo: \u001b[22m\u001b[39mFitting PSF with a cubic spline with knots spaced by 100 pixels\n",
      "\u001b[36m\u001b[1m[ \u001b[22m\u001b[39m\u001b[36m\u001b[1mInfo: \u001b[22m\u001b[39mFitting PSF with a cubic spline with knots spaced by 100 pixels\n",
      "\u001b[36m\u001b[1m[ \u001b[22m\u001b[39m\u001b[36m\u001b[1mInfo: \u001b[22m\u001b[39mFitting PSF with a cubic spline with knots spaced by 100 pixels\n",
      "\u001b[36m\u001b[1m[ \u001b[22m\u001b[39m\u001b[36m\u001b[1mInfo: \u001b[22m\u001b[39mFitting PSF with a cubic spline with knots spaced by 100 pixels\n",
      "\u001b[36m\u001b[1m[ \u001b[22m\u001b[39m\u001b[36m\u001b[1mInfo: \u001b[22m\u001b[39mFitting PSF with a cubic spline with knots spaced by 100 pixels\n",
      "\u001b[36m\u001b[1m[ \u001b[22m\u001b[39m\u001b[36m\u001b[1mInfo: \u001b[22m\u001b[39mAligning World Coordinate Systems for channels [:A1, :B1, :C1, :A2, :B2, :C2, :A3, :B3, :C3, :A4, :B4, :C4]...\n",
      "\u001b[36m\u001b[1m[ \u001b[22m\u001b[39m\u001b[36m\u001b[1mInfo: \u001b[22m\u001b[39mThe centroid offset relative to channel A1 for channel A1 is (0, 0) spaxels\n",
      "\u001b[36m\u001b[1m[ \u001b[22m\u001b[39m\u001b[36m\u001b[1mInfo: \u001b[22m\u001b[39mThe centroid offset relative to channel A1 for channel B1 is (0.0027, 0.0083) spaxels\n",
      "\u001b[36m\u001b[1m[ \u001b[22m\u001b[39m\u001b[36m\u001b[1mInfo: \u001b[22m\u001b[39mThe centroid offset relative to channel A1 for channel C1 is (-0.045, 0.056) spaxels\n",
      "\u001b[36m\u001b[1m[ \u001b[22m\u001b[39m\u001b[36m\u001b[1mInfo: \u001b[22m\u001b[39mThe centroid offset relative to channel A1 for channel A2 is (-0.042, 0.019) spaxels\n",
      "\u001b[36m\u001b[1m[ \u001b[22m\u001b[39m\u001b[36m\u001b[1mInfo: \u001b[22m\u001b[39mThe centroid offset relative to channel A1 for channel B2 is (-0.17, 0.29) spaxels\n",
      "\u001b[36m\u001b[1m[ \u001b[22m\u001b[39m\u001b[36m\u001b[1mInfo: \u001b[22m\u001b[39mThe centroid offset relative to channel A1 for channel C2 is (0.033, -0.0033) spaxels\n",
      "\u001b[36m\u001b[1m[ \u001b[22m\u001b[39m\u001b[36m\u001b[1mInfo: \u001b[22m\u001b[39mThe centroid offset relative to channel A1 for channel A3 is (-0.2, -0.029) spaxels\n",
      "\u001b[36m\u001b[1m[ \u001b[22m\u001b[39m\u001b[36m\u001b[1mInfo: \u001b[22m\u001b[39mThe centroid offset relative to channel A1 for channel B3 is (-0.095, -0.14) spaxels\n",
      "\u001b[36m\u001b[1m[ \u001b[22m\u001b[39m\u001b[36m\u001b[1mInfo: \u001b[22m\u001b[39mThe centroid offset relative to channel A1 for channel C3 is (-0.24, 0.12) spaxels\n",
      "\u001b[36m\u001b[1m[ \u001b[22m\u001b[39m\u001b[36m\u001b[1mInfo: \u001b[22m\u001b[39mThe centroid offset relative to channel A1 for channel A4 is (-0.034, 0.025) spaxels\n",
      "\u001b[36m\u001b[1m[ \u001b[22m\u001b[39m\u001b[36m\u001b[1mInfo: \u001b[22m\u001b[39mThe centroid offset relative to channel A1 for channel B4 is (-0.12, -0.024) spaxels\n",
      "\u001b[36m\u001b[1m[ \u001b[22m\u001b[39m\u001b[36m\u001b[1mInfo: \u001b[22m\u001b[39mThe centroid offset relative to channel A1 for channel C4 is (-0.45, -0.13) spaxels\n",
      "\u001b[36m\u001b[1m[ \u001b[22m\u001b[39m\u001b[36m\u001b[1mInfo: \u001b[22m\u001b[39mReprojecting NGC 7469 channel A1 onto the optimal (33, 39) WCS grid...\n",
      "\u001b[36m\u001b[1m[ \u001b[22m\u001b[39m\u001b[36m\u001b[1mInfo: \u001b[22m\u001b[39mReprojecting NGC 7469 channel B1 onto the optimal (33, 39) WCS grid...\n"
     ]
    },
    {
     "name": "stderr",
     "output_type": "stream",
     "text": [
      "\u001b[32mProgress: 100%|█████████████████████████████████████████| Time: 0:00:44\u001b[39m\u001b[K\n"
     ]
    },
    {
     "name": "stdout",
     "output_type": "stream",
     "text": [
      "\u001b[36m\u001b[1m[ \u001b[22m\u001b[39m\u001b[36m\u001b[1mInfo: \u001b[22m\u001b[39mReprojecting NGC 7469 channel C1 onto the optimal (33, 39) WCS grid...\n"
     ]
    },
    {
     "name": "stderr",
     "output_type": "stream",
     "text": [
      "\u001b[32mProgress: 100%|█████████████████████████████████████████| Time: 0:00:50\u001b[39m\u001b[K\n"
     ]
    },
    {
     "name": "stdout",
     "output_type": "stream",
     "text": [
      "\u001b[36m\u001b[1m[ \u001b[22m\u001b[39m\u001b[36m\u001b[1mInfo: \u001b[22m\u001b[39mReprojecting NGC 7469 channel A2 onto the optimal (33, 39) WCS grid...\n"
     ]
    },
    {
     "name": "stderr",
     "output_type": "stream",
     "text": [
      "\u001b[32mProgress: 100%|█████████████████████████████████████████| Time: 0:00:33\u001b[39m\u001b[K\n"
     ]
    },
    {
     "name": "stdout",
     "output_type": "stream",
     "text": [
      "\u001b[36m\u001b[1m[ \u001b[22m\u001b[39m\u001b[36m\u001b[1mInfo: \u001b[22m\u001b[39mReprojecting NGC 7469 channel B2 onto the optimal (33, 39) WCS grid...\n"
     ]
    },
    {
     "name": "stderr",
     "output_type": "stream",
     "text": [
      "\u001b[32mProgress: 100%|█████████████████████████████████████████| Time: 0:00:38\u001b[39m\u001b[K\n"
     ]
    },
    {
     "name": "stdout",
     "output_type": "stream",
     "text": [
      "\u001b[36m\u001b[1m[ \u001b[22m\u001b[39m\u001b[36m\u001b[1mInfo: \u001b[22m\u001b[39mReprojecting NGC 7469 channel C2 onto the optimal (33, 39) WCS grid...\n"
     ]
    },
    {
     "name": "stderr",
     "output_type": "stream",
     "text": [
      "\u001b[32mProgress: 100%|█████████████████████████████████████████| Time: 0:00:45\u001b[39m\u001b[K\n"
     ]
    },
    {
     "name": "stdout",
     "output_type": "stream",
     "text": [
      "\u001b[36m\u001b[1m[ \u001b[22m\u001b[39m\u001b[36m\u001b[1mInfo: \u001b[22m\u001b[39mReprojecting NGC 7469 channel A3 onto the optimal (33, 39) WCS grid...\n"
     ]
    },
    {
     "name": "stderr",
     "output_type": "stream",
     "text": [
      "\u001b[32mProgress: 100%|█████████████████████████████████████████| Time: 0:00:26\u001b[39m\u001b[K\n"
     ]
    },
    {
     "name": "stdout",
     "output_type": "stream",
     "text": [
      "\u001b[36m\u001b[1m[ \u001b[22m\u001b[39m\u001b[36m\u001b[1mInfo: \u001b[22m\u001b[39mReprojecting NGC 7469 channel B3 onto the optimal (33, 39) WCS grid...\n"
     ]
    },
    {
     "name": "stderr",
     "output_type": "stream",
     "text": [
      "\u001b[32mProgress: 100%|█████████████████████████████████████████| Time: 0:00:31\u001b[39m\u001b[K\n"
     ]
    },
    {
     "name": "stdout",
     "output_type": "stream",
     "text": [
      "\u001b[36m\u001b[1m[ \u001b[22m\u001b[39m\u001b[36m\u001b[1mInfo: \u001b[22m\u001b[39mReprojecting NGC 7469 channel C3 onto the optimal (33, 39) WCS grid...\n"
     ]
    },
    {
     "name": "stderr",
     "output_type": "stream",
     "text": [
      "\u001b[32mProgress: 100%|█████████████████████████████████████████| Time: 0:00:34\u001b[39m\u001b[K\n"
     ]
    },
    {
     "name": "stdout",
     "output_type": "stream",
     "text": [
      "\u001b[36m\u001b[1m[ \u001b[22m\u001b[39m\u001b[36m\u001b[1mInfo: \u001b[22m\u001b[39mReprojecting NGC 7469 channel A4 onto the optimal (33, 39) WCS grid...\n"
     ]
    },
    {
     "name": "stderr",
     "output_type": "stream",
     "text": [
      "\u001b[32mProgress: 100%|█████████████████████████████████████████| Time: 0:00:18\u001b[39m\u001b[K\n"
     ]
    },
    {
     "name": "stdout",
     "output_type": "stream",
     "text": [
      "\u001b[36m\u001b[1m[ \u001b[22m\u001b[39m\u001b[36m\u001b[1mInfo: \u001b[22m\u001b[39mReprojecting NGC 7469 channel B4 onto the optimal (33, 39) WCS grid...\n"
     ]
    },
    {
     "name": "stderr",
     "output_type": "stream",
     "text": [
      "\u001b[32mProgress: 100%|█████████████████████████████████████████| Time: 0:00:21\u001b[39m\u001b[K\n"
     ]
    },
    {
     "name": "stdout",
     "output_type": "stream",
     "text": [
      "\u001b[36m\u001b[1m[ \u001b[22m\u001b[39m\u001b[36m\u001b[1mInfo: \u001b[22m\u001b[39mReprojecting NGC 7469 channel C4 onto the optimal (33, 39) WCS grid...\n"
     ]
    },
    {
     "name": "stderr",
     "output_type": "stream",
     "text": [
      "\u001b[32mProgress: 100%|█████████████████████████████████████████| Time: 0:00:25\u001b[39m\u001b[K\n"
     ]
    },
    {
     "name": "stdout",
     "output_type": "stream",
     "text": [
      "\n",
      "new_wave contains values outside the range in old_wave, new_fluxes and new_errs will be filled with the value set in the 'fill' keyword argument. \n",
      "\n",
      "\n",
      "new_wave contains values outside the range in old_wave, new_fluxes and new_errs will be filled with the value set in the 'fill' keyword argument. \n",
      "\n",
      "\n",
      "new_wave contains values outside the range in old_wave, new_fluxes and new_errs will be filled with the value set in the 'fill' keyword argument. \n",
      "\n",
      "\n",
      "new_wave contains values outside the range in old_wave, new_fluxes and new_errs will be filled with the value set in the 'fill' keyword argument. \n",
      "\n",
      "\n",
      "new_wave contains values outside the range in old_wave, new_fluxes and new_errs will be filled with the value set in the 'fill' keyword argument. \n",
      "\n",
      "\n",
      "new_wave contains values outside the range in old_wave, new_fluxes and new_errs will be filled with the value set in the 'fill' keyword argument. \n",
      "\n",
      "\n",
      "new_wave contains values outside the range in old_wave, new_fluxes and new_errs will be filled with the value set in the 'fill' keyword argument. \n",
      "\n",
      "\n",
      "new_wave contains values outside the range in old_wave, new_fluxes and new_errs will be filled with the value set in the 'fill' keyword argument. \n",
      "\n",
      "\n",
      "new_wave contains values outside the range in old_wave, new_fluxes and new_errs will be filled with the value set in the 'fill' keyword argument. \n",
      "\n",
      "\n",
      "new_wave contains values outside the range in old_wave, new_fluxes and new_errs will be filled with the value set in the 'fill' keyword argument. \n",
      "\n",
      "\n",
      "new_wave contains values outside the range in old_wave, new_fluxes and new_errs will be filled with the value set in the 'fill' keyword argument. \n",
      "\n",
      "\n",
      "new_wave contains values outside the range in old_wave, new_fluxes and new_errs will be filled with the value set in the 'fill' keyword argument. \n",
      "\n",
      "\n",
      "new_wave contains values outside the range in old_wave, new_fluxes and new_errs will be filled with the value set in the 'fill' keyword argument. \n",
      "\n",
      "\n",
      "new_wave contains values outside the range in old_wave, new_fluxes and new_errs will be filled with the value set in the 'fill' keyword argument. \n",
      "\n",
      "\n",
      "new_wave contains values outside the range in old_wave, new_fluxes and new_errs will be filled with the value set in the 'fill' keyword argument. \n",
      "\n",
      "\n",
      "new_wave contains values outside the range in old_wave, new_fluxes and new_errs will be filled with the value set in the 'fill' keyword argument. \n",
      "\n",
      "\u001b[33m\u001b[1m┌ \u001b[22m\u001b[39m\u001b[33m\u001b[1mWarning: \u001b[22m\u001b[39mThe wavelength dimension has not be resampled to be linear when concatenating multiple full channels! Only overlapping regions between channels have been resampled to a median resolution!\n",
      "\u001b[33m\u001b[1m└ \u001b[22m\u001b[39m\u001b[90m@ Loki ~/Dropbox/Astrophysics/Phoenix_Cluster/Loki/src/core/cubedata.jl:2223\u001b[39m\n",
      "\u001b[36m\u001b[1m[ \u001b[22m\u001b[39m\u001b[36m\u001b[1mInfo: \u001b[22m\u001b[39mMasking bins with bad data...\n",
      "\u001b[36m\u001b[1m[ \u001b[22m\u001b[39m\u001b[36m\u001b[1mInfo: \u001b[22m\u001b[39mRedoing logarithmic wavelength binning...\n",
      "\u001b[36m\u001b[1m[ \u001b[22m\u001b[39m\u001b[36m\u001b[1mInfo: \u001b[22m\u001b[39mDone!\n",
      "\u001b[36m\u001b[1m[ \u001b[22m\u001b[39m\u001b[36m\u001b[1mInfo: \u001b[22m\u001b[39mInterpolating NaNs in cube with channel MULTIPLE, band MULTIPLE:\n",
      "\u001b[36m\u001b[1m[ \u001b[22m\u001b[39m\u001b[36m\u001b[1mInfo: \u001b[22m\u001b[39mCalculating statistical errors for each spaxel...\n"
     ]
    },
    {
     "name": "stderr",
     "output_type": "stream",
     "text": [
      "\u001b[32mProgress:  54%|██████████████████████▏                  |  ETA: 0:02:09\u001b[39m\u001b[KExcessive output truncated after 524368 bytes."
     ]
    }
   ],
   "source": [
    "if isfile(\"$nm.channel$channel.rest_frame.fits\")\n",
    "    # If we've already performed this step in a previous run, just load in the pre-processed data\n",
    "    obs = from_fits([\"$nm.channel$channel.rest_frame.fits\"], obs.z);\n",
    "    \n",
    "else\n",
    "    # First, generate the PSF models\n",
    "    generate_psf_model!(obs)\n",
    "\n",
    "    # Convert to rest-frame wavelength vector, and mask out bad spaxels\n",
    "    correct!(obs)\n",
    "\n",
    "    # Fit cubic spline to the PSF\n",
    "    for band in (:A, :B, :C)\n",
    "        for channel in (1, 2, 3, 4)\n",
    "            chband = Symbol(band, channel)\n",
    "            splinefit_psf_model!(obs.channels[chband], 100)\n",
    "        end\n",
    "    end\n",
    "\n",
    "    # Reproject the sub-channels onto the same WCS grid and combine them into one full channel\n",
    "    # - The [:A2, :B2, :C2] vector gives the names of each channel to concatenate. By default, JWST subchannels are\n",
    "    #   given labels of \"A\" for short, \"B\" for medium, and \"C\" for long, followed by the channel number.  \n",
    "    # - The \"out_id\" argument will determine the label given to the combined channel data. \n",
    "    combine_channels!(obs, [:A1,:B1,:C1,:A2,:B2,:C2,:A3,:B3,:C3,:A4,:B4,:C4], out_id=channel, order=1, \n",
    "        adjust_wcs_headerinfo=true, extract_from_ap=0., max_λ=17.2u\"μm\")\n",
    "\n",
    "    # rotate to the RA/Dec axes on the sky\n",
    "    rotate_to_sky_axes!(obs.channels[channel])\n",
    "\n",
    "    # We interpolate any rogue NaNs using a linear interpolation, since the MPFIT minimizer does not handle NaNs well.\n",
    "    interpolate_nans!(obs.channels[channel])\n",
    "\n",
    "    # Finally, we calculate the statistical errors (i.e. the standard deviation of the residuals with a cubic spline fit)\n",
    "    # and replace the errors in the cube with these, since the provided errors are typically underestimated.\n",
    "    # You can skip this step if you wish to use the default errors.\n",
    "    calculate_statistical_errors!(obs.channels[channel])\n",
    "    \n",
    "    # Save the pre-processed data as a FITS file so it can be quickly reloaded later\n",
    "    save_fits(\".\", obs, [channel]);\n",
    "end"
   ]
  },
  {
   "cell_type": "markdown",
   "id": "e827079a",
   "metadata": {},
   "source": [
    "We now need to create the full 3D nuclear template out of the PSF model.  Conceptually, all this does is multiply the normalized PSF with the spectrum of the brightest spaxel."
   ]
  },
  {
   "cell_type": "code",
   "execution_count": 5,
   "id": "5928cb55",
   "metadata": {},
   "outputs": [
    {
     "data": {
      "text/plain": [
       "49×45×7790 Array{Quantity{Float64, 𝐌 𝐓⁻², Unitful.FreeUnits{(erg, Hz⁻¹, cm⁻², s⁻¹, sr⁻¹), 𝐌 𝐓⁻², nothing}}, 3}:\n",
       "[:, :, 1] =\n",
       " NaN erg Hz⁻¹ cm⁻² s⁻¹ sr⁻¹  …  NaN erg Hz⁻¹ cm⁻² s⁻¹ sr⁻¹\n",
       " NaN erg Hz⁻¹ cm⁻² s⁻¹ sr⁻¹     NaN erg Hz⁻¹ cm⁻² s⁻¹ sr⁻¹\n",
       " NaN erg Hz⁻¹ cm⁻² s⁻¹ sr⁻¹     NaN erg Hz⁻¹ cm⁻² s⁻¹ sr⁻¹\n",
       " NaN erg Hz⁻¹ cm⁻² s⁻¹ sr⁻¹     NaN erg Hz⁻¹ cm⁻² s⁻¹ sr⁻¹\n",
       " NaN erg Hz⁻¹ cm⁻² s⁻¹ sr⁻¹     NaN erg Hz⁻¹ cm⁻² s⁻¹ sr⁻¹\n",
       " NaN erg Hz⁻¹ cm⁻² s⁻¹ sr⁻¹  …  NaN erg Hz⁻¹ cm⁻² s⁻¹ sr⁻¹\n",
       " NaN erg Hz⁻¹ cm⁻² s⁻¹ sr⁻¹     NaN erg Hz⁻¹ cm⁻² s⁻¹ sr⁻¹\n",
       " NaN erg Hz⁻¹ cm⁻² s⁻¹ sr⁻¹     NaN erg Hz⁻¹ cm⁻² s⁻¹ sr⁻¹\n",
       " NaN erg Hz⁻¹ cm⁻² s⁻¹ sr⁻¹     NaN erg Hz⁻¹ cm⁻² s⁻¹ sr⁻¹\n",
       " NaN erg Hz⁻¹ cm⁻² s⁻¹ sr⁻¹     NaN erg Hz⁻¹ cm⁻² s⁻¹ sr⁻¹\n",
       "                          ⋮  ⋱  \n",
       " NaN erg Hz⁻¹ cm⁻² s⁻¹ sr⁻¹  …  NaN erg Hz⁻¹ cm⁻² s⁻¹ sr⁻¹\n",
       " NaN erg Hz⁻¹ cm⁻² s⁻¹ sr⁻¹     NaN erg Hz⁻¹ cm⁻² s⁻¹ sr⁻¹\n",
       " NaN erg Hz⁻¹ cm⁻² s⁻¹ sr⁻¹     NaN erg Hz⁻¹ cm⁻² s⁻¹ sr⁻¹\n",
       " NaN erg Hz⁻¹ cm⁻² s⁻¹ sr⁻¹     NaN erg Hz⁻¹ cm⁻² s⁻¹ sr⁻¹\n",
       " NaN erg Hz⁻¹ cm⁻² s⁻¹ sr⁻¹     NaN erg Hz⁻¹ cm⁻² s⁻¹ sr⁻¹\n",
       " NaN erg Hz⁻¹ cm⁻² s⁻¹ sr⁻¹  …  NaN erg Hz⁻¹ cm⁻² s⁻¹ sr⁻¹\n",
       " NaN erg Hz⁻¹ cm⁻² s⁻¹ sr⁻¹     NaN erg Hz⁻¹ cm⁻² s⁻¹ sr⁻¹\n",
       " NaN erg Hz⁻¹ cm⁻² s⁻¹ sr⁻¹     NaN erg Hz⁻¹ cm⁻² s⁻¹ sr⁻¹\n",
       " NaN erg Hz⁻¹ cm⁻² s⁻¹ sr⁻¹     NaN erg Hz⁻¹ cm⁻² s⁻¹ sr⁻¹\n",
       "\n",
       "[:, :, 2] =\n",
       " NaN erg Hz⁻¹ cm⁻² s⁻¹ sr⁻¹  …  NaN erg Hz⁻¹ cm⁻² s⁻¹ sr⁻¹\n",
       " NaN erg Hz⁻¹ cm⁻² s⁻¹ sr⁻¹     NaN erg Hz⁻¹ cm⁻² s⁻¹ sr⁻¹\n",
       " NaN erg Hz⁻¹ cm⁻² s⁻¹ sr⁻¹     NaN erg Hz⁻¹ cm⁻² s⁻¹ sr⁻¹\n",
       " NaN erg Hz⁻¹ cm⁻² s⁻¹ sr⁻¹     NaN erg Hz⁻¹ cm⁻² s⁻¹ sr⁻¹\n",
       " NaN erg Hz⁻¹ cm⁻² s⁻¹ sr⁻¹     NaN erg Hz⁻¹ cm⁻² s⁻¹ sr⁻¹\n",
       " NaN erg Hz⁻¹ cm⁻² s⁻¹ sr⁻¹  …  NaN erg Hz⁻¹ cm⁻² s⁻¹ sr⁻¹\n",
       " NaN erg Hz⁻¹ cm⁻² s⁻¹ sr⁻¹     NaN erg Hz⁻¹ cm⁻² s⁻¹ sr⁻¹\n",
       " NaN erg Hz⁻¹ cm⁻² s⁻¹ sr⁻¹     NaN erg Hz⁻¹ cm⁻² s⁻¹ sr⁻¹\n",
       " NaN erg Hz⁻¹ cm⁻² s⁻¹ sr⁻¹     NaN erg Hz⁻¹ cm⁻² s⁻¹ sr⁻¹\n",
       " NaN erg Hz⁻¹ cm⁻² s⁻¹ sr⁻¹     NaN erg Hz⁻¹ cm⁻² s⁻¹ sr⁻¹\n",
       "                          ⋮  ⋱  \n",
       " NaN erg Hz⁻¹ cm⁻² s⁻¹ sr⁻¹  …  NaN erg Hz⁻¹ cm⁻² s⁻¹ sr⁻¹\n",
       " NaN erg Hz⁻¹ cm⁻² s⁻¹ sr⁻¹     NaN erg Hz⁻¹ cm⁻² s⁻¹ sr⁻¹\n",
       " NaN erg Hz⁻¹ cm⁻² s⁻¹ sr⁻¹     NaN erg Hz⁻¹ cm⁻² s⁻¹ sr⁻¹\n",
       " NaN erg Hz⁻¹ cm⁻² s⁻¹ sr⁻¹     NaN erg Hz⁻¹ cm⁻² s⁻¹ sr⁻¹\n",
       " NaN erg Hz⁻¹ cm⁻² s⁻¹ sr⁻¹     NaN erg Hz⁻¹ cm⁻² s⁻¹ sr⁻¹\n",
       " NaN erg Hz⁻¹ cm⁻² s⁻¹ sr⁻¹  …  NaN erg Hz⁻¹ cm⁻² s⁻¹ sr⁻¹\n",
       " NaN erg Hz⁻¹ cm⁻² s⁻¹ sr⁻¹     NaN erg Hz⁻¹ cm⁻² s⁻¹ sr⁻¹\n",
       " NaN erg Hz⁻¹ cm⁻² s⁻¹ sr⁻¹     NaN erg Hz⁻¹ cm⁻² s⁻¹ sr⁻¹\n",
       " NaN erg Hz⁻¹ cm⁻² s⁻¹ sr⁻¹     NaN erg Hz⁻¹ cm⁻² s⁻¹ sr⁻¹\n",
       "\n",
       "[:, :, 3] =\n",
       " NaN erg Hz⁻¹ cm⁻² s⁻¹ sr⁻¹  …  NaN erg Hz⁻¹ cm⁻² s⁻¹ sr⁻¹\n",
       " NaN erg Hz⁻¹ cm⁻² s⁻¹ sr⁻¹     NaN erg Hz⁻¹ cm⁻² s⁻¹ sr⁻¹\n",
       " NaN erg Hz⁻¹ cm⁻² s⁻¹ sr⁻¹     NaN erg Hz⁻¹ cm⁻² s⁻¹ sr⁻¹\n",
       " NaN erg Hz⁻¹ cm⁻² s⁻¹ sr⁻¹     NaN erg Hz⁻¹ cm⁻² s⁻¹ sr⁻¹\n",
       " NaN erg Hz⁻¹ cm⁻² s⁻¹ sr⁻¹     NaN erg Hz⁻¹ cm⁻² s⁻¹ sr⁻¹\n",
       " NaN erg Hz⁻¹ cm⁻² s⁻¹ sr⁻¹  …  NaN erg Hz⁻¹ cm⁻² s⁻¹ sr⁻¹\n",
       " NaN erg Hz⁻¹ cm⁻² s⁻¹ sr⁻¹     NaN erg Hz⁻¹ cm⁻² s⁻¹ sr⁻¹\n",
       " NaN erg Hz⁻¹ cm⁻² s⁻¹ sr⁻¹     NaN erg Hz⁻¹ cm⁻² s⁻¹ sr⁻¹\n",
       " NaN erg Hz⁻¹ cm⁻² s⁻¹ sr⁻¹     NaN erg Hz⁻¹ cm⁻² s⁻¹ sr⁻¹\n",
       " NaN erg Hz⁻¹ cm⁻² s⁻¹ sr⁻¹     NaN erg Hz⁻¹ cm⁻² s⁻¹ sr⁻¹\n",
       "                          ⋮  ⋱  \n",
       " NaN erg Hz⁻¹ cm⁻² s⁻¹ sr⁻¹  …  NaN erg Hz⁻¹ cm⁻² s⁻¹ sr⁻¹\n",
       " NaN erg Hz⁻¹ cm⁻² s⁻¹ sr⁻¹     NaN erg Hz⁻¹ cm⁻² s⁻¹ sr⁻¹\n",
       " NaN erg Hz⁻¹ cm⁻² s⁻¹ sr⁻¹     NaN erg Hz⁻¹ cm⁻² s⁻¹ sr⁻¹\n",
       " NaN erg Hz⁻¹ cm⁻² s⁻¹ sr⁻¹     NaN erg Hz⁻¹ cm⁻² s⁻¹ sr⁻¹\n",
       " NaN erg Hz⁻¹ cm⁻² s⁻¹ sr⁻¹     NaN erg Hz⁻¹ cm⁻² s⁻¹ sr⁻¹\n",
       " NaN erg Hz⁻¹ cm⁻² s⁻¹ sr⁻¹  …  NaN erg Hz⁻¹ cm⁻² s⁻¹ sr⁻¹\n",
       " NaN erg Hz⁻¹ cm⁻² s⁻¹ sr⁻¹     NaN erg Hz⁻¹ cm⁻² s⁻¹ sr⁻¹\n",
       " NaN erg Hz⁻¹ cm⁻² s⁻¹ sr⁻¹     NaN erg Hz⁻¹ cm⁻² s⁻¹ sr⁻¹\n",
       " NaN erg Hz⁻¹ cm⁻² s⁻¹ sr⁻¹     NaN erg Hz⁻¹ cm⁻² s⁻¹ sr⁻¹\n",
       "\n",
       ";;; … \n",
       "\n",
       "[:, :, 7788] =\n",
       " NaN erg Hz⁻¹ cm⁻² s⁻¹ sr⁻¹  …  NaN erg Hz⁻¹ cm⁻² s⁻¹ sr⁻¹\n",
       " NaN erg Hz⁻¹ cm⁻² s⁻¹ sr⁻¹     NaN erg Hz⁻¹ cm⁻² s⁻¹ sr⁻¹\n",
       " NaN erg Hz⁻¹ cm⁻² s⁻¹ sr⁻¹     NaN erg Hz⁻¹ cm⁻² s⁻¹ sr⁻¹\n",
       " NaN erg Hz⁻¹ cm⁻² s⁻¹ sr⁻¹     NaN erg Hz⁻¹ cm⁻² s⁻¹ sr⁻¹\n",
       " NaN erg Hz⁻¹ cm⁻² s⁻¹ sr⁻¹     NaN erg Hz⁻¹ cm⁻² s⁻¹ sr⁻¹\n",
       " NaN erg Hz⁻¹ cm⁻² s⁻¹ sr⁻¹  …  NaN erg Hz⁻¹ cm⁻² s⁻¹ sr⁻¹\n",
       " NaN erg Hz⁻¹ cm⁻² s⁻¹ sr⁻¹     NaN erg Hz⁻¹ cm⁻² s⁻¹ sr⁻¹\n",
       " NaN erg Hz⁻¹ cm⁻² s⁻¹ sr⁻¹     NaN erg Hz⁻¹ cm⁻² s⁻¹ sr⁻¹\n",
       " NaN erg Hz⁻¹ cm⁻² s⁻¹ sr⁻¹     NaN erg Hz⁻¹ cm⁻² s⁻¹ sr⁻¹\n",
       " NaN erg Hz⁻¹ cm⁻² s⁻¹ sr⁻¹     NaN erg Hz⁻¹ cm⁻² s⁻¹ sr⁻¹\n",
       "                          ⋮  ⋱  \n",
       " NaN erg Hz⁻¹ cm⁻² s⁻¹ sr⁻¹  …  NaN erg Hz⁻¹ cm⁻² s⁻¹ sr⁻¹\n",
       " NaN erg Hz⁻¹ cm⁻² s⁻¹ sr⁻¹     NaN erg Hz⁻¹ cm⁻² s⁻¹ sr⁻¹\n",
       " NaN erg Hz⁻¹ cm⁻² s⁻¹ sr⁻¹     NaN erg Hz⁻¹ cm⁻² s⁻¹ sr⁻¹\n",
       " NaN erg Hz⁻¹ cm⁻² s⁻¹ sr⁻¹     NaN erg Hz⁻¹ cm⁻² s⁻¹ sr⁻¹\n",
       " NaN erg Hz⁻¹ cm⁻² s⁻¹ sr⁻¹     NaN erg Hz⁻¹ cm⁻² s⁻¹ sr⁻¹\n",
       " NaN erg Hz⁻¹ cm⁻² s⁻¹ sr⁻¹  …  NaN erg Hz⁻¹ cm⁻² s⁻¹ sr⁻¹\n",
       " NaN erg Hz⁻¹ cm⁻² s⁻¹ sr⁻¹     NaN erg Hz⁻¹ cm⁻² s⁻¹ sr⁻¹\n",
       " NaN erg Hz⁻¹ cm⁻² s⁻¹ sr⁻¹     NaN erg Hz⁻¹ cm⁻² s⁻¹ sr⁻¹\n",
       " NaN erg Hz⁻¹ cm⁻² s⁻¹ sr⁻¹     NaN erg Hz⁻¹ cm⁻² s⁻¹ sr⁻¹\n",
       "\n",
       "[:, :, 7789] =\n",
       " NaN erg Hz⁻¹ cm⁻² s⁻¹ sr⁻¹  …  NaN erg Hz⁻¹ cm⁻² s⁻¹ sr⁻¹\n",
       " NaN erg Hz⁻¹ cm⁻² s⁻¹ sr⁻¹     NaN erg Hz⁻¹ cm⁻² s⁻¹ sr⁻¹\n",
       " NaN erg Hz⁻¹ cm⁻² s⁻¹ sr⁻¹     NaN erg Hz⁻¹ cm⁻² s⁻¹ sr⁻¹\n",
       " NaN erg Hz⁻¹ cm⁻² s⁻¹ sr⁻¹     NaN erg Hz⁻¹ cm⁻² s⁻¹ sr⁻¹\n",
       " NaN erg Hz⁻¹ cm⁻² s⁻¹ sr⁻¹     NaN erg Hz⁻¹ cm⁻² s⁻¹ sr⁻¹\n",
       " NaN erg Hz⁻¹ cm⁻² s⁻¹ sr⁻¹  …  NaN erg Hz⁻¹ cm⁻² s⁻¹ sr⁻¹\n",
       " NaN erg Hz⁻¹ cm⁻² s⁻¹ sr⁻¹     NaN erg Hz⁻¹ cm⁻² s⁻¹ sr⁻¹\n",
       " NaN erg Hz⁻¹ cm⁻² s⁻¹ sr⁻¹     NaN erg Hz⁻¹ cm⁻² s⁻¹ sr⁻¹\n",
       " NaN erg Hz⁻¹ cm⁻² s⁻¹ sr⁻¹     NaN erg Hz⁻¹ cm⁻² s⁻¹ sr⁻¹\n",
       " NaN erg Hz⁻¹ cm⁻² s⁻¹ sr⁻¹     NaN erg Hz⁻¹ cm⁻² s⁻¹ sr⁻¹\n",
       "                          ⋮  ⋱  \n",
       " NaN erg Hz⁻¹ cm⁻² s⁻¹ sr⁻¹  …  NaN erg Hz⁻¹ cm⁻² s⁻¹ sr⁻¹\n",
       " NaN erg Hz⁻¹ cm⁻² s⁻¹ sr⁻¹     NaN erg Hz⁻¹ cm⁻² s⁻¹ sr⁻¹\n",
       " NaN erg Hz⁻¹ cm⁻² s⁻¹ sr⁻¹     NaN erg Hz⁻¹ cm⁻² s⁻¹ sr⁻¹\n",
       " NaN erg Hz⁻¹ cm⁻² s⁻¹ sr⁻¹     NaN erg Hz⁻¹ cm⁻² s⁻¹ sr⁻¹\n",
       " NaN erg Hz⁻¹ cm⁻² s⁻¹ sr⁻¹     NaN erg Hz⁻¹ cm⁻² s⁻¹ sr⁻¹\n",
       " NaN erg Hz⁻¹ cm⁻² s⁻¹ sr⁻¹  …  NaN erg Hz⁻¹ cm⁻² s⁻¹ sr⁻¹\n",
       " NaN erg Hz⁻¹ cm⁻² s⁻¹ sr⁻¹     NaN erg Hz⁻¹ cm⁻² s⁻¹ sr⁻¹\n",
       " NaN erg Hz⁻¹ cm⁻² s⁻¹ sr⁻¹     NaN erg Hz⁻¹ cm⁻² s⁻¹ sr⁻¹\n",
       " NaN erg Hz⁻¹ cm⁻² s⁻¹ sr⁻¹     NaN erg Hz⁻¹ cm⁻² s⁻¹ sr⁻¹\n",
       "\n",
       "[:, :, 7790] =\n",
       " NaN erg Hz⁻¹ cm⁻² s⁻¹ sr⁻¹  …  NaN erg Hz⁻¹ cm⁻² s⁻¹ sr⁻¹\n",
       " NaN erg Hz⁻¹ cm⁻² s⁻¹ sr⁻¹     NaN erg Hz⁻¹ cm⁻² s⁻¹ sr⁻¹\n",
       " NaN erg Hz⁻¹ cm⁻² s⁻¹ sr⁻¹     NaN erg Hz⁻¹ cm⁻² s⁻¹ sr⁻¹\n",
       " NaN erg Hz⁻¹ cm⁻² s⁻¹ sr⁻¹     NaN erg Hz⁻¹ cm⁻² s⁻¹ sr⁻¹\n",
       " NaN erg Hz⁻¹ cm⁻² s⁻¹ sr⁻¹     NaN erg Hz⁻¹ cm⁻² s⁻¹ sr⁻¹\n",
       " NaN erg Hz⁻¹ cm⁻² s⁻¹ sr⁻¹  …  NaN erg Hz⁻¹ cm⁻² s⁻¹ sr⁻¹\n",
       " NaN erg Hz⁻¹ cm⁻² s⁻¹ sr⁻¹     NaN erg Hz⁻¹ cm⁻² s⁻¹ sr⁻¹\n",
       " NaN erg Hz⁻¹ cm⁻² s⁻¹ sr⁻¹     NaN erg Hz⁻¹ cm⁻² s⁻¹ sr⁻¹\n",
       " NaN erg Hz⁻¹ cm⁻² s⁻¹ sr⁻¹     NaN erg Hz⁻¹ cm⁻² s⁻¹ sr⁻¹\n",
       " NaN erg Hz⁻¹ cm⁻² s⁻¹ sr⁻¹     NaN erg Hz⁻¹ cm⁻² s⁻¹ sr⁻¹\n",
       "                          ⋮  ⋱  \n",
       " NaN erg Hz⁻¹ cm⁻² s⁻¹ sr⁻¹  …  NaN erg Hz⁻¹ cm⁻² s⁻¹ sr⁻¹\n",
       " NaN erg Hz⁻¹ cm⁻² s⁻¹ sr⁻¹     NaN erg Hz⁻¹ cm⁻² s⁻¹ sr⁻¹\n",
       " NaN erg Hz⁻¹ cm⁻² s⁻¹ sr⁻¹     NaN erg Hz⁻¹ cm⁻² s⁻¹ sr⁻¹\n",
       " NaN erg Hz⁻¹ cm⁻² s⁻¹ sr⁻¹     NaN erg Hz⁻¹ cm⁻² s⁻¹ sr⁻¹\n",
       " NaN erg Hz⁻¹ cm⁻² s⁻¹ sr⁻¹     NaN erg Hz⁻¹ cm⁻² s⁻¹ sr⁻¹\n",
       " NaN erg Hz⁻¹ cm⁻² s⁻¹ sr⁻¹  …  NaN erg Hz⁻¹ cm⁻² s⁻¹ sr⁻¹\n",
       " NaN erg Hz⁻¹ cm⁻² s⁻¹ sr⁻¹     NaN erg Hz⁻¹ cm⁻² s⁻¹ sr⁻¹\n",
       " NaN erg Hz⁻¹ cm⁻² s⁻¹ sr⁻¹     NaN erg Hz⁻¹ cm⁻² s⁻¹ sr⁻¹\n",
       " NaN erg Hz⁻¹ cm⁻² s⁻¹ sr⁻¹     NaN erg Hz⁻¹ cm⁻² s⁻¹ sr⁻¹"
      ]
     },
     "metadata": {},
     "output_type": "display_data"
    }
   ],
   "source": [
    "nuc_temp = generate_nuclear_template(obs.channels[channel], 0.)"
   ]
  },
  {
   "attachments": {},
   "cell_type": "markdown",
   "id": "baaa4ddb",
   "metadata": {},
   "source": [
    "Finally, we create the `CubeFitter` object and call the `fit_cube!` function to fit the data. We've set a few more additional options in the CubeFitter here.  In particular, pay attention to the \"templates\" and \"template_names\" arguments, which specify the 3D nuclear template model that we created above, and give it a unique identifier.  For more information about what the other arguments do, refer to the \"Usage\" section in the README file.\n",
    "\n",
    "Note: we're doing the whole shebang for this example, so it may take a few hours to complete!"
   ]
  },
  {
   "cell_type": "code",
   "execution_count": 6,
   "id": "de75b965",
   "metadata": {},
   "outputs": [
    {
     "data": {
      "text/plain": [
       "(CubeFitter{Float64, Int64, Quantity{Float64, 𝐌 𝐓⁻², Unitful.FreeUnits{(erg, Hz⁻¹, cm⁻², s⁻¹, sr⁻¹), 𝐌 𝐓⁻², nothing}}, Quantity{Float64, 𝐋 𝐓⁻¹, Unitful.FreeUnits{(km, s⁻¹), 𝐋 𝐓⁻¹, nothing}}, Quantity{Float64, 𝐋, Unitful.FreeUnits{(μm,), 𝐋, nothing}}}(DataCube{Vector{Quantity{Float64, 𝐋, Unitful.FreeUnits{(μm,), 𝐋, nothing}}}, Array{Quantity{Float64, 𝐌 𝐓⁻², Unitful.FreeUnits{(erg, Hz⁻¹, cm⁻², s⁻¹, sr⁻¹), 𝐌 𝐓⁻², nothing}}, 3}}(Quantity{Float64, 𝐋, Unitful.FreeUnits{(μm,), 𝐋, nothing}}[4.822511180406425 μm, 4.823298464867244 μm, 4.824085877853802 μm, 4.824873419387084 μm, 4.825661089488074 μm, 4.826448888177762 μm, 4.82723681547714 μm, 4.8280248714072025 μm, 4.828813055988951 μm, 4.8296013692433855 μm  …  17.17219430353727 μm, 17.174997698123118 μm, 17.17780155036866 μm, 17.18060586034861 μm, 17.183410628137686 μm, 17.186215853810637 μm, 17.18902153744222 μm, 17.19182767910719 μm, 17.194634278880308 μm, 17.197441336836377 μm], Quantity{Float64, 𝐌 𝐓⁻², Unitful.FreeUnits{(erg, Hz⁻¹, cm⁻², s⁻¹, sr⁻¹), 𝐌 𝐓⁻², nothing}}[NaN erg Hz⁻¹ cm⁻² s⁻¹ sr⁻¹ NaN erg Hz⁻¹ cm⁻² s⁻¹ sr⁻¹ … NaN erg Hz⁻¹ cm⁻² s⁻¹ sr⁻¹ NaN erg Hz⁻¹ cm⁻² s⁻¹ sr⁻¹; NaN erg Hz⁻¹ cm⁻² s⁻¹ sr⁻¹ NaN erg Hz⁻¹ cm⁻² s⁻¹ sr⁻¹ … NaN erg Hz⁻¹ cm⁻² s⁻¹ sr⁻¹ NaN erg Hz⁻¹ cm⁻² s⁻¹ sr⁻¹; … ; NaN erg Hz⁻¹ cm⁻² s⁻¹ sr⁻¹ NaN erg Hz⁻¹ cm⁻² s⁻¹ sr⁻¹ … NaN erg Hz⁻¹ cm⁻² s⁻¹ sr⁻¹ NaN erg Hz⁻¹ cm⁻² s⁻¹ sr⁻¹; NaN erg Hz⁻¹ cm⁻² s⁻¹ sr⁻¹ NaN erg Hz⁻¹ cm⁻² s⁻¹ sr⁻¹ … NaN erg Hz⁻¹ cm⁻² s⁻¹ sr⁻¹ NaN erg Hz⁻¹ cm⁻² s⁻¹ sr⁻¹;;; NaN erg Hz⁻¹ cm⁻² s⁻¹ sr⁻¹ NaN erg Hz⁻¹ cm⁻² s⁻¹ sr⁻¹ … NaN erg Hz⁻¹ cm⁻² s⁻¹ sr⁻¹ NaN erg Hz⁻¹ cm⁻² s⁻¹ sr⁻¹; NaN erg Hz⁻¹ cm⁻² s⁻¹ sr⁻¹ NaN erg Hz⁻¹ cm⁻² s⁻¹ sr⁻¹ … NaN erg Hz⁻¹ cm⁻² s⁻¹ sr⁻¹ NaN erg Hz⁻¹ cm⁻² s⁻¹ sr⁻¹; … ; NaN erg Hz⁻¹ cm⁻² s⁻¹ sr⁻¹ NaN erg Hz⁻¹ cm⁻² s⁻¹ sr⁻¹ … NaN erg Hz⁻¹ cm⁻² s⁻¹ sr⁻¹ NaN erg Hz⁻¹ cm⁻² s⁻¹ sr⁻¹; NaN erg Hz⁻¹ cm⁻² s⁻¹ sr⁻¹ NaN erg Hz⁻¹ cm⁻² s⁻¹ sr⁻¹ … NaN erg Hz⁻¹ cm⁻² s⁻¹ sr⁻¹ NaN erg Hz⁻¹ cm⁻² s⁻¹ sr⁻¹;;; NaN erg Hz⁻¹ cm⁻² s⁻¹ sr⁻¹ NaN erg Hz⁻¹ cm⁻² s⁻¹ sr⁻¹ … NaN erg Hz⁻¹ cm⁻² s⁻¹ sr⁻¹ NaN erg Hz⁻¹ cm⁻² s⁻¹ sr⁻¹; NaN erg Hz⁻¹ cm⁻² s⁻¹ sr⁻¹ NaN erg Hz⁻¹ cm⁻² s⁻¹ sr⁻¹ … NaN erg Hz⁻¹ cm⁻² s⁻¹ sr⁻¹ NaN erg Hz⁻¹ cm⁻² s⁻¹ sr⁻¹; … ; NaN erg Hz⁻¹ cm⁻² s⁻¹ sr⁻¹ NaN erg Hz⁻¹ cm⁻² s⁻¹ sr⁻¹ … NaN erg Hz⁻¹ cm⁻² s⁻¹ sr⁻¹ NaN erg Hz⁻¹ cm⁻² s⁻¹ sr⁻¹; NaN erg Hz⁻¹ cm⁻² s⁻¹ sr⁻¹ NaN erg Hz⁻¹ cm⁻² s⁻¹ sr⁻¹ … NaN erg Hz⁻¹ cm⁻² s⁻¹ sr⁻¹ NaN erg Hz⁻¹ cm⁻² s⁻¹ sr⁻¹;;; … ;;; NaN erg Hz⁻¹ cm⁻² s⁻¹ sr⁻¹ NaN erg Hz⁻¹ cm⁻² s⁻¹ sr⁻¹ … NaN erg Hz⁻¹ cm⁻² s⁻¹ sr⁻¹ NaN erg Hz⁻¹ cm⁻² s⁻¹ sr⁻¹; NaN erg Hz⁻¹ cm⁻² s⁻¹ sr⁻¹ NaN erg Hz⁻¹ cm⁻² s⁻¹ sr⁻¹ … NaN erg Hz⁻¹ cm⁻² s⁻¹ sr⁻¹ NaN erg Hz⁻¹ cm⁻² s⁻¹ sr⁻¹; … ; NaN erg Hz⁻¹ cm⁻² s⁻¹ sr⁻¹ NaN erg Hz⁻¹ cm⁻² s⁻¹ sr⁻¹ … NaN erg Hz⁻¹ cm⁻² s⁻¹ sr⁻¹ NaN erg Hz⁻¹ cm⁻² s⁻¹ sr⁻¹; NaN erg Hz⁻¹ cm⁻² s⁻¹ sr⁻¹ NaN erg Hz⁻¹ cm⁻² s⁻¹ sr⁻¹ … NaN erg Hz⁻¹ cm⁻² s⁻¹ sr⁻¹ NaN erg Hz⁻¹ cm⁻² s⁻¹ sr⁻¹;;; NaN erg Hz⁻¹ cm⁻² s⁻¹ sr⁻¹ NaN erg Hz⁻¹ cm⁻² s⁻¹ sr⁻¹ … NaN erg Hz⁻¹ cm⁻² s⁻¹ sr⁻¹ NaN erg Hz⁻¹ cm⁻² s⁻¹ sr⁻¹; NaN erg Hz⁻¹ cm⁻² s⁻¹ sr⁻¹ NaN erg Hz⁻¹ cm⁻² s⁻¹ sr⁻¹ … NaN erg Hz⁻¹ cm⁻² s⁻¹ sr⁻¹ NaN erg Hz⁻¹ cm⁻² s⁻¹ sr⁻¹; … ; NaN erg Hz⁻¹ cm⁻² s⁻¹ sr⁻¹ NaN erg Hz⁻¹ cm⁻² s⁻¹ sr⁻¹ … NaN erg Hz⁻¹ cm⁻² s⁻¹ sr⁻¹ NaN erg Hz⁻¹ cm⁻² s⁻¹ sr⁻¹; NaN erg Hz⁻¹ cm⁻² s⁻¹ sr⁻¹ NaN erg Hz⁻¹ cm⁻² s⁻¹ sr⁻¹ … NaN erg Hz⁻¹ cm⁻² s⁻¹ sr⁻¹ NaN erg Hz⁻¹ cm⁻² s⁻¹ sr⁻¹;;; NaN erg Hz⁻¹ cm⁻² s⁻¹ sr⁻¹ NaN erg Hz⁻¹ cm⁻² s⁻¹ sr⁻¹ … NaN erg Hz⁻¹ cm⁻² s⁻¹ sr⁻¹ NaN erg Hz⁻¹ cm⁻² s⁻¹ sr⁻¹; NaN erg Hz⁻¹ cm⁻² s⁻¹ sr⁻¹ NaN erg Hz⁻¹ cm⁻² s⁻¹ sr⁻¹ … NaN erg Hz⁻¹ cm⁻² s⁻¹ sr⁻¹ NaN erg Hz⁻¹ cm⁻² s⁻¹ sr⁻¹; … ; NaN erg Hz⁻¹ cm⁻² s⁻¹ sr⁻¹ NaN erg Hz⁻¹ cm⁻² s⁻¹ sr⁻¹ … NaN erg Hz⁻¹ cm⁻² s⁻¹ sr⁻¹ NaN erg Hz⁻¹ cm⁻² s⁻¹ sr⁻¹; NaN erg Hz⁻¹ cm⁻² s⁻¹ sr⁻¹ NaN erg Hz⁻¹ cm⁻² s⁻¹ sr⁻¹ … NaN erg Hz⁻¹ cm⁻² s⁻¹ sr⁻¹ NaN erg Hz⁻¹ cm⁻² s⁻¹ sr⁻¹], Quantity{Float64, 𝐌 𝐓⁻², Unitful.FreeUnits{(erg, Hz⁻¹, cm⁻², s⁻¹, sr⁻¹), 𝐌 𝐓⁻², nothing}}[NaN erg Hz⁻¹ cm⁻² s⁻¹ sr⁻¹ NaN erg Hz⁻¹ cm⁻² s⁻¹ sr⁻¹ … NaN erg Hz⁻¹ cm⁻² s⁻¹ sr⁻¹ NaN erg Hz⁻¹ cm⁻² s⁻¹ sr⁻¹; NaN erg Hz⁻¹ cm⁻² s⁻¹ sr⁻¹ NaN erg Hz⁻¹ cm⁻² s⁻¹ sr⁻¹ … NaN erg Hz⁻¹ cm⁻² s⁻¹ sr⁻¹ NaN erg Hz⁻¹ cm⁻² s⁻¹ sr⁻¹; … ; NaN erg Hz⁻¹ cm⁻² s⁻¹ sr⁻¹ NaN erg Hz⁻¹ cm⁻² s⁻¹ sr⁻¹ … NaN erg Hz⁻¹ cm⁻² s⁻¹ sr⁻¹ NaN erg Hz⁻¹ cm⁻² s⁻¹ sr⁻¹; NaN erg Hz⁻¹ cm⁻² s⁻¹ sr⁻¹ NaN erg Hz⁻¹ cm⁻² s⁻¹ sr⁻¹ … NaN erg Hz⁻¹ cm⁻² s⁻¹ sr⁻¹ NaN erg Hz⁻¹ cm⁻² s⁻¹ sr⁻¹;;; NaN erg Hz⁻¹ cm⁻² s⁻¹ sr⁻¹ NaN erg Hz⁻¹ cm⁻² s⁻¹ sr⁻¹ … NaN erg Hz⁻¹ cm⁻² s⁻¹ sr⁻¹ NaN erg Hz⁻¹ cm⁻² s⁻¹ sr⁻¹; NaN erg Hz⁻¹ cm⁻² s⁻¹ sr⁻¹ NaN erg Hz⁻¹ cm⁻² s⁻¹ sr⁻¹ … NaN erg Hz⁻¹ cm⁻² s⁻¹ sr⁻¹ NaN erg Hz⁻¹ cm⁻² s⁻¹ sr⁻¹; … ; NaN erg Hz⁻¹ cm⁻² s⁻¹ sr⁻¹ NaN erg Hz⁻¹ cm⁻² s⁻¹ sr⁻¹ … NaN erg Hz⁻¹ cm⁻² s⁻¹ sr⁻¹ NaN erg Hz⁻¹ cm⁻² s⁻¹ sr⁻¹; NaN erg Hz⁻¹ cm⁻² s⁻¹ sr⁻¹ NaN erg Hz⁻¹ cm⁻² s⁻¹ sr⁻¹ … NaN erg Hz⁻¹ cm⁻² s⁻¹ sr⁻¹ NaN erg Hz⁻¹ cm⁻² s⁻¹ sr⁻¹;;; NaN erg Hz⁻¹ cm⁻² s⁻¹ sr⁻¹ NaN erg Hz⁻¹ cm⁻² s⁻¹ sr⁻¹ … NaN erg Hz⁻¹ cm⁻² s⁻¹ sr⁻¹ NaN erg Hz⁻¹ cm⁻² s⁻¹ sr⁻¹; NaN erg Hz⁻¹ cm⁻² s⁻¹ sr⁻¹ NaN erg Hz⁻¹ cm⁻² s⁻¹ sr⁻¹ … NaN erg Hz⁻¹ cm⁻² s⁻¹ sr⁻¹ NaN erg Hz⁻¹ cm⁻² s⁻¹ sr⁻¹; … ; NaN erg Hz⁻¹ cm⁻² s⁻¹ sr⁻¹ NaN erg Hz⁻¹ cm⁻² s⁻¹ sr⁻¹ … NaN erg Hz⁻¹ cm⁻² s⁻¹ sr⁻¹ NaN erg Hz⁻¹ cm⁻² s⁻¹ sr⁻¹; NaN erg Hz⁻¹ cm⁻² s⁻¹ sr⁻¹ NaN erg Hz⁻¹ cm⁻² s⁻¹ sr⁻¹ … NaN erg Hz⁻¹ cm⁻² s⁻¹ sr⁻¹ NaN erg Hz⁻¹ cm⁻² s⁻¹ sr⁻¹;;; … ;;; NaN erg Hz⁻¹ cm⁻² s⁻¹ sr⁻¹ NaN erg Hz⁻¹ cm⁻² s⁻¹ sr⁻¹ … NaN erg Hz⁻¹ cm⁻² s⁻¹ sr⁻¹ NaN erg Hz⁻¹ cm⁻² s⁻¹ sr⁻¹; NaN erg Hz⁻¹ cm⁻² s⁻¹ sr⁻¹ NaN erg Hz⁻¹ cm⁻² s⁻¹ sr⁻¹ … NaN erg Hz⁻¹ cm⁻² s⁻¹ sr⁻¹ NaN erg Hz⁻¹ cm⁻² s⁻¹ sr⁻¹; … ; NaN erg Hz⁻¹ cm⁻² s⁻¹ sr⁻¹ NaN erg Hz⁻¹ cm⁻² s⁻¹ sr⁻¹ … NaN erg Hz⁻¹ cm⁻² s⁻¹ sr⁻¹ NaN erg Hz⁻¹ cm⁻² s⁻¹ sr⁻¹; NaN erg Hz⁻¹ cm⁻² s⁻¹ sr⁻¹ NaN erg Hz⁻¹ cm⁻² s⁻¹ sr⁻¹ … NaN erg Hz⁻¹ cm⁻² s⁻¹ sr⁻¹ NaN erg Hz⁻¹ cm⁻² s⁻¹ sr⁻¹;;; NaN erg Hz⁻¹ cm⁻² s⁻¹ sr⁻¹ NaN erg Hz⁻¹ cm⁻² s⁻¹ sr⁻¹ … NaN erg Hz⁻¹ cm⁻² s⁻¹ sr⁻¹ NaN erg Hz⁻¹ cm⁻² s⁻¹ sr⁻¹; NaN erg Hz⁻¹ cm⁻² s⁻¹ sr⁻¹ NaN erg Hz⁻¹ cm⁻² s⁻¹ sr⁻¹ … NaN erg Hz⁻¹ cm⁻² s⁻¹ sr⁻¹ NaN erg Hz⁻¹ cm⁻² s⁻¹ sr⁻¹; … ; NaN erg Hz⁻¹ cm⁻² s⁻¹ sr⁻¹ NaN erg Hz⁻¹ cm⁻² s⁻¹ sr⁻¹ … NaN erg Hz⁻¹ cm⁻² s⁻¹ sr⁻¹ NaN erg Hz⁻¹ cm⁻² s⁻¹ sr⁻¹; NaN erg Hz⁻¹ cm⁻² s⁻¹ sr⁻¹ NaN erg Hz⁻¹ cm⁻² s⁻¹ sr⁻¹ … NaN erg Hz⁻¹ cm⁻² s⁻¹ sr⁻¹ NaN erg Hz⁻¹ cm⁻² s⁻¹ sr⁻¹;;; NaN erg Hz⁻¹ cm⁻² s⁻¹ sr⁻¹ NaN erg Hz⁻¹ cm⁻² s⁻¹ sr⁻¹ … NaN erg Hz⁻¹ cm⁻² s⁻¹ sr⁻¹ NaN erg Hz⁻¹ cm⁻² s⁻¹ sr⁻¹; NaN erg Hz⁻¹ cm⁻² s⁻¹ sr⁻¹ NaN erg Hz⁻¹ cm⁻² s⁻¹ sr⁻¹ … NaN erg Hz⁻¹ cm⁻² s⁻¹ sr⁻¹ NaN erg Hz⁻¹ cm⁻² s⁻¹ sr⁻¹; … ; NaN erg Hz⁻¹ cm⁻² s⁻¹ sr⁻¹ NaN erg Hz⁻¹ cm⁻² s⁻¹ sr⁻¹ … NaN erg Hz⁻¹ cm⁻² s⁻¹ sr⁻¹ NaN erg Hz⁻¹ cm⁻² s⁻¹ sr⁻¹; NaN erg Hz⁻¹ cm⁻² s⁻¹ sr⁻¹ NaN erg Hz⁻¹ cm⁻² s⁻¹ sr⁻¹ … NaN erg Hz⁻¹ cm⁻² s⁻¹ sr⁻¹ NaN erg Hz⁻¹ cm⁻² s⁻¹ sr⁻¹], Bool[1 1 … 1 1; 1 1 … 1 1; … ; 1 1 … 1 1; 1 1 … 1 1;;; 1 1 … 1 1; 1 1 … 1 1; … ; 1 1 … 1 1; 1 1 … 1 1;;; 1 1 … 1 1; 1 1 … 1 1; … ; 1 1 … 1 1; 1 1 … 1 1;;; … ;;; 1 1 … 1 1; 1 1 … 1 1; … ; 1 1 … 1 1; 1 1 … 1 1;;; 1 1 … 1 1; 1 1 … 1 1; … ; 1 1 … 1 1; 1 1 … 1 1;;; 1 1 … 1 1; 1 1 … 1 1; … ; 1 1 … 1 1; 1 1 … 1 1], [NaN NaN … NaN NaN; NaN NaN … NaN NaN; … ; NaN NaN … NaN NaN; NaN NaN … NaN NaN;;; NaN NaN … NaN NaN; NaN NaN … NaN NaN; … ; NaN NaN … NaN NaN; NaN NaN … NaN NaN;;; NaN NaN … NaN NaN; NaN NaN … NaN NaN; … ; NaN NaN … NaN NaN; NaN NaN … NaN NaN;;; … ;;; NaN NaN … NaN NaN; NaN NaN … NaN NaN; … ; NaN NaN … NaN NaN; NaN NaN … NaN NaN;;; NaN NaN … NaN NaN; NaN NaN … NaN NaN; … ; NaN NaN … NaN NaN; NaN NaN … NaN NaN;;; NaN NaN … NaN NaN; NaN NaN … NaN NaN; … ; NaN NaN … NaN NaN; NaN NaN … NaN NaN], 3.97217570860291e-13 sr, 345.8150416666667°, 8.873894444444446°, -1.2121968976533366 rad, Quantity{Float64, NoDims, Unitful.FreeUnits{(″,), NoDims, nothing}}[0.17773960314612486 ″, 0.1777660074553099 ″, 0.17779241607505047 ″, 0.17781882900605034 ″, 0.17784524624901327 ″, 0.17787166780464322 ″, 0.17789809367364423 ″, 0.17792452385672047 ″, 0.17795095835457625 ″, 0.17797739716791589 ″  …  0.5919289689336069 ″, 0.592022990473592 ″, 0.5921170273627789 ″, 0.5922110796036734 ″, 0.5923051471987815 ″, 0.5923992301506098 ″, 0.592493328461666 ″, 0.5925874421344569 ″, 0.5926815711714903 ″, 0.5927757155752748 ″], Quantity{Float64, 𝐋 𝐓⁻¹, Unitful.FreeUnits{(km, s⁻¹), 𝐋 𝐓⁻¹, nothing}}[75.40722407309808 km s⁻¹, 75.40916669030692 km s⁻¹, 75.41110972476912 km s⁻¹, 75.41305317659324 km s⁻¹, 75.41499704588787 km s⁻¹, 75.41694133276162 km s⁻¹, 75.41888603732318 km s⁻¹, 75.42083115968119 km s⁻¹, 75.42277669994442 km s⁻¹, 75.42472265822161 km s⁻¹  …  126.54309941791682 km s⁻¹, 126.56258198739924 km s⁻¹, 126.58207373866456 km s⁻¹, 126.60157467794498 km s⁻¹, 126.62108481147837 km s⁻¹, 126.6406041455082 km s⁻¹, 126.66013268628376 km s⁻¹, 126.67967044005972 km s⁻¹, 126.69921741309649 km s⁻¹, 126.71877361166027 km s⁻¹], WCSTransform(naxis=3,cdelt=[3.61111097865634e-5, 3.61111097865634e-5, 7.999999797902999e-10],crval=[-14.184958375464007, 8.873879410350746, 4.9004000953573265e-6],crpix=[25.0, 23.0, 1.0]), \"MULTIPLE\", \"MULTIPLE\", 49, 45, 7790, Loki.SpectralRegion{Quantity{Float64, 𝐋, Unitful.FreeUnits{(μm,), 𝐋, nothing}}}((4.822511180406425 μm, 17.197848691129078 μm), Tuple{Quantity{Float64, 𝐋, Unitful.FreeUnits{(μm,), 𝐋, nothing}}, Quantity{Float64, 𝐋, Unitful.FreeUnits{(μm,), 𝐋, nothing}}}[], 17, BitVector[[1, 1, 1, 1, 1, 1, 1, 1, 1, 1  …  0, 0, 0, 0, 0, 0, 0, 0, 0, 0], [0, 0, 0, 0, 0, 0, 0, 0, 0, 0  …  0, 0, 0, 0, 0, 0, 0, 0, 0, 0], [0, 0, 0, 0, 0, 0, 0, 0, 0, 0  …  0, 0, 0, 0, 0, 0, 0, 0, 0, 0], [0, 0, 0, 0, 0, 0, 0, 0, 0, 0  …  0, 0, 0, 0, 0, 0, 0, 0, 0, 0], [0, 0, 0, 0, 0, 0, 0, 0, 0, 0  …  0, 0, 0, 0, 0, 0, 0, 0, 0, 0], [0, 0, 0, 0, 0, 0, 0, 0, 0, 0  …  0, 0, 0, 0, 0, 0, 0, 0, 0, 0], [0, 0, 0, 0, 0, 0, 0, 0, 0, 0  …  0, 0, 0, 0, 0, 0, 0, 0, 0, 0], [0, 0, 0, 0, 0, 0, 0, 0, 0, 0  …  0, 0, 0, 0, 0, 0, 0, 0, 0, 0], [0, 0, 0, 0, 0, 0, 0, 0, 0, 0  …  0, 0, 0, 0, 0, 0, 0, 0, 0, 0], [0, 0, 0, 0, 0, 0, 0, 0, 0, 0  …  0, 0, 0, 0, 0, 0, 0, 0, 0, 0], [0, 0, 0, 0, 0, 0, 0, 0, 0, 0  …  0, 0, 0, 0, 0, 0, 0, 0, 0, 0], [0, 0, 0, 0, 0, 0, 0, 0, 0, 0  …  0, 0, 0, 0, 0, 0, 0, 0, 0, 0], [0, 0, 0, 0, 0, 0, 0, 0, 0, 0  …  0, 0, 0, 0, 0, 0, 0, 0, 0, 0], [0, 0, 0, 0, 0, 0, 0, 0, 0, 0  …  0, 0, 0, 0, 0, 0, 0, 0, 0, 0], [0, 0, 0, 0, 0, 0, 0, 0, 0, 0  …  0, 0, 0, 0, 0, 0, 0, 0, 0, 0], [0, 0, 0, 0, 0, 0, 0, 0, 0, 0  …  0, 0, 0, 0, 0, 0, 0, 0, 0, 0], [0, 0, 0, 0, 0, 0, 0, 0, 0, 0  …  1, 1, 1, 1, 1, 1, 1, 1, 1, 1]], Quantity{Float64, 𝐋, Unitful.FreeUnits{(μm,), 𝐋, nothing}}[5.7 μm, 6.58 μm, 7.58 μm, 8.72 μm, 10.075 μm, 11.625 μm, 13.39 μm, 15.49 μm], Tuple{Quantity{Float64, 𝐋, Unitful.FreeUnits{(μm,), 𝐋, nothing}}, Quantity{Float64, 𝐋, Unitful.FreeUnits{(μm,), 𝐋, nothing}}}[], Loki.Infrared), true, true, true, true, true, true, nothing), 0.016317, \"NGC_7469_ch0_psf_model\", Loki.SpectralRegion{Quantity{Float64, 𝐋, Unitful.FreeUnits{(μm,), 𝐋, nothing}}}((4.822511180406425 μm, 17.197848691129078 μm), Tuple{Quantity{Float64, 𝐋, Unitful.FreeUnits{(μm,), 𝐋, nothing}}, Quantity{Float64, 𝐋, Unitful.FreeUnits{(μm,), 𝐋, nothing}}}[], 17, BitVector[[1, 1, 1, 1, 1, 1, 1, 1, 1, 1  …  0, 0, 0, 0, 0, 0, 0, 0, 0, 0], [0, 0, 0, 0, 0, 0, 0, 0, 0, 0  …  0, 0, 0, 0, 0, 0, 0, 0, 0, 0], [0, 0, 0, 0, 0, 0, 0, 0, 0, 0  …  0, 0, 0, 0, 0, 0, 0, 0, 0, 0], [0, 0, 0, 0, 0, 0, 0, 0, 0, 0  …  0, 0, 0, 0, 0, 0, 0, 0, 0, 0], [0, 0, 0, 0, 0, 0, 0, 0, 0, 0  …  0, 0, 0, 0, 0, 0, 0, 0, 0, 0], [0, 0, 0, 0, 0, 0, 0, 0, 0, 0  …  0, 0, 0, 0, 0, 0, 0, 0, 0, 0], [0, 0, 0, 0, 0, 0, 0, 0, 0, 0  …  0, 0, 0, 0, 0, 0, 0, 0, 0, 0], [0, 0, 0, 0, 0, 0, 0, 0, 0, 0  …  0, 0, 0, 0, 0, 0, 0, 0, 0, 0], [0, 0, 0, 0, 0, 0, 0, 0, 0, 0  …  0, 0, 0, 0, 0, 0, 0, 0, 0, 0], [0, 0, 0, 0, 0, 0, 0, 0, 0, 0  …  0, 0, 0, 0, 0, 0, 0, 0, 0, 0], [0, 0, 0, 0, 0, 0, 0, 0, 0, 0  …  0, 0, 0, 0, 0, 0, 0, 0, 0, 0], [0, 0, 0, 0, 0, 0, 0, 0, 0, 0  …  0, 0, 0, 0, 0, 0, 0, 0, 0, 0], [0, 0, 0, 0, 0, 0, 0, 0, 0, 0  …  0, 0, 0, 0, 0, 0, 0, 0, 0, 0], [0, 0, 0, 0, 0, 0, 0, 0, 0, 0  …  0, 0, 0, 0, 0, 0, 0, 0, 0, 0], [0, 0, 0, 0, 0, 0, 0, 0, 0, 0  …  0, 0, 0, 0, 0, 0, 0, 0, 0, 0], [0, 0, 0, 0, 0, 0, 0, 0, 0, 0  …  0, 0, 0, 0, 0, 0, 0, 0, 0, 0], [0, 0, 0, 0, 0, 0, 0, 0, 0, 0  …  1, 1, 1, 1, 1, 1, 1, 1, 1, 1]], Quantity{Float64, 𝐋, Unitful.FreeUnits{(μm,), 𝐋, nothing}}[5.7 μm, 6.58 μm, 7.58 μm, 8.72 μm, 10.075 μm, 11.625 μm, 13.39 μm, 15.49 μm], Tuple{Quantity{Float64, 𝐋, Unitful.FreeUnits{(μm,), 𝐋, nothing}}, Quantity{Float64, 𝐋, Unitful.FreeUnits{(μm,), 𝐋, nothing}}}[], Loki.Infrared), Loki.OutputOptions(:pyplot, true, nothing, true, \"pmap\", true, true, false, false, true, false, 3.0, :flux, [5.012970335814702, 5.133718795408208, 5.275187030193472, 5.416454709913949, 5.555784875955844, 5.702958936218074, 6.10857, 6.619343151055837, 6.801216187103029, 6.986895601102602  …  9.453062115837401, 9.745072097891732, 10.5105, 12.188074339498982, 12.466594556987491, 12.81355, 14.106096338285237, 14.486676494764646, 15.5551, 17.03484]), Loki.FittingOptions{Float64, Int64}(0.0, \"d+\", \"calz\", true, nothing, nothing, nothing, nothing, false, 100.0, false, false, false, nothing, false, false, false, true, false, false, false, false, true, false, false, true, 0, 123456789, Vector{Symbol}[], 0.003, true, false, true), \"ModelParameters | Continuum parameters: 29, PAH parameters: 136, Line parameters: 124, Non-fit parameters: 517\", Quantity{Float64, 𝐌 𝐓⁻², Unitful.FreeUnits{(erg, Hz⁻¹, cm⁻², s⁻¹, sr⁻¹), 𝐌 𝐓⁻², nothing}}[NaN erg Hz⁻¹ cm⁻² s⁻¹ sr⁻¹ NaN erg Hz⁻¹ cm⁻² s⁻¹ sr⁻¹ … NaN erg Hz⁻¹ cm⁻² s⁻¹ sr⁻¹ NaN erg Hz⁻¹ cm⁻² s⁻¹ sr⁻¹; NaN erg Hz⁻¹ cm⁻² s⁻¹ sr⁻¹ NaN erg Hz⁻¹ cm⁻² s⁻¹ sr⁻¹ … NaN erg Hz⁻¹ cm⁻² s⁻¹ sr⁻¹ NaN erg Hz⁻¹ cm⁻² s⁻¹ sr⁻¹; … ; NaN erg Hz⁻¹ cm⁻² s⁻¹ sr⁻¹ NaN erg Hz⁻¹ cm⁻² s⁻¹ sr⁻¹ … NaN erg Hz⁻¹ cm⁻² s⁻¹ sr⁻¹ NaN erg Hz⁻¹ cm⁻² s⁻¹ sr⁻¹; NaN erg Hz⁻¹ cm⁻² s⁻¹ sr⁻¹ NaN erg Hz⁻¹ cm⁻² s⁻¹ sr⁻¹ … NaN erg Hz⁻¹ cm⁻² s⁻¹ sr⁻¹ NaN erg Hz⁻¹ cm⁻² s⁻¹ sr⁻¹;;; NaN erg Hz⁻¹ cm⁻² s⁻¹ sr⁻¹ NaN erg Hz⁻¹ cm⁻² s⁻¹ sr⁻¹ … NaN erg Hz⁻¹ cm⁻² s⁻¹ sr⁻¹ NaN erg Hz⁻¹ cm⁻² s⁻¹ sr⁻¹; NaN erg Hz⁻¹ cm⁻² s⁻¹ sr⁻¹ NaN erg Hz⁻¹ cm⁻² s⁻¹ sr⁻¹ … NaN erg Hz⁻¹ cm⁻² s⁻¹ sr⁻¹ NaN erg Hz⁻¹ cm⁻² s⁻¹ sr⁻¹; … ; NaN erg Hz⁻¹ cm⁻² s⁻¹ sr⁻¹ NaN erg Hz⁻¹ cm⁻² s⁻¹ sr⁻¹ … NaN erg Hz⁻¹ cm⁻² s⁻¹ sr⁻¹ NaN erg Hz⁻¹ cm⁻² s⁻¹ sr⁻¹; NaN erg Hz⁻¹ cm⁻² s⁻¹ sr⁻¹ NaN erg Hz⁻¹ cm⁻² s⁻¹ sr⁻¹ … NaN erg Hz⁻¹ cm⁻² s⁻¹ sr⁻¹ NaN erg Hz⁻¹ cm⁻² s⁻¹ sr⁻¹;;; NaN erg Hz⁻¹ cm⁻² s⁻¹ sr⁻¹ NaN erg Hz⁻¹ cm⁻² s⁻¹ sr⁻¹ … NaN erg Hz⁻¹ cm⁻² s⁻¹ sr⁻¹ NaN erg Hz⁻¹ cm⁻² s⁻¹ sr⁻¹; NaN erg Hz⁻¹ cm⁻² s⁻¹ sr⁻¹ NaN erg Hz⁻¹ cm⁻² s⁻¹ sr⁻¹ … NaN erg Hz⁻¹ cm⁻² s⁻¹ sr⁻¹ NaN erg Hz⁻¹ cm⁻² s⁻¹ sr⁻¹; … ; NaN erg Hz⁻¹ cm⁻² s⁻¹ sr⁻¹ NaN erg Hz⁻¹ cm⁻² s⁻¹ sr⁻¹ … NaN erg Hz⁻¹ cm⁻² s⁻¹ sr⁻¹ NaN erg Hz⁻¹ cm⁻² s⁻¹ sr⁻¹; NaN erg Hz⁻¹ cm⁻² s⁻¹ sr⁻¹ NaN erg Hz⁻¹ cm⁻² s⁻¹ sr⁻¹ … NaN erg Hz⁻¹ cm⁻² s⁻¹ sr⁻¹ NaN erg Hz⁻¹ cm⁻² s⁻¹ sr⁻¹;;; … ;;; NaN erg Hz⁻¹ cm⁻² s⁻¹ sr⁻¹ NaN erg Hz⁻¹ cm⁻² s⁻¹ sr⁻¹ … NaN erg Hz⁻¹ cm⁻² s⁻¹ sr⁻¹ NaN erg Hz⁻¹ cm⁻² s⁻¹ sr⁻¹; NaN erg Hz⁻¹ cm⁻² s⁻¹ sr⁻¹ NaN erg Hz⁻¹ cm⁻² s⁻¹ sr⁻¹ … NaN erg Hz⁻¹ cm⁻² s⁻¹ sr⁻¹ NaN erg Hz⁻¹ cm⁻² s⁻¹ sr⁻¹; … ; NaN erg Hz⁻¹ cm⁻² s⁻¹ sr⁻¹ NaN erg Hz⁻¹ cm⁻² s⁻¹ sr⁻¹ … NaN erg Hz⁻¹ cm⁻² s⁻¹ sr⁻¹ NaN erg Hz⁻¹ cm⁻² s⁻¹ sr⁻¹; NaN erg Hz⁻¹ cm⁻² s⁻¹ sr⁻¹ NaN erg Hz⁻¹ cm⁻² s⁻¹ sr⁻¹ … NaN erg Hz⁻¹ cm⁻² s⁻¹ sr⁻¹ NaN erg Hz⁻¹ cm⁻² s⁻¹ sr⁻¹;;; NaN erg Hz⁻¹ cm⁻² s⁻¹ sr⁻¹ NaN erg Hz⁻¹ cm⁻² s⁻¹ sr⁻¹ … NaN erg Hz⁻¹ cm⁻² s⁻¹ sr⁻¹ NaN erg Hz⁻¹ cm⁻² s⁻¹ sr⁻¹; NaN erg Hz⁻¹ cm⁻² s⁻¹ sr⁻¹ NaN erg Hz⁻¹ cm⁻² s⁻¹ sr⁻¹ … NaN erg Hz⁻¹ cm⁻² s⁻¹ sr⁻¹ NaN erg Hz⁻¹ cm⁻² s⁻¹ sr⁻¹; … ; NaN erg Hz⁻¹ cm⁻² s⁻¹ sr⁻¹ NaN erg Hz⁻¹ cm⁻² s⁻¹ sr⁻¹ … NaN erg Hz⁻¹ cm⁻² s⁻¹ sr⁻¹ NaN erg Hz⁻¹ cm⁻² s⁻¹ sr⁻¹; NaN erg Hz⁻¹ cm⁻² s⁻¹ sr⁻¹ NaN erg Hz⁻¹ cm⁻² s⁻¹ sr⁻¹ … NaN erg Hz⁻¹ cm⁻² s⁻¹ sr⁻¹ NaN erg Hz⁻¹ cm⁻² s⁻¹ sr⁻¹;;; NaN erg Hz⁻¹ cm⁻² s⁻¹ sr⁻¹ NaN erg Hz⁻¹ cm⁻² s⁻¹ sr⁻¹ … NaN erg Hz⁻¹ cm⁻² s⁻¹ sr⁻¹ NaN erg Hz⁻¹ cm⁻² s⁻¹ sr⁻¹; NaN erg Hz⁻¹ cm⁻² s⁻¹ sr⁻¹ NaN erg Hz⁻¹ cm⁻² s⁻¹ sr⁻¹ … NaN erg Hz⁻¹ cm⁻² s⁻¹ sr⁻¹ NaN erg Hz⁻¹ cm⁻² s⁻¹ sr⁻¹; … ; NaN erg Hz⁻¹ cm⁻² s⁻¹ sr⁻¹ NaN erg Hz⁻¹ cm⁻² s⁻¹ sr⁻¹ … NaN erg Hz⁻¹ cm⁻² s⁻¹ sr⁻¹ NaN erg Hz⁻¹ cm⁻² s⁻¹ sr⁻¹; NaN erg Hz⁻¹ cm⁻² s⁻¹ sr⁻¹ NaN erg Hz⁻¹ cm⁻² s⁻¹ sr⁻¹ … NaN erg Hz⁻¹ cm⁻² s⁻¹ sr⁻¹ NaN erg Hz⁻¹ cm⁻² s⁻¹ sr⁻¹;;;;], [\"nuclear\"], nothing, nothing, NaN km s⁻¹, 0, 4, 0, 34, 0, 1, 31, 31, 165, 136, 124, 517, 806, Loki.var\"#86#88\"{DataCube{Vector{Quantity{Float64, 𝐋, Unitful.FreeUnits{(μm,), 𝐋, nothing}}}, Array{Quantity{Float64, 𝐌 𝐓⁻², Unitful.FreeUnits{(erg, Hz⁻¹, cm⁻², s⁻¹, sr⁻¹), 𝐌 𝐓⁻², nothing}}, 3}}, Dierckx.Spline1D}(DataCube{Vector{Quantity{Float64, 𝐋, Unitful.FreeUnits{(μm,), 𝐋, nothing}}}, Array{Quantity{Float64, 𝐌 𝐓⁻², Unitful.FreeUnits{(erg, Hz⁻¹, cm⁻², s⁻¹, sr⁻¹), 𝐌 𝐓⁻², nothing}}, 3}}(Quantity{Float64, 𝐋, Unitful.FreeUnits{(μm,), 𝐋, nothing}}[4.822511180406425 μm, 4.823298464867244 μm, 4.824085877853802 μm, 4.824873419387084 μm, 4.825661089488074 μm, 4.826448888177762 μm, 4.82723681547714 μm, 4.8280248714072025 μm, 4.828813055988951 μm, 4.8296013692433855 μm  …  17.17219430353727 μm, 17.174997698123118 μm, 17.17780155036866 μm, 17.18060586034861 μm, 17.183410628137686 μm, 17.186215853810637 μm, 17.18902153744222 μm, 17.19182767910719 μm, 17.194634278880308 μm, 17.197441336836377 μm], Quantity{Float64, 𝐌 𝐓⁻², Unitful.FreeUnits{(erg, Hz⁻¹, cm⁻², s⁻¹, sr⁻¹), 𝐌 𝐓⁻², nothing}}[NaN erg Hz⁻¹ cm⁻² s⁻¹ sr⁻¹ NaN erg Hz⁻¹ cm⁻² s⁻¹ sr⁻¹ … NaN erg Hz⁻¹ cm⁻² s⁻¹ sr⁻¹ NaN erg Hz⁻¹ cm⁻² s⁻¹ sr⁻¹; NaN erg Hz⁻¹ cm⁻² s⁻¹ sr⁻¹ NaN erg Hz⁻¹ cm⁻² s⁻¹ sr⁻¹ … NaN erg Hz⁻¹ cm⁻² s⁻¹ sr⁻¹ NaN erg Hz⁻¹ cm⁻² s⁻¹ sr⁻¹; … ; NaN erg Hz⁻¹ cm⁻² s⁻¹ sr⁻¹ NaN erg Hz⁻¹ cm⁻² s⁻¹ sr⁻¹ … NaN erg Hz⁻¹ cm⁻² s⁻¹ sr⁻¹ NaN erg Hz⁻¹ cm⁻² s⁻¹ sr⁻¹; NaN erg Hz⁻¹ cm⁻² s⁻¹ sr⁻¹ NaN erg Hz⁻¹ cm⁻² s⁻¹ sr⁻¹ … NaN erg Hz⁻¹ cm⁻² s⁻¹ sr⁻¹ NaN erg Hz⁻¹ cm⁻² s⁻¹ sr⁻¹;;; NaN erg Hz⁻¹ cm⁻² s⁻¹ sr⁻¹ NaN erg Hz⁻¹ cm⁻² s⁻¹ sr⁻¹ … NaN erg Hz⁻¹ cm⁻² s⁻¹ sr⁻¹ NaN erg Hz⁻¹ cm⁻² s⁻¹ sr⁻¹; NaN erg Hz⁻¹ cm⁻² s⁻¹ sr⁻¹ NaN erg Hz⁻¹ cm⁻² s⁻¹ sr⁻¹ … NaN erg Hz⁻¹ cm⁻² s⁻¹ sr⁻¹ NaN erg Hz⁻¹ cm⁻² s⁻¹ sr⁻¹; … ; NaN erg Hz⁻¹ cm⁻² s⁻¹ sr⁻¹ NaN erg Hz⁻¹ cm⁻² s⁻¹ sr⁻¹ … NaN erg Hz⁻¹ cm⁻² s⁻¹ sr⁻¹ NaN erg Hz⁻¹ cm⁻² s⁻¹ sr⁻¹; NaN erg Hz⁻¹ cm⁻² s⁻¹ sr⁻¹ NaN erg Hz⁻¹ cm⁻² s⁻¹ sr⁻¹ … NaN erg Hz⁻¹ cm⁻² s⁻¹ sr⁻¹ NaN erg Hz⁻¹ cm⁻² s⁻¹ sr⁻¹;;; NaN erg Hz⁻¹ cm⁻² s⁻¹ sr⁻¹ NaN erg Hz⁻¹ cm⁻² s⁻¹ sr⁻¹ … NaN erg Hz⁻¹ cm⁻² s⁻¹ sr⁻¹ NaN erg Hz⁻¹ cm⁻² s⁻¹ sr⁻¹; NaN erg Hz⁻¹ cm⁻² s⁻¹ sr⁻¹ NaN erg Hz⁻¹ cm⁻² s⁻¹ sr⁻¹ … NaN erg Hz⁻¹ cm⁻² s⁻¹ sr⁻¹ NaN erg Hz⁻¹ cm⁻² s⁻¹ sr⁻¹; … ; NaN erg Hz⁻¹ cm⁻² s⁻¹ sr⁻¹ NaN erg Hz⁻¹ cm⁻² s⁻¹ sr⁻¹ … NaN erg Hz⁻¹ cm⁻² s⁻¹ sr⁻¹ NaN erg Hz⁻¹ cm⁻² s⁻¹ sr⁻¹; NaN erg Hz⁻¹ cm⁻² s⁻¹ sr⁻¹ NaN erg Hz⁻¹ cm⁻² s⁻¹ sr⁻¹ … NaN erg Hz⁻¹ cm⁻² s⁻¹ sr⁻¹ NaN erg Hz⁻¹ cm⁻² s⁻¹ sr⁻¹;;; … ;;; NaN erg Hz⁻¹ cm⁻² s⁻¹ sr⁻¹ NaN erg Hz⁻¹ cm⁻² s⁻¹ sr⁻¹ … NaN erg Hz⁻¹ cm⁻² s⁻¹ sr⁻¹ NaN erg Hz⁻¹ cm⁻² s⁻¹ sr⁻¹; NaN erg Hz⁻¹ cm⁻² s⁻¹ sr⁻¹ NaN erg Hz⁻¹ cm⁻² s⁻¹ sr⁻¹ … NaN erg Hz⁻¹ cm⁻² s⁻¹ sr⁻¹ NaN erg Hz⁻¹ cm⁻² s⁻¹ sr⁻¹; … ; NaN erg Hz⁻¹ cm⁻² s⁻¹ sr⁻¹ NaN erg Hz⁻¹ cm⁻² s⁻¹ sr⁻¹ … NaN erg Hz⁻¹ cm⁻² s⁻¹ sr⁻¹ NaN erg Hz⁻¹ cm⁻² s⁻¹ sr⁻¹; NaN erg Hz⁻¹ cm⁻² s⁻¹ sr⁻¹ NaN erg Hz⁻¹ cm⁻² s⁻¹ sr⁻¹ … NaN erg Hz⁻¹ cm⁻² s⁻¹ sr⁻¹ NaN erg Hz⁻¹ cm⁻² s⁻¹ sr⁻¹;;; NaN erg Hz⁻¹ cm⁻² s⁻¹ sr⁻¹ NaN erg Hz⁻¹ cm⁻² s⁻¹ sr⁻¹ … NaN erg Hz⁻¹ cm⁻² s⁻¹ sr⁻¹ NaN erg Hz⁻¹ cm⁻² s⁻¹ sr⁻¹; NaN erg Hz⁻¹ cm⁻² s⁻¹ sr⁻¹ NaN erg Hz⁻¹ cm⁻² s⁻¹ sr⁻¹ … NaN erg Hz⁻¹ cm⁻² s⁻¹ sr⁻¹ NaN erg Hz⁻¹ cm⁻² s⁻¹ sr⁻¹; … ; NaN erg Hz⁻¹ cm⁻² s⁻¹ sr⁻¹ NaN erg Hz⁻¹ cm⁻² s⁻¹ sr⁻¹ … NaN erg Hz⁻¹ cm⁻² s⁻¹ sr⁻¹ NaN erg Hz⁻¹ cm⁻² s⁻¹ sr⁻¹; NaN erg Hz⁻¹ cm⁻² s⁻¹ sr⁻¹ NaN erg Hz⁻¹ cm⁻² s⁻¹ sr⁻¹ … NaN erg Hz⁻¹ cm⁻² s⁻¹ sr⁻¹ NaN erg Hz⁻¹ cm⁻² s⁻¹ sr⁻¹;;; NaN erg Hz⁻¹ cm⁻² s⁻¹ sr⁻¹ NaN erg Hz⁻¹ cm⁻² s⁻¹ sr⁻¹ … NaN erg Hz⁻¹ cm⁻² s⁻¹ sr⁻¹ NaN erg Hz⁻¹ cm⁻² s⁻¹ sr⁻¹; NaN erg Hz⁻¹ cm⁻² s⁻¹ sr⁻¹ NaN erg Hz⁻¹ cm⁻² s⁻¹ sr⁻¹ … NaN erg Hz⁻¹ cm⁻² s⁻¹ sr⁻¹ NaN erg Hz⁻¹ cm⁻² s⁻¹ sr⁻¹; … ; NaN erg Hz⁻¹ cm⁻² s⁻¹ sr⁻¹ NaN erg Hz⁻¹ cm⁻² s⁻¹ sr⁻¹ … NaN erg Hz⁻¹ cm⁻² s⁻¹ sr⁻¹ NaN erg Hz⁻¹ cm⁻² s⁻¹ sr⁻¹; NaN erg Hz⁻¹ cm⁻² s⁻¹ sr⁻¹ NaN erg Hz⁻¹ cm⁻² s⁻¹ sr⁻¹ … NaN erg Hz⁻¹ cm⁻² s⁻¹ sr⁻¹ NaN erg Hz⁻¹ cm⁻² s⁻¹ sr⁻¹], Quantity{Float64, 𝐌 𝐓⁻², Unitful.FreeUnits{(erg, Hz⁻¹, cm⁻², s⁻¹, sr⁻¹), 𝐌 𝐓⁻², nothing}}[NaN erg Hz⁻¹ cm⁻² s⁻¹ sr⁻¹ NaN erg Hz⁻¹ cm⁻² s⁻¹ sr⁻¹ … NaN erg Hz⁻¹ cm⁻² s⁻¹ sr⁻¹ NaN erg Hz⁻¹ cm⁻² s⁻¹ sr⁻¹; NaN erg Hz⁻¹ cm⁻² s⁻¹ sr⁻¹ NaN erg Hz⁻¹ cm⁻² s⁻¹ sr⁻¹ … NaN erg Hz⁻¹ cm⁻² s⁻¹ sr⁻¹ NaN erg Hz⁻¹ cm⁻² s⁻¹ sr⁻¹; … ; NaN erg Hz⁻¹ cm⁻² s⁻¹ sr⁻¹ NaN erg Hz⁻¹ cm⁻² s⁻¹ sr⁻¹ … NaN erg Hz⁻¹ cm⁻² s⁻¹ sr⁻¹ NaN erg Hz⁻¹ cm⁻² s⁻¹ sr⁻¹; NaN erg Hz⁻¹ cm⁻² s⁻¹ sr⁻¹ NaN erg Hz⁻¹ cm⁻² s⁻¹ sr⁻¹ … NaN erg Hz⁻¹ cm⁻² s⁻¹ sr⁻¹ NaN erg Hz⁻¹ cm⁻² s⁻¹ sr⁻¹;;; NaN erg Hz⁻¹ cm⁻² s⁻¹ sr⁻¹ NaN erg Hz⁻¹ cm⁻² s⁻¹ sr⁻¹ … NaN erg Hz⁻¹ cm⁻² s⁻¹ sr⁻¹ NaN erg Hz⁻¹ cm⁻² s⁻¹ sr⁻¹; NaN erg Hz⁻¹ cm⁻² s⁻¹ sr⁻¹ NaN erg Hz⁻¹ cm⁻² s⁻¹ sr⁻¹ … NaN erg Hz⁻¹ cm⁻² s⁻¹ sr⁻¹ NaN erg Hz⁻¹ cm⁻² s⁻¹ sr⁻¹; … ; NaN erg Hz⁻¹ cm⁻² s⁻¹ sr⁻¹ NaN erg Hz⁻¹ cm⁻² s⁻¹ sr⁻¹ … NaN erg Hz⁻¹ cm⁻² s⁻¹ sr⁻¹ NaN erg Hz⁻¹ cm⁻² s⁻¹ sr⁻¹; NaN erg Hz⁻¹ cm⁻² s⁻¹ sr⁻¹ NaN erg Hz⁻¹ cm⁻² s⁻¹ sr⁻¹ … NaN erg Hz⁻¹ cm⁻² s⁻¹ sr⁻¹ NaN erg Hz⁻¹ cm⁻² s⁻¹ sr⁻¹;;; NaN erg Hz⁻¹ cm⁻² s⁻¹ sr⁻¹ NaN erg Hz⁻¹ cm⁻² s⁻¹ sr⁻¹ … NaN erg Hz⁻¹ cm⁻² s⁻¹ sr⁻¹ NaN erg Hz⁻¹ cm⁻² s⁻¹ sr⁻¹; NaN erg Hz⁻¹ cm⁻² s⁻¹ sr⁻¹ NaN erg Hz⁻¹ cm⁻² s⁻¹ sr⁻¹ … NaN erg Hz⁻¹ cm⁻² s⁻¹ sr⁻¹ NaN erg Hz⁻¹ cm⁻² s⁻¹ sr⁻¹; … ; NaN erg Hz⁻¹ cm⁻² s⁻¹ sr⁻¹ NaN erg Hz⁻¹ cm⁻² s⁻¹ sr⁻¹ … NaN erg Hz⁻¹ cm⁻² s⁻¹ sr⁻¹ NaN erg Hz⁻¹ cm⁻² s⁻¹ sr⁻¹; NaN erg Hz⁻¹ cm⁻² s⁻¹ sr⁻¹ NaN erg Hz⁻¹ cm⁻² s⁻¹ sr⁻¹ … NaN erg Hz⁻¹ cm⁻² s⁻¹ sr⁻¹ NaN erg Hz⁻¹ cm⁻² s⁻¹ sr⁻¹;;; … ;;; NaN erg Hz⁻¹ cm⁻² s⁻¹ sr⁻¹ NaN erg Hz⁻¹ cm⁻² s⁻¹ sr⁻¹ … NaN erg Hz⁻¹ cm⁻² s⁻¹ sr⁻¹ NaN erg Hz⁻¹ cm⁻² s⁻¹ sr⁻¹; NaN erg Hz⁻¹ cm⁻² s⁻¹ sr⁻¹ NaN erg Hz⁻¹ cm⁻² s⁻¹ sr⁻¹ … NaN erg Hz⁻¹ cm⁻² s⁻¹ sr⁻¹ NaN erg Hz⁻¹ cm⁻² s⁻¹ sr⁻¹; … ; NaN erg Hz⁻¹ cm⁻² s⁻¹ sr⁻¹ NaN erg Hz⁻¹ cm⁻² s⁻¹ sr⁻¹ … NaN erg Hz⁻¹ cm⁻² s⁻¹ sr⁻¹ NaN erg Hz⁻¹ cm⁻² s⁻¹ sr⁻¹; NaN erg Hz⁻¹ cm⁻² s⁻¹ sr⁻¹ NaN erg Hz⁻¹ cm⁻² s⁻¹ sr⁻¹ … NaN erg Hz⁻¹ cm⁻² s⁻¹ sr⁻¹ NaN erg Hz⁻¹ cm⁻² s⁻¹ sr⁻¹;;; NaN erg Hz⁻¹ cm⁻² s⁻¹ sr⁻¹ NaN erg Hz⁻¹ cm⁻² s⁻¹ sr⁻¹ … NaN erg Hz⁻¹ cm⁻² s⁻¹ sr⁻¹ NaN erg Hz⁻¹ cm⁻² s⁻¹ sr⁻¹; NaN erg Hz⁻¹ cm⁻² s⁻¹ sr⁻¹ NaN erg Hz⁻¹ cm⁻² s⁻¹ sr⁻¹ … NaN erg Hz⁻¹ cm⁻² s⁻¹ sr⁻¹ NaN erg Hz⁻¹ cm⁻² s⁻¹ sr⁻¹; … ; NaN erg Hz⁻¹ cm⁻² s⁻¹ sr⁻¹ NaN erg Hz⁻¹ cm⁻² s⁻¹ sr⁻¹ … NaN erg Hz⁻¹ cm⁻² s⁻¹ sr⁻¹ NaN erg Hz⁻¹ cm⁻² s⁻¹ sr⁻¹; NaN erg Hz⁻¹ cm⁻² s⁻¹ sr⁻¹ NaN erg Hz⁻¹ cm⁻² s⁻¹ sr⁻¹ … NaN erg Hz⁻¹ cm⁻² s⁻¹ sr⁻¹ NaN erg Hz⁻¹ cm⁻² s⁻¹ sr⁻¹;;; NaN erg Hz⁻¹ cm⁻² s⁻¹ sr⁻¹ NaN erg Hz⁻¹ cm⁻² s⁻¹ sr⁻¹ … NaN erg Hz⁻¹ cm⁻² s⁻¹ sr⁻¹ NaN erg Hz⁻¹ cm⁻² s⁻¹ sr⁻¹; NaN erg Hz⁻¹ cm⁻² s⁻¹ sr⁻¹ NaN erg Hz⁻¹ cm⁻² s⁻¹ sr⁻¹ … NaN erg Hz⁻¹ cm⁻² s⁻¹ sr⁻¹ NaN erg Hz⁻¹ cm⁻² s⁻¹ sr⁻¹; … ; NaN erg Hz⁻¹ cm⁻² s⁻¹ sr⁻¹ NaN erg Hz⁻¹ cm⁻² s⁻¹ sr⁻¹ … NaN erg Hz⁻¹ cm⁻² s⁻¹ sr⁻¹ NaN erg Hz⁻¹ cm⁻² s⁻¹ sr⁻¹; NaN erg Hz⁻¹ cm⁻² s⁻¹ sr⁻¹ NaN erg Hz⁻¹ cm⁻² s⁻¹ sr⁻¹ … NaN erg Hz⁻¹ cm⁻² s⁻¹ sr⁻¹ NaN erg Hz⁻¹ cm⁻² s⁻¹ sr⁻¹], Bool[1 1 … 1 1; 1 1 … 1 1; … ; 1 1 … 1 1; 1 1 … 1 1;;; 1 1 … 1 1; 1 1 … 1 1; … ; 1 1 … 1 1; 1 1 … 1 1;;; 1 1 … 1 1; 1 1 … 1 1; … ; 1 1 … 1 1; 1 1 … 1 1;;; … ;;; 1 1 … 1 1; 1 1 … 1 1; … ; 1 1 … 1 1; 1 1 … 1 1;;; 1 1 … 1 1; 1 1 … 1 1; … ; 1 1 … 1 1; 1 1 … 1 1;;; 1 1 … 1 1; 1 1 … 1 1; … ; 1 1 … 1 1; 1 1 … 1 1], [NaN NaN … NaN NaN; NaN NaN … NaN NaN; … ; NaN NaN … NaN NaN; NaN NaN … NaN NaN;;; NaN NaN … NaN NaN; NaN NaN … NaN NaN; … ; NaN NaN … NaN NaN; NaN NaN … NaN NaN;;; NaN NaN … NaN NaN; NaN NaN … NaN NaN; … ; NaN NaN … NaN NaN; NaN NaN … NaN NaN;;; … ;;; NaN NaN … NaN NaN; NaN NaN … NaN NaN; … ; NaN NaN … NaN NaN; NaN NaN … NaN NaN;;; NaN NaN … NaN NaN; NaN NaN … NaN NaN; … ; NaN NaN … NaN NaN; NaN NaN … NaN NaN;;; NaN NaN … NaN NaN; NaN NaN … NaN NaN; … ; NaN NaN … NaN NaN; NaN NaN … NaN NaN], 3.97217570860291e-13 sr, 345.8150416666667°, 8.873894444444446°, -1.2121968976533366 rad, Quantity{Float64, NoDims, Unitful.FreeUnits{(″,), NoDims, nothing}}[0.17773960314612486 ″, 0.1777660074553099 ″, 0.17779241607505047 ″, 0.17781882900605034 ″, 0.17784524624901327 ″, 0.17787166780464322 ″, 0.17789809367364423 ″, 0.17792452385672047 ″, 0.17795095835457625 ″, 0.17797739716791589 ″  …  0.5919289689336069 ″, 0.592022990473592 ″, 0.5921170273627789 ″, 0.5922110796036734 ″, 0.5923051471987815 ″, 0.5923992301506098 ″, 0.592493328461666 ″, 0.5925874421344569 ″, 0.5926815711714903 ″, 0.5927757155752748 ″], Quantity{Float64, 𝐋 𝐓⁻¹, Unitful.FreeUnits{(km, s⁻¹), 𝐋 𝐓⁻¹, nothing}}[75.40722407309808 km s⁻¹, 75.40916669030692 km s⁻¹, 75.41110972476912 km s⁻¹, 75.41305317659324 km s⁻¹, 75.41499704588787 km s⁻¹, 75.41694133276162 km s⁻¹, 75.41888603732318 km s⁻¹, 75.42083115968119 km s⁻¹, 75.42277669994442 km s⁻¹, 75.42472265822161 km s⁻¹  …  126.54309941791682 km s⁻¹, 126.56258198739924 km s⁻¹, 126.58207373866456 km s⁻¹, 126.60157467794498 km s⁻¹, 126.62108481147837 km s⁻¹, 126.6406041455082 km s⁻¹, 126.66013268628376 km s⁻¹, 126.67967044005972 km s⁻¹, 126.69921741309649 km s⁻¹, 126.71877361166027 km s⁻¹], WCSTransform(naxis=3,cdelt=[3.61111097865634e-5, 3.61111097865634e-5, 7.999999797902999e-10],crval=[-14.184958375464007, 8.873879410350746, 4.9004000953573265e-6],crpix=[25.0, 23.0, 1.0]), \"MULTIPLE\", \"MULTIPLE\", 49, 45, 7790, Loki.SpectralRegion{Quantity{Float64, 𝐋, Unitful.FreeUnits{(μm,), 𝐋, nothing}}}((4.822511180406425 μm, 17.197848691129078 μm), Tuple{Quantity{Float64, 𝐋, Unitful.FreeUnits{(μm,), 𝐋, nothing}}, Quantity{Float64, 𝐋, Unitful.FreeUnits{(μm,), 𝐋, nothing}}}[], 17, BitVector[[1, 1, 1, 1, 1, 1, 1, 1, 1, 1  …  0, 0, 0, 0, 0, 0, 0, 0, 0, 0], [0, 0, 0, 0, 0, 0, 0, 0, 0, 0  …  0, 0, 0, 0, 0, 0, 0, 0, 0, 0], [0, 0, 0, 0, 0, 0, 0, 0, 0, 0  …  0, 0, 0, 0, 0, 0, 0, 0, 0, 0], [0, 0, 0, 0, 0, 0, 0, 0, 0, 0  …  0, 0, 0, 0, 0, 0, 0, 0, 0, 0], [0, 0, 0, 0, 0, 0, 0, 0, 0, 0  …  0, 0, 0, 0, 0, 0, 0, 0, 0, 0], [0, 0, 0, 0, 0, 0, 0, 0, 0, 0  …  0, 0, 0, 0, 0, 0, 0, 0, 0, 0], [0, 0, 0, 0, 0, 0, 0, 0, 0, 0  …  0, 0, 0, 0, 0, 0, 0, 0, 0, 0], [0, 0, 0, 0, 0, 0, 0, 0, 0, 0  …  0, 0, 0, 0, 0, 0, 0, 0, 0, 0], [0, 0, 0, 0, 0, 0, 0, 0, 0, 0  …  0, 0, 0, 0, 0, 0, 0, 0, 0, 0], [0, 0, 0, 0, 0, 0, 0, 0, 0, 0  …  0, 0, 0, 0, 0, 0, 0, 0, 0, 0], [0, 0, 0, 0, 0, 0, 0, 0, 0, 0  …  0, 0, 0, 0, 0, 0, 0, 0, 0, 0], [0, 0, 0, 0, 0, 0, 0, 0, 0, 0  …  0, 0, 0, 0, 0, 0, 0, 0, 0, 0], [0, 0, 0, 0, 0, 0, 0, 0, 0, 0  …  0, 0, 0, 0, 0, 0, 0, 0, 0, 0], [0, 0, 0, 0, 0, 0, 0, 0, 0, 0  …  0, 0, 0, 0, 0, 0, 0, 0, 0, 0], [0, 0, 0, 0, 0, 0, 0, 0, 0, 0  …  0, 0, 0, 0, 0, 0, 0, 0, 0, 0], [0, 0, 0, 0, 0, 0, 0, 0, 0, 0  …  0, 0, 0, 0, 0, 0, 0, 0, 0, 0], [0, 0, 0, 0, 0, 0, 0, 0, 0, 0  …  1, 1, 1, 1, 1, 1, 1, 1, 1, 1]], Quantity{Float64, 𝐋, Unitful.FreeUnits{(μm,), 𝐋, nothing}}[5.7 μm, 6.58 μm, 7.58 μm, 8.72 μm, 10.075 μm, 11.625 μm, 13.39 μm, 15.49 μm], Tuple{Quantity{Float64, 𝐋, Unitful.FreeUnits{(μm,), 𝐋, nothing}}, Quantity{Float64, 𝐋, Unitful.FreeUnits{(μm,), 𝐋, nothing}}}[], Loki.Infrared), true, true, true, true, true, true, nothing), Spline1D(knots=[4.82251,4.8233 … 17.1946,17.1974] (7790 elements), k=1, extrapolation=\"nearest\", residual=0.0)), Dict{String, Tuple{Vector{<:Union{Quantity{Float64, 𝐋, Unitful.FreeUnits{(μm,), 𝐋, nothing}}, Quantity{Float64, 𝐋, Unitful.FreeUnits{(Å,), 𝐋, nothing}}}}, Vector{<:AbstractFloat}}}(\"dp\" => (Quantity{Float64, 𝐋, Unitful.FreeUnits{(μm,), 𝐋, nothing}}[4.872 μm, 4.901 μm, 4.93 μm, 4.958 μm, 4.987 μm, 5.015 μm, 5.044 μm, 5.072 μm, 5.101 μm, 5.13 μm  …  33.376 μm, 33.536 μm, 33.696 μm, 33.856 μm, 34.016 μm, 34.176 μm, 34.336 μm, 34.496 μm, 34.656 μm, 34.816 μm], [0.00013932881488852732, 0.00012685486467259, 0.00011438091445665264, 0.00010233710045505773, 8.98631502391204e-5, 7.781933623752588e-5, 6.534538602158853e-5, 5.3301572019993625e-5, 4.082762180405629e-5, 2.8353671588118956e-5  …  -0.010248753808906576, -0.008849555783209551, -0.008018046120299584, -0.007737073532587197, -0.0047568949322396225, -2.059222995799695e-5, 0.0010045279449709462, 0.0018514592908683103, 0.002922183468301147, 0.003849698889710785]), \"ohm\" => (Quantity{Float64, 𝐋, Unitful.FreeUnits{(μm,), 𝐋, nothing}}[0.00998911 μm, 0.0144932 μm, 0.0178575 μm, 0.0193776 μm, 0.0234454 μm, 0.0288864 μm, 0.03401 μm, 0.0411485 μm, 0.0535353 μm, 0.0690269 μm  …  41.5447 μm, 44.6626 μm, 47.1521 μm, 51.6185 μm, 55.4938 μm, 62.9911 μm, 67.7227 μm, 71.5013 μm, 80.4332 μm, 1000.0 μm], [80.35792803056988, 92.57227673224875, 96.21447502350316, 98.72196323549059, 98.72196323549059, 97.4602025521867, 92.57227673224875, 90.22099031451705, 90.22099031451705, 97.4602025521867  …  0.15092834394517635, 0.11973268358569357, 0.09746020255218671, 0.07632753305623508, 0.06212920293358144, 0.04504344741975528, 0.03810716463377603, 0.03265637791603, 0.025248574628261595, 0.0])), Dict{String, Dierckx.Spline1D}(\"smith3\" => Spline1D(knots=[1.01,1.03 … 39.97,39.99] (3897 elements), k=3, extrapolation=\"nearest\", residual=0.0), \"dp\" => Spline1D(knots=[4.872,4.93 … 34.496,34.816] (359 elements), k=3, extrapolation=\"nearest\", residual=0.0), \"smith4\" => Spline1D(knots=[1.01,1.03 … 39.97,39.99] (3897 elements), k=3, extrapolation=\"nearest\", residual=0.0), \"ohm\" => Spline1D(knots=[0.00998911,0.0178575 … 71.5013,1000.0] (78 elements), k=3, extrapolation=\"nearest\", residual=0.0)), Dict(:HI_Hu_delta => [1 1 … 1 1; 1 1 … 1 1; … ; 1 1 … 1 1; 1 1 … 1 1], :H200_S8 => [1 1 … 1 1; 1 1 … 1 1; … ; 1 1 … 1 1; 1 1 … 1 1], :NaIII_7318m => [1 1 … 1 1; 1 1 … 1 1; … ; 1 1 … 1 1; 1 1 … 1 1], :FeII_6721m => [1 1 … 1 1; 1 1 … 1 1; … ; 1 1 … 1 1; 1 1 … 1 1], :FeII_5340m => [1 1 … 1 1; 1 1 … 1 1; … ; 1 1 … 1 1; 1 1 … 1 1], :NeIII_15555m => [1 1 … 1 1; 1 1 … 1 1; … ; 1 1 … 1 1; 1 1 … 1 1], :MgVII_5503m => [1 1 … 1 1; 1 1 … 1 1; … ; 1 1 … 1 1; 1 1 … 1 1], :H200_S5 => [1 1 … 1 1; 1 1 … 1 1; … ; 1 1 … 1 1; 1 1 … 1 1], :H200_S7 => [1 1 … 1 1; 1 1 … 1 1; … ; 1 1 … 1 1; 1 1 … 1 1], :ArII_6985m => [1 1 … 1 1; 1 1 … 1 1; … ; 1 1 … 1 1; 1 1 … 1 1]…), Cosmology.FlatLCDM{Float64}(0.7, 0.73, 0.27, 0.0), Tuple{Quantity{Float64, 𝐋, Unitful.FreeUnits{(μm,), 𝐋, nothing}}, Quantity{Float64, 𝐋, Unitful.FreeUnits{(μm,), 𝐋, nothing}}}[(5.036264605992724 μm, 5.069975394007277 μm), (5.111891497557287 μm, 5.146108502442713 μm), (5.322356113593099 μm, 5.357981886406903 μm), (5.428432097990938 μm, 5.464767902009063 μm), (5.484843300713055 μm, 5.521556699286944 μm), (5.492796682298259 μm, 5.529563317701742 μm), (5.591137554605527 μm, 5.628562445394474 μm), (5.888293033255694 μm, 5.927706966744307 μm), (6.088194003749955 μm, 6.128945996250047 μm), (6.613864686642651 μm, 6.6581353133573495 μm)  …  (9.494922349342758 μm, 9.558477650657244 μm), (9.632681297050375 μm, 9.697158702949626 μm), (10.475440745774199 μm, 10.545559254225802 μm), (12.237652965650591 μm, 12.319567034349411 μm), (12.330731450142085 μm, 12.413268549857916 μm), (12.770808597879737 μm, 12.856291402120263 μm), (14.273927950978006 μm, 14.369472049021994 μm), (14.31987417793012 μm, 14.415725822069883 μm), (15.503213771427832 μm, 15.606986228572168 μm), (16.978017890085546 μm, 17.091662109914452 μm)], 1000.0 km s⁻¹, Number[0.0, 0.0, 0.24614517249797924, 0.1, 0.0, 400.0 K, 0.015106750408954765, 217.71188007319748 K, 0.07417721695425263, 90.32975488508634 K  …  0.18289045459991934 μm, 0.0 μm⁻¹, 0.023631547296561337, 16.445617983531626 μm, 0.19132596062508606 μm, 0.0 μm⁻¹, 0.01880159024847449, 17.00552343158279 μm, 0.7706079216447997 μm, 0.0 μm⁻¹], Number[0.001217450173939148, 25.585478735295467 km s⁻¹, 230.02388314145514 km s⁻¹, 1.0, 0.0006179475540816845, 27.04536959365965 km s⁻¹, 238.22430423181257 km s⁻¹, 1.0, 0.02565434425698818, 27.04536959365965 km s⁻¹  …  238.22430423181257 km s⁻¹, 1.0, 0.10471847581472048, -14.010764554825624 km s⁻¹, 235.89586285592554 km s⁻¹, 1.0, 0.05710154937157185, 25.585478735295467 km s⁻¹, 230.02388314145514 km s⁻¹, 1.0], Number[0.07059506611769824, 0.025262439388158007]), ParamMaps(Quantity{Float64}[NaN NaN … NaN NaN; NaN NaN … NaN NaN; … ; NaN NaN … NaN NaN; NaN NaN … NaN NaN;;; NaN NaN … NaN NaN; NaN NaN … NaN NaN; … ; NaN NaN … NaN NaN; NaN NaN … NaN NaN;;; NaN NaN … NaN NaN; NaN NaN … NaN NaN; … ; NaN NaN … NaN NaN; NaN NaN … NaN NaN;;; … ;;; NaN NaN … NaN NaN; NaN NaN … NaN NaN; … ; NaN NaN … NaN NaN; NaN NaN … NaN NaN;;; NaN NaN … NaN NaN; NaN NaN … NaN NaN; … ; NaN NaN … NaN NaN; NaN NaN … NaN NaN;;; NaN NaN … NaN NaN; NaN NaN … NaN NaN; … ; NaN NaN … NaN NaN; NaN NaN … NaN NaN], Quantity{Float64}[NaN NaN … NaN NaN; NaN NaN … NaN NaN; … ; NaN NaN … NaN NaN; NaN NaN … NaN NaN;;; NaN NaN … NaN NaN; NaN NaN … NaN NaN; … ; NaN NaN … NaN NaN; NaN NaN … NaN NaN;;; NaN NaN … NaN NaN; NaN NaN … NaN NaN; … ; NaN NaN … NaN NaN; NaN NaN … NaN NaN;;; … ;;; NaN NaN … NaN NaN; NaN NaN … NaN NaN; … ; NaN NaN … NaN NaN; NaN NaN … NaN NaN;;; NaN NaN … NaN NaN; NaN NaN … NaN NaN; … ; NaN NaN … NaN NaN; NaN NaN … NaN NaN;;; NaN NaN … NaN NaN; NaN NaN … NaN NaN; … ; NaN NaN … NaN NaN; NaN NaN … NaN NaN], Quantity{Float64}[NaN NaN … NaN NaN; NaN NaN … NaN NaN; … ; NaN NaN … NaN NaN; NaN NaN … NaN NaN;;; NaN NaN … NaN NaN; NaN NaN … NaN NaN; … ; NaN NaN … NaN NaN; NaN NaN … NaN NaN;;; NaN NaN … NaN NaN; NaN NaN … NaN NaN; … ; NaN NaN … NaN NaN; NaN NaN … NaN NaN;;; … ;;; NaN NaN … NaN NaN; NaN NaN … NaN NaN; … ; NaN NaN … NaN NaN; NaN NaN … NaN NaN;;; NaN NaN … NaN NaN; NaN NaN … NaN NaN; … ; NaN NaN … NaN NaN; NaN NaN … NaN NaN;;; NaN NaN … NaN NaN; NaN NaN … NaN NaN; … ; NaN NaN … NaN NaN; NaN NaN … NaN NaN], Loki.AllParameters([\"extinction.E_BV\", \"extinction.E_BV_factor\", \"extinction.tau_97\", \"extinction.beta\", \"continuum.dust.1.amp\", \"continuum.dust.1.temp\", \"continuum.dust.2.amp\", \"continuum.dust.2.temp\", \"continuum.dust.3.amp\", \"continuum.dust.3.temp\"  …  \"lines.H200_S1.total_flux\", \"lines.H200_S1.total_eqw\", \"lines.H200_S1.total_snr\", \"lines.H200_S1.n_comps\", \"lines.H200_S1.w80\", \"lines.H200_S1.delta_v\", \"lines.H200_S1.vmed\", \"lines.H200_S1.vpeak\", \"statistics.chi2\", \"statistics.dof\"], [\"\\$E(B-V)_{\\\\rm gas}\\$\", \"\\$E(B-V)_{\\\\rm stars}/E(B-V)_{\\\\rm gas}\\$\", \"\\$\\\\tau_{9.7}\\$\", \"\\$\\\\beta\\$\", \"\\$\\\\log_{10}(A_{\\\\rm dust})\\$\", \"\\$T\\$ (K)\", \"\\$\\\\log_{10}(A_{\\\\rm dust})\\$\", \"\\$T\\$ (K)\", \"\\$\\\\log_{10}(A_{\\\\rm dust})\\$\", \"\\$T\\$ (K)\"  …  \"\\$\\\\log_{10}(F /\\$ \\$\\\\mathrm{erg}\\\\,\\\\mathrm{s}^{-1}\\\\,\\\\mathrm{cm}^{-2}\\$\\$)\\$\", \"\\$W_{\\\\rm eq}\\$ (\\$\\\\mathrm{\\\\mu{}m}\\$)\", \"\\$S/N\\$\", \"\\$n_{\\\\rm comp}\\$\", \"\\$W_{80}\\$ (km s\\$^{-1}\\$)\", \"\\$\\\\Delta v\\$ (km s\\$^{-1}\\$)\", \"\\$v_{\\\\rm med}\\$ (km s\\$^{-1}\\$)\", \"\\$v_{\\\\rm peak}\\$ (km s\\$^{-1}\\$)\", \"\\$\\\\chi^2\\$\", \"d.o.f.\"], Vector{Loki.Transformation}[[], [], [], [], [Loki.RestframeTransform, Loki.LogTransform], [], [Loki.RestframeTransform, Loki.LogTransform], [], [Loki.RestframeTransform, Loki.LogTransform], []  …  [Loki.LogTransform], [Loki.RestframeTransform], [], [], [], [], [], [], [], []], Union{Loki.FitParameter, Loki.NonFitParameter}[\"Parameter: value = 0.0 | locked = true | limits = (0.0, 1.0)\", \"Parameter: value = 0.0 | locked = true | limits = (0.0, 10.0)\", \"Parameter: value = 0.1 | locked = false | limits = (0.0, 10.0)\", \"Parameter: value = 0.1 | locked = true | limits = (0.0, 1.0)\", \"Parameter: value = NaN | locked = false | limits = (0.0, Inf)\", \"Parameter: value = 400.0 K | locked = false | limits = (35.0 K, 1500.0 K)\", \"Parameter: value = NaN | locked = false | limits = (0.0, Inf)\", \"Parameter: value = 300.0 K | locked = false | limits = (35.0 K, 300.0 K)\", \"Parameter: value = NaN | locked = false | limits = (0.0, Inf)\", \"Parameter: value = 100.0 K | locked = false | limits = (35.0 K, 300.0 K)\"  …  Loki.NonFitParameter{Quantity{Float64, 𝐌 𝐓⁻³, Unitful.FreeUnits{(erg, cm⁻², s⁻¹), 𝐌 𝐓⁻³, nothing}}}(Quantity{Float64, 𝐌 𝐓⁻³, Unitful.FreeUnits{(erg, cm⁻², s⁻¹), 𝐌 𝐓⁻³, nothing}}), Loki.NonFitParameter{Quantity{Float64, 𝐋, Unitful.FreeUnits{(μm,), 𝐋, nothing}}}(Quantity{Float64, 𝐋, Unitful.FreeUnits{(μm,), 𝐋, nothing}}), Loki.NonFitParameter{Float64}(Float64), Loki.NonFitParameter{Int64}(Int64), Loki.NonFitParameter{Quantity{Float64, 𝐋 𝐓⁻¹, Unitful.FreeUnits{(km, s⁻¹), 𝐋 𝐓⁻¹, nothing}}}(Quantity{Float64, 𝐋 𝐓⁻¹, Unitful.FreeUnits{(km, s⁻¹), 𝐋 𝐓⁻¹, nothing}}), Loki.NonFitParameter{Quantity{Float64, 𝐋 𝐓⁻¹, Unitful.FreeUnits{(km, s⁻¹), 𝐋 𝐓⁻¹, nothing}}}(Quantity{Float64, 𝐋 𝐓⁻¹, Unitful.FreeUnits{(km, s⁻¹), 𝐋 𝐓⁻¹, nothing}}), Loki.NonFitParameter{Quantity{Float64, 𝐋 𝐓⁻¹, Unitful.FreeUnits{(km, s⁻¹), 𝐋 𝐓⁻¹, nothing}}}(Quantity{Float64, 𝐋 𝐓⁻¹, Unitful.FreeUnits{(km, s⁻¹), 𝐋 𝐓⁻¹, nothing}}), Loki.NonFitParameter{Quantity{Float64, 𝐋 𝐓⁻¹, Unitful.FreeUnits{(km, s⁻¹), 𝐋 𝐓⁻¹, nothing}}}(Quantity{Float64, 𝐋 𝐓⁻¹, Unitful.FreeUnits{(km, s⁻¹), 𝐋 𝐓⁻¹, nothing}}), Loki.NonFitParameter{Float64}(Float64), Loki.NonFitParameter{Int64}(Int64)])), CubeModel{Float32, Quantity{Float32, 𝐌 𝐓⁻², Unitful.FreeUnits{(erg, Hz⁻¹, cm⁻², s⁻¹, sr⁻¹), 𝐌 𝐓⁻², nothing}}}(Quantity{Float32, 𝐌 𝐓⁻², Unitful.FreeUnits{(erg, Hz⁻¹, cm⁻², s⁻¹, sr⁻¹), 𝐌 𝐓⁻², nothing}}[0.0f0 erg Hz⁻¹ cm⁻² s⁻¹ sr⁻¹ 0.0f0 erg Hz⁻¹ cm⁻² s⁻¹ sr⁻¹ … 0.0f0 erg Hz⁻¹ cm⁻² s⁻¹ sr⁻¹ 0.0f0 erg Hz⁻¹ cm⁻² s⁻¹ sr⁻¹; 0.0f0 erg Hz⁻¹ cm⁻² s⁻¹ sr⁻¹ 0.0f0 erg Hz⁻¹ cm⁻² s⁻¹ sr⁻¹ … 0.0f0 erg Hz⁻¹ cm⁻² s⁻¹ sr⁻¹ 0.0f0 erg Hz⁻¹ cm⁻² s⁻¹ sr⁻¹; … ; 0.0f0 erg Hz⁻¹ cm⁻² s⁻¹ sr⁻¹ 0.0f0 erg Hz⁻¹ cm⁻² s⁻¹ sr⁻¹ … 0.0f0 erg Hz⁻¹ cm⁻² s⁻¹ sr⁻¹ 0.0f0 erg Hz⁻¹ cm⁻² s⁻¹ sr⁻¹; 0.0f0 erg Hz⁻¹ cm⁻² s⁻¹ sr⁻¹ 0.0f0 erg Hz⁻¹ cm⁻² s⁻¹ sr⁻¹ … 0.0f0 erg Hz⁻¹ cm⁻² s⁻¹ sr⁻¹ 0.0f0 erg Hz⁻¹ cm⁻² s⁻¹ sr⁻¹;;; 0.0f0 erg Hz⁻¹ cm⁻² s⁻¹ sr⁻¹ 0.0f0 erg Hz⁻¹ cm⁻² s⁻¹ sr⁻¹ … 0.0f0 erg Hz⁻¹ cm⁻² s⁻¹ sr⁻¹ 0.0f0 erg Hz⁻¹ cm⁻² s⁻¹ sr⁻¹; 0.0f0 erg Hz⁻¹ cm⁻² s⁻¹ sr⁻¹ 0.0f0 erg Hz⁻¹ cm⁻² s⁻¹ sr⁻¹ … 0.0f0 erg Hz⁻¹ cm⁻² s⁻¹ sr⁻¹ 0.0f0 erg Hz⁻¹ cm⁻² s⁻¹ sr⁻¹; … ; 0.0f0 erg Hz⁻¹ cm⁻² s⁻¹ sr⁻¹ 0.0f0 erg Hz⁻¹ cm⁻² s⁻¹ sr⁻¹ … 0.0f0 erg Hz⁻¹ cm⁻² s⁻¹ sr⁻¹ 0.0f0 erg Hz⁻¹ cm⁻² s⁻¹ sr⁻¹; 0.0f0 erg Hz⁻¹ cm⁻² s⁻¹ sr⁻¹ 0.0f0 erg Hz⁻¹ cm⁻² s⁻¹ sr⁻¹ … 0.0f0 erg Hz⁻¹ cm⁻² s⁻¹ sr⁻¹ 0.0f0 erg Hz⁻¹ cm⁻² s⁻¹ sr⁻¹;;; 0.0f0 erg Hz⁻¹ cm⁻² s⁻¹ sr⁻¹ 0.0f0 erg Hz⁻¹ cm⁻² s⁻¹ sr⁻¹ … 0.0f0 erg Hz⁻¹ cm⁻² s⁻¹ sr⁻¹ 0.0f0 erg Hz⁻¹ cm⁻² s⁻¹ sr⁻¹; 0.0f0 erg Hz⁻¹ cm⁻² s⁻¹ sr⁻¹ 0.0f0 erg Hz⁻¹ cm⁻² s⁻¹ sr⁻¹ … 0.0f0 erg Hz⁻¹ cm⁻² s⁻¹ sr⁻¹ 0.0f0 erg Hz⁻¹ cm⁻² s⁻¹ sr⁻¹; … ; 0.0f0 erg Hz⁻¹ cm⁻² s⁻¹ sr⁻¹ 0.0f0 erg Hz⁻¹ cm⁻² s⁻¹ sr⁻¹ … 0.0f0 erg Hz⁻¹ cm⁻² s⁻¹ sr⁻¹ 0.0f0 erg Hz⁻¹ cm⁻² s⁻¹ sr⁻¹; 0.0f0 erg Hz⁻¹ cm⁻² s⁻¹ sr⁻¹ 0.0f0 erg Hz⁻¹ cm⁻² s⁻¹ sr⁻¹ … 0.0f0 erg Hz⁻¹ cm⁻² s⁻¹ sr⁻¹ 0.0f0 erg Hz⁻¹ cm⁻² s⁻¹ sr⁻¹;;; … ;;; 0.0f0 erg Hz⁻¹ cm⁻² s⁻¹ sr⁻¹ 0.0f0 erg Hz⁻¹ cm⁻² s⁻¹ sr⁻¹ … 0.0f0 erg Hz⁻¹ cm⁻² s⁻¹ sr⁻¹ 0.0f0 erg Hz⁻¹ cm⁻² s⁻¹ sr⁻¹; 0.0f0 erg Hz⁻¹ cm⁻² s⁻¹ sr⁻¹ 0.0f0 erg Hz⁻¹ cm⁻² s⁻¹ sr⁻¹ … 0.0f0 erg Hz⁻¹ cm⁻² s⁻¹ sr⁻¹ 0.0f0 erg Hz⁻¹ cm⁻² s⁻¹ sr⁻¹; … ; 0.0f0 erg Hz⁻¹ cm⁻² s⁻¹ sr⁻¹ 0.0f0 erg Hz⁻¹ cm⁻² s⁻¹ sr⁻¹ … 0.0f0 erg Hz⁻¹ cm⁻² s⁻¹ sr⁻¹ 0.0f0 erg Hz⁻¹ cm⁻² s⁻¹ sr⁻¹; 0.0f0 erg Hz⁻¹ cm⁻² s⁻¹ sr⁻¹ 0.0f0 erg Hz⁻¹ cm⁻² s⁻¹ sr⁻¹ … 0.0f0 erg Hz⁻¹ cm⁻² s⁻¹ sr⁻¹ 0.0f0 erg Hz⁻¹ cm⁻² s⁻¹ sr⁻¹;;; 0.0f0 erg Hz⁻¹ cm⁻² s⁻¹ sr⁻¹ 0.0f0 erg Hz⁻¹ cm⁻² s⁻¹ sr⁻¹ … 0.0f0 erg Hz⁻¹ cm⁻² s⁻¹ sr⁻¹ 0.0f0 erg Hz⁻¹ cm⁻² s⁻¹ sr⁻¹; 0.0f0 erg Hz⁻¹ cm⁻² s⁻¹ sr⁻¹ 0.0f0 erg Hz⁻¹ cm⁻² s⁻¹ sr⁻¹ … 0.0f0 erg Hz⁻¹ cm⁻² s⁻¹ sr⁻¹ 0.0f0 erg Hz⁻¹ cm⁻² s⁻¹ sr⁻¹; … ; 0.0f0 erg Hz⁻¹ cm⁻² s⁻¹ sr⁻¹ 0.0f0 erg Hz⁻¹ cm⁻² s⁻¹ sr⁻¹ … 0.0f0 erg Hz⁻¹ cm⁻² s⁻¹ sr⁻¹ 0.0f0 erg Hz⁻¹ cm⁻² s⁻¹ sr⁻¹; 0.0f0 erg Hz⁻¹ cm⁻² s⁻¹ sr⁻¹ 0.0f0 erg Hz⁻¹ cm⁻² s⁻¹ sr⁻¹ … 0.0f0 erg Hz⁻¹ cm⁻² s⁻¹ sr⁻¹ 0.0f0 erg Hz⁻¹ cm⁻² s⁻¹ sr⁻¹;;; 0.0f0 erg Hz⁻¹ cm⁻² s⁻¹ sr⁻¹ 0.0f0 erg Hz⁻¹ cm⁻² s⁻¹ sr⁻¹ … 0.0f0 erg Hz⁻¹ cm⁻² s⁻¹ sr⁻¹ 0.0f0 erg Hz⁻¹ cm⁻² s⁻¹ sr⁻¹; 0.0f0 erg Hz⁻¹ cm⁻² s⁻¹ sr⁻¹ 0.0f0 erg Hz⁻¹ cm⁻² s⁻¹ sr⁻¹ … 0.0f0 erg Hz⁻¹ cm⁻² s⁻¹ sr⁻¹ 0.0f0 erg Hz⁻¹ cm⁻² s⁻¹ sr⁻¹; … ; 0.0f0 erg Hz⁻¹ cm⁻² s⁻¹ sr⁻¹ 0.0f0 erg Hz⁻¹ cm⁻² s⁻¹ sr⁻¹ … 0.0f0 erg Hz⁻¹ cm⁻² s⁻¹ sr⁻¹ 0.0f0 erg Hz⁻¹ cm⁻² s⁻¹ sr⁻¹; 0.0f0 erg Hz⁻¹ cm⁻² s⁻¹ sr⁻¹ 0.0f0 erg Hz⁻¹ cm⁻² s⁻¹ sr⁻¹ … 0.0f0 erg Hz⁻¹ cm⁻² s⁻¹ sr⁻¹ 0.0f0 erg Hz⁻¹ cm⁻² s⁻¹ sr⁻¹], Float32[0.0 0.0 … 0.0 0.0; 0.0 0.0 … 0.0 0.0; … ; 0.0 0.0 … 0.0 0.0; 0.0 0.0 … 0.0 0.0;;; 0.0 0.0 … 0.0 0.0; 0.0 0.0 … 0.0 0.0; … ; 0.0 0.0 … 0.0 0.0; 0.0 0.0 … 0.0 0.0;;; 0.0 0.0 … 0.0 0.0; 0.0 0.0 … 0.0 0.0; … ; 0.0 0.0 … 0.0 0.0; 0.0 0.0 … 0.0 0.0;;; … ;;; 0.0 0.0 … 0.0 0.0; 0.0 0.0 … 0.0 0.0; … ; 0.0 0.0 … 0.0 0.0; 0.0 0.0 … 0.0 0.0;;; 0.0 0.0 … 0.0 0.0; 0.0 0.0 … 0.0 0.0; … ; 0.0 0.0 … 0.0 0.0; 0.0 0.0 … 0.0 0.0;;; 0.0 0.0 … 0.0 0.0; 0.0 0.0 … 0.0 0.0; … ; 0.0 0.0 … 0.0 0.0; 0.0 0.0 … 0.0 0.0], Float32[0.0 0.0 … 0.0 0.0; 0.0 0.0 … 0.0 0.0; … ; 0.0 0.0 … 0.0 0.0; 0.0 0.0 … 0.0 0.0;;; 0.0 0.0 … 0.0 0.0; 0.0 0.0 … 0.0 0.0; … ; 0.0 0.0 … 0.0 0.0; 0.0 0.0 … 0.0 0.0;;; 0.0 0.0 … 0.0 0.0; 0.0 0.0 … 0.0 0.0; … ; 0.0 0.0 … 0.0 0.0; 0.0 0.0 … 0.0 0.0;;; … ;;; 0.0 0.0 … 0.0 0.0; 0.0 0.0 … 0.0 0.0; … ; 0.0 0.0 … 0.0 0.0; 0.0 0.0 … 0.0 0.0;;; 0.0 0.0 … 0.0 0.0; 0.0 0.0 … 0.0 0.0; … ; 0.0 0.0 … 0.0 0.0; 0.0 0.0 … 0.0 0.0;;; 0.0 0.0 … 0.0 0.0; 0.0 0.0 … 0.0 0.0; … ; 0.0 0.0 … 0.0 0.0; 0.0 0.0 … 0.0 0.0], Float32[0.0 0.0 … 0.0 0.0; 0.0 0.0 … 0.0 0.0; … ; 0.0 0.0 … 0.0 0.0; 0.0 0.0 … 0.0 0.0;;; 0.0 0.0 … 0.0 0.0; 0.0 0.0 … 0.0 0.0; … ; 0.0 0.0 … 0.0 0.0; 0.0 0.0 … 0.0 0.0;;; 0.0 0.0 … 0.0 0.0; 0.0 0.0 … 0.0 0.0; … ; 0.0 0.0 … 0.0 0.0; 0.0 0.0 … 0.0 0.0;;; … ;;; 0.0 0.0 … 0.0 0.0; 0.0 0.0 … 0.0 0.0; … ; 0.0 0.0 … 0.0 0.0; 0.0 0.0 … 0.0 0.0;;; 0.0 0.0 … 0.0 0.0; 0.0 0.0 … 0.0 0.0; … ; 0.0 0.0 … 0.0 0.0; 0.0 0.0 … 0.0 0.0;;; 0.0 0.0 … 0.0 0.0; 0.0 0.0 … 0.0 0.0; … ; 0.0 0.0 … 0.0 0.0; 0.0 0.0 … 0.0 0.0;;;;], nothing, nothing, Quantity{Float32, 𝐌 𝐓⁻², Unitful.FreeUnits{(erg, Hz⁻¹, cm⁻², s⁻¹, sr⁻¹), 𝐌 𝐓⁻², nothing}}[0.0f0 erg Hz⁻¹ cm⁻² s⁻¹ sr⁻¹ 0.0f0 erg Hz⁻¹ cm⁻² s⁻¹ sr⁻¹ … 0.0f0 erg Hz⁻¹ cm⁻² s⁻¹ sr⁻¹ 0.0f0 erg Hz⁻¹ cm⁻² s⁻¹ sr⁻¹; 0.0f0 erg Hz⁻¹ cm⁻² s⁻¹ sr⁻¹ 0.0f0 erg Hz⁻¹ cm⁻² s⁻¹ sr⁻¹ … 0.0f0 erg Hz⁻¹ cm⁻² s⁻¹ sr⁻¹ 0.0f0 erg Hz⁻¹ cm⁻² s⁻¹ sr⁻¹; … ; 0.0f0 erg Hz⁻¹ cm⁻² s⁻¹ sr⁻¹ 0.0f0 erg Hz⁻¹ cm⁻² s⁻¹ sr⁻¹ … 0.0f0 erg Hz⁻¹ cm⁻² s⁻¹ sr⁻¹ 0.0f0 erg Hz⁻¹ cm⁻² s⁻¹ sr⁻¹; 0.0f0 erg Hz⁻¹ cm⁻² s⁻¹ sr⁻¹ 0.0f0 erg Hz⁻¹ cm⁻² s⁻¹ sr⁻¹ … 0.0f0 erg Hz⁻¹ cm⁻² s⁻¹ sr⁻¹ 0.0f0 erg Hz⁻¹ cm⁻² s⁻¹ sr⁻¹;;; 0.0f0 erg Hz⁻¹ cm⁻² s⁻¹ sr⁻¹ 0.0f0 erg Hz⁻¹ cm⁻² s⁻¹ sr⁻¹ … 0.0f0 erg Hz⁻¹ cm⁻² s⁻¹ sr⁻¹ 0.0f0 erg Hz⁻¹ cm⁻² s⁻¹ sr⁻¹; 0.0f0 erg Hz⁻¹ cm⁻² s⁻¹ sr⁻¹ 0.0f0 erg Hz⁻¹ cm⁻² s⁻¹ sr⁻¹ … 0.0f0 erg Hz⁻¹ cm⁻² s⁻¹ sr⁻¹ 0.0f0 erg Hz⁻¹ cm⁻² s⁻¹ sr⁻¹; … ; 0.0f0 erg Hz⁻¹ cm⁻² s⁻¹ sr⁻¹ 0.0f0 erg Hz⁻¹ cm⁻² s⁻¹ sr⁻¹ … 0.0f0 erg Hz⁻¹ cm⁻² s⁻¹ sr⁻¹ 0.0f0 erg Hz⁻¹ cm⁻² s⁻¹ sr⁻¹; 0.0f0 erg Hz⁻¹ cm⁻² s⁻¹ sr⁻¹ 0.0f0 erg Hz⁻¹ cm⁻² s⁻¹ sr⁻¹ … 0.0f0 erg Hz⁻¹ cm⁻² s⁻¹ sr⁻¹ 0.0f0 erg Hz⁻¹ cm⁻² s⁻¹ sr⁻¹;;; 0.0f0 erg Hz⁻¹ cm⁻² s⁻¹ sr⁻¹ 0.0f0 erg Hz⁻¹ cm⁻² s⁻¹ sr⁻¹ … 0.0f0 erg Hz⁻¹ cm⁻² s⁻¹ sr⁻¹ 0.0f0 erg Hz⁻¹ cm⁻² s⁻¹ sr⁻¹; 0.0f0 erg Hz⁻¹ cm⁻² s⁻¹ sr⁻¹ 0.0f0 erg Hz⁻¹ cm⁻² s⁻¹ sr⁻¹ … 0.0f0 erg Hz⁻¹ cm⁻² s⁻¹ sr⁻¹ 0.0f0 erg Hz⁻¹ cm⁻² s⁻¹ sr⁻¹; … ; 0.0f0 erg Hz⁻¹ cm⁻² s⁻¹ sr⁻¹ 0.0f0 erg Hz⁻¹ cm⁻² s⁻¹ sr⁻¹ … 0.0f0 erg Hz⁻¹ cm⁻² s⁻¹ sr⁻¹ 0.0f0 erg Hz⁻¹ cm⁻² s⁻¹ sr⁻¹; 0.0f0 erg Hz⁻¹ cm⁻² s⁻¹ sr⁻¹ 0.0f0 erg Hz⁻¹ cm⁻² s⁻¹ sr⁻¹ … 0.0f0 erg Hz⁻¹ cm⁻² s⁻¹ sr⁻¹ 0.0f0 erg Hz⁻¹ cm⁻² s⁻¹ sr⁻¹;;; … ;;; 0.0f0 erg Hz⁻¹ cm⁻² s⁻¹ sr⁻¹ 0.0f0 erg Hz⁻¹ cm⁻² s⁻¹ sr⁻¹ … 0.0f0 erg Hz⁻¹ cm⁻² s⁻¹ sr⁻¹ 0.0f0 erg Hz⁻¹ cm⁻² s⁻¹ sr⁻¹; 0.0f0 erg Hz⁻¹ cm⁻² s⁻¹ sr⁻¹ 0.0f0 erg Hz⁻¹ cm⁻² s⁻¹ sr⁻¹ … 0.0f0 erg Hz⁻¹ cm⁻² s⁻¹ sr⁻¹ 0.0f0 erg Hz⁻¹ cm⁻² s⁻¹ sr⁻¹; … ; 0.0f0 erg Hz⁻¹ cm⁻² s⁻¹ sr⁻¹ 0.0f0 erg Hz⁻¹ cm⁻² s⁻¹ sr⁻¹ … 0.0f0 erg Hz⁻¹ cm⁻² s⁻¹ sr⁻¹ 0.0f0 erg Hz⁻¹ cm⁻² s⁻¹ sr⁻¹; 0.0f0 erg Hz⁻¹ cm⁻² s⁻¹ sr⁻¹ 0.0f0 erg Hz⁻¹ cm⁻² s⁻¹ sr⁻¹ … 0.0f0 erg Hz⁻¹ cm⁻² s⁻¹ sr⁻¹ 0.0f0 erg Hz⁻¹ cm⁻² s⁻¹ sr⁻¹;;; 0.0f0 erg Hz⁻¹ cm⁻² s⁻¹ sr⁻¹ 0.0f0 erg Hz⁻¹ cm⁻² s⁻¹ sr⁻¹ … 0.0f0 erg Hz⁻¹ cm⁻² s⁻¹ sr⁻¹ 0.0f0 erg Hz⁻¹ cm⁻² s⁻¹ sr⁻¹; 0.0f0 erg Hz⁻¹ cm⁻² s⁻¹ sr⁻¹ 0.0f0 erg Hz⁻¹ cm⁻² s⁻¹ sr⁻¹ … 0.0f0 erg Hz⁻¹ cm⁻² s⁻¹ sr⁻¹ 0.0f0 erg Hz⁻¹ cm⁻² s⁻¹ sr⁻¹; … ; 0.0f0 erg Hz⁻¹ cm⁻² s⁻¹ sr⁻¹ 0.0f0 erg Hz⁻¹ cm⁻² s⁻¹ sr⁻¹ … 0.0f0 erg Hz⁻¹ cm⁻² s⁻¹ sr⁻¹ 0.0f0 erg Hz⁻¹ cm⁻² s⁻¹ sr⁻¹; 0.0f0 erg Hz⁻¹ cm⁻² s⁻¹ sr⁻¹ 0.0f0 erg Hz⁻¹ cm⁻² s⁻¹ sr⁻¹ … 0.0f0 erg Hz⁻¹ cm⁻² s⁻¹ sr⁻¹ 0.0f0 erg Hz⁻¹ cm⁻² s⁻¹ sr⁻¹;;; 0.0f0 erg Hz⁻¹ cm⁻² s⁻¹ sr⁻¹ 0.0f0 erg Hz⁻¹ cm⁻² s⁻¹ sr⁻¹ … 0.0f0 erg Hz⁻¹ cm⁻² s⁻¹ sr⁻¹ 0.0f0 erg Hz⁻¹ cm⁻² s⁻¹ sr⁻¹; 0.0f0 erg Hz⁻¹ cm⁻² s⁻¹ sr⁻¹ 0.0f0 erg Hz⁻¹ cm⁻² s⁻¹ sr⁻¹ … 0.0f0 erg Hz⁻¹ cm⁻² s⁻¹ sr⁻¹ 0.0f0 erg Hz⁻¹ cm⁻² s⁻¹ sr⁻¹; … ; 0.0f0 erg Hz⁻¹ cm⁻² s⁻¹ sr⁻¹ 0.0f0 erg Hz⁻¹ cm⁻² s⁻¹ sr⁻¹ … 0.0f0 erg Hz⁻¹ cm⁻² s⁻¹ sr⁻¹ 0.0f0 erg Hz⁻¹ cm⁻² s⁻¹ sr⁻¹; 0.0f0 erg Hz⁻¹ cm⁻² s⁻¹ sr⁻¹ 0.0f0 erg Hz⁻¹ cm⁻² s⁻¹ sr⁻¹ … 0.0f0 erg Hz⁻¹ cm⁻² s⁻¹ sr⁻¹ 0.0f0 erg Hz⁻¹ cm⁻² s⁻¹ sr⁻¹], nothing, nothing, Array{Quantity{Float32, 𝐌 𝐓⁻², Unitful.FreeUnits{(erg, Hz⁻¹, cm⁻², s⁻¹, sr⁻¹), 𝐌 𝐓⁻², nothing}}, 4}(undef, 7790, 49, 45, 0), Quantity{Float32, 𝐌 𝐓⁻², Unitful.FreeUnits{(erg, Hz⁻¹, cm⁻², s⁻¹, sr⁻¹), 𝐌 𝐓⁻², nothing}}[0.0f0 erg Hz⁻¹ cm⁻² s⁻¹ sr⁻¹ 0.0f0 erg Hz⁻¹ cm⁻² s⁻¹ sr⁻¹ … 0.0f0 erg Hz⁻¹ cm⁻² s⁻¹ sr⁻¹ 0.0f0 erg Hz⁻¹ cm⁻² s⁻¹ sr⁻¹; 0.0f0 erg Hz⁻¹ cm⁻² s⁻¹ sr⁻¹ 0.0f0 erg Hz⁻¹ cm⁻² s⁻¹ sr⁻¹ … 0.0f0 erg Hz⁻¹ cm⁻² s⁻¹ sr⁻¹ 0.0f0 erg Hz⁻¹ cm⁻² s⁻¹ sr⁻¹; … ; 0.0f0 erg Hz⁻¹ cm⁻² s⁻¹ sr⁻¹ 0.0f0 erg Hz⁻¹ cm⁻² s⁻¹ sr⁻¹ … 0.0f0 erg Hz⁻¹ cm⁻² s⁻¹ sr⁻¹ 0.0f0 erg Hz⁻¹ cm⁻² s⁻¹ sr⁻¹; 0.0f0 erg Hz⁻¹ cm⁻² s⁻¹ sr⁻¹ 0.0f0 erg Hz⁻¹ cm⁻² s⁻¹ sr⁻¹ … 0.0f0 erg Hz⁻¹ cm⁻² s⁻¹ sr⁻¹ 0.0f0 erg Hz⁻¹ cm⁻² s⁻¹ sr⁻¹;;; 0.0f0 erg Hz⁻¹ cm⁻² s⁻¹ sr⁻¹ 0.0f0 erg Hz⁻¹ cm⁻² s⁻¹ sr⁻¹ … 0.0f0 erg Hz⁻¹ cm⁻² s⁻¹ sr⁻¹ 0.0f0 erg Hz⁻¹ cm⁻² s⁻¹ sr⁻¹; 0.0f0 erg Hz⁻¹ cm⁻² s⁻¹ sr⁻¹ 0.0f0 erg Hz⁻¹ cm⁻² s⁻¹ sr⁻¹ … 0.0f0 erg Hz⁻¹ cm⁻² s⁻¹ sr⁻¹ 0.0f0 erg Hz⁻¹ cm⁻² s⁻¹ sr⁻¹; … ; 0.0f0 erg Hz⁻¹ cm⁻² s⁻¹ sr⁻¹ 0.0f0 erg Hz⁻¹ cm⁻² s⁻¹ sr⁻¹ … 0.0f0 erg Hz⁻¹ cm⁻² s⁻¹ sr⁻¹ 0.0f0 erg Hz⁻¹ cm⁻² s⁻¹ sr⁻¹; 0.0f0 erg Hz⁻¹ cm⁻² s⁻¹ sr⁻¹ 0.0f0 erg Hz⁻¹ cm⁻² s⁻¹ sr⁻¹ … 0.0f0 erg Hz⁻¹ cm⁻² s⁻¹ sr⁻¹ 0.0f0 erg Hz⁻¹ cm⁻² s⁻¹ sr⁻¹;;; 0.0f0 erg Hz⁻¹ cm⁻² s⁻¹ sr⁻¹ 0.0f0 erg Hz⁻¹ cm⁻² s⁻¹ sr⁻¹ … 0.0f0 erg Hz⁻¹ cm⁻² s⁻¹ sr⁻¹ 0.0f0 erg Hz⁻¹ cm⁻² s⁻¹ sr⁻¹; 0.0f0 erg Hz⁻¹ cm⁻² s⁻¹ sr⁻¹ 0.0f0 erg Hz⁻¹ cm⁻² s⁻¹ sr⁻¹ … 0.0f0 erg Hz⁻¹ cm⁻² s⁻¹ sr⁻¹ 0.0f0 erg Hz⁻¹ cm⁻² s⁻¹ sr⁻¹; … ; 0.0f0 erg Hz⁻¹ cm⁻² s⁻¹ sr⁻¹ 0.0f0 erg Hz⁻¹ cm⁻² s⁻¹ sr⁻¹ … 0.0f0 erg Hz⁻¹ cm⁻² s⁻¹ sr⁻¹ 0.0f0 erg Hz⁻¹ cm⁻² s⁻¹ sr⁻¹; 0.0f0 erg Hz⁻¹ cm⁻² s⁻¹ sr⁻¹ 0.0f0 erg Hz⁻¹ cm⁻² s⁻¹ sr⁻¹ … 0.0f0 erg Hz⁻¹ cm⁻² s⁻¹ sr⁻¹ 0.0f0 erg Hz⁻¹ cm⁻² s⁻¹ sr⁻¹;;; … ;;; 0.0f0 erg Hz⁻¹ cm⁻² s⁻¹ sr⁻¹ 0.0f0 erg Hz⁻¹ cm⁻² s⁻¹ sr⁻¹ … 0.0f0 erg Hz⁻¹ cm⁻² s⁻¹ sr⁻¹ 0.0f0 erg Hz⁻¹ cm⁻² s⁻¹ sr⁻¹; 0.0f0 erg Hz⁻¹ cm⁻² s⁻¹ sr⁻¹ 0.0f0 erg Hz⁻¹ cm⁻² s⁻¹ sr⁻¹ … 0.0f0 erg Hz⁻¹ cm⁻² s⁻¹ sr⁻¹ 0.0f0 erg Hz⁻¹ cm⁻² s⁻¹ sr⁻¹; … ; 0.0f0 erg Hz⁻¹ cm⁻² s⁻¹ sr⁻¹ 0.0f0 erg Hz⁻¹ cm⁻² s⁻¹ sr⁻¹ … 0.0f0 erg Hz⁻¹ cm⁻² s⁻¹ sr⁻¹ 0.0f0 erg Hz⁻¹ cm⁻² s⁻¹ sr⁻¹; 0.0f0 erg Hz⁻¹ cm⁻² s⁻¹ sr⁻¹ 0.0f0 erg Hz⁻¹ cm⁻² s⁻¹ sr⁻¹ … 0.0f0 erg Hz⁻¹ cm⁻² s⁻¹ sr⁻¹ 0.0f0 erg Hz⁻¹ cm⁻² s⁻¹ sr⁻¹;;; 0.0f0 erg Hz⁻¹ cm⁻² s⁻¹ sr⁻¹ 0.0f0 erg Hz⁻¹ cm⁻² s⁻¹ sr⁻¹ … 0.0f0 erg Hz⁻¹ cm⁻² s⁻¹ sr⁻¹ 0.0f0 erg Hz⁻¹ cm⁻² s⁻¹ sr⁻¹; 0.0f0 erg Hz⁻¹ cm⁻² s⁻¹ sr⁻¹ 0.0f0 erg Hz⁻¹ cm⁻² s⁻¹ sr⁻¹ … 0.0f0 erg Hz⁻¹ cm⁻² s⁻¹ sr⁻¹ 0.0f0 erg Hz⁻¹ cm⁻² s⁻¹ sr⁻¹; … ; 0.0f0 erg Hz⁻¹ cm⁻² s⁻¹ sr⁻¹ 0.0f0 erg Hz⁻¹ cm⁻² s⁻¹ sr⁻¹ … 0.0f0 erg Hz⁻¹ cm⁻² s⁻¹ sr⁻¹ 0.0f0 erg Hz⁻¹ cm⁻² s⁻¹ sr⁻¹; 0.0f0 erg Hz⁻¹ cm⁻² s⁻¹ sr⁻¹ 0.0f0 erg Hz⁻¹ cm⁻² s⁻¹ sr⁻¹ … 0.0f0 erg Hz⁻¹ cm⁻² s⁻¹ sr⁻¹ 0.0f0 erg Hz⁻¹ cm⁻² s⁻¹ sr⁻¹;;; 0.0f0 erg Hz⁻¹ cm⁻² s⁻¹ sr⁻¹ 0.0f0 erg Hz⁻¹ cm⁻² s⁻¹ sr⁻¹ … 0.0f0 erg Hz⁻¹ cm⁻² s⁻¹ sr⁻¹ 0.0f0 erg Hz⁻¹ cm⁻² s⁻¹ sr⁻¹; 0.0f0 erg Hz⁻¹ cm⁻² s⁻¹ sr⁻¹ 0.0f0 erg Hz⁻¹ cm⁻² s⁻¹ sr⁻¹ … 0.0f0 erg Hz⁻¹ cm⁻² s⁻¹ sr⁻¹ 0.0f0 erg Hz⁻¹ cm⁻² s⁻¹ sr⁻¹; … ; 0.0f0 erg Hz⁻¹ cm⁻² s⁻¹ sr⁻¹ 0.0f0 erg Hz⁻¹ cm⁻² s⁻¹ sr⁻¹ … 0.0f0 erg Hz⁻¹ cm⁻² s⁻¹ sr⁻¹ 0.0f0 erg Hz⁻¹ cm⁻² s⁻¹ sr⁻¹; 0.0f0 erg Hz⁻¹ cm⁻² s⁻¹ sr⁻¹ 0.0f0 erg Hz⁻¹ cm⁻² s⁻¹ sr⁻¹ … 0.0f0 erg Hz⁻¹ cm⁻² s⁻¹ sr⁻¹ 0.0f0 erg Hz⁻¹ cm⁻² s⁻¹ sr⁻¹;;;; 0.0f0 erg Hz⁻¹ cm⁻² s⁻¹ sr⁻¹ 0.0f0 erg Hz⁻¹ cm⁻² s⁻¹ sr⁻¹ … 0.0f0 erg Hz⁻¹ cm⁻² s⁻¹ sr⁻¹ 0.0f0 erg Hz⁻¹ cm⁻² s⁻¹ sr⁻¹; 0.0f0 erg Hz⁻¹ cm⁻² s⁻¹ sr⁻¹ 0.0f0 erg Hz⁻¹ cm⁻² s⁻¹ sr⁻¹ … 0.0f0 erg Hz⁻¹ cm⁻² s⁻¹ sr⁻¹ 0.0f0 erg Hz⁻¹ cm⁻² s⁻¹ sr⁻¹; … ; 0.0f0 erg Hz⁻¹ cm⁻² s⁻¹ sr⁻¹ 0.0f0 erg Hz⁻¹ cm⁻² s⁻¹ sr⁻¹ … 0.0f0 erg Hz⁻¹ cm⁻² s⁻¹ sr⁻¹ 0.0f0 erg Hz⁻¹ cm⁻² s⁻¹ sr⁻¹; 0.0f0 erg Hz⁻¹ cm⁻² s⁻¹ sr⁻¹ 0.0f0 erg Hz⁻¹ cm⁻² s⁻¹ sr⁻¹ … 0.0f0 erg Hz⁻¹ cm⁻² s⁻¹ sr⁻¹ 0.0f0 erg Hz⁻¹ cm⁻² s⁻¹ sr⁻¹;;; 0.0f0 erg Hz⁻¹ cm⁻² s⁻¹ sr⁻¹ 0.0f0 erg Hz⁻¹ cm⁻² s⁻¹ sr⁻¹ … 0.0f0 erg Hz⁻¹ cm⁻² s⁻¹ sr⁻¹ 0.0f0 erg Hz⁻¹ cm⁻² s⁻¹ sr⁻¹; 0.0f0 erg Hz⁻¹ cm⁻² s⁻¹ sr⁻¹ 0.0f0 erg Hz⁻¹ cm⁻² s⁻¹ sr⁻¹ … 0.0f0 erg Hz⁻¹ cm⁻² s⁻¹ sr⁻¹ 0.0f0 erg Hz⁻¹ cm⁻² s⁻¹ sr⁻¹; … ; 0.0f0 erg Hz⁻¹ cm⁻² s⁻¹ sr⁻¹ 0.0f0 erg Hz⁻¹ cm⁻² s⁻¹ sr⁻¹ … 0.0f0 erg Hz⁻¹ cm⁻² s⁻¹ sr⁻¹ 0.0f0 erg Hz⁻¹ cm⁻² s⁻¹ sr⁻¹; 0.0f0 erg Hz⁻¹ cm⁻² s⁻¹ sr⁻¹ 0.0f0 erg Hz⁻¹ cm⁻² s⁻¹ sr⁻¹ … 0.0f0 erg Hz⁻¹ cm⁻² s⁻¹ sr⁻¹ 0.0f0 erg Hz⁻¹ cm⁻² s⁻¹ sr⁻¹;;; 0.0f0 erg Hz⁻¹ cm⁻² s⁻¹ sr⁻¹ 0.0f0 erg Hz⁻¹ cm⁻² s⁻¹ sr⁻¹ … 0.0f0 erg Hz⁻¹ cm⁻² s⁻¹ sr⁻¹ 0.0f0 erg Hz⁻¹ cm⁻² s⁻¹ sr⁻¹; 0.0f0 erg Hz⁻¹ cm⁻² s⁻¹ sr⁻¹ 0.0f0 erg Hz⁻¹ cm⁻² s⁻¹ sr⁻¹ … 0.0f0 erg Hz⁻¹ cm⁻² s⁻¹ sr⁻¹ 0.0f0 erg Hz⁻¹ cm⁻² s⁻¹ sr⁻¹; … ; 0.0f0 erg Hz⁻¹ cm⁻² s⁻¹ sr⁻¹ 0.0f0 erg Hz⁻¹ cm⁻² s⁻¹ sr⁻¹ … 0.0f0 erg Hz⁻¹ cm⁻² s⁻¹ sr⁻¹ 0.0f0 erg Hz⁻¹ cm⁻² s⁻¹ sr⁻¹; 0.0f0 erg Hz⁻¹ cm⁻² s⁻¹ sr⁻¹ 0.0f0 erg Hz⁻¹ cm⁻² s⁻¹ sr⁻¹ … 0.0f0 erg Hz⁻¹ cm⁻² s⁻¹ sr⁻¹ 0.0f0 erg Hz⁻¹ cm⁻² s⁻¹ sr⁻¹;;; … ;;; 0.0f0 erg Hz⁻¹ cm⁻² s⁻¹ sr⁻¹ 0.0f0 erg Hz⁻¹ cm⁻² s⁻¹ sr⁻¹ … 0.0f0 erg Hz⁻¹ cm⁻² s⁻¹ sr⁻¹ 0.0f0 erg Hz⁻¹ cm⁻² s⁻¹ sr⁻¹; 0.0f0 erg Hz⁻¹ cm⁻² s⁻¹ sr⁻¹ 0.0f0 erg Hz⁻¹ cm⁻² s⁻¹ sr⁻¹ … 0.0f0 erg Hz⁻¹ cm⁻² s⁻¹ sr⁻¹ 0.0f0 erg Hz⁻¹ cm⁻² s⁻¹ sr⁻¹; … ; 0.0f0 erg Hz⁻¹ cm⁻² s⁻¹ sr⁻¹ 0.0f0 erg Hz⁻¹ cm⁻² s⁻¹ sr⁻¹ … 0.0f0 erg Hz⁻¹ cm⁻² s⁻¹ sr⁻¹ 0.0f0 erg Hz⁻¹ cm⁻² s⁻¹ sr⁻¹; 0.0f0 erg Hz⁻¹ cm⁻² s⁻¹ sr⁻¹ 0.0f0 erg Hz⁻¹ cm⁻² s⁻¹ sr⁻¹ … 0.0f0 erg Hz⁻¹ cm⁻² s⁻¹ sr⁻¹ 0.0f0 erg Hz⁻¹ cm⁻² s⁻¹ sr⁻¹;;; 0.0f0 erg Hz⁻¹ cm⁻² s⁻¹ sr⁻¹ 0.0f0 erg Hz⁻¹ cm⁻² s⁻¹ sr⁻¹ … 0.0f0 erg Hz⁻¹ cm⁻² s⁻¹ sr⁻¹ 0.0f0 erg Hz⁻¹ cm⁻² s⁻¹ sr⁻¹; 0.0f0 erg Hz⁻¹ cm⁻² s⁻¹ sr⁻¹ 0.0f0 erg Hz⁻¹ cm⁻² s⁻¹ sr⁻¹ … 0.0f0 erg Hz⁻¹ cm⁻² s⁻¹ sr⁻¹ 0.0f0 erg Hz⁻¹ cm⁻² s⁻¹ sr⁻¹; … ; 0.0f0 erg Hz⁻¹ cm⁻² s⁻¹ sr⁻¹ 0.0f0 erg Hz⁻¹ cm⁻² s⁻¹ sr⁻¹ … 0.0f0 erg Hz⁻¹ cm⁻² s⁻¹ sr⁻¹ 0.0f0 erg Hz⁻¹ cm⁻² s⁻¹ sr⁻¹; 0.0f0 erg Hz⁻¹ cm⁻² s⁻¹ sr⁻¹ 0.0f0 erg Hz⁻¹ cm⁻² s⁻¹ sr⁻¹ … 0.0f0 erg Hz⁻¹ cm⁻² s⁻¹ sr⁻¹ 0.0f0 erg Hz⁻¹ cm⁻² s⁻¹ sr⁻¹;;; 0.0f0 erg Hz⁻¹ cm⁻² s⁻¹ sr⁻¹ 0.0f0 erg Hz⁻¹ cm⁻² s⁻¹ sr⁻¹ … 0.0f0 erg Hz⁻¹ cm⁻² s⁻¹ sr⁻¹ 0.0f0 erg Hz⁻¹ cm⁻² s⁻¹ sr⁻¹; 0.0f0 erg Hz⁻¹ cm⁻² s⁻¹ sr⁻¹ 0.0f0 erg Hz⁻¹ cm⁻² s⁻¹ sr⁻¹ … 0.0f0 erg Hz⁻¹ cm⁻² s⁻¹ sr⁻¹ 0.0f0 erg Hz⁻¹ cm⁻² s⁻¹ sr⁻¹; … ; 0.0f0 erg Hz⁻¹ cm⁻² s⁻¹ sr⁻¹ 0.0f0 erg Hz⁻¹ cm⁻² s⁻¹ sr⁻¹ … 0.0f0 erg Hz⁻¹ cm⁻² s⁻¹ sr⁻¹ 0.0f0 erg Hz⁻¹ cm⁻² s⁻¹ sr⁻¹; 0.0f0 erg Hz⁻¹ cm⁻² s⁻¹ sr⁻¹ 0.0f0 erg Hz⁻¹ cm⁻² s⁻¹ sr⁻¹ … 0.0f0 erg Hz⁻¹ cm⁻² s⁻¹ sr⁻¹ 0.0f0 erg Hz⁻¹ cm⁻² s⁻¹ sr⁻¹;;;; 0.0f0 erg Hz⁻¹ cm⁻² s⁻¹ sr⁻¹ 0.0f0 erg Hz⁻¹ cm⁻² s⁻¹ sr⁻¹ … 0.0f0 erg Hz⁻¹ cm⁻² s⁻¹ sr⁻¹ 0.0f0 erg Hz⁻¹ cm⁻² s⁻¹ sr⁻¹; 0.0f0 erg Hz⁻¹ cm⁻² s⁻¹ sr⁻¹ 0.0f0 erg Hz⁻¹ cm⁻² s⁻¹ sr⁻¹ … 0.0f0 erg Hz⁻¹ cm⁻² s⁻¹ sr⁻¹ 0.0f0 erg Hz⁻¹ cm⁻² s⁻¹ sr⁻¹; … ; 0.0f0 erg Hz⁻¹ cm⁻² s⁻¹ sr⁻¹ 0.0f0 erg Hz⁻¹ cm⁻² s⁻¹ sr⁻¹ … 0.0f0 erg Hz⁻¹ cm⁻² s⁻¹ sr⁻¹ 0.0f0 erg Hz⁻¹ cm⁻² s⁻¹ sr⁻¹; 0.0f0 erg Hz⁻¹ cm⁻² s⁻¹ sr⁻¹ 0.0f0 erg Hz⁻¹ cm⁻² s⁻¹ sr⁻¹ … 0.0f0 erg Hz⁻¹ cm⁻² s⁻¹ sr⁻¹ 0.0f0 erg Hz⁻¹ cm⁻² s⁻¹ sr⁻¹;;; 0.0f0 erg Hz⁻¹ cm⁻² s⁻¹ sr⁻¹ 0.0f0 erg Hz⁻¹ cm⁻² s⁻¹ sr⁻¹ … 0.0f0 erg Hz⁻¹ cm⁻² s⁻¹ sr⁻¹ 0.0f0 erg Hz⁻¹ cm⁻² s⁻¹ sr⁻¹; 0.0f0 erg Hz⁻¹ cm⁻² s⁻¹ sr⁻¹ 0.0f0 erg Hz⁻¹ cm⁻² s⁻¹ sr⁻¹ … 0.0f0 erg Hz⁻¹ cm⁻² s⁻¹ sr⁻¹ 0.0f0 erg Hz⁻¹ cm⁻² s⁻¹ sr⁻¹; … ; 0.0f0 erg Hz⁻¹ cm⁻² s⁻¹ sr⁻¹ 0.0f0 erg Hz⁻¹ cm⁻² s⁻¹ sr⁻¹ … 0.0f0 erg Hz⁻¹ cm⁻² s⁻¹ sr⁻¹ 0.0f0 erg Hz⁻¹ cm⁻² s⁻¹ sr⁻¹; 0.0f0 erg Hz⁻¹ cm⁻² s⁻¹ sr⁻¹ 0.0f0 erg Hz⁻¹ cm⁻² s⁻¹ sr⁻¹ … 0.0f0 erg Hz⁻¹ cm⁻² s⁻¹ sr⁻¹ 0.0f0 erg Hz⁻¹ cm⁻² s⁻¹ sr⁻¹;;; 0.0f0 erg Hz⁻¹ cm⁻² s⁻¹ sr⁻¹ 0.0f0 erg Hz⁻¹ cm⁻² s⁻¹ sr⁻¹ … 0.0f0 erg Hz⁻¹ cm⁻² s⁻¹ sr⁻¹ 0.0f0 erg Hz⁻¹ cm⁻² s⁻¹ sr⁻¹; 0.0f0 erg Hz⁻¹ cm⁻² s⁻¹ sr⁻¹ 0.0f0 erg Hz⁻¹ cm⁻² s⁻¹ sr⁻¹ … 0.0f0 erg Hz⁻¹ cm⁻² s⁻¹ sr⁻¹ 0.0f0 erg Hz⁻¹ cm⁻² s⁻¹ sr⁻¹; … ; 0.0f0 erg Hz⁻¹ cm⁻² s⁻¹ sr⁻¹ 0.0f0 erg Hz⁻¹ cm⁻² s⁻¹ sr⁻¹ … 0.0f0 erg Hz⁻¹ cm⁻² s⁻¹ sr⁻¹ 0.0f0 erg Hz⁻¹ cm⁻² s⁻¹ sr⁻¹; 0.0f0 erg Hz⁻¹ cm⁻² s⁻¹ sr⁻¹ 0.0f0 erg Hz⁻¹ cm⁻² s⁻¹ sr⁻¹ … 0.0f0 erg Hz⁻¹ cm⁻² s⁻¹ sr⁻¹ 0.0f0 erg Hz⁻¹ cm⁻² s⁻¹ sr⁻¹;;; … ;;; 0.0f0 erg Hz⁻¹ cm⁻² s⁻¹ sr⁻¹ 0.0f0 erg Hz⁻¹ cm⁻² s⁻¹ sr⁻¹ … 0.0f0 erg Hz⁻¹ cm⁻² s⁻¹ sr⁻¹ 0.0f0 erg Hz⁻¹ cm⁻² s⁻¹ sr⁻¹; 0.0f0 erg Hz⁻¹ cm⁻² s⁻¹ sr⁻¹ 0.0f0 erg Hz⁻¹ cm⁻² s⁻¹ sr⁻¹ … 0.0f0 erg Hz⁻¹ cm⁻² s⁻¹ sr⁻¹ 0.0f0 erg Hz⁻¹ cm⁻² s⁻¹ sr⁻¹; … ; 0.0f0 erg Hz⁻¹ cm⁻² s⁻¹ sr⁻¹ 0.0f0 erg Hz⁻¹ cm⁻² s⁻¹ sr⁻¹ … 0.0f0 erg Hz⁻¹ cm⁻² s⁻¹ sr⁻¹ 0.0f0 erg Hz⁻¹ cm⁻² s⁻¹ sr⁻¹; 0.0f0 erg Hz⁻¹ cm⁻² s⁻¹ sr⁻¹ 0.0f0 erg Hz⁻¹ cm⁻² s⁻¹ sr⁻¹ … 0.0f0 erg Hz⁻¹ cm⁻² s⁻¹ sr⁻¹ 0.0f0 erg Hz⁻¹ cm⁻² s⁻¹ sr⁻¹;;; 0.0f0 erg Hz⁻¹ cm⁻² s⁻¹ sr⁻¹ 0.0f0 erg Hz⁻¹ cm⁻² s⁻¹ sr⁻¹ … 0.0f0 erg Hz⁻¹ cm⁻² s⁻¹ sr⁻¹ 0.0f0 erg Hz⁻¹ cm⁻² s⁻¹ sr⁻¹; 0.0f0 erg Hz⁻¹ cm⁻² s⁻¹ sr⁻¹ 0.0f0 erg Hz⁻¹ cm⁻² s⁻¹ sr⁻¹ … 0.0f0 erg Hz⁻¹ cm⁻² s⁻¹ sr⁻¹ 0.0f0 erg Hz⁻¹ cm⁻² s⁻¹ sr⁻¹; … ; 0.0f0 erg Hz⁻¹ cm⁻² s⁻¹ sr⁻¹ 0.0f0 erg Hz⁻¹ cm⁻² s⁻¹ sr⁻¹ … 0.0f0 erg Hz⁻¹ cm⁻² s⁻¹ sr⁻¹ 0.0f0 erg Hz⁻¹ cm⁻² s⁻¹ sr⁻¹; 0.0f0 erg Hz⁻¹ cm⁻² s⁻¹ sr⁻¹ 0.0f0 erg Hz⁻¹ cm⁻² s⁻¹ sr⁻¹ … 0.0f0 erg Hz⁻¹ cm⁻² s⁻¹ sr⁻¹ 0.0f0 erg Hz⁻¹ cm⁻² s⁻¹ sr⁻¹;;; 0.0f0 erg Hz⁻¹ cm⁻² s⁻¹ sr⁻¹ 0.0f0 erg Hz⁻¹ cm⁻² s⁻¹ sr⁻¹ … 0.0f0 erg Hz⁻¹ cm⁻² s⁻¹ sr⁻¹ 0.0f0 erg Hz⁻¹ cm⁻² s⁻¹ sr⁻¹; 0.0f0 erg Hz⁻¹ cm⁻² s⁻¹ sr⁻¹ 0.0f0 erg Hz⁻¹ cm⁻² s⁻¹ sr⁻¹ … 0.0f0 erg Hz⁻¹ cm⁻² s⁻¹ sr⁻¹ 0.0f0 erg Hz⁻¹ cm⁻² s⁻¹ sr⁻¹; … ; 0.0f0 erg Hz⁻¹ cm⁻² s⁻¹ sr⁻¹ 0.0f0 erg Hz⁻¹ cm⁻² s⁻¹ sr⁻¹ … 0.0f0 erg Hz⁻¹ cm⁻² s⁻¹ sr⁻¹ 0.0f0 erg Hz⁻¹ cm⁻² s⁻¹ sr⁻¹; 0.0f0 erg Hz⁻¹ cm⁻² s⁻¹ sr⁻¹ 0.0f0 erg Hz⁻¹ cm⁻² s⁻¹ sr⁻¹ … 0.0f0 erg Hz⁻¹ cm⁻² s⁻¹ sr⁻¹ 0.0f0 erg Hz⁻¹ cm⁻² s⁻¹ sr⁻¹;;;; 0.0f0 erg Hz⁻¹ cm⁻² s⁻¹ sr⁻¹ 0.0f0 erg Hz⁻¹ cm⁻² s⁻¹ sr⁻¹ … 0.0f0 erg Hz⁻¹ cm⁻² s⁻¹ sr⁻¹ 0.0f0 erg Hz⁻¹ cm⁻² s⁻¹ sr⁻¹; 0.0f0 erg Hz⁻¹ cm⁻² s⁻¹ sr⁻¹ 0.0f0 erg Hz⁻¹ cm⁻² s⁻¹ sr⁻¹ … 0.0f0 erg Hz⁻¹ cm⁻² s⁻¹ sr⁻¹ 0.0f0 erg Hz⁻¹ cm⁻² s⁻¹ sr⁻¹; … ; 0.0f0 erg Hz⁻¹ cm⁻² s⁻¹ sr⁻¹ 0.0f0 erg Hz⁻¹ cm⁻² s⁻¹ sr⁻¹ … 0.0f0 erg Hz⁻¹ cm⁻² s⁻¹ sr⁻¹ 0.0f0 erg Hz⁻¹ cm⁻² s⁻¹ sr⁻¹; 0.0f0 erg Hz⁻¹ cm⁻² s⁻¹ sr⁻¹ 0.0f0 erg Hz⁻¹ cm⁻² s⁻¹ sr⁻¹ … 0.0f0 erg Hz⁻¹ cm⁻² s⁻¹ sr⁻¹ 0.0f0 erg Hz⁻¹ cm⁻² s⁻¹ sr⁻¹;;; 0.0f0 erg Hz⁻¹ cm⁻² s⁻¹ sr⁻¹ 0.0f0 erg Hz⁻¹ cm⁻² s⁻¹ sr⁻¹ … 0.0f0 erg Hz⁻¹ cm⁻² s⁻¹ sr⁻¹ 0.0f0 erg Hz⁻¹ cm⁻² s⁻¹ sr⁻¹; 0.0f0 erg Hz⁻¹ cm⁻² s⁻¹ sr⁻¹ 0.0f0 erg Hz⁻¹ cm⁻² s⁻¹ sr⁻¹ … 0.0f0 erg Hz⁻¹ cm⁻² s⁻¹ sr⁻¹ 0.0f0 erg Hz⁻¹ cm⁻² s⁻¹ sr⁻¹; … ; 0.0f0 erg Hz⁻¹ cm⁻² s⁻¹ sr⁻¹ 0.0f0 erg Hz⁻¹ cm⁻² s⁻¹ sr⁻¹ … 0.0f0 erg Hz⁻¹ cm⁻² s⁻¹ sr⁻¹ 0.0f0 erg Hz⁻¹ cm⁻² s⁻¹ sr⁻¹; 0.0f0 erg Hz⁻¹ cm⁻² s⁻¹ sr⁻¹ 0.0f0 erg Hz⁻¹ cm⁻² s⁻¹ sr⁻¹ … 0.0f0 erg Hz⁻¹ cm⁻² s⁻¹ sr⁻¹ 0.0f0 erg Hz⁻¹ cm⁻² s⁻¹ sr⁻¹;;; 0.0f0 erg Hz⁻¹ cm⁻² s⁻¹ sr⁻¹ 0.0f0 erg Hz⁻¹ cm⁻² s⁻¹ sr⁻¹ … 0.0f0 erg Hz⁻¹ cm⁻² s⁻¹ sr⁻¹ 0.0f0 erg Hz⁻¹ cm⁻² s⁻¹ sr⁻¹; 0.0f0 erg Hz⁻¹ cm⁻² s⁻¹ sr⁻¹ 0.0f0 erg Hz⁻¹ cm⁻² s⁻¹ sr⁻¹ … 0.0f0 erg Hz⁻¹ cm⁻² s⁻¹ sr⁻¹ 0.0f0 erg Hz⁻¹ cm⁻² s⁻¹ sr⁻¹; … ; 0.0f0 erg Hz⁻¹ cm⁻² s⁻¹ sr⁻¹ 0.0f0 erg Hz⁻¹ cm⁻² s⁻¹ sr⁻¹ … 0.0f0 erg Hz⁻¹ cm⁻² s⁻¹ sr⁻¹ 0.0f0 erg Hz⁻¹ cm⁻² s⁻¹ sr⁻¹; 0.0f0 erg Hz⁻¹ cm⁻² s⁻¹ sr⁻¹ 0.0f0 erg Hz⁻¹ cm⁻² s⁻¹ sr⁻¹ … 0.0f0 erg Hz⁻¹ cm⁻² s⁻¹ sr⁻¹ 0.0f0 erg Hz⁻¹ cm⁻² s⁻¹ sr⁻¹;;; … ;;; 0.0f0 erg Hz⁻¹ cm⁻² s⁻¹ sr⁻¹ 0.0f0 erg Hz⁻¹ cm⁻² s⁻¹ sr⁻¹ … 0.0f0 erg Hz⁻¹ cm⁻² s⁻¹ sr⁻¹ 0.0f0 erg Hz⁻¹ cm⁻² s⁻¹ sr⁻¹; 0.0f0 erg Hz⁻¹ cm⁻² s⁻¹ sr⁻¹ 0.0f0 erg Hz⁻¹ cm⁻² s⁻¹ sr⁻¹ … 0.0f0 erg Hz⁻¹ cm⁻² s⁻¹ sr⁻¹ 0.0f0 erg Hz⁻¹ cm⁻² s⁻¹ sr⁻¹; … ; 0.0f0 erg Hz⁻¹ cm⁻² s⁻¹ sr⁻¹ 0.0f0 erg Hz⁻¹ cm⁻² s⁻¹ sr⁻¹ … 0.0f0 erg Hz⁻¹ cm⁻² s⁻¹ sr⁻¹ 0.0f0 erg Hz⁻¹ cm⁻² s⁻¹ sr⁻¹; 0.0f0 erg Hz⁻¹ cm⁻² s⁻¹ sr⁻¹ 0.0f0 erg Hz⁻¹ cm⁻² s⁻¹ sr⁻¹ … 0.0f0 erg Hz⁻¹ cm⁻² s⁻¹ sr⁻¹ 0.0f0 erg Hz⁻¹ cm⁻² s⁻¹ sr⁻¹;;; 0.0f0 erg Hz⁻¹ cm⁻² s⁻¹ sr⁻¹ 0.0f0 erg Hz⁻¹ cm⁻² s⁻¹ sr⁻¹ … 0.0f0 erg Hz⁻¹ cm⁻² s⁻¹ sr⁻¹ 0.0f0 erg Hz⁻¹ cm⁻² s⁻¹ sr⁻¹; 0.0f0 erg Hz⁻¹ cm⁻² s⁻¹ sr⁻¹ 0.0f0 erg Hz⁻¹ cm⁻² s⁻¹ sr⁻¹ … 0.0f0 erg Hz⁻¹ cm⁻² s⁻¹ sr⁻¹ 0.0f0 erg Hz⁻¹ cm⁻² s⁻¹ sr⁻¹; … ; 0.0f0 erg Hz⁻¹ cm⁻² s⁻¹ sr⁻¹ 0.0f0 erg Hz⁻¹ cm⁻² s⁻¹ sr⁻¹ … 0.0f0 erg Hz⁻¹ cm⁻² s⁻¹ sr⁻¹ 0.0f0 erg Hz⁻¹ cm⁻² s⁻¹ sr⁻¹; 0.0f0 erg Hz⁻¹ cm⁻² s⁻¹ sr⁻¹ 0.0f0 erg Hz⁻¹ cm⁻² s⁻¹ sr⁻¹ … 0.0f0 erg Hz⁻¹ cm⁻² s⁻¹ sr⁻¹ 0.0f0 erg Hz⁻¹ cm⁻² s⁻¹ sr⁻¹;;; 0.0f0 erg Hz⁻¹ cm⁻² s⁻¹ sr⁻¹ 0.0f0 erg Hz⁻¹ cm⁻² s⁻¹ sr⁻¹ … 0.0f0 erg Hz⁻¹ cm⁻² s⁻¹ sr⁻¹ 0.0f0 erg Hz⁻¹ cm⁻² s⁻¹ sr⁻¹; 0.0f0 erg Hz⁻¹ cm⁻² s⁻¹ sr⁻¹ 0.0f0 erg Hz⁻¹ cm⁻² s⁻¹ sr⁻¹ … 0.0f0 erg Hz⁻¹ cm⁻² s⁻¹ sr⁻¹ 0.0f0 erg Hz⁻¹ cm⁻² s⁻¹ sr⁻¹; … ; 0.0f0 erg Hz⁻¹ cm⁻² s⁻¹ sr⁻¹ 0.0f0 erg Hz⁻¹ cm⁻² s⁻¹ sr⁻¹ … 0.0f0 erg Hz⁻¹ cm⁻² s⁻¹ sr⁻¹ 0.0f0 erg Hz⁻¹ cm⁻² s⁻¹ sr⁻¹; 0.0f0 erg Hz⁻¹ cm⁻² s⁻¹ sr⁻¹ 0.0f0 erg Hz⁻¹ cm⁻² s⁻¹ sr⁻¹ … 0.0f0 erg Hz⁻¹ cm⁻² s⁻¹ sr⁻¹ 0.0f0 erg Hz⁻¹ cm⁻² s⁻¹ sr⁻¹], nothing, Quantity{Float32, 𝐌 𝐓⁻², Unitful.FreeUnits{(erg, Hz⁻¹, cm⁻², s⁻¹, sr⁻¹), 𝐌 𝐓⁻², nothing}}[0.0f0 erg Hz⁻¹ cm⁻² s⁻¹ sr⁻¹ 0.0f0 erg Hz⁻¹ cm⁻² s⁻¹ sr⁻¹ … 0.0f0 erg Hz⁻¹ cm⁻² s⁻¹ sr⁻¹ 0.0f0 erg Hz⁻¹ cm⁻² s⁻¹ sr⁻¹; 0.0f0 erg Hz⁻¹ cm⁻² s⁻¹ sr⁻¹ 0.0f0 erg Hz⁻¹ cm⁻² s⁻¹ sr⁻¹ … 0.0f0 erg Hz⁻¹ cm⁻² s⁻¹ sr⁻¹ 0.0f0 erg Hz⁻¹ cm⁻² s⁻¹ sr⁻¹; … ; 0.0f0 erg Hz⁻¹ cm⁻² s⁻¹ sr⁻¹ 0.0f0 erg Hz⁻¹ cm⁻² s⁻¹ sr⁻¹ … 0.0f0 erg Hz⁻¹ cm⁻² s⁻¹ sr⁻¹ 0.0f0 erg Hz⁻¹ cm⁻² s⁻¹ sr⁻¹; 0.0f0 erg Hz⁻¹ cm⁻² s⁻¹ sr⁻¹ 0.0f0 erg Hz⁻¹ cm⁻² s⁻¹ sr⁻¹ … 0.0f0 erg Hz⁻¹ cm⁻² s⁻¹ sr⁻¹ 0.0f0 erg Hz⁻¹ cm⁻² s⁻¹ sr⁻¹;;; 0.0f0 erg Hz⁻¹ cm⁻² s⁻¹ sr⁻¹ 0.0f0 erg Hz⁻¹ cm⁻² s⁻¹ sr⁻¹ … 0.0f0 erg Hz⁻¹ cm⁻² s⁻¹ sr⁻¹ 0.0f0 erg Hz⁻¹ cm⁻² s⁻¹ sr⁻¹; 0.0f0 erg Hz⁻¹ cm⁻² s⁻¹ sr⁻¹ 0.0f0 erg Hz⁻¹ cm⁻² s⁻¹ sr⁻¹ … 0.0f0 erg Hz⁻¹ cm⁻² s⁻¹ sr⁻¹ 0.0f0 erg Hz⁻¹ cm⁻² s⁻¹ sr⁻¹; … ; 0.0f0 erg Hz⁻¹ cm⁻² s⁻¹ sr⁻¹ 0.0f0 erg Hz⁻¹ cm⁻² s⁻¹ sr⁻¹ … 0.0f0 erg Hz⁻¹ cm⁻² s⁻¹ sr⁻¹ 0.0f0 erg Hz⁻¹ cm⁻² s⁻¹ sr⁻¹; 0.0f0 erg Hz⁻¹ cm⁻² s⁻¹ sr⁻¹ 0.0f0 erg Hz⁻¹ cm⁻² s⁻¹ sr⁻¹ … 0.0f0 erg Hz⁻¹ cm⁻² s⁻¹ sr⁻¹ 0.0f0 erg Hz⁻¹ cm⁻² s⁻¹ sr⁻¹;;; 0.0f0 erg Hz⁻¹ cm⁻² s⁻¹ sr⁻¹ 0.0f0 erg Hz⁻¹ cm⁻² s⁻¹ sr⁻¹ … 0.0f0 erg Hz⁻¹ cm⁻² s⁻¹ sr⁻¹ 0.0f0 erg Hz⁻¹ cm⁻² s⁻¹ sr⁻¹; 0.0f0 erg Hz⁻¹ cm⁻² s⁻¹ sr⁻¹ 0.0f0 erg Hz⁻¹ cm⁻² s⁻¹ sr⁻¹ … 0.0f0 erg Hz⁻¹ cm⁻² s⁻¹ sr⁻¹ 0.0f0 erg Hz⁻¹ cm⁻² s⁻¹ sr⁻¹; … ; 0.0f0 erg Hz⁻¹ cm⁻² s⁻¹ sr⁻¹ 0.0f0 erg Hz⁻¹ cm⁻² s⁻¹ sr⁻¹ … 0.0f0 erg Hz⁻¹ cm⁻² s⁻¹ sr⁻¹ 0.0f0 erg Hz⁻¹ cm⁻² s⁻¹ sr⁻¹; 0.0f0 erg Hz⁻¹ cm⁻² s⁻¹ sr⁻¹ 0.0f0 erg Hz⁻¹ cm⁻² s⁻¹ sr⁻¹ … 0.0f0 erg Hz⁻¹ cm⁻² s⁻¹ sr⁻¹ 0.0f0 erg Hz⁻¹ cm⁻² s⁻¹ sr⁻¹;;; … ;;; 0.0f0 erg Hz⁻¹ cm⁻² s⁻¹ sr⁻¹ 0.0f0 erg Hz⁻¹ cm⁻² s⁻¹ sr⁻¹ … 0.0f0 erg Hz⁻¹ cm⁻² s⁻¹ sr⁻¹ 0.0f0 erg Hz⁻¹ cm⁻² s⁻¹ sr⁻¹; 0.0f0 erg Hz⁻¹ cm⁻² s⁻¹ sr⁻¹ 0.0f0 erg Hz⁻¹ cm⁻² s⁻¹ sr⁻¹ … 0.0f0 erg Hz⁻¹ cm⁻² s⁻¹ sr⁻¹ 0.0f0 erg Hz⁻¹ cm⁻² s⁻¹ sr⁻¹; … ; 0.0f0 erg Hz⁻¹ cm⁻² s⁻¹ sr⁻¹ 0.0f0 erg Hz⁻¹ cm⁻² s⁻¹ sr⁻¹ … 0.0f0 erg Hz⁻¹ cm⁻² s⁻¹ sr⁻¹ 0.0f0 erg Hz⁻¹ cm⁻² s⁻¹ sr⁻¹; 0.0f0 erg Hz⁻¹ cm⁻² s⁻¹ sr⁻¹ 0.0f0 erg Hz⁻¹ cm⁻² s⁻¹ sr⁻¹ … 0.0f0 erg Hz⁻¹ cm⁻² s⁻¹ sr⁻¹ 0.0f0 erg Hz⁻¹ cm⁻² s⁻¹ sr⁻¹;;; 0.0f0 erg Hz⁻¹ cm⁻² s⁻¹ sr⁻¹ 0.0f0 erg Hz⁻¹ cm⁻² s⁻¹ sr⁻¹ … 0.0f0 erg Hz⁻¹ cm⁻² s⁻¹ sr⁻¹ 0.0f0 erg Hz⁻¹ cm⁻² s⁻¹ sr⁻¹; 0.0f0 erg Hz⁻¹ cm⁻² s⁻¹ sr⁻¹ 0.0f0 erg Hz⁻¹ cm⁻² s⁻¹ sr⁻¹ … 0.0f0 erg Hz⁻¹ cm⁻² s⁻¹ sr⁻¹ 0.0f0 erg Hz⁻¹ cm⁻² s⁻¹ sr⁻¹; … ; 0.0f0 erg Hz⁻¹ cm⁻² s⁻¹ sr⁻¹ 0.0f0 erg Hz⁻¹ cm⁻² s⁻¹ sr⁻¹ … 0.0f0 erg Hz⁻¹ cm⁻² s⁻¹ sr⁻¹ 0.0f0 erg Hz⁻¹ cm⁻² s⁻¹ sr⁻¹; 0.0f0 erg Hz⁻¹ cm⁻² s⁻¹ sr⁻¹ 0.0f0 erg Hz⁻¹ cm⁻² s⁻¹ sr⁻¹ … 0.0f0 erg Hz⁻¹ cm⁻² s⁻¹ sr⁻¹ 0.0f0 erg Hz⁻¹ cm⁻² s⁻¹ sr⁻¹;;; 0.0f0 erg Hz⁻¹ cm⁻² s⁻¹ sr⁻¹ 0.0f0 erg Hz⁻¹ cm⁻² s⁻¹ sr⁻¹ … 0.0f0 erg Hz⁻¹ cm⁻² s⁻¹ sr⁻¹ 0.0f0 erg Hz⁻¹ cm⁻² s⁻¹ sr⁻¹; 0.0f0 erg Hz⁻¹ cm⁻² s⁻¹ sr⁻¹ 0.0f0 erg Hz⁻¹ cm⁻² s⁻¹ sr⁻¹ … 0.0f0 erg Hz⁻¹ cm⁻² s⁻¹ sr⁻¹ 0.0f0 erg Hz⁻¹ cm⁻² s⁻¹ sr⁻¹; … ; 0.0f0 erg Hz⁻¹ cm⁻² s⁻¹ sr⁻¹ 0.0f0 erg Hz⁻¹ cm⁻² s⁻¹ sr⁻¹ … 0.0f0 erg Hz⁻¹ cm⁻² s⁻¹ sr⁻¹ 0.0f0 erg Hz⁻¹ cm⁻² s⁻¹ sr⁻¹; 0.0f0 erg Hz⁻¹ cm⁻² s⁻¹ sr⁻¹ 0.0f0 erg Hz⁻¹ cm⁻² s⁻¹ sr⁻¹ … 0.0f0 erg Hz⁻¹ cm⁻² s⁻¹ sr⁻¹ 0.0f0 erg Hz⁻¹ cm⁻² s⁻¹ sr⁻¹;;;;], Array{Float32, 4}(undef, 7790, 49, 45, 0), Quantity{Float32, 𝐌 𝐓⁻², Unitful.FreeUnits{(erg, Hz⁻¹, cm⁻², s⁻¹, sr⁻¹), 𝐌 𝐓⁻², nothing}}[0.0f0 erg Hz⁻¹ cm⁻² s⁻¹ sr⁻¹ 0.0f0 erg Hz⁻¹ cm⁻² s⁻¹ sr⁻¹ … 0.0f0 erg Hz⁻¹ cm⁻² s⁻¹ sr⁻¹ 0.0f0 erg Hz⁻¹ cm⁻² s⁻¹ sr⁻¹; 0.0f0 erg Hz⁻¹ cm⁻² s⁻¹ sr⁻¹ 0.0f0 erg Hz⁻¹ cm⁻² s⁻¹ sr⁻¹ … 0.0f0 erg Hz⁻¹ cm⁻² s⁻¹ sr⁻¹ 0.0f0 erg Hz⁻¹ cm⁻² s⁻¹ sr⁻¹; … ; 0.0f0 erg Hz⁻¹ cm⁻² s⁻¹ sr⁻¹ 0.0f0 erg Hz⁻¹ cm⁻² s⁻¹ sr⁻¹ … 0.0f0 erg Hz⁻¹ cm⁻² s⁻¹ sr⁻¹ 0.0f0 erg Hz⁻¹ cm⁻² s⁻¹ sr⁻¹; 0.0f0 erg Hz⁻¹ cm⁻² s⁻¹ sr⁻¹ 0.0f0 erg Hz⁻¹ cm⁻² s⁻¹ sr⁻¹ … 0.0f0 erg Hz⁻¹ cm⁻² s⁻¹ sr⁻¹ 0.0f0 erg Hz⁻¹ cm⁻² s⁻¹ sr⁻¹;;; 0.0f0 erg Hz⁻¹ cm⁻² s⁻¹ sr⁻¹ 0.0f0 erg Hz⁻¹ cm⁻² s⁻¹ sr⁻¹ … 0.0f0 erg Hz⁻¹ cm⁻² s⁻¹ sr⁻¹ 0.0f0 erg Hz⁻¹ cm⁻² s⁻¹ sr⁻¹; 0.0f0 erg Hz⁻¹ cm⁻² s⁻¹ sr⁻¹ 0.0f0 erg Hz⁻¹ cm⁻² s⁻¹ sr⁻¹ … 0.0f0 erg Hz⁻¹ cm⁻² s⁻¹ sr⁻¹ 0.0f0 erg Hz⁻¹ cm⁻² s⁻¹ sr⁻¹; … ; 0.0f0 erg Hz⁻¹ cm⁻² s⁻¹ sr⁻¹ 0.0f0 erg Hz⁻¹ cm⁻² s⁻¹ sr⁻¹ … 0.0f0 erg Hz⁻¹ cm⁻² s⁻¹ sr⁻¹ 0.0f0 erg Hz⁻¹ cm⁻² s⁻¹ sr⁻¹; 0.0f0 erg Hz⁻¹ cm⁻² s⁻¹ sr⁻¹ 0.0f0 erg Hz⁻¹ cm⁻² s⁻¹ sr⁻¹ … 0.0f0 erg Hz⁻¹ cm⁻² s⁻¹ sr⁻¹ 0.0f0 erg Hz⁻¹ cm⁻² s⁻¹ sr⁻¹;;; 0.0f0 erg Hz⁻¹ cm⁻² s⁻¹ sr⁻¹ 0.0f0 erg Hz⁻¹ cm⁻² s⁻¹ sr⁻¹ … 0.0f0 erg Hz⁻¹ cm⁻² s⁻¹ sr⁻¹ 0.0f0 erg Hz⁻¹ cm⁻² s⁻¹ sr⁻¹; 0.0f0 erg Hz⁻¹ cm⁻² s⁻¹ sr⁻¹ 0.0f0 erg Hz⁻¹ cm⁻² s⁻¹ sr⁻¹ … 0.0f0 erg Hz⁻¹ cm⁻² s⁻¹ sr⁻¹ 0.0f0 erg Hz⁻¹ cm⁻² s⁻¹ sr⁻¹; … ; 0.0f0 erg Hz⁻¹ cm⁻² s⁻¹ sr⁻¹ 0.0f0 erg Hz⁻¹ cm⁻² s⁻¹ sr⁻¹ … 0.0f0 erg Hz⁻¹ cm⁻² s⁻¹ sr⁻¹ 0.0f0 erg Hz⁻¹ cm⁻² s⁻¹ sr⁻¹; 0.0f0 erg Hz⁻¹ cm⁻² s⁻¹ sr⁻¹ 0.0f0 erg Hz⁻¹ cm⁻² s⁻¹ sr⁻¹ … 0.0f0 erg Hz⁻¹ cm⁻² s⁻¹ sr⁻¹ 0.0f0 erg Hz⁻¹ cm⁻² s⁻¹ sr⁻¹;;; … ;;; 0.0f0 erg Hz⁻¹ cm⁻² s⁻¹ sr⁻¹ 0.0f0 erg Hz⁻¹ cm⁻² s⁻¹ sr⁻¹ … 0.0f0 erg Hz⁻¹ cm⁻² s⁻¹ sr⁻¹ 0.0f0 erg Hz⁻¹ cm⁻² s⁻¹ sr⁻¹; 0.0f0 erg Hz⁻¹ cm⁻² s⁻¹ sr⁻¹ 0.0f0 erg Hz⁻¹ cm⁻² s⁻¹ sr⁻¹ … 0.0f0 erg Hz⁻¹ cm⁻² s⁻¹ sr⁻¹ 0.0f0 erg Hz⁻¹ cm⁻² s⁻¹ sr⁻¹; … ; 0.0f0 erg Hz⁻¹ cm⁻² s⁻¹ sr⁻¹ 0.0f0 erg Hz⁻¹ cm⁻² s⁻¹ sr⁻¹ … 0.0f0 erg Hz⁻¹ cm⁻² s⁻¹ sr⁻¹ 0.0f0 erg Hz⁻¹ cm⁻² s⁻¹ sr⁻¹; 0.0f0 erg Hz⁻¹ cm⁻² s⁻¹ sr⁻¹ 0.0f0 erg Hz⁻¹ cm⁻² s⁻¹ sr⁻¹ … 0.0f0 erg Hz⁻¹ cm⁻² s⁻¹ sr⁻¹ 0.0f0 erg Hz⁻¹ cm⁻² s⁻¹ sr⁻¹;;; 0.0f0 erg Hz⁻¹ cm⁻² s⁻¹ sr⁻¹ 0.0f0 erg Hz⁻¹ cm⁻² s⁻¹ sr⁻¹ … 0.0f0 erg Hz⁻¹ cm⁻² s⁻¹ sr⁻¹ 0.0f0 erg Hz⁻¹ cm⁻² s⁻¹ sr⁻¹; 0.0f0 erg Hz⁻¹ cm⁻² s⁻¹ sr⁻¹ 0.0f0 erg Hz⁻¹ cm⁻² s⁻¹ sr⁻¹ … 0.0f0 erg Hz⁻¹ cm⁻² s⁻¹ sr⁻¹ 0.0f0 erg Hz⁻¹ cm⁻² s⁻¹ sr⁻¹; … ; 0.0f0 erg Hz⁻¹ cm⁻² s⁻¹ sr⁻¹ 0.0f0 erg Hz⁻¹ cm⁻² s⁻¹ sr⁻¹ … 0.0f0 erg Hz⁻¹ cm⁻² s⁻¹ sr⁻¹ 0.0f0 erg Hz⁻¹ cm⁻² s⁻¹ sr⁻¹; 0.0f0 erg Hz⁻¹ cm⁻² s⁻¹ sr⁻¹ 0.0f0 erg Hz⁻¹ cm⁻² s⁻¹ sr⁻¹ … 0.0f0 erg Hz⁻¹ cm⁻² s⁻¹ sr⁻¹ 0.0f0 erg Hz⁻¹ cm⁻² s⁻¹ sr⁻¹;;; 0.0f0 erg Hz⁻¹ cm⁻² s⁻¹ sr⁻¹ 0.0f0 erg Hz⁻¹ cm⁻² s⁻¹ sr⁻¹ … 0.0f0 erg Hz⁻¹ cm⁻² s⁻¹ sr⁻¹ 0.0f0 erg Hz⁻¹ cm⁻² s⁻¹ sr⁻¹; 0.0f0 erg Hz⁻¹ cm⁻² s⁻¹ sr⁻¹ 0.0f0 erg Hz⁻¹ cm⁻² s⁻¹ sr⁻¹ … 0.0f0 erg Hz⁻¹ cm⁻² s⁻¹ sr⁻¹ 0.0f0 erg Hz⁻¹ cm⁻² s⁻¹ sr⁻¹; … ; 0.0f0 erg Hz⁻¹ cm⁻² s⁻¹ sr⁻¹ 0.0f0 erg Hz⁻¹ cm⁻² s⁻¹ sr⁻¹ … 0.0f0 erg Hz⁻¹ cm⁻² s⁻¹ sr⁻¹ 0.0f0 erg Hz⁻¹ cm⁻² s⁻¹ sr⁻¹; 0.0f0 erg Hz⁻¹ cm⁻² s⁻¹ sr⁻¹ 0.0f0 erg Hz⁻¹ cm⁻² s⁻¹ sr⁻¹ … 0.0f0 erg Hz⁻¹ cm⁻² s⁻¹ sr⁻¹ 0.0f0 erg Hz⁻¹ cm⁻² s⁻¹ sr⁻¹;;;; 0.0f0 erg Hz⁻¹ cm⁻² s⁻¹ sr⁻¹ 0.0f0 erg Hz⁻¹ cm⁻² s⁻¹ sr⁻¹ … 0.0f0 erg Hz⁻¹ cm⁻² s⁻¹ sr⁻¹ 0.0f0 erg Hz⁻¹ cm⁻² s⁻¹ sr⁻¹; 0.0f0 erg Hz⁻¹ cm⁻² s⁻¹ sr⁻¹ 0.0f0 erg Hz⁻¹ cm⁻² s⁻¹ sr⁻¹ … 0.0f0 erg Hz⁻¹ cm⁻² s⁻¹ sr⁻¹ 0.0f0 erg Hz⁻¹ cm⁻² s⁻¹ sr⁻¹; … ; 0.0f0 erg Hz⁻¹ cm⁻² s⁻¹ sr⁻¹ 0.0f0 erg Hz⁻¹ cm⁻² s⁻¹ sr⁻¹ … 0.0f0 erg Hz⁻¹ cm⁻² s⁻¹ sr⁻¹ 0.0f0 erg Hz⁻¹ cm⁻² s⁻¹ sr⁻¹; 0.0f0 erg Hz⁻¹ cm⁻² s⁻¹ sr⁻¹ 0.0f0 erg Hz⁻¹ cm⁻² s⁻¹ sr⁻¹ … 0.0f0 erg Hz⁻¹ cm⁻² s⁻¹ sr⁻¹ 0.0f0 erg Hz⁻¹ cm⁻² s⁻¹ sr⁻¹;;; 0.0f0 erg Hz⁻¹ cm⁻² s⁻¹ sr⁻¹ 0.0f0 erg Hz⁻¹ cm⁻² s⁻¹ sr⁻¹ … 0.0f0 erg Hz⁻¹ cm⁻² s⁻¹ sr⁻¹ 0.0f0 erg Hz⁻¹ cm⁻² s⁻¹ sr⁻¹; 0.0f0 erg Hz⁻¹ cm⁻² s⁻¹ sr⁻¹ 0.0f0 erg Hz⁻¹ cm⁻² s⁻¹ sr⁻¹ … 0.0f0 erg Hz⁻¹ cm⁻² s⁻¹ sr⁻¹ 0.0f0 erg Hz⁻¹ cm⁻² s⁻¹ sr⁻¹; … ; 0.0f0 erg Hz⁻¹ cm⁻² s⁻¹ sr⁻¹ 0.0f0 erg Hz⁻¹ cm⁻² s⁻¹ sr⁻¹ … 0.0f0 erg Hz⁻¹ cm⁻² s⁻¹ sr⁻¹ 0.0f0 erg Hz⁻¹ cm⁻² s⁻¹ sr⁻¹; 0.0f0 erg Hz⁻¹ cm⁻² s⁻¹ sr⁻¹ 0.0f0 erg Hz⁻¹ cm⁻² s⁻¹ sr⁻¹ … 0.0f0 erg Hz⁻¹ cm⁻² s⁻¹ sr⁻¹ 0.0f0 erg Hz⁻¹ cm⁻² s⁻¹ sr⁻¹;;; 0.0f0 erg Hz⁻¹ cm⁻² s⁻¹ sr⁻¹ 0.0f0 erg Hz⁻¹ cm⁻² s⁻¹ sr⁻¹ … 0.0f0 erg Hz⁻¹ cm⁻² s⁻¹ sr⁻¹ 0.0f0 erg Hz⁻¹ cm⁻² s⁻¹ sr⁻¹; 0.0f0 erg Hz⁻¹ cm⁻² s⁻¹ sr⁻¹ 0.0f0 erg Hz⁻¹ cm⁻² s⁻¹ sr⁻¹ … 0.0f0 erg Hz⁻¹ cm⁻² s⁻¹ sr⁻¹ 0.0f0 erg Hz⁻¹ cm⁻² s⁻¹ sr⁻¹; … ; 0.0f0 erg Hz⁻¹ cm⁻² s⁻¹ sr⁻¹ 0.0f0 erg Hz⁻¹ cm⁻² s⁻¹ sr⁻¹ … 0.0f0 erg Hz⁻¹ cm⁻² s⁻¹ sr⁻¹ 0.0f0 erg Hz⁻¹ cm⁻² s⁻¹ sr⁻¹; 0.0f0 erg Hz⁻¹ cm⁻² s⁻¹ sr⁻¹ 0.0f0 erg Hz⁻¹ cm⁻² s⁻¹ sr⁻¹ … 0.0f0 erg Hz⁻¹ cm⁻² s⁻¹ sr⁻¹ 0.0f0 erg Hz⁻¹ cm⁻² s⁻¹ sr⁻¹;;; … ;;; 0.0f0 erg Hz⁻¹ cm⁻² s⁻¹ sr⁻¹ 0.0f0 erg Hz⁻¹ cm⁻² s⁻¹ sr⁻¹ … 0.0f0 erg Hz⁻¹ cm⁻² s⁻¹ sr⁻¹ 0.0f0 erg Hz⁻¹ cm⁻² s⁻¹ sr⁻¹; 0.0f0 erg Hz⁻¹ cm⁻² s⁻¹ sr⁻¹ 0.0f0 erg Hz⁻¹ cm⁻² s⁻¹ sr⁻¹ … 0.0f0 erg Hz⁻¹ cm⁻² s⁻¹ sr⁻¹ 0.0f0 erg Hz⁻¹ cm⁻² s⁻¹ sr⁻¹; … ; 0.0f0 erg Hz⁻¹ cm⁻² s⁻¹ sr⁻¹ 0.0f0 erg Hz⁻¹ cm⁻² s⁻¹ sr⁻¹ … 0.0f0 erg Hz⁻¹ cm⁻² s⁻¹ sr⁻¹ 0.0f0 erg Hz⁻¹ cm⁻² s⁻¹ sr⁻¹; 0.0f0 erg Hz⁻¹ cm⁻² s⁻¹ sr⁻¹ 0.0f0 erg Hz⁻¹ cm⁻² s⁻¹ sr⁻¹ … 0.0f0 erg Hz⁻¹ cm⁻² s⁻¹ sr⁻¹ 0.0f0 erg Hz⁻¹ cm⁻² s⁻¹ sr⁻¹;;; 0.0f0 erg Hz⁻¹ cm⁻² s⁻¹ sr⁻¹ 0.0f0 erg Hz⁻¹ cm⁻² s⁻¹ sr⁻¹ … 0.0f0 erg Hz⁻¹ cm⁻² s⁻¹ sr⁻¹ 0.0f0 erg Hz⁻¹ cm⁻² s⁻¹ sr⁻¹; 0.0f0 erg Hz⁻¹ cm⁻² s⁻¹ sr⁻¹ 0.0f0 erg Hz⁻¹ cm⁻² s⁻¹ sr⁻¹ … 0.0f0 erg Hz⁻¹ cm⁻² s⁻¹ sr⁻¹ 0.0f0 erg Hz⁻¹ cm⁻² s⁻¹ sr⁻¹; … ; 0.0f0 erg Hz⁻¹ cm⁻² s⁻¹ sr⁻¹ 0.0f0 erg Hz⁻¹ cm⁻² s⁻¹ sr⁻¹ … 0.0f0 erg Hz⁻¹ cm⁻² s⁻¹ sr⁻¹ 0.0f0 erg Hz⁻¹ cm⁻² s⁻¹ sr⁻¹; 0.0f0 erg Hz⁻¹ cm⁻² s⁻¹ sr⁻¹ 0.0f0 erg Hz⁻¹ cm⁻² s⁻¹ sr⁻¹ … 0.0f0 erg Hz⁻¹ cm⁻² s⁻¹ sr⁻¹ 0.0f0 erg Hz⁻¹ cm⁻² s⁻¹ sr⁻¹;;; 0.0f0 erg Hz⁻¹ cm⁻² s⁻¹ sr⁻¹ 0.0f0 erg Hz⁻¹ cm⁻² s⁻¹ sr⁻¹ … 0.0f0 erg Hz⁻¹ cm⁻² s⁻¹ sr⁻¹ 0.0f0 erg Hz⁻¹ cm⁻² s⁻¹ sr⁻¹; 0.0f0 erg Hz⁻¹ cm⁻² s⁻¹ sr⁻¹ 0.0f0 erg Hz⁻¹ cm⁻² s⁻¹ sr⁻¹ … 0.0f0 erg Hz⁻¹ cm⁻² s⁻¹ sr⁻¹ 0.0f0 erg Hz⁻¹ cm⁻² s⁻¹ sr⁻¹; … ; 0.0f0 erg Hz⁻¹ cm⁻² s⁻¹ sr⁻¹ 0.0f0 erg Hz⁻¹ cm⁻² s⁻¹ sr⁻¹ … 0.0f0 erg Hz⁻¹ cm⁻² s⁻¹ sr⁻¹ 0.0f0 erg Hz⁻¹ cm⁻² s⁻¹ sr⁻¹; 0.0f0 erg Hz⁻¹ cm⁻² s⁻¹ sr⁻¹ 0.0f0 erg Hz⁻¹ cm⁻² s⁻¹ sr⁻¹ … 0.0f0 erg Hz⁻¹ cm⁻² s⁻¹ sr⁻¹ 0.0f0 erg Hz⁻¹ cm⁻² s⁻¹ sr⁻¹;;;; 0.0f0 erg Hz⁻¹ cm⁻² s⁻¹ sr⁻¹ 0.0f0 erg Hz⁻¹ cm⁻² s⁻¹ sr⁻¹ … 0.0f0 erg Hz⁻¹ cm⁻² s⁻¹ sr⁻¹ 0.0f0 erg Hz⁻¹ cm⁻² s⁻¹ sr⁻¹; 0.0f0 erg Hz⁻¹ cm⁻² s⁻¹ sr⁻¹ 0.0f0 erg Hz⁻¹ cm⁻² s⁻¹ sr⁻¹ … 0.0f0 erg Hz⁻¹ cm⁻² s⁻¹ sr⁻¹ 0.0f0 erg Hz⁻¹ cm⁻² s⁻¹ sr⁻¹; … ; 0.0f0 erg Hz⁻¹ cm⁻² s⁻¹ sr⁻¹ 0.0f0 erg Hz⁻¹ cm⁻² s⁻¹ sr⁻¹ … 0.0f0 erg Hz⁻¹ cm⁻² s⁻¹ sr⁻¹ 0.0f0 erg Hz⁻¹ cm⁻² s⁻¹ sr⁻¹; 0.0f0 erg Hz⁻¹ cm⁻² s⁻¹ sr⁻¹ 0.0f0 erg Hz⁻¹ cm⁻² s⁻¹ sr⁻¹ … 0.0f0 erg Hz⁻¹ cm⁻² s⁻¹ sr⁻¹ 0.0f0 erg Hz⁻¹ cm⁻² s⁻¹ sr⁻¹;;; 0.0f0 erg Hz⁻¹ cm⁻² s⁻¹ sr⁻¹ 0.0f0 erg Hz⁻¹ cm⁻² s⁻¹ sr⁻¹ … 0.0f0 erg Hz⁻¹ cm⁻² s⁻¹ sr⁻¹ 0.0f0 erg Hz⁻¹ cm⁻² s⁻¹ sr⁻¹; 0.0f0 erg Hz⁻¹ cm⁻² s⁻¹ sr⁻¹ 0.0f0 erg Hz⁻¹ cm⁻² s⁻¹ sr⁻¹ … 0.0f0 erg Hz⁻¹ cm⁻² s⁻¹ sr⁻¹ 0.0f0 erg Hz⁻¹ cm⁻² s⁻¹ sr⁻¹; … ; 0.0f0 erg Hz⁻¹ cm⁻² s⁻¹ sr⁻¹ 0.0f0 erg Hz⁻¹ cm⁻² s⁻¹ sr⁻¹ … 0.0f0 erg Hz⁻¹ cm⁻² s⁻¹ sr⁻¹ 0.0f0 erg Hz⁻¹ cm⁻² s⁻¹ sr⁻¹; 0.0f0 erg Hz⁻¹ cm⁻² s⁻¹ sr⁻¹ 0.0f0 erg Hz⁻¹ cm⁻² s⁻¹ sr⁻¹ … 0.0f0 erg Hz⁻¹ cm⁻² s⁻¹ sr⁻¹ 0.0f0 erg Hz⁻¹ cm⁻² s⁻¹ sr⁻¹;;; 0.0f0 erg Hz⁻¹ cm⁻² s⁻¹ sr⁻¹ 0.0f0 erg Hz⁻¹ cm⁻² s⁻¹ sr⁻¹ … 0.0f0 erg Hz⁻¹ cm⁻² s⁻¹ sr⁻¹ 0.0f0 erg Hz⁻¹ cm⁻² s⁻¹ sr⁻¹; 0.0f0 erg Hz⁻¹ cm⁻² s⁻¹ sr⁻¹ 0.0f0 erg Hz⁻¹ cm⁻² s⁻¹ sr⁻¹ … 0.0f0 erg Hz⁻¹ cm⁻² s⁻¹ sr⁻¹ 0.0f0 erg Hz⁻¹ cm⁻² s⁻¹ sr⁻¹; … ; 0.0f0 erg Hz⁻¹ cm⁻² s⁻¹ sr⁻¹ 0.0f0 erg Hz⁻¹ cm⁻² s⁻¹ sr⁻¹ … 0.0f0 erg Hz⁻¹ cm⁻² s⁻¹ sr⁻¹ 0.0f0 erg Hz⁻¹ cm⁻² s⁻¹ sr⁻¹; 0.0f0 erg Hz⁻¹ cm⁻² s⁻¹ sr⁻¹ 0.0f0 erg Hz⁻¹ cm⁻² s⁻¹ sr⁻¹ … 0.0f0 erg Hz⁻¹ cm⁻² s⁻¹ sr⁻¹ 0.0f0 erg Hz⁻¹ cm⁻² s⁻¹ sr⁻¹;;; … ;;; 0.0f0 erg Hz⁻¹ cm⁻² s⁻¹ sr⁻¹ 0.0f0 erg Hz⁻¹ cm⁻² s⁻¹ sr⁻¹ … 0.0f0 erg Hz⁻¹ cm⁻² s⁻¹ sr⁻¹ 0.0f0 erg Hz⁻¹ cm⁻² s⁻¹ sr⁻¹; 0.0f0 erg Hz⁻¹ cm⁻² s⁻¹ sr⁻¹ 0.0f0 erg Hz⁻¹ cm⁻² s⁻¹ sr⁻¹ … 0.0f0 erg Hz⁻¹ cm⁻² s⁻¹ sr⁻¹ 0.0f0 erg Hz⁻¹ cm⁻² s⁻¹ sr⁻¹; … ; 0.0f0 erg Hz⁻¹ cm⁻² s⁻¹ sr⁻¹ 0.0f0 erg Hz⁻¹ cm⁻² s⁻¹ sr⁻¹ … 0.0f0 erg Hz⁻¹ cm⁻² s⁻¹ sr⁻¹ 0.0f0 erg Hz⁻¹ cm⁻² s⁻¹ sr⁻¹; 0.0f0 erg Hz⁻¹ cm⁻² s⁻¹ sr⁻¹ 0.0f0 erg Hz⁻¹ cm⁻² s⁻¹ sr⁻¹ … 0.0f0 erg Hz⁻¹ cm⁻² s⁻¹ sr⁻¹ 0.0f0 erg Hz⁻¹ cm⁻² s⁻¹ sr⁻¹;;; 0.0f0 erg Hz⁻¹ cm⁻² s⁻¹ sr⁻¹ 0.0f0 erg Hz⁻¹ cm⁻² s⁻¹ sr⁻¹ … 0.0f0 erg Hz⁻¹ cm⁻² s⁻¹ sr⁻¹ 0.0f0 erg Hz⁻¹ cm⁻² s⁻¹ sr⁻¹; 0.0f0 erg Hz⁻¹ cm⁻² s⁻¹ sr⁻¹ 0.0f0 erg Hz⁻¹ cm⁻² s⁻¹ sr⁻¹ … 0.0f0 erg Hz⁻¹ cm⁻² s⁻¹ sr⁻¹ 0.0f0 erg Hz⁻¹ cm⁻² s⁻¹ sr⁻¹; … ; 0.0f0 erg Hz⁻¹ cm⁻² s⁻¹ sr⁻¹ 0.0f0 erg Hz⁻¹ cm⁻² s⁻¹ sr⁻¹ … 0.0f0 erg Hz⁻¹ cm⁻² s⁻¹ sr⁻¹ 0.0f0 erg Hz⁻¹ cm⁻² s⁻¹ sr⁻¹; 0.0f0 erg Hz⁻¹ cm⁻² s⁻¹ sr⁻¹ 0.0f0 erg Hz⁻¹ cm⁻² s⁻¹ sr⁻¹ … 0.0f0 erg Hz⁻¹ cm⁻² s⁻¹ sr⁻¹ 0.0f0 erg Hz⁻¹ cm⁻² s⁻¹ sr⁻¹;;; 0.0f0 erg Hz⁻¹ cm⁻² s⁻¹ sr⁻¹ 0.0f0 erg Hz⁻¹ cm⁻² s⁻¹ sr⁻¹ … 0.0f0 erg Hz⁻¹ cm⁻² s⁻¹ sr⁻¹ 0.0f0 erg Hz⁻¹ cm⁻² s⁻¹ sr⁻¹; 0.0f0 erg Hz⁻¹ cm⁻² s⁻¹ sr⁻¹ 0.0f0 erg Hz⁻¹ cm⁻² s⁻¹ sr⁻¹ … 0.0f0 erg Hz⁻¹ cm⁻² s⁻¹ sr⁻¹ 0.0f0 erg Hz⁻¹ cm⁻² s⁻¹ sr⁻¹; … ; 0.0f0 erg Hz⁻¹ cm⁻² s⁻¹ sr⁻¹ 0.0f0 erg Hz⁻¹ cm⁻² s⁻¹ sr⁻¹ … 0.0f0 erg Hz⁻¹ cm⁻² s⁻¹ sr⁻¹ 0.0f0 erg Hz⁻¹ cm⁻² s⁻¹ sr⁻¹; 0.0f0 erg Hz⁻¹ cm⁻² s⁻¹ sr⁻¹ 0.0f0 erg Hz⁻¹ cm⁻² s⁻¹ sr⁻¹ … 0.0f0 erg Hz⁻¹ cm⁻² s⁻¹ sr⁻¹ 0.0f0 erg Hz⁻¹ cm⁻² s⁻¹ sr⁻¹;;;; … ;;;; 0.0f0 erg Hz⁻¹ cm⁻² s⁻¹ sr⁻¹ 0.0f0 erg Hz⁻¹ cm⁻² s⁻¹ sr⁻¹ … 0.0f0 erg Hz⁻¹ cm⁻² s⁻¹ sr⁻¹ 0.0f0 erg Hz⁻¹ cm⁻² s⁻¹ sr⁻¹; 0.0f0 erg Hz⁻¹ cm⁻² s⁻¹ sr⁻¹ 0.0f0 erg Hz⁻¹ cm⁻² s⁻¹ sr⁻¹ … 0.0f0 erg Hz⁻¹ cm⁻² s⁻¹ sr⁻¹ 0.0f0 erg Hz⁻¹ cm⁻² s⁻¹ sr⁻¹; … ; 0.0f0 erg Hz⁻¹ cm⁻² s⁻¹ sr⁻¹ 0.0f0 erg Hz⁻¹ cm⁻² s⁻¹ sr⁻¹ … 0.0f0 erg Hz⁻¹ cm⁻² s⁻¹ sr⁻¹ 0.0f0 erg Hz⁻¹ cm⁻² s⁻¹ sr⁻¹; 0.0f0 erg Hz⁻¹ cm⁻² s⁻¹ sr⁻¹ 0.0f0 erg Hz⁻¹ cm⁻² s⁻¹ sr⁻¹ … 0.0f0 erg Hz⁻¹ cm⁻² s⁻¹ sr⁻¹ 0.0f0 erg Hz⁻¹ cm⁻² s⁻¹ sr⁻¹;;; 0.0f0 erg Hz⁻¹ cm⁻² s⁻¹ sr⁻¹ 0.0f0 erg Hz⁻¹ cm⁻² s⁻¹ sr⁻¹ … 0.0f0 erg Hz⁻¹ cm⁻² s⁻¹ sr⁻¹ 0.0f0 erg Hz⁻¹ cm⁻² s⁻¹ sr⁻¹; 0.0f0 erg Hz⁻¹ cm⁻² s⁻¹ sr⁻¹ 0.0f0 erg Hz⁻¹ cm⁻² s⁻¹ sr⁻¹ … 0.0f0 erg Hz⁻¹ cm⁻² s⁻¹ sr⁻¹ 0.0f0 erg Hz⁻¹ cm⁻² s⁻¹ sr⁻¹; … ; 0.0f0 erg Hz⁻¹ cm⁻² s⁻¹ sr⁻¹ 0.0f0 erg Hz⁻¹ cm⁻² s⁻¹ sr⁻¹ … 0.0f0 erg Hz⁻¹ cm⁻² s⁻¹ sr⁻¹ 0.0f0 erg Hz⁻¹ cm⁻² s⁻¹ sr⁻¹; 0.0f0 erg Hz⁻¹ cm⁻² s⁻¹ sr⁻¹ 0.0f0 erg Hz⁻¹ cm⁻² s⁻¹ sr⁻¹ … 0.0f0 erg Hz⁻¹ cm⁻² s⁻¹ sr⁻¹ 0.0f0 erg Hz⁻¹ cm⁻² s⁻¹ sr⁻¹;;; 0.0f0 erg Hz⁻¹ cm⁻² s⁻¹ sr⁻¹ 0.0f0 erg Hz⁻¹ cm⁻² s⁻¹ sr⁻¹ … 0.0f0 erg Hz⁻¹ cm⁻² s⁻¹ sr⁻¹ 0.0f0 erg Hz⁻¹ cm⁻² s⁻¹ sr⁻¹; 0.0f0 erg Hz⁻¹ cm⁻² s⁻¹ sr⁻¹ 0.0f0 erg Hz⁻¹ cm⁻² s⁻¹ sr⁻¹ … 0.0f0 erg Hz⁻¹ cm⁻² s⁻¹ sr⁻¹ 0.0f0 erg Hz⁻¹ cm⁻² s⁻¹ sr⁻¹; … ; 0.0f0 erg Hz⁻¹ cm⁻² s⁻¹ sr⁻¹ 0.0f0 erg Hz⁻¹ cm⁻² s⁻¹ sr⁻¹ … 0.0f0 erg Hz⁻¹ cm⁻² s⁻¹ sr⁻¹ 0.0f0 erg Hz⁻¹ cm⁻² s⁻¹ sr⁻¹; 0.0f0 erg Hz⁻¹ cm⁻² s⁻¹ sr⁻¹ 0.0f0 erg Hz⁻¹ cm⁻² s⁻¹ sr⁻¹ … 0.0f0 erg Hz⁻¹ cm⁻² s⁻¹ sr⁻¹ 0.0f0 erg Hz⁻¹ cm⁻² s⁻¹ sr⁻¹;;; … ;;; 0.0f0 erg Hz⁻¹ cm⁻² s⁻¹ sr⁻¹ 0.0f0 erg Hz⁻¹ cm⁻² s⁻¹ sr⁻¹ … 0.0f0 erg Hz⁻¹ cm⁻² s⁻¹ sr⁻¹ 0.0f0 erg Hz⁻¹ cm⁻² s⁻¹ sr⁻¹; 0.0f0 erg Hz⁻¹ cm⁻² s⁻¹ sr⁻¹ 0.0f0 erg Hz⁻¹ cm⁻² s⁻¹ sr⁻¹ … 0.0f0 erg Hz⁻¹ cm⁻² s⁻¹ sr⁻¹ 0.0f0 erg Hz⁻¹ cm⁻² s⁻¹ sr⁻¹; … ; 0.0f0 erg Hz⁻¹ cm⁻² s⁻¹ sr⁻¹ 0.0f0 erg Hz⁻¹ cm⁻² s⁻¹ sr⁻¹ … 0.0f0 erg Hz⁻¹ cm⁻² s⁻¹ sr⁻¹ 0.0f0 erg Hz⁻¹ cm⁻² s⁻¹ sr⁻¹; 0.0f0 erg Hz⁻¹ cm⁻² s⁻¹ sr⁻¹ 0.0f0 erg Hz⁻¹ cm⁻² s⁻¹ sr⁻¹ … 0.0f0 erg Hz⁻¹ cm⁻² s⁻¹ sr⁻¹ 0.0f0 erg Hz⁻¹ cm⁻² s⁻¹ sr⁻¹;;; 0.0f0 erg Hz⁻¹ cm⁻² s⁻¹ sr⁻¹ 0.0f0 erg Hz⁻¹ cm⁻² s⁻¹ sr⁻¹ … 0.0f0 erg Hz⁻¹ cm⁻² s⁻¹ sr⁻¹ 0.0f0 erg Hz⁻¹ cm⁻² s⁻¹ sr⁻¹; 0.0f0 erg Hz⁻¹ cm⁻² s⁻¹ sr⁻¹ 0.0f0 erg Hz⁻¹ cm⁻² s⁻¹ sr⁻¹ … 0.0f0 erg Hz⁻¹ cm⁻² s⁻¹ sr⁻¹ 0.0f0 erg Hz⁻¹ cm⁻² s⁻¹ sr⁻¹; … ; 0.0f0 erg Hz⁻¹ cm⁻² s⁻¹ sr⁻¹ 0.0f0 erg Hz⁻¹ cm⁻² s⁻¹ sr⁻¹ … 0.0f0 erg Hz⁻¹ cm⁻² s⁻¹ sr⁻¹ 0.0f0 erg Hz⁻¹ cm⁻² s⁻¹ sr⁻¹; 0.0f0 erg Hz⁻¹ cm⁻² s⁻¹ sr⁻¹ 0.0f0 erg Hz⁻¹ cm⁻² s⁻¹ sr⁻¹ … 0.0f0 erg Hz⁻¹ cm⁻² s⁻¹ sr⁻¹ 0.0f0 erg Hz⁻¹ cm⁻² s⁻¹ sr⁻¹;;; 0.0f0 erg Hz⁻¹ cm⁻² s⁻¹ sr⁻¹ 0.0f0 erg Hz⁻¹ cm⁻² s⁻¹ sr⁻¹ … 0.0f0 erg Hz⁻¹ cm⁻² s⁻¹ sr⁻¹ 0.0f0 erg Hz⁻¹ cm⁻² s⁻¹ sr⁻¹; 0.0f0 erg Hz⁻¹ cm⁻² s⁻¹ sr⁻¹ 0.0f0 erg Hz⁻¹ cm⁻² s⁻¹ sr⁻¹ … 0.0f0 erg Hz⁻¹ cm⁻² s⁻¹ sr⁻¹ 0.0f0 erg Hz⁻¹ cm⁻² s⁻¹ sr⁻¹; … ; 0.0f0 erg Hz⁻¹ cm⁻² s⁻¹ sr⁻¹ 0.0f0 erg Hz⁻¹ cm⁻² s⁻¹ sr⁻¹ … 0.0f0 erg Hz⁻¹ cm⁻² s⁻¹ sr⁻¹ 0.0f0 erg Hz⁻¹ cm⁻² s⁻¹ sr⁻¹; 0.0f0 erg Hz⁻¹ cm⁻² s⁻¹ sr⁻¹ 0.0f0 erg Hz⁻¹ cm⁻² s⁻¹ sr⁻¹ … 0.0f0 erg Hz⁻¹ cm⁻² s⁻¹ sr⁻¹ 0.0f0 erg Hz⁻¹ cm⁻² s⁻¹ sr⁻¹;;;; 0.0f0 erg Hz⁻¹ cm⁻² s⁻¹ sr⁻¹ 0.0f0 erg Hz⁻¹ cm⁻² s⁻¹ sr⁻¹ … 0.0f0 erg Hz⁻¹ cm⁻² s⁻¹ sr⁻¹ 0.0f0 erg Hz⁻¹ cm⁻² s⁻¹ sr⁻¹; 0.0f0 erg Hz⁻¹ cm⁻² s⁻¹ sr⁻¹ 0.0f0 erg Hz⁻¹ cm⁻² s⁻¹ sr⁻¹ … 0.0f0 erg Hz⁻¹ cm⁻² s⁻¹ sr⁻¹ 0.0f0 erg Hz⁻¹ cm⁻² s⁻¹ sr⁻¹; … ; 0.0f0 erg Hz⁻¹ cm⁻² s⁻¹ sr⁻¹ 0.0f0 erg Hz⁻¹ cm⁻² s⁻¹ sr⁻¹ … 0.0f0 erg Hz⁻¹ cm⁻² s⁻¹ sr⁻¹ 0.0f0 erg Hz⁻¹ cm⁻² s⁻¹ sr⁻¹; 0.0f0 erg Hz⁻¹ cm⁻² s⁻¹ sr⁻¹ 0.0f0 erg Hz⁻¹ cm⁻² s⁻¹ sr⁻¹ … 0.0f0 erg Hz⁻¹ cm⁻² s⁻¹ sr⁻¹ 0.0f0 erg Hz⁻¹ cm⁻² s⁻¹ sr⁻¹;;; 0.0f0 erg Hz⁻¹ cm⁻² s⁻¹ sr⁻¹ 0.0f0 erg Hz⁻¹ cm⁻² s⁻¹ sr⁻¹ … 0.0f0 erg Hz⁻¹ cm⁻² s⁻¹ sr⁻¹ 0.0f0 erg Hz⁻¹ cm⁻² s⁻¹ sr⁻¹; 0.0f0 erg Hz⁻¹ cm⁻² s⁻¹ sr⁻¹ 0.0f0 erg Hz⁻¹ cm⁻² s⁻¹ sr⁻¹ … 0.0f0 erg Hz⁻¹ cm⁻² s⁻¹ sr⁻¹ 0.0f0 erg Hz⁻¹ cm⁻² s⁻¹ sr⁻¹; … ; 0.0f0 erg Hz⁻¹ cm⁻² s⁻¹ sr⁻¹ 0.0f0 erg Hz⁻¹ cm⁻² s⁻¹ sr⁻¹ … 0.0f0 erg Hz⁻¹ cm⁻² s⁻¹ sr⁻¹ 0.0f0 erg Hz⁻¹ cm⁻² s⁻¹ sr⁻¹; 0.0f0 erg Hz⁻¹ cm⁻² s⁻¹ sr⁻¹ 0.0f0 erg Hz⁻¹ cm⁻² s⁻¹ sr⁻¹ … 0.0f0 erg Hz⁻¹ cm⁻² s⁻¹ sr⁻¹ 0.0f0 erg Hz⁻¹ cm⁻² s⁻¹ sr⁻¹;;; 0.0f0 erg Hz⁻¹ cm⁻² s⁻¹ sr⁻¹ 0.0f0 erg Hz⁻¹ cm⁻² s⁻¹ sr⁻¹ … 0.0f0 erg Hz⁻¹ cm⁻² s⁻¹ sr⁻¹ 0.0f0 erg Hz⁻¹ cm⁻² s⁻¹ sr⁻¹; 0.0f0 erg Hz⁻¹ cm⁻² s⁻¹ sr⁻¹ 0.0f0 erg Hz⁻¹ cm⁻² s⁻¹ sr⁻¹ … 0.0f0 erg Hz⁻¹ cm⁻² s⁻¹ sr⁻¹ 0.0f0 erg Hz⁻¹ cm⁻² s⁻¹ sr⁻¹; … ; 0.0f0 erg Hz⁻¹ cm⁻² s⁻¹ sr⁻¹ 0.0f0 erg Hz⁻¹ cm⁻² s⁻¹ sr⁻¹ … 0.0f0 erg Hz⁻¹ cm⁻² s⁻¹ sr⁻¹ 0.0f0 erg Hz⁻¹ cm⁻² s⁻¹ sr⁻¹; 0.0f0 erg Hz⁻¹ cm⁻² s⁻¹ sr⁻¹ 0.0f0 erg Hz⁻¹ cm⁻² s⁻¹ sr⁻¹ … 0.0f0 erg Hz⁻¹ cm⁻² s⁻¹ sr⁻¹ 0.0f0 erg Hz⁻¹ cm⁻² s⁻¹ sr⁻¹;;; … ;;; 0.0f0 erg Hz⁻¹ cm⁻² s⁻¹ sr⁻¹ 0.0f0 erg Hz⁻¹ cm⁻² s⁻¹ sr⁻¹ … 0.0f0 erg Hz⁻¹ cm⁻² s⁻¹ sr⁻¹ 0.0f0 erg Hz⁻¹ cm⁻² s⁻¹ sr⁻¹; 0.0f0 erg Hz⁻¹ cm⁻² s⁻¹ sr⁻¹ 0.0f0 erg Hz⁻¹ cm⁻² s⁻¹ sr⁻¹ … 0.0f0 erg Hz⁻¹ cm⁻² s⁻¹ sr⁻¹ 0.0f0 erg Hz⁻¹ cm⁻² s⁻¹ sr⁻¹; … ; 0.0f0 erg Hz⁻¹ cm⁻² s⁻¹ sr⁻¹ 0.0f0 erg Hz⁻¹ cm⁻² s⁻¹ sr⁻¹ … 0.0f0 erg Hz⁻¹ cm⁻² s⁻¹ sr⁻¹ 0.0f0 erg Hz⁻¹ cm⁻² s⁻¹ sr⁻¹; 0.0f0 erg Hz⁻¹ cm⁻² s⁻¹ sr⁻¹ 0.0f0 erg Hz⁻¹ cm⁻² s⁻¹ sr⁻¹ … 0.0f0 erg Hz⁻¹ cm⁻² s⁻¹ sr⁻¹ 0.0f0 erg Hz⁻¹ cm⁻² s⁻¹ sr⁻¹;;; 0.0f0 erg Hz⁻¹ cm⁻² s⁻¹ sr⁻¹ 0.0f0 erg Hz⁻¹ cm⁻² s⁻¹ sr⁻¹ … 0.0f0 erg Hz⁻¹ cm⁻² s⁻¹ sr⁻¹ 0.0f0 erg Hz⁻¹ cm⁻² s⁻¹ sr⁻¹; 0.0f0 erg Hz⁻¹ cm⁻² s⁻¹ sr⁻¹ 0.0f0 erg Hz⁻¹ cm⁻² s⁻¹ sr⁻¹ … 0.0f0 erg Hz⁻¹ cm⁻² s⁻¹ sr⁻¹ 0.0f0 erg Hz⁻¹ cm⁻² s⁻¹ sr⁻¹; … ; 0.0f0 erg Hz⁻¹ cm⁻² s⁻¹ sr⁻¹ 0.0f0 erg Hz⁻¹ cm⁻² s⁻¹ sr⁻¹ … 0.0f0 erg Hz⁻¹ cm⁻² s⁻¹ sr⁻¹ 0.0f0 erg Hz⁻¹ cm⁻² s⁻¹ sr⁻¹; 0.0f0 erg Hz⁻¹ cm⁻² s⁻¹ sr⁻¹ 0.0f0 erg Hz⁻¹ cm⁻² s⁻¹ sr⁻¹ … 0.0f0 erg Hz⁻¹ cm⁻² s⁻¹ sr⁻¹ 0.0f0 erg Hz⁻¹ cm⁻² s⁻¹ sr⁻¹;;; 0.0f0 erg Hz⁻¹ cm⁻² s⁻¹ sr⁻¹ 0.0f0 erg Hz⁻¹ cm⁻² s⁻¹ sr⁻¹ … 0.0f0 erg Hz⁻¹ cm⁻² s⁻¹ sr⁻¹ 0.0f0 erg Hz⁻¹ cm⁻² s⁻¹ sr⁻¹; 0.0f0 erg Hz⁻¹ cm⁻² s⁻¹ sr⁻¹ 0.0f0 erg Hz⁻¹ cm⁻² s⁻¹ sr⁻¹ … 0.0f0 erg Hz⁻¹ cm⁻² s⁻¹ sr⁻¹ 0.0f0 erg Hz⁻¹ cm⁻² s⁻¹ sr⁻¹; … ; 0.0f0 erg Hz⁻¹ cm⁻² s⁻¹ sr⁻¹ 0.0f0 erg Hz⁻¹ cm⁻² s⁻¹ sr⁻¹ … 0.0f0 erg Hz⁻¹ cm⁻² s⁻¹ sr⁻¹ 0.0f0 erg Hz⁻¹ cm⁻² s⁻¹ sr⁻¹; 0.0f0 erg Hz⁻¹ cm⁻² s⁻¹ sr⁻¹ 0.0f0 erg Hz⁻¹ cm⁻² s⁻¹ sr⁻¹ … 0.0f0 erg Hz⁻¹ cm⁻² s⁻¹ sr⁻¹ 0.0f0 erg Hz⁻¹ cm⁻² s⁻¹ sr⁻¹;;;; 0.0f0 erg Hz⁻¹ cm⁻² s⁻¹ sr⁻¹ 0.0f0 erg Hz⁻¹ cm⁻² s⁻¹ sr⁻¹ … 0.0f0 erg Hz⁻¹ cm⁻² s⁻¹ sr⁻¹ 0.0f0 erg Hz⁻¹ cm⁻² s⁻¹ sr⁻¹; 0.0f0 erg Hz⁻¹ cm⁻² s⁻¹ sr⁻¹ 0.0f0 erg Hz⁻¹ cm⁻² s⁻¹ sr⁻¹ … 0.0f0 erg Hz⁻¹ cm⁻² s⁻¹ sr⁻¹ 0.0f0 erg Hz⁻¹ cm⁻² s⁻¹ sr⁻¹; … ; 0.0f0 erg Hz⁻¹ cm⁻² s⁻¹ sr⁻¹ 0.0f0 erg Hz⁻¹ cm⁻² s⁻¹ sr⁻¹ … 0.0f0 erg Hz⁻¹ cm⁻² s⁻¹ sr⁻¹ 0.0f0 erg Hz⁻¹ cm⁻² s⁻¹ sr⁻¹; 0.0f0 erg Hz⁻¹ cm⁻² s⁻¹ sr⁻¹ 0.0f0 erg Hz⁻¹ cm⁻² s⁻¹ sr⁻¹ … 0.0f0 erg Hz⁻¹ cm⁻² s⁻¹ sr⁻¹ 0.0f0 erg Hz⁻¹ cm⁻² s⁻¹ sr⁻¹;;; 0.0f0 erg Hz⁻¹ cm⁻² s⁻¹ sr⁻¹ 0.0f0 erg Hz⁻¹ cm⁻² s⁻¹ sr⁻¹ … 0.0f0 erg Hz⁻¹ cm⁻² s⁻¹ sr⁻¹ 0.0f0 erg Hz⁻¹ cm⁻² s⁻¹ sr⁻¹; 0.0f0 erg Hz⁻¹ cm⁻² s⁻¹ sr⁻¹ 0.0f0 erg Hz⁻¹ cm⁻² s⁻¹ sr⁻¹ … 0.0f0 erg Hz⁻¹ cm⁻² s⁻¹ sr⁻¹ 0.0f0 erg Hz⁻¹ cm⁻² s⁻¹ sr⁻¹; … ; 0.0f0 erg Hz⁻¹ cm⁻² s⁻¹ sr⁻¹ 0.0f0 erg Hz⁻¹ cm⁻² s⁻¹ sr⁻¹ … 0.0f0 erg Hz⁻¹ cm⁻² s⁻¹ sr⁻¹ 0.0f0 erg Hz⁻¹ cm⁻² s⁻¹ sr⁻¹; 0.0f0 erg Hz⁻¹ cm⁻² s⁻¹ sr⁻¹ 0.0f0 erg Hz⁻¹ cm⁻² s⁻¹ sr⁻¹ … 0.0f0 erg Hz⁻¹ cm⁻² s⁻¹ sr⁻¹ 0.0f0 erg Hz⁻¹ cm⁻² s⁻¹ sr⁻¹;;; 0.0f0 erg Hz⁻¹ cm⁻² s⁻¹ sr⁻¹ 0.0f0 erg Hz⁻¹ cm⁻² s⁻¹ sr⁻¹ … 0.0f0 erg Hz⁻¹ cm⁻² s⁻¹ sr⁻¹ 0.0f0 erg Hz⁻¹ cm⁻² s⁻¹ sr⁻¹; 0.0f0 erg Hz⁻¹ cm⁻² s⁻¹ sr⁻¹ 0.0f0 erg Hz⁻¹ cm⁻² s⁻¹ sr⁻¹ … 0.0f0 erg Hz⁻¹ cm⁻² s⁻¹ sr⁻¹ 0.0f0 erg Hz⁻¹ cm⁻² s⁻¹ sr⁻¹; … ; 0.0f0 erg Hz⁻¹ cm⁻² s⁻¹ sr⁻¹ 0.0f0 erg Hz⁻¹ cm⁻² s⁻¹ sr⁻¹ … 0.0f0 erg Hz⁻¹ cm⁻² s⁻¹ sr⁻¹ 0.0f0 erg Hz⁻¹ cm⁻² s⁻¹ sr⁻¹; 0.0f0 erg Hz⁻¹ cm⁻² s⁻¹ sr⁻¹ 0.0f0 erg Hz⁻¹ cm⁻² s⁻¹ sr⁻¹ … 0.0f0 erg Hz⁻¹ cm⁻² s⁻¹ sr⁻¹ 0.0f0 erg Hz⁻¹ cm⁻² s⁻¹ sr⁻¹;;; … ;;; 0.0f0 erg Hz⁻¹ cm⁻² s⁻¹ sr⁻¹ 0.0f0 erg Hz⁻¹ cm⁻² s⁻¹ sr⁻¹ … 0.0f0 erg Hz⁻¹ cm⁻² s⁻¹ sr⁻¹ 0.0f0 erg Hz⁻¹ cm⁻² s⁻¹ sr⁻¹; 0.0f0 erg Hz⁻¹ cm⁻² s⁻¹ sr⁻¹ 0.0f0 erg Hz⁻¹ cm⁻² s⁻¹ sr⁻¹ … 0.0f0 erg Hz⁻¹ cm⁻² s⁻¹ sr⁻¹ 0.0f0 erg Hz⁻¹ cm⁻² s⁻¹ sr⁻¹; … ; 0.0f0 erg Hz⁻¹ cm⁻² s⁻¹ sr⁻¹ 0.0f0 erg Hz⁻¹ cm⁻² s⁻¹ sr⁻¹ … 0.0f0 erg Hz⁻¹ cm⁻² s⁻¹ sr⁻¹ 0.0f0 erg Hz⁻¹ cm⁻² s⁻¹ sr⁻¹; 0.0f0 erg Hz⁻¹ cm⁻² s⁻¹ sr⁻¹ 0.0f0 erg Hz⁻¹ cm⁻² s⁻¹ sr⁻¹ … 0.0f0 erg Hz⁻¹ cm⁻² s⁻¹ sr⁻¹ 0.0f0 erg Hz⁻¹ cm⁻² s⁻¹ sr⁻¹;;; 0.0f0 erg Hz⁻¹ cm⁻² s⁻¹ sr⁻¹ 0.0f0 erg Hz⁻¹ cm⁻² s⁻¹ sr⁻¹ … 0.0f0 erg Hz⁻¹ cm⁻² s⁻¹ sr⁻¹ 0.0f0 erg Hz⁻¹ cm⁻² s⁻¹ sr⁻¹; 0.0f0 erg Hz⁻¹ cm⁻² s⁻¹ sr⁻¹ 0.0f0 erg Hz⁻¹ cm⁻² s⁻¹ sr⁻¹ … 0.0f0 erg Hz⁻¹ cm⁻² s⁻¹ sr⁻¹ 0.0f0 erg Hz⁻¹ cm⁻² s⁻¹ sr⁻¹; … ; 0.0f0 erg Hz⁻¹ cm⁻² s⁻¹ sr⁻¹ 0.0f0 erg Hz⁻¹ cm⁻² s⁻¹ sr⁻¹ … 0.0f0 erg Hz⁻¹ cm⁻² s⁻¹ sr⁻¹ 0.0f0 erg Hz⁻¹ cm⁻² s⁻¹ sr⁻¹; 0.0f0 erg Hz⁻¹ cm⁻² s⁻¹ sr⁻¹ 0.0f0 erg Hz⁻¹ cm⁻² s⁻¹ sr⁻¹ … 0.0f0 erg Hz⁻¹ cm⁻² s⁻¹ sr⁻¹ 0.0f0 erg Hz⁻¹ cm⁻² s⁻¹ sr⁻¹;;; 0.0f0 erg Hz⁻¹ cm⁻² s⁻¹ sr⁻¹ 0.0f0 erg Hz⁻¹ cm⁻² s⁻¹ sr⁻¹ … 0.0f0 erg Hz⁻¹ cm⁻² s⁻¹ sr⁻¹ 0.0f0 erg Hz⁻¹ cm⁻² s⁻¹ sr⁻¹; 0.0f0 erg Hz⁻¹ cm⁻² s⁻¹ sr⁻¹ 0.0f0 erg Hz⁻¹ cm⁻² s⁻¹ sr⁻¹ … 0.0f0 erg Hz⁻¹ cm⁻² s⁻¹ sr⁻¹ 0.0f0 erg Hz⁻¹ cm⁻² s⁻¹ sr⁻¹; … ; 0.0f0 erg Hz⁻¹ cm⁻² s⁻¹ sr⁻¹ 0.0f0 erg Hz⁻¹ cm⁻² s⁻¹ sr⁻¹ … 0.0f0 erg Hz⁻¹ cm⁻² s⁻¹ sr⁻¹ 0.0f0 erg Hz⁻¹ cm⁻² s⁻¹ sr⁻¹; 0.0f0 erg Hz⁻¹ cm⁻² s⁻¹ sr⁻¹ 0.0f0 erg Hz⁻¹ cm⁻² s⁻¹ sr⁻¹ … 0.0f0 erg Hz⁻¹ cm⁻² s⁻¹ sr⁻¹ 0.0f0 erg Hz⁻¹ cm⁻² s⁻¹ sr⁻¹], Quantity{Float32, 𝐌 𝐓⁻², Unitful.FreeUnits{(erg, Hz⁻¹, cm⁻², s⁻¹, sr⁻¹), 𝐌 𝐓⁻², nothing}}[0.0f0 erg Hz⁻¹ cm⁻² s⁻¹ sr⁻¹ 0.0f0 erg Hz⁻¹ cm⁻² s⁻¹ sr⁻¹ … 0.0f0 erg Hz⁻¹ cm⁻² s⁻¹ sr⁻¹ 0.0f0 erg Hz⁻¹ cm⁻² s⁻¹ sr⁻¹; 0.0f0 erg Hz⁻¹ cm⁻² s⁻¹ sr⁻¹ 0.0f0 erg Hz⁻¹ cm⁻² s⁻¹ sr⁻¹ … 0.0f0 erg Hz⁻¹ cm⁻² s⁻¹ sr⁻¹ 0.0f0 erg Hz⁻¹ cm⁻² s⁻¹ sr⁻¹; … ; 0.0f0 erg Hz⁻¹ cm⁻² s⁻¹ sr⁻¹ 0.0f0 erg Hz⁻¹ cm⁻² s⁻¹ sr⁻¹ … 0.0f0 erg Hz⁻¹ cm⁻² s⁻¹ sr⁻¹ 0.0f0 erg Hz⁻¹ cm⁻² s⁻¹ sr⁻¹; 0.0f0 erg Hz⁻¹ cm⁻² s⁻¹ sr⁻¹ 0.0f0 erg Hz⁻¹ cm⁻² s⁻¹ sr⁻¹ … 0.0f0 erg Hz⁻¹ cm⁻² s⁻¹ sr⁻¹ 0.0f0 erg Hz⁻¹ cm⁻² s⁻¹ sr⁻¹;;; 0.0f0 erg Hz⁻¹ cm⁻² s⁻¹ sr⁻¹ 0.0f0 erg Hz⁻¹ cm⁻² s⁻¹ sr⁻¹ … 0.0f0 erg Hz⁻¹ cm⁻² s⁻¹ sr⁻¹ 0.0f0 erg Hz⁻¹ cm⁻² s⁻¹ sr⁻¹; 0.0f0 erg Hz⁻¹ cm⁻² s⁻¹ sr⁻¹ 0.0f0 erg Hz⁻¹ cm⁻² s⁻¹ sr⁻¹ … 0.0f0 erg Hz⁻¹ cm⁻² s⁻¹ sr⁻¹ 0.0f0 erg Hz⁻¹ cm⁻² s⁻¹ sr⁻¹; … ; 0.0f0 erg Hz⁻¹ cm⁻² s⁻¹ sr⁻¹ 0.0f0 erg Hz⁻¹ cm⁻² s⁻¹ sr⁻¹ … 0.0f0 erg Hz⁻¹ cm⁻² s⁻¹ sr⁻¹ 0.0f0 erg Hz⁻¹ cm⁻² s⁻¹ sr⁻¹; 0.0f0 erg Hz⁻¹ cm⁻² s⁻¹ sr⁻¹ 0.0f0 erg Hz⁻¹ cm⁻² s⁻¹ sr⁻¹ … 0.0f0 erg Hz⁻¹ cm⁻² s⁻¹ sr⁻¹ 0.0f0 erg Hz⁻¹ cm⁻² s⁻¹ sr⁻¹;;; 0.0f0 erg Hz⁻¹ cm⁻² s⁻¹ sr⁻¹ 0.0f0 erg Hz⁻¹ cm⁻² s⁻¹ sr⁻¹ … 0.0f0 erg Hz⁻¹ cm⁻² s⁻¹ sr⁻¹ 0.0f0 erg Hz⁻¹ cm⁻² s⁻¹ sr⁻¹; 0.0f0 erg Hz⁻¹ cm⁻² s⁻¹ sr⁻¹ 0.0f0 erg Hz⁻¹ cm⁻² s⁻¹ sr⁻¹ … 0.0f0 erg Hz⁻¹ cm⁻² s⁻¹ sr⁻¹ 0.0f0 erg Hz⁻¹ cm⁻² s⁻¹ sr⁻¹; … ; 0.0f0 erg Hz⁻¹ cm⁻² s⁻¹ sr⁻¹ 0.0f0 erg Hz⁻¹ cm⁻² s⁻¹ sr⁻¹ … 0.0f0 erg Hz⁻¹ cm⁻² s⁻¹ sr⁻¹ 0.0f0 erg Hz⁻¹ cm⁻² s⁻¹ sr⁻¹; 0.0f0 erg Hz⁻¹ cm⁻² s⁻¹ sr⁻¹ 0.0f0 erg Hz⁻¹ cm⁻² s⁻¹ sr⁻¹ … 0.0f0 erg Hz⁻¹ cm⁻² s⁻¹ sr⁻¹ 0.0f0 erg Hz⁻¹ cm⁻² s⁻¹ sr⁻¹;;; … ;;; 0.0f0 erg Hz⁻¹ cm⁻² s⁻¹ sr⁻¹ 0.0f0 erg Hz⁻¹ cm⁻² s⁻¹ sr⁻¹ … 0.0f0 erg Hz⁻¹ cm⁻² s⁻¹ sr⁻¹ 0.0f0 erg Hz⁻¹ cm⁻² s⁻¹ sr⁻¹; 0.0f0 erg Hz⁻¹ cm⁻² s⁻¹ sr⁻¹ 0.0f0 erg Hz⁻¹ cm⁻² s⁻¹ sr⁻¹ … 0.0f0 erg Hz⁻¹ cm⁻² s⁻¹ sr⁻¹ 0.0f0 erg Hz⁻¹ cm⁻² s⁻¹ sr⁻¹; … ; 0.0f0 erg Hz⁻¹ cm⁻² s⁻¹ sr⁻¹ 0.0f0 erg Hz⁻¹ cm⁻² s⁻¹ sr⁻¹ … 0.0f0 erg Hz⁻¹ cm⁻² s⁻¹ sr⁻¹ 0.0f0 erg Hz⁻¹ cm⁻² s⁻¹ sr⁻¹; 0.0f0 erg Hz⁻¹ cm⁻² s⁻¹ sr⁻¹ 0.0f0 erg Hz⁻¹ cm⁻² s⁻¹ sr⁻¹ … 0.0f0 erg Hz⁻¹ cm⁻² s⁻¹ sr⁻¹ 0.0f0 erg Hz⁻¹ cm⁻² s⁻¹ sr⁻¹;;; 0.0f0 erg Hz⁻¹ cm⁻² s⁻¹ sr⁻¹ 0.0f0 erg Hz⁻¹ cm⁻² s⁻¹ sr⁻¹ … 0.0f0 erg Hz⁻¹ cm⁻² s⁻¹ sr⁻¹ 0.0f0 erg Hz⁻¹ cm⁻² s⁻¹ sr⁻¹; 0.0f0 erg Hz⁻¹ cm⁻² s⁻¹ sr⁻¹ 0.0f0 erg Hz⁻¹ cm⁻² s⁻¹ sr⁻¹ … 0.0f0 erg Hz⁻¹ cm⁻² s⁻¹ sr⁻¹ 0.0f0 erg Hz⁻¹ cm⁻² s⁻¹ sr⁻¹; … ; 0.0f0 erg Hz⁻¹ cm⁻² s⁻¹ sr⁻¹ 0.0f0 erg Hz⁻¹ cm⁻² s⁻¹ sr⁻¹ … 0.0f0 erg Hz⁻¹ cm⁻² s⁻¹ sr⁻¹ 0.0f0 erg Hz⁻¹ cm⁻² s⁻¹ sr⁻¹; 0.0f0 erg Hz⁻¹ cm⁻² s⁻¹ sr⁻¹ 0.0f0 erg Hz⁻¹ cm⁻² s⁻¹ sr⁻¹ … 0.0f0 erg Hz⁻¹ cm⁻² s⁻¹ sr⁻¹ 0.0f0 erg Hz⁻¹ cm⁻² s⁻¹ sr⁻¹;;; 0.0f0 erg Hz⁻¹ cm⁻² s⁻¹ sr⁻¹ 0.0f0 erg Hz⁻¹ cm⁻² s⁻¹ sr⁻¹ … 0.0f0 erg Hz⁻¹ cm⁻² s⁻¹ sr⁻¹ 0.0f0 erg Hz⁻¹ cm⁻² s⁻¹ sr⁻¹; 0.0f0 erg Hz⁻¹ cm⁻² s⁻¹ sr⁻¹ 0.0f0 erg Hz⁻¹ cm⁻² s⁻¹ sr⁻¹ … 0.0f0 erg Hz⁻¹ cm⁻² s⁻¹ sr⁻¹ 0.0f0 erg Hz⁻¹ cm⁻² s⁻¹ sr⁻¹; … ; 0.0f0 erg Hz⁻¹ cm⁻² s⁻¹ sr⁻¹ 0.0f0 erg Hz⁻¹ cm⁻² s⁻¹ sr⁻¹ … 0.0f0 erg Hz⁻¹ cm⁻² s⁻¹ sr⁻¹ 0.0f0 erg Hz⁻¹ cm⁻² s⁻¹ sr⁻¹; 0.0f0 erg Hz⁻¹ cm⁻² s⁻¹ sr⁻¹ 0.0f0 erg Hz⁻¹ cm⁻² s⁻¹ sr⁻¹ … 0.0f0 erg Hz⁻¹ cm⁻² s⁻¹ sr⁻¹ 0.0f0 erg Hz⁻¹ cm⁻² s⁻¹ sr⁻¹;;;; 0.0f0 erg Hz⁻¹ cm⁻² s⁻¹ sr⁻¹ 0.0f0 erg Hz⁻¹ cm⁻² s⁻¹ sr⁻¹ … 0.0f0 erg Hz⁻¹ cm⁻² s⁻¹ sr⁻¹ 0.0f0 erg Hz⁻¹ cm⁻² s⁻¹ sr⁻¹; 0.0f0 erg Hz⁻¹ cm⁻² s⁻¹ sr⁻¹ 0.0f0 erg Hz⁻¹ cm⁻² s⁻¹ sr⁻¹ … 0.0f0 erg Hz⁻¹ cm⁻² s⁻¹ sr⁻¹ 0.0f0 erg Hz⁻¹ cm⁻² s⁻¹ sr⁻¹; … ; 0.0f0 erg Hz⁻¹ cm⁻² s⁻¹ sr⁻¹ 0.0f0 erg Hz⁻¹ cm⁻² s⁻¹ sr⁻¹ … 0.0f0 erg Hz⁻¹ cm⁻² s⁻¹ sr⁻¹ 0.0f0 erg Hz⁻¹ cm⁻² s⁻¹ sr⁻¹; 0.0f0 erg Hz⁻¹ cm⁻² s⁻¹ sr⁻¹ 0.0f0 erg Hz⁻¹ cm⁻² s⁻¹ sr⁻¹ … 0.0f0 erg Hz⁻¹ cm⁻² s⁻¹ sr⁻¹ 0.0f0 erg Hz⁻¹ cm⁻² s⁻¹ sr⁻¹;;; 0.0f0 erg Hz⁻¹ cm⁻² s⁻¹ sr⁻¹ 0.0f0 erg Hz⁻¹ cm⁻² s⁻¹ sr⁻¹ … 0.0f0 erg Hz⁻¹ cm⁻² s⁻¹ sr⁻¹ 0.0f0 erg Hz⁻¹ cm⁻² s⁻¹ sr⁻¹; 0.0f0 erg Hz⁻¹ cm⁻² s⁻¹ sr⁻¹ 0.0f0 erg Hz⁻¹ cm⁻² s⁻¹ sr⁻¹ … 0.0f0 erg Hz⁻¹ cm⁻² s⁻¹ sr⁻¹ 0.0f0 erg Hz⁻¹ cm⁻² s⁻¹ sr⁻¹; … ; 0.0f0 erg Hz⁻¹ cm⁻² s⁻¹ sr⁻¹ 0.0f0 erg Hz⁻¹ cm⁻² s⁻¹ sr⁻¹ … 0.0f0 erg Hz⁻¹ cm⁻² s⁻¹ sr⁻¹ 0.0f0 erg Hz⁻¹ cm⁻² s⁻¹ sr⁻¹; 0.0f0 erg Hz⁻¹ cm⁻² s⁻¹ sr⁻¹ 0.0f0 erg Hz⁻¹ cm⁻² s⁻¹ sr⁻¹ … 0.0f0 erg Hz⁻¹ cm⁻² s⁻¹ sr⁻¹ 0.0f0 erg Hz⁻¹ cm⁻² s⁻¹ sr⁻¹;;; 0.0f0 erg Hz⁻¹ cm⁻² s⁻¹ sr⁻¹ 0.0f0 erg Hz⁻¹ cm⁻² s⁻¹ sr⁻¹ … 0.0f0 erg Hz⁻¹ cm⁻² s⁻¹ sr⁻¹ 0.0f0 erg Hz⁻¹ cm⁻² s⁻¹ sr⁻¹; 0.0f0 erg Hz⁻¹ cm⁻² s⁻¹ sr⁻¹ 0.0f0 erg Hz⁻¹ cm⁻² s⁻¹ sr⁻¹ … 0.0f0 erg Hz⁻¹ cm⁻² s⁻¹ sr⁻¹ 0.0f0 erg Hz⁻¹ cm⁻² s⁻¹ sr⁻¹; … ; 0.0f0 erg Hz⁻¹ cm⁻² s⁻¹ sr⁻¹ 0.0f0 erg Hz⁻¹ cm⁻² s⁻¹ sr⁻¹ … 0.0f0 erg Hz⁻¹ cm⁻² s⁻¹ sr⁻¹ 0.0f0 erg Hz⁻¹ cm⁻² s⁻¹ sr⁻¹; 0.0f0 erg Hz⁻¹ cm⁻² s⁻¹ sr⁻¹ 0.0f0 erg Hz⁻¹ cm⁻² s⁻¹ sr⁻¹ … 0.0f0 erg Hz⁻¹ cm⁻² s⁻¹ sr⁻¹ 0.0f0 erg Hz⁻¹ cm⁻² s⁻¹ sr⁻¹;;; … ;;; 0.0f0 erg Hz⁻¹ cm⁻² s⁻¹ sr⁻¹ 0.0f0 erg Hz⁻¹ cm⁻² s⁻¹ sr⁻¹ … 0.0f0 erg Hz⁻¹ cm⁻² s⁻¹ sr⁻¹ 0.0f0 erg Hz⁻¹ cm⁻² s⁻¹ sr⁻¹; 0.0f0 erg Hz⁻¹ cm⁻² s⁻¹ sr⁻¹ 0.0f0 erg Hz⁻¹ cm⁻² s⁻¹ sr⁻¹ … 0.0f0 erg Hz⁻¹ cm⁻² s⁻¹ sr⁻¹ 0.0f0 erg Hz⁻¹ cm⁻² s⁻¹ sr⁻¹; … ; 0.0f0 erg Hz⁻¹ cm⁻² s⁻¹ sr⁻¹ 0.0f0 erg Hz⁻¹ cm⁻² s⁻¹ sr⁻¹ … 0.0f0 erg Hz⁻¹ cm⁻² s⁻¹ sr⁻¹ 0.0f0 erg Hz⁻¹ cm⁻² s⁻¹ sr⁻¹; 0.0f0 erg Hz⁻¹ cm⁻² s⁻¹ sr⁻¹ 0.0f0 erg Hz⁻¹ cm⁻² s⁻¹ sr⁻¹ … 0.0f0 erg Hz⁻¹ cm⁻² s⁻¹ sr⁻¹ 0.0f0 erg Hz⁻¹ cm⁻² s⁻¹ sr⁻¹;;; 0.0f0 erg Hz⁻¹ cm⁻² s⁻¹ sr⁻¹ 0.0f0 erg Hz⁻¹ cm⁻² s⁻¹ sr⁻¹ … 0.0f0 erg Hz⁻¹ cm⁻² s⁻¹ sr⁻¹ 0.0f0 erg Hz⁻¹ cm⁻² s⁻¹ sr⁻¹; 0.0f0 erg Hz⁻¹ cm⁻² s⁻¹ sr⁻¹ 0.0f0 erg Hz⁻¹ cm⁻² s⁻¹ sr⁻¹ … 0.0f0 erg Hz⁻¹ cm⁻² s⁻¹ sr⁻¹ 0.0f0 erg Hz⁻¹ cm⁻² s⁻¹ sr⁻¹; … ; 0.0f0 erg Hz⁻¹ cm⁻² s⁻¹ sr⁻¹ 0.0f0 erg Hz⁻¹ cm⁻² s⁻¹ sr⁻¹ … 0.0f0 erg Hz⁻¹ cm⁻² s⁻¹ sr⁻¹ 0.0f0 erg Hz⁻¹ cm⁻² s⁻¹ sr⁻¹; 0.0f0 erg Hz⁻¹ cm⁻² s⁻¹ sr⁻¹ 0.0f0 erg Hz⁻¹ cm⁻² s⁻¹ sr⁻¹ … 0.0f0 erg Hz⁻¹ cm⁻² s⁻¹ sr⁻¹ 0.0f0 erg Hz⁻¹ cm⁻² s⁻¹ sr⁻¹;;; 0.0f0 erg Hz⁻¹ cm⁻² s⁻¹ sr⁻¹ 0.0f0 erg Hz⁻¹ cm⁻² s⁻¹ sr⁻¹ … 0.0f0 erg Hz⁻¹ cm⁻² s⁻¹ sr⁻¹ 0.0f0 erg Hz⁻¹ cm⁻² s⁻¹ sr⁻¹; 0.0f0 erg Hz⁻¹ cm⁻² s⁻¹ sr⁻¹ 0.0f0 erg Hz⁻¹ cm⁻² s⁻¹ sr⁻¹ … 0.0f0 erg Hz⁻¹ cm⁻² s⁻¹ sr⁻¹ 0.0f0 erg Hz⁻¹ cm⁻² s⁻¹ sr⁻¹; … ; 0.0f0 erg Hz⁻¹ cm⁻² s⁻¹ sr⁻¹ 0.0f0 erg Hz⁻¹ cm⁻² s⁻¹ sr⁻¹ … 0.0f0 erg Hz⁻¹ cm⁻² s⁻¹ sr⁻¹ 0.0f0 erg Hz⁻¹ cm⁻² s⁻¹ sr⁻¹; 0.0f0 erg Hz⁻¹ cm⁻² s⁻¹ sr⁻¹ 0.0f0 erg Hz⁻¹ cm⁻² s⁻¹ sr⁻¹ … 0.0f0 erg Hz⁻¹ cm⁻² s⁻¹ sr⁻¹ 0.0f0 erg Hz⁻¹ cm⁻² s⁻¹ sr⁻¹;;;; 0.0f0 erg Hz⁻¹ cm⁻² s⁻¹ sr⁻¹ 0.0f0 erg Hz⁻¹ cm⁻² s⁻¹ sr⁻¹ … 0.0f0 erg Hz⁻¹ cm⁻² s⁻¹ sr⁻¹ 0.0f0 erg Hz⁻¹ cm⁻² s⁻¹ sr⁻¹; 0.0f0 erg Hz⁻¹ cm⁻² s⁻¹ sr⁻¹ 0.0f0 erg Hz⁻¹ cm⁻² s⁻¹ sr⁻¹ … 0.0f0 erg Hz⁻¹ cm⁻² s⁻¹ sr⁻¹ 0.0f0 erg Hz⁻¹ cm⁻² s⁻¹ sr⁻¹; … ; 0.0f0 erg Hz⁻¹ cm⁻² s⁻¹ sr⁻¹ 0.0f0 erg Hz⁻¹ cm⁻² s⁻¹ sr⁻¹ … 0.0f0 erg Hz⁻¹ cm⁻² s⁻¹ sr⁻¹ 0.0f0 erg Hz⁻¹ cm⁻² s⁻¹ sr⁻¹; 0.0f0 erg Hz⁻¹ cm⁻² s⁻¹ sr⁻¹ 0.0f0 erg Hz⁻¹ cm⁻² s⁻¹ sr⁻¹ … 0.0f0 erg Hz⁻¹ cm⁻² s⁻¹ sr⁻¹ 0.0f0 erg Hz⁻¹ cm⁻² s⁻¹ sr⁻¹;;; 0.0f0 erg Hz⁻¹ cm⁻² s⁻¹ sr⁻¹ 0.0f0 erg Hz⁻¹ cm⁻² s⁻¹ sr⁻¹ … 0.0f0 erg Hz⁻¹ cm⁻² s⁻¹ sr⁻¹ 0.0f0 erg Hz⁻¹ cm⁻² s⁻¹ sr⁻¹; 0.0f0 erg Hz⁻¹ cm⁻² s⁻¹ sr⁻¹ 0.0f0 erg Hz⁻¹ cm⁻² s⁻¹ sr⁻¹ … 0.0f0 erg Hz⁻¹ cm⁻² s⁻¹ sr⁻¹ 0.0f0 erg Hz⁻¹ cm⁻² s⁻¹ sr⁻¹; … ; 0.0f0 erg Hz⁻¹ cm⁻² s⁻¹ sr⁻¹ 0.0f0 erg Hz⁻¹ cm⁻² s⁻¹ sr⁻¹ … 0.0f0 erg Hz⁻¹ cm⁻² s⁻¹ sr⁻¹ 0.0f0 erg Hz⁻¹ cm⁻² s⁻¹ sr⁻¹; 0.0f0 erg Hz⁻¹ cm⁻² s⁻¹ sr⁻¹ 0.0f0 erg Hz⁻¹ cm⁻² s⁻¹ sr⁻¹ … 0.0f0 erg Hz⁻¹ cm⁻² s⁻¹ sr⁻¹ 0.0f0 erg Hz⁻¹ cm⁻² s⁻¹ sr⁻¹;;; 0.0f0 erg Hz⁻¹ cm⁻² s⁻¹ sr⁻¹ 0.0f0 erg Hz⁻¹ cm⁻² s⁻¹ sr⁻¹ … 0.0f0 erg Hz⁻¹ cm⁻² s⁻¹ sr⁻¹ 0.0f0 erg Hz⁻¹ cm⁻² s⁻¹ sr⁻¹; 0.0f0 erg Hz⁻¹ cm⁻² s⁻¹ sr⁻¹ 0.0f0 erg Hz⁻¹ cm⁻² s⁻¹ sr⁻¹ … 0.0f0 erg Hz⁻¹ cm⁻² s⁻¹ sr⁻¹ 0.0f0 erg Hz⁻¹ cm⁻² s⁻¹ sr⁻¹; … ; 0.0f0 erg Hz⁻¹ cm⁻² s⁻¹ sr⁻¹ 0.0f0 erg Hz⁻¹ cm⁻² s⁻¹ sr⁻¹ … 0.0f0 erg Hz⁻¹ cm⁻² s⁻¹ sr⁻¹ 0.0f0 erg Hz⁻¹ cm⁻² s⁻¹ sr⁻¹; 0.0f0 erg Hz⁻¹ cm⁻² s⁻¹ sr⁻¹ 0.0f0 erg Hz⁻¹ cm⁻² s⁻¹ sr⁻¹ … 0.0f0 erg Hz⁻¹ cm⁻² s⁻¹ sr⁻¹ 0.0f0 erg Hz⁻¹ cm⁻² s⁻¹ sr⁻¹;;; … ;;; 0.0f0 erg Hz⁻¹ cm⁻² s⁻¹ sr⁻¹ 0.0f0 erg Hz⁻¹ cm⁻² s⁻¹ sr⁻¹ … 0.0f0 erg Hz⁻¹ cm⁻² s⁻¹ sr⁻¹ 0.0f0 erg Hz⁻¹ cm⁻² s⁻¹ sr⁻¹; 0.0f0 erg Hz⁻¹ cm⁻² s⁻¹ sr⁻¹ 0.0f0 erg Hz⁻¹ cm⁻² s⁻¹ sr⁻¹ … 0.0f0 erg Hz⁻¹ cm⁻² s⁻¹ sr⁻¹ 0.0f0 erg Hz⁻¹ cm⁻² s⁻¹ sr⁻¹; … ; 0.0f0 erg Hz⁻¹ cm⁻² s⁻¹ sr⁻¹ 0.0f0 erg Hz⁻¹ cm⁻² s⁻¹ sr⁻¹ … 0.0f0 erg Hz⁻¹ cm⁻² s⁻¹ sr⁻¹ 0.0f0 erg Hz⁻¹ cm⁻² s⁻¹ sr⁻¹; 0.0f0 erg Hz⁻¹ cm⁻² s⁻¹ sr⁻¹ 0.0f0 erg Hz⁻¹ cm⁻² s⁻¹ sr⁻¹ … 0.0f0 erg Hz⁻¹ cm⁻² s⁻¹ sr⁻¹ 0.0f0 erg Hz⁻¹ cm⁻² s⁻¹ sr⁻¹;;; 0.0f0 erg Hz⁻¹ cm⁻² s⁻¹ sr⁻¹ 0.0f0 erg Hz⁻¹ cm⁻² s⁻¹ sr⁻¹ … 0.0f0 erg Hz⁻¹ cm⁻² s⁻¹ sr⁻¹ 0.0f0 erg Hz⁻¹ cm⁻² s⁻¹ sr⁻¹; 0.0f0 erg Hz⁻¹ cm⁻² s⁻¹ sr⁻¹ 0.0f0 erg Hz⁻¹ cm⁻² s⁻¹ sr⁻¹ … 0.0f0 erg Hz⁻¹ cm⁻² s⁻¹ sr⁻¹ 0.0f0 erg Hz⁻¹ cm⁻² s⁻¹ sr⁻¹; … ; 0.0f0 erg Hz⁻¹ cm⁻² s⁻¹ sr⁻¹ 0.0f0 erg Hz⁻¹ cm⁻² s⁻¹ sr⁻¹ … 0.0f0 erg Hz⁻¹ cm⁻² s⁻¹ sr⁻¹ 0.0f0 erg Hz⁻¹ cm⁻² s⁻¹ sr⁻¹; 0.0f0 erg Hz⁻¹ cm⁻² s⁻¹ sr⁻¹ 0.0f0 erg Hz⁻¹ cm⁻² s⁻¹ sr⁻¹ … 0.0f0 erg Hz⁻¹ cm⁻² s⁻¹ sr⁻¹ 0.0f0 erg Hz⁻¹ cm⁻² s⁻¹ sr⁻¹;;; 0.0f0 erg Hz⁻¹ cm⁻² s⁻¹ sr⁻¹ 0.0f0 erg Hz⁻¹ cm⁻² s⁻¹ sr⁻¹ … 0.0f0 erg Hz⁻¹ cm⁻² s⁻¹ sr⁻¹ 0.0f0 erg Hz⁻¹ cm⁻² s⁻¹ sr⁻¹; 0.0f0 erg Hz⁻¹ cm⁻² s⁻¹ sr⁻¹ 0.0f0 erg Hz⁻¹ cm⁻² s⁻¹ sr⁻¹ … 0.0f0 erg Hz⁻¹ cm⁻² s⁻¹ sr⁻¹ 0.0f0 erg Hz⁻¹ cm⁻² s⁻¹ sr⁻¹; … ; 0.0f0 erg Hz⁻¹ cm⁻² s⁻¹ sr⁻¹ 0.0f0 erg Hz⁻¹ cm⁻² s⁻¹ sr⁻¹ … 0.0f0 erg Hz⁻¹ cm⁻² s⁻¹ sr⁻¹ 0.0f0 erg Hz⁻¹ cm⁻² s⁻¹ sr⁻¹; 0.0f0 erg Hz⁻¹ cm⁻² s⁻¹ sr⁻¹ 0.0f0 erg Hz⁻¹ cm⁻² s⁻¹ sr⁻¹ … 0.0f0 erg Hz⁻¹ cm⁻² s⁻¹ sr⁻¹ 0.0f0 erg Hz⁻¹ cm⁻² s⁻¹ sr⁻¹;;;; … ;;;; 0.0f0 erg Hz⁻¹ cm⁻² s⁻¹ sr⁻¹ 0.0f0 erg Hz⁻¹ cm⁻² s⁻¹ sr⁻¹ … 0.0f0 erg Hz⁻¹ cm⁻² s⁻¹ sr⁻¹ 0.0f0 erg Hz⁻¹ cm⁻² s⁻¹ sr⁻¹; 0.0f0 erg Hz⁻¹ cm⁻² s⁻¹ sr⁻¹ 0.0f0 erg Hz⁻¹ cm⁻² s⁻¹ sr⁻¹ … 0.0f0 erg Hz⁻¹ cm⁻² s⁻¹ sr⁻¹ 0.0f0 erg Hz⁻¹ cm⁻² s⁻¹ sr⁻¹; … ; 0.0f0 erg Hz⁻¹ cm⁻² s⁻¹ sr⁻¹ 0.0f0 erg Hz⁻¹ cm⁻² s⁻¹ sr⁻¹ … 0.0f0 erg Hz⁻¹ cm⁻² s⁻¹ sr⁻¹ 0.0f0 erg Hz⁻¹ cm⁻² s⁻¹ sr⁻¹; 0.0f0 erg Hz⁻¹ cm⁻² s⁻¹ sr⁻¹ 0.0f0 erg Hz⁻¹ cm⁻² s⁻¹ sr⁻¹ … 0.0f0 erg Hz⁻¹ cm⁻² s⁻¹ sr⁻¹ 0.0f0 erg Hz⁻¹ cm⁻² s⁻¹ sr⁻¹;;; 0.0f0 erg Hz⁻¹ cm⁻² s⁻¹ sr⁻¹ 0.0f0 erg Hz⁻¹ cm⁻² s⁻¹ sr⁻¹ … 0.0f0 erg Hz⁻¹ cm⁻² s⁻¹ sr⁻¹ 0.0f0 erg Hz⁻¹ cm⁻² s⁻¹ sr⁻¹; 0.0f0 erg Hz⁻¹ cm⁻² s⁻¹ sr⁻¹ 0.0f0 erg Hz⁻¹ cm⁻² s⁻¹ sr⁻¹ … 0.0f0 erg Hz⁻¹ cm⁻² s⁻¹ sr⁻¹ 0.0f0 erg Hz⁻¹ cm⁻² s⁻¹ sr⁻¹; … ; 0.0f0 erg Hz⁻¹ cm⁻² s⁻¹ sr⁻¹ 0.0f0 erg Hz⁻¹ cm⁻² s⁻¹ sr⁻¹ … 0.0f0 erg Hz⁻¹ cm⁻² s⁻¹ sr⁻¹ 0.0f0 erg Hz⁻¹ cm⁻² s⁻¹ sr⁻¹; 0.0f0 erg Hz⁻¹ cm⁻² s⁻¹ sr⁻¹ 0.0f0 erg Hz⁻¹ cm⁻² s⁻¹ sr⁻¹ … 0.0f0 erg Hz⁻¹ cm⁻² s⁻¹ sr⁻¹ 0.0f0 erg Hz⁻¹ cm⁻² s⁻¹ sr⁻¹;;; 0.0f0 erg Hz⁻¹ cm⁻² s⁻¹ sr⁻¹ 0.0f0 erg Hz⁻¹ cm⁻² s⁻¹ sr⁻¹ … 0.0f0 erg Hz⁻¹ cm⁻² s⁻¹ sr⁻¹ 0.0f0 erg Hz⁻¹ cm⁻² s⁻¹ sr⁻¹; 0.0f0 erg Hz⁻¹ cm⁻² s⁻¹ sr⁻¹ 0.0f0 erg Hz⁻¹ cm⁻² s⁻¹ sr⁻¹ … 0.0f0 erg Hz⁻¹ cm⁻² s⁻¹ sr⁻¹ 0.0f0 erg Hz⁻¹ cm⁻² s⁻¹ sr⁻¹; … ; 0.0f0 erg Hz⁻¹ cm⁻² s⁻¹ sr⁻¹ 0.0f0 erg Hz⁻¹ cm⁻² s⁻¹ sr⁻¹ … 0.0f0 erg Hz⁻¹ cm⁻² s⁻¹ sr⁻¹ 0.0f0 erg Hz⁻¹ cm⁻² s⁻¹ sr⁻¹; 0.0f0 erg Hz⁻¹ cm⁻² s⁻¹ sr⁻¹ 0.0f0 erg Hz⁻¹ cm⁻² s⁻¹ sr⁻¹ … 0.0f0 erg Hz⁻¹ cm⁻² s⁻¹ sr⁻¹ 0.0f0 erg Hz⁻¹ cm⁻² s⁻¹ sr⁻¹;;; … ;;; 0.0f0 erg Hz⁻¹ cm⁻² s⁻¹ sr⁻¹ 0.0f0 erg Hz⁻¹ cm⁻² s⁻¹ sr⁻¹ … 0.0f0 erg Hz⁻¹ cm⁻² s⁻¹ sr⁻¹ 0.0f0 erg Hz⁻¹ cm⁻² s⁻¹ sr⁻¹; 0.0f0 erg Hz⁻¹ cm⁻² s⁻¹ sr⁻¹ 0.0f0 erg Hz⁻¹ cm⁻² s⁻¹ sr⁻¹ … 0.0f0 erg Hz⁻¹ cm⁻² s⁻¹ sr⁻¹ 0.0f0 erg Hz⁻¹ cm⁻² s⁻¹ sr⁻¹; … ; 0.0f0 erg Hz⁻¹ cm⁻² s⁻¹ sr⁻¹ 0.0f0 erg Hz⁻¹ cm⁻² s⁻¹ sr⁻¹ … 0.0f0 erg Hz⁻¹ cm⁻² s⁻¹ sr⁻¹ 0.0f0 erg Hz⁻¹ cm⁻² s⁻¹ sr⁻¹; 0.0f0 erg Hz⁻¹ cm⁻² s⁻¹ sr⁻¹ 0.0f0 erg Hz⁻¹ cm⁻² s⁻¹ sr⁻¹ … 0.0f0 erg Hz⁻¹ cm⁻² s⁻¹ sr⁻¹ 0.0f0 erg Hz⁻¹ cm⁻² s⁻¹ sr⁻¹;;; 0.0f0 erg Hz⁻¹ cm⁻² s⁻¹ sr⁻¹ 0.0f0 erg Hz⁻¹ cm⁻² s⁻¹ sr⁻¹ … 0.0f0 erg Hz⁻¹ cm⁻² s⁻¹ sr⁻¹ 0.0f0 erg Hz⁻¹ cm⁻² s⁻¹ sr⁻¹; 0.0f0 erg Hz⁻¹ cm⁻² s⁻¹ sr⁻¹ 0.0f0 erg Hz⁻¹ cm⁻² s⁻¹ sr⁻¹ … 0.0f0 erg Hz⁻¹ cm⁻² s⁻¹ sr⁻¹ 0.0f0 erg Hz⁻¹ cm⁻² s⁻¹ sr⁻¹; … ; 0.0f0 erg Hz⁻¹ cm⁻² s⁻¹ sr⁻¹ 0.0f0 erg Hz⁻¹ cm⁻² s⁻¹ sr⁻¹ … 0.0f0 erg Hz⁻¹ cm⁻² s⁻¹ sr⁻¹ 0.0f0 erg Hz⁻¹ cm⁻² s⁻¹ sr⁻¹; 0.0f0 erg Hz⁻¹ cm⁻² s⁻¹ sr⁻¹ 0.0f0 erg Hz⁻¹ cm⁻² s⁻¹ sr⁻¹ … 0.0f0 erg Hz⁻¹ cm⁻² s⁻¹ sr⁻¹ 0.0f0 erg Hz⁻¹ cm⁻² s⁻¹ sr⁻¹;;; 0.0f0 erg Hz⁻¹ cm⁻² s⁻¹ sr⁻¹ 0.0f0 erg Hz⁻¹ cm⁻² s⁻¹ sr⁻¹ … 0.0f0 erg Hz⁻¹ cm⁻² s⁻¹ sr⁻¹ 0.0f0 erg Hz⁻¹ cm⁻² s⁻¹ sr⁻¹; 0.0f0 erg Hz⁻¹ cm⁻² s⁻¹ sr⁻¹ 0.0f0 erg Hz⁻¹ cm⁻² s⁻¹ sr⁻¹ … 0.0f0 erg Hz⁻¹ cm⁻² s⁻¹ sr⁻¹ 0.0f0 erg Hz⁻¹ cm⁻² s⁻¹ sr⁻¹; … ; 0.0f0 erg Hz⁻¹ cm⁻² s⁻¹ sr⁻¹ 0.0f0 erg Hz⁻¹ cm⁻² s⁻¹ sr⁻¹ … 0.0f0 erg Hz⁻¹ cm⁻² s⁻¹ sr⁻¹ 0.0f0 erg Hz⁻¹ cm⁻² s⁻¹ sr⁻¹; 0.0f0 erg Hz⁻¹ cm⁻² s⁻¹ sr⁻¹ 0.0f0 erg Hz⁻¹ cm⁻² s⁻¹ sr⁻¹ … 0.0f0 erg Hz⁻¹ cm⁻² s⁻¹ sr⁻¹ 0.0f0 erg Hz⁻¹ cm⁻² s⁻¹ sr⁻¹;;;; 0.0f0 erg Hz⁻¹ cm⁻² s⁻¹ sr⁻¹ 0.0f0 erg Hz⁻¹ cm⁻² s⁻¹ sr⁻¹ … 0.0f0 erg Hz⁻¹ cm⁻² s⁻¹ sr⁻¹ 0.0f0 erg Hz⁻¹ cm⁻² s⁻¹ sr⁻¹; 0.0f0 erg Hz⁻¹ cm⁻² s⁻¹ sr⁻¹ 0.0f0 erg Hz⁻¹ cm⁻² s⁻¹ sr⁻¹ … 0.0f0 erg Hz⁻¹ cm⁻² s⁻¹ sr⁻¹ 0.0f0 erg Hz⁻¹ cm⁻² s⁻¹ sr⁻¹; … ; 0.0f0 erg Hz⁻¹ cm⁻² s⁻¹ sr⁻¹ 0.0f0 erg Hz⁻¹ cm⁻² s⁻¹ sr⁻¹ … 0.0f0 erg Hz⁻¹ cm⁻² s⁻¹ sr⁻¹ 0.0f0 erg Hz⁻¹ cm⁻² s⁻¹ sr⁻¹; 0.0f0 erg Hz⁻¹ cm⁻² s⁻¹ sr⁻¹ 0.0f0 erg Hz⁻¹ cm⁻² s⁻¹ sr⁻¹ … 0.0f0 erg Hz⁻¹ cm⁻² s⁻¹ sr⁻¹ 0.0f0 erg Hz⁻¹ cm⁻² s⁻¹ sr⁻¹;;; 0.0f0 erg Hz⁻¹ cm⁻² s⁻¹ sr⁻¹ 0.0f0 erg Hz⁻¹ cm⁻² s⁻¹ sr⁻¹ … 0.0f0 erg Hz⁻¹ cm⁻² s⁻¹ sr⁻¹ 0.0f0 erg Hz⁻¹ cm⁻² s⁻¹ sr⁻¹; 0.0f0 erg Hz⁻¹ cm⁻² s⁻¹ sr⁻¹ 0.0f0 erg Hz⁻¹ cm⁻² s⁻¹ sr⁻¹ … 0.0f0 erg Hz⁻¹ cm⁻² s⁻¹ sr⁻¹ 0.0f0 erg Hz⁻¹ cm⁻² s⁻¹ sr⁻¹; … ; 0.0f0 erg Hz⁻¹ cm⁻² s⁻¹ sr⁻¹ 0.0f0 erg Hz⁻¹ cm⁻² s⁻¹ sr⁻¹ … 0.0f0 erg Hz⁻¹ cm⁻² s⁻¹ sr⁻¹ 0.0f0 erg Hz⁻¹ cm⁻² s⁻¹ sr⁻¹; 0.0f0 erg Hz⁻¹ cm⁻² s⁻¹ sr⁻¹ 0.0f0 erg Hz⁻¹ cm⁻² s⁻¹ sr⁻¹ … 0.0f0 erg Hz⁻¹ cm⁻² s⁻¹ sr⁻¹ 0.0f0 erg Hz⁻¹ cm⁻² s⁻¹ sr⁻¹;;; 0.0f0 erg Hz⁻¹ cm⁻² s⁻¹ sr⁻¹ 0.0f0 erg Hz⁻¹ cm⁻² s⁻¹ sr⁻¹ … 0.0f0 erg Hz⁻¹ cm⁻² s⁻¹ sr⁻¹ 0.0f0 erg Hz⁻¹ cm⁻² s⁻¹ sr⁻¹; 0.0f0 erg Hz⁻¹ cm⁻² s⁻¹ sr⁻¹ 0.0f0 erg Hz⁻¹ cm⁻² s⁻¹ sr⁻¹ … 0.0f0 erg Hz⁻¹ cm⁻² s⁻¹ sr⁻¹ 0.0f0 erg Hz⁻¹ cm⁻² s⁻¹ sr⁻¹; … ; 0.0f0 erg Hz⁻¹ cm⁻² s⁻¹ sr⁻¹ 0.0f0 erg Hz⁻¹ cm⁻² s⁻¹ sr⁻¹ … 0.0f0 erg Hz⁻¹ cm⁻² s⁻¹ sr⁻¹ 0.0f0 erg Hz⁻¹ cm⁻² s⁻¹ sr⁻¹; 0.0f0 erg Hz⁻¹ cm⁻² s⁻¹ sr⁻¹ 0.0f0 erg Hz⁻¹ cm⁻² s⁻¹ sr⁻¹ … 0.0f0 erg Hz⁻¹ cm⁻² s⁻¹ sr⁻¹ 0.0f0 erg Hz⁻¹ cm⁻² s⁻¹ sr⁻¹;;; … ;;; 0.0f0 erg Hz⁻¹ cm⁻² s⁻¹ sr⁻¹ 0.0f0 erg Hz⁻¹ cm⁻² s⁻¹ sr⁻¹ … 0.0f0 erg Hz⁻¹ cm⁻² s⁻¹ sr⁻¹ 0.0f0 erg Hz⁻¹ cm⁻² s⁻¹ sr⁻¹; 0.0f0 erg Hz⁻¹ cm⁻² s⁻¹ sr⁻¹ 0.0f0 erg Hz⁻¹ cm⁻² s⁻¹ sr⁻¹ … 0.0f0 erg Hz⁻¹ cm⁻² s⁻¹ sr⁻¹ 0.0f0 erg Hz⁻¹ cm⁻² s⁻¹ sr⁻¹; … ; 0.0f0 erg Hz⁻¹ cm⁻² s⁻¹ sr⁻¹ 0.0f0 erg Hz⁻¹ cm⁻² s⁻¹ sr⁻¹ … 0.0f0 erg Hz⁻¹ cm⁻² s⁻¹ sr⁻¹ 0.0f0 erg Hz⁻¹ cm⁻² s⁻¹ sr⁻¹; 0.0f0 erg Hz⁻¹ cm⁻² s⁻¹ sr⁻¹ 0.0f0 erg Hz⁻¹ cm⁻² s⁻¹ sr⁻¹ … 0.0f0 erg Hz⁻¹ cm⁻² s⁻¹ sr⁻¹ 0.0f0 erg Hz⁻¹ cm⁻² s⁻¹ sr⁻¹;;; 0.0f0 erg Hz⁻¹ cm⁻² s⁻¹ sr⁻¹ 0.0f0 erg Hz⁻¹ cm⁻² s⁻¹ sr⁻¹ … 0.0f0 erg Hz⁻¹ cm⁻² s⁻¹ sr⁻¹ 0.0f0 erg Hz⁻¹ cm⁻² s⁻¹ sr⁻¹; 0.0f0 erg Hz⁻¹ cm⁻² s⁻¹ sr⁻¹ 0.0f0 erg Hz⁻¹ cm⁻² s⁻¹ sr⁻¹ … 0.0f0 erg Hz⁻¹ cm⁻² s⁻¹ sr⁻¹ 0.0f0 erg Hz⁻¹ cm⁻² s⁻¹ sr⁻¹; … ; 0.0f0 erg Hz⁻¹ cm⁻² s⁻¹ sr⁻¹ 0.0f0 erg Hz⁻¹ cm⁻² s⁻¹ sr⁻¹ … 0.0f0 erg Hz⁻¹ cm⁻² s⁻¹ sr⁻¹ 0.0f0 erg Hz⁻¹ cm⁻² s⁻¹ sr⁻¹; 0.0f0 erg Hz⁻¹ cm⁻² s⁻¹ sr⁻¹ 0.0f0 erg Hz⁻¹ cm⁻² s⁻¹ sr⁻¹ … 0.0f0 erg Hz⁻¹ cm⁻² s⁻¹ sr⁻¹ 0.0f0 erg Hz⁻¹ cm⁻² s⁻¹ sr⁻¹;;; 0.0f0 erg Hz⁻¹ cm⁻² s⁻¹ sr⁻¹ 0.0f0 erg Hz⁻¹ cm⁻² s⁻¹ sr⁻¹ … 0.0f0 erg Hz⁻¹ cm⁻² s⁻¹ sr⁻¹ 0.0f0 erg Hz⁻¹ cm⁻² s⁻¹ sr⁻¹; 0.0f0 erg Hz⁻¹ cm⁻² s⁻¹ sr⁻¹ 0.0f0 erg Hz⁻¹ cm⁻² s⁻¹ sr⁻¹ … 0.0f0 erg Hz⁻¹ cm⁻² s⁻¹ sr⁻¹ 0.0f0 erg Hz⁻¹ cm⁻² s⁻¹ sr⁻¹; … ; 0.0f0 erg Hz⁻¹ cm⁻² s⁻¹ sr⁻¹ 0.0f0 erg Hz⁻¹ cm⁻² s⁻¹ sr⁻¹ … 0.0f0 erg Hz⁻¹ cm⁻² s⁻¹ sr⁻¹ 0.0f0 erg Hz⁻¹ cm⁻² s⁻¹ sr⁻¹; 0.0f0 erg Hz⁻¹ cm⁻² s⁻¹ sr⁻¹ 0.0f0 erg Hz⁻¹ cm⁻² s⁻¹ sr⁻¹ … 0.0f0 erg Hz⁻¹ cm⁻² s⁻¹ sr⁻¹ 0.0f0 erg Hz⁻¹ cm⁻² s⁻¹ sr⁻¹;;;; 0.0f0 erg Hz⁻¹ cm⁻² s⁻¹ sr⁻¹ 0.0f0 erg Hz⁻¹ cm⁻² s⁻¹ sr⁻¹ … 0.0f0 erg Hz⁻¹ cm⁻² s⁻¹ sr⁻¹ 0.0f0 erg Hz⁻¹ cm⁻² s⁻¹ sr⁻¹; 0.0f0 erg Hz⁻¹ cm⁻² s⁻¹ sr⁻¹ 0.0f0 erg Hz⁻¹ cm⁻² s⁻¹ sr⁻¹ … 0.0f0 erg Hz⁻¹ cm⁻² s⁻¹ sr⁻¹ 0.0f0 erg Hz⁻¹ cm⁻² s⁻¹ sr⁻¹; … ; 0.0f0 erg Hz⁻¹ cm⁻² s⁻¹ sr⁻¹ 0.0f0 erg Hz⁻¹ cm⁻² s⁻¹ sr⁻¹ … 0.0f0 erg Hz⁻¹ cm⁻² s⁻¹ sr⁻¹ 0.0f0 erg Hz⁻¹ cm⁻² s⁻¹ sr⁻¹; 0.0f0 erg Hz⁻¹ cm⁻² s⁻¹ sr⁻¹ 0.0f0 erg Hz⁻¹ cm⁻² s⁻¹ sr⁻¹ … 0.0f0 erg Hz⁻¹ cm⁻² s⁻¹ sr⁻¹ 0.0f0 erg Hz⁻¹ cm⁻² s⁻¹ sr⁻¹;;; 0.0f0 erg Hz⁻¹ cm⁻² s⁻¹ sr⁻¹ 0.0f0 erg Hz⁻¹ cm⁻² s⁻¹ sr⁻¹ … 0.0f0 erg Hz⁻¹ cm⁻² s⁻¹ sr⁻¹ 0.0f0 erg Hz⁻¹ cm⁻² s⁻¹ sr⁻¹; 0.0f0 erg Hz⁻¹ cm⁻² s⁻¹ sr⁻¹ 0.0f0 erg Hz⁻¹ cm⁻² s⁻¹ sr⁻¹ … 0.0f0 erg Hz⁻¹ cm⁻² s⁻¹ sr⁻¹ 0.0f0 erg Hz⁻¹ cm⁻² s⁻¹ sr⁻¹; … ; 0.0f0 erg Hz⁻¹ cm⁻² s⁻¹ sr⁻¹ 0.0f0 erg Hz⁻¹ cm⁻² s⁻¹ sr⁻¹ … 0.0f0 erg Hz⁻¹ cm⁻² s⁻¹ sr⁻¹ 0.0f0 erg Hz⁻¹ cm⁻² s⁻¹ sr⁻¹; 0.0f0 erg Hz⁻¹ cm⁻² s⁻¹ sr⁻¹ 0.0f0 erg Hz⁻¹ cm⁻² s⁻¹ sr⁻¹ … 0.0f0 erg Hz⁻¹ cm⁻² s⁻¹ sr⁻¹ 0.0f0 erg Hz⁻¹ cm⁻² s⁻¹ sr⁻¹;;; 0.0f0 erg Hz⁻¹ cm⁻² s⁻¹ sr⁻¹ 0.0f0 erg Hz⁻¹ cm⁻² s⁻¹ sr⁻¹ … 0.0f0 erg Hz⁻¹ cm⁻² s⁻¹ sr⁻¹ 0.0f0 erg Hz⁻¹ cm⁻² s⁻¹ sr⁻¹; 0.0f0 erg Hz⁻¹ cm⁻² s⁻¹ sr⁻¹ 0.0f0 erg Hz⁻¹ cm⁻² s⁻¹ sr⁻¹ … 0.0f0 erg Hz⁻¹ cm⁻² s⁻¹ sr⁻¹ 0.0f0 erg Hz⁻¹ cm⁻² s⁻¹ sr⁻¹; … ; 0.0f0 erg Hz⁻¹ cm⁻² s⁻¹ sr⁻¹ 0.0f0 erg Hz⁻¹ cm⁻² s⁻¹ sr⁻¹ … 0.0f0 erg Hz⁻¹ cm⁻² s⁻¹ sr⁻¹ 0.0f0 erg Hz⁻¹ cm⁻² s⁻¹ sr⁻¹; 0.0f0 erg Hz⁻¹ cm⁻² s⁻¹ sr⁻¹ 0.0f0 erg Hz⁻¹ cm⁻² s⁻¹ sr⁻¹ … 0.0f0 erg Hz⁻¹ cm⁻² s⁻¹ sr⁻¹ 0.0f0 erg Hz⁻¹ cm⁻² s⁻¹ sr⁻¹;;; … ;;; 0.0f0 erg Hz⁻¹ cm⁻² s⁻¹ sr⁻¹ 0.0f0 erg Hz⁻¹ cm⁻² s⁻¹ sr⁻¹ … 0.0f0 erg Hz⁻¹ cm⁻² s⁻¹ sr⁻¹ 0.0f0 erg Hz⁻¹ cm⁻² s⁻¹ sr⁻¹; 0.0f0 erg Hz⁻¹ cm⁻² s⁻¹ sr⁻¹ 0.0f0 erg Hz⁻¹ cm⁻² s⁻¹ sr⁻¹ … 0.0f0 erg Hz⁻¹ cm⁻² s⁻¹ sr⁻¹ 0.0f0 erg Hz⁻¹ cm⁻² s⁻¹ sr⁻¹; … ; 0.0f0 erg Hz⁻¹ cm⁻² s⁻¹ sr⁻¹ 0.0f0 erg Hz⁻¹ cm⁻² s⁻¹ sr⁻¹ … 0.0f0 erg Hz⁻¹ cm⁻² s⁻¹ sr⁻¹ 0.0f0 erg Hz⁻¹ cm⁻² s⁻¹ sr⁻¹; 0.0f0 erg Hz⁻¹ cm⁻² s⁻¹ sr⁻¹ 0.0f0 erg Hz⁻¹ cm⁻² s⁻¹ sr⁻¹ … 0.0f0 erg Hz⁻¹ cm⁻² s⁻¹ sr⁻¹ 0.0f0 erg Hz⁻¹ cm⁻² s⁻¹ sr⁻¹;;; 0.0f0 erg Hz⁻¹ cm⁻² s⁻¹ sr⁻¹ 0.0f0 erg Hz⁻¹ cm⁻² s⁻¹ sr⁻¹ … 0.0f0 erg Hz⁻¹ cm⁻² s⁻¹ sr⁻¹ 0.0f0 erg Hz⁻¹ cm⁻² s⁻¹ sr⁻¹; 0.0f0 erg Hz⁻¹ cm⁻² s⁻¹ sr⁻¹ 0.0f0 erg Hz⁻¹ cm⁻² s⁻¹ sr⁻¹ … 0.0f0 erg Hz⁻¹ cm⁻² s⁻¹ sr⁻¹ 0.0f0 erg Hz⁻¹ cm⁻² s⁻¹ sr⁻¹; … ; 0.0f0 erg Hz⁻¹ cm⁻² s⁻¹ sr⁻¹ 0.0f0 erg Hz⁻¹ cm⁻² s⁻¹ sr⁻¹ … 0.0f0 erg Hz⁻¹ cm⁻² s⁻¹ sr⁻¹ 0.0f0 erg Hz⁻¹ cm⁻² s⁻¹ sr⁻¹; 0.0f0 erg Hz⁻¹ cm⁻² s⁻¹ sr⁻¹ 0.0f0 erg Hz⁻¹ cm⁻² s⁻¹ sr⁻¹ … 0.0f0 erg Hz⁻¹ cm⁻² s⁻¹ sr⁻¹ 0.0f0 erg Hz⁻¹ cm⁻² s⁻¹ sr⁻¹;;; 0.0f0 erg Hz⁻¹ cm⁻² s⁻¹ sr⁻¹ 0.0f0 erg Hz⁻¹ cm⁻² s⁻¹ sr⁻¹ … 0.0f0 erg Hz⁻¹ cm⁻² s⁻¹ sr⁻¹ 0.0f0 erg Hz⁻¹ cm⁻² s⁻¹ sr⁻¹; 0.0f0 erg Hz⁻¹ cm⁻² s⁻¹ sr⁻¹ 0.0f0 erg Hz⁻¹ cm⁻² s⁻¹ sr⁻¹ … 0.0f0 erg Hz⁻¹ cm⁻² s⁻¹ sr⁻¹ 0.0f0 erg Hz⁻¹ cm⁻² s⁻¹ sr⁻¹; … ; 0.0f0 erg Hz⁻¹ cm⁻² s⁻¹ sr⁻¹ 0.0f0 erg Hz⁻¹ cm⁻² s⁻¹ sr⁻¹ … 0.0f0 erg Hz⁻¹ cm⁻² s⁻¹ sr⁻¹ 0.0f0 erg Hz⁻¹ cm⁻² s⁻¹ sr⁻¹; 0.0f0 erg Hz⁻¹ cm⁻² s⁻¹ sr⁻¹ 0.0f0 erg Hz⁻¹ cm⁻² s⁻¹ sr⁻¹ … 0.0f0 erg Hz⁻¹ cm⁻² s⁻¹ sr⁻¹ 0.0f0 erg Hz⁻¹ cm⁻² s⁻¹ sr⁻¹]))"
      ]
     },
     "metadata": {},
     "output_type": "display_data"
    }
   ],
   "source": [
    "# To see a full list of keyword arguments, please refer to the docstring, which can be accessed by typing `?CubeFitter` in the command\n",
    "# line after importing Loki.\n",
    "cube_fitter = CubeFitter(\n",
    "    obs.channels[channel], \n",
    "    obs.z, \n",
    "    run_name; \n",
    "    parallel=true, \n",
    "    parallel_strategy=\"pmap\",\n",
    "    plot_spaxels=:pyplot, \n",
    "    plot_maps=true, \n",
    "    save_fits=true,\n",
    "    silicate_absorption=\"d+\",\n",
    "    extinction_screen=true, \n",
    "    use_pah_templates=true, \n",
    "    fit_sil_emission=false, \n",
    "    fit_stellar_continuum=false, \n",
    "    save_full_model=true, \n",
    "    map_snr_thresh=3., \n",
    "    templates=nuc_temp, \n",
    "    template_names=[\"nuclear\"], \n",
    "    subtract_cubic_spline=true,\n",
    ")\n",
    "\n",
    "# Call the fit_cube! function on the cube_fitter object, using the aperture we defined.\n",
    "fit_cube!(cube_fitter)"
   ]
  },
  {
   "cell_type": "code",
   "execution_count": 8,
   "id": "d22d74ec",
   "metadata": {},
   "outputs": [
    {
     "data": {
      "text/plain": [
       "Task (done) @0x00000004ab16bb70"
      ]
     },
     "metadata": {},
     "output_type": "display_data"
    }
   ],
   "source": [
    "# Stop the worker processes\n",
    "rmprocs(procs)"
   ]
  },
  {
   "attachments": {},
   "cell_type": "markdown",
   "id": "05295663",
   "metadata": {},
   "source": [
    "And the results can be found in the \"output_[run_name]\" directory, just like the other examples!  Here is a showcase of a few of the fits to some individual spaxels across various locations:\n",
    "\n",
    "![](./NGC7469.spaxel_10_31.png)\n",
    "![](./NGC7469.spaxel_25_26.png)\n",
    "![](./NGC7469.spaxel_27_26.png)\n",
    "![](./NGC7469.spaxel_32_12.png)\n",
    "\n",
    "The orange line shows the final model.  The decomposed components of the model consist of:\n",
    "- Thermal dust continuum, in gray\n",
    "- The AGN PSF model, in dark green\n",
    "- PAHs, in blue\n",
    "- Emission lines, in purple\n",
    "- Extinction, in dotted gray (read from the right axis)\n",
    "\n",
    "If you're interested in what the 2D parameter maps should looks like from this fit, check out the README file.  The examples shown there are from this model.\n",
    "\n",
    "Notice that in some of the fits, the model does not do too well at reproducing the continuum on the far left side (the shortest wavelengths).  This is because we neglected to include any continuum component that could be important here, such as either a hot dust component or a stellar continuum.  One way to alleviate this would be by changing the `fit_stellar_continuum` option in the `CubeFitter` to true.  If you do so, make sure you have installed the python FSPS library!  Or you could instead set `fit_sil_emission` to true to fit a hot silicate dust emission component.  This will also likely change the recovered amplitudes on the AGN PSF template since they can become degenerate at these short wavelengths, so just be aware of that.  A good sanity check for this is to look at the fit results for the brightest spaxel (which should be close to the center of the cube, somewhere around x,y=25,25) - the PSF model is based on this spectrum, so the model should be pretty much 100% composed of the dark green AGN PSF template in this spaxel.  If it's not, you might need to look into either constraining the PSF template amplitude parameters or removing the degenerate model components.\n",
    "\n",
    "Now that you've run this model, be sure to check out the continuation in \"example_MIRI_qso_model\", which will take the results of this model and use them to reconstruct a 1D quasar spectrum."
   ]
  }
 ],
 "metadata": {
  "kernelspec": {
   "display_name": "Julia 1.10.9",
   "language": "julia",
   "name": "julia-1.10"
  },
  "language_info": {
   "file_extension": ".jl",
   "mimetype": "application/julia",
   "name": "julia",
   "version": "1.10.9"
  }
 },
 "nbformat": 4,
 "nbformat_minor": 5
}
