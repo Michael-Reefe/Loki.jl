{
 "cells": [
  {
   "attachments": {},
   "cell_type": "markdown",
   "id": "faa40c44",
   "metadata": {},
   "source": [
    "# Likelihood Optimization of gas Kinematics in IFUs (LOKI)\n",
    "## Fitting example: Other formats\n",
    "\n",
    "Michael Reefe\n",
    "\n",
    "This example notebook provides a quick tutorial on how to run LOKI using non-MIRI data."
   ]
  },
  {
   "attachments": {},
   "cell_type": "markdown",
   "id": "288ac322",
   "metadata": {},
   "source": [
    "Just like in the MIRI case, we first need to import the LOKI code.  Everything noted in the MIRI notebook is still relevant here, including the explanations on how to enable multiprocessing with the `Distributed` module."
   ]
  },
  {
   "cell_type": "code",
   "execution_count": 1,
   "id": "323538a7",
   "metadata": {},
   "outputs": [
    {
     "name": "stderr",
     "output_type": "stream",
     "text": [
      "\u001b[32m\u001b[1m  Activating\u001b[22m\u001b[39m project at `~/Dropbox/Astrophysics/Phoenix_Cluster/Loki`\n"
     ]
    }
   ],
   "source": [
    "using Pkg\n",
    "Pkg.activate(dirname(@__DIR__))\n",
    "Pkg.instantiate()\n",
    "Pkg.precompile()\n",
    "\n",
    "using Loki"
   ]
  },
  {
   "attachments": {},
   "cell_type": "markdown",
   "id": "2862b182",
   "metadata": {},
   "source": [
    "Now we want to load in our data. For this example, we'll be using an SDSS optical spectrum of a red galaxy (to showcase the utility of the stellar continuum fitting functionality), which is located in the same folder as this notebook. Since this is not a JWST MIRI formatted data product, there is no built-in functionality for LOKI to read its contents and convert it into a data format that it can work with.  This is also notably not an IFU data cube, but just a single spectrum.  This is fine, as we can effectively treat it as an IFU cube with spatial dimensions of 1x1.  We'll start by reading in the FITS file with Julia's `FITSIO` module and storing relevant information in arrays."
   ]
  },
  {
   "cell_type": "code",
   "execution_count": 2,
   "id": "08c04fee",
   "metadata": {},
   "outputs": [],
   "source": [
    "using FITSIO                    # for reading/writing FITS files\n",
    "using Unitful, UnitfulAstro     # to add units to the data"
   ]
  },
  {
   "cell_type": "code",
   "execution_count": 3,
   "id": "37630d63",
   "metadata": {},
   "outputs": [],
   "source": [
    "# Read in the FITS file and header\n",
    "hdu = FITS(\"spec-0266-51602-0001.fits\")\n",
    "hdr = read_header(hdu[1])\n",
    "\n",
    "# Wavelength vector (angstrom)\n",
    "λ = 10 .^ read(hdu[\"COADD\"], \"loglam\") .* u\"angstrom\"\n",
    "\n",
    "# Flux cube (erg/s/cm^2/ang)\n",
    "F = read(hdu[\"COADD\"], \"flux\") .* 1e-17 .* u\"erg/s/cm^2/angstrom\"\n",
    "# Reshape to a 1 x 1 x (n_wavelength) cube\n",
    "F = reshape(F, (1,1,length(F))) \n",
    "\n",
    "# Error cube (erg/s/cm^2/ang)\n",
    "eF = sqrt.(1 ./ read(hdu[\"COADD\"], \"ivar\")) .* 1e-17 .* u\"erg/s/cm^2/angstrom\"\n",
    "# Reshape to a 1 x 1 x (n_wavelength) cube\n",
    "eF = reshape(eF, (1,1,length(eF)))\n",
    "\n",
    "# Bad pixel mask \n",
    "mask = read(hdu[\"COADD\"], \"and_mask\") .!= 0\n",
    "mask = reshape(mask, (1,1,length(mask)))\n",
    "\n",
    "# Auxiliary information\n",
    "z = read(hdu[\"SPECOBJ\"], \"z\")[1]\n",
    "ra = hdr[\"RA\"]\n",
    "dec = hdr[\"DEC\"]\n",
    "\n",
    "# Switches\n",
    "rest_frame = false    # the input spectrum is not in the rest frame\n",
    "masked = false        # the bad pixel mask has not been applied (i.e. bad pixels are still in the spectrum)\n",
    "vacuum_wave = true    # the wavelengths provided are in vacuum wavelengths (SDSS spectra already come in vacuum wavelengths)\n",
    "dereddened = false    # the spectrum has not been corrected for Milky Way dust absorption along the line of sight\n",
    "log_binned = true     # the input wavelength vector is logarithmically spaced\n",
    "sky_aligned = true    # this parameter only makes sense for a full IFU cube -- if true, the input cube has x/y axes aligned with\n",
    "                      # the RA/Dec axes on the sky, otherwise, it may have any arbitrary orientation\n",
    "\n",
    "# Since LOKI works in intensities rather than fluxes, we need the solid angle covered\n",
    "# by each pixel in the input data cube.  Since we only have a single spectrum here,\n",
    "# we take the solid angle as that which is covered by the SDSS fibers, which have a\n",
    "# diameter of 3 arcseconds:\n",
    "Ω = uconvert(u\"sr\", (π * (3/2)^2)*u\"arcsecond^2\")\n",
    "\n",
    "# Then we convert the fluxes into intensities\n",
    "I = F ./ Ω\n",
    "σ = eF ./ Ω\n",
    "\n",
    "# We also need some measurements of the *spectral* and *spatial* resolutions of the input cube.\n",
    "\n",
    "# Again, in our case since there is only 1 \"pixel\", we don't really have a concept of spatial resolution. So we'll\n",
    "# just assume here that the spatial resolution is equal to the size of the aperture:\n",
    "psf_fwhm = uconvert(u\"arcsecond\", sqrt(Ω))\n",
    "\n",
    "# For the spectral resolution, we can use the \"wdisp\" information stored in the SDSS data:\n",
    "wdisp = read(hdu[\"COADD\"], \"wdisp\") # dispersion of each pixel in pixel units\n",
    "dλ = @. (λ[2]/λ[1] - 1.) * λ        # size of each pixel in wavelength units\n",
    "fwhm_res = 2.355 .* wdisp .* dλ     # FWHM resolution of each pixel in wavelength units\n",
    "R = λ ./ fwhm_res                   # spectral resolution (unitless)\n",
    "\n",
    "# Close the FITS file\n",
    "close(hdu)"
   ]
  },
  {
   "cell_type": "code",
   "execution_count": 4,
   "id": "59e2ec29",
   "metadata": {},
   "outputs": [
    {
     "name": "stdout",
     "output_type": "stream",
     "text": [
      "\u001b[33m\u001b[1m┌ \u001b[22m\u001b[39m\u001b[33m\u001b[1mWarning: \u001b[22m\u001b[39mThe input wavelength vector is non-linear. The wavelength axis of the auto-generated WCS will not accurately reflect this fact. This will not matter for the rest of this code, as it will not be used, but keep this in mind if using FITS files generated as outputs.\n",
      "\u001b[33m\u001b[1m└ \u001b[22m\u001b[39m\u001b[90m@ Loki ~/Dropbox/Astrophysics/Phoenix_Cluster/Loki/src/core/cubedata.jl:485\u001b[39m\n",
      "\u001b[33m\u001b[1m┌ \u001b[22m\u001b[39m\u001b[33m\u001b[1mWarning: \u001b[22m\u001b[39mThe DataCube format is not JWST! Please manually input the channel edges (if any), otherwise it will be assumed that there is only one channel\n",
      "\u001b[33m\u001b[1m└ \u001b[22m\u001b[39m\u001b[90m@ Loki ~/Dropbox/Astrophysics/Phoenix_Cluster/Loki/src/core/cubedata.jl:562\u001b[39m\n"
     ]
    },
    {
     "data": {
      "text/plain": [
       "Observation(Dict{Any, DataCube}(0 => DataCube{Vector{Quantity{Float64, 𝐋, Unitful.FreeUnits{(Å,), 𝐋, nothing}}}, Array{Quantity{Float64, 𝐌 𝐋⁻¹ 𝐓⁻³, Unitful.FreeUnits{(Å⁻¹, erg, cm⁻², s⁻¹, sr⁻¹), 𝐌 𝐋⁻¹ 𝐓⁻³, nothing}}, 3}}(Quantity{Float64, 𝐋, Unitful.FreeUnits{(Å,), 𝐋, nothing}}[3806.272705078125 Å, 3807.150390625 Å, 3808.026123046875 Å, 3808.904296875 Å, 3809.780517578125 Å, 3810.658935546875 Å, 3811.53564453125 Å, 3812.41259765625 Å, 3813.291748046875 Å, 3814.1689453125 Å  …  9183.3271484375 Å, 9185.439453125 Å, 9187.5576171875 Å, 9189.671875 Å, 9191.78515625 Å, 9193.9052734375 Å, 9196.0205078125 Å, 9198.140625 Å, 9200.2568359375 Å, 9202.37890625 Å], Quantity{Float64, 𝐌 𝐋⁻¹ 𝐓⁻³, Unitful.FreeUnits{(Å⁻¹, erg, cm⁻², s⁻¹, sr⁻¹), 𝐌 𝐋⁻¹ 𝐓⁻³, nothing}}[3.309362892629094e-6 erg Å⁻¹ cm⁻² s⁻¹ sr⁻¹;;; 3.7681091858022077e-6 erg Å⁻¹ cm⁻² s⁻¹ sr⁻¹;;; 3.58519418212832e-6 erg Å⁻¹ cm⁻² s⁻¹ sr⁻¹;;; … ;;; 5.5917133866308534e-6 erg Å⁻¹ cm⁻² s⁻¹ sr⁻¹;;; 5.748525031076515e-6 erg Å⁻¹ cm⁻² s⁻¹ sr⁻¹;;; 5.512745036545967e-6 erg Å⁻¹ cm⁻² s⁻¹ sr⁻¹], Quantity{Float64, 𝐌 𝐋⁻¹ 𝐓⁻³, Unitful.FreeUnits{(Å⁻¹, erg, cm⁻², s⁻¹, sr⁻¹), 𝐌 𝐋⁻¹ 𝐓⁻³, nothing}}[5.389793895744662e-7 erg Å⁻¹ cm⁻² s⁻¹ sr⁻¹;;; 5.389793895744662e-7 erg Å⁻¹ cm⁻² s⁻¹ sr⁻¹;;; 5.389793895744662e-7 erg Å⁻¹ cm⁻² s⁻¹ sr⁻¹;;; … ;;; 5.389793895744662e-7 erg Å⁻¹ cm⁻² s⁻¹ sr⁻¹;;; 5.389793895744662e-7 erg Å⁻¹ cm⁻² s⁻¹ sr⁻¹;;; 5.389793895744662e-7 erg Å⁻¹ cm⁻² s⁻¹ sr⁻¹], Bool[0;;; 0;;; 0;;; … ;;; 0;;; 0;;; 0], nothing, 1.6614302919399334e-10 sr, 145.89219°, 0.059372°, 0.0 rad, Quantity{Float64, NoDims, Unitful.FreeUnits{(″,), NoDims, nothing}}[2.658680776358274 ″, 2.658680776358274 ″, 2.658680776358274 ″, 2.658680776358274 ″, 2.658680776358274 ″, 2.658680776358274 ″, 2.658680776358274 ″, 2.658680776358274 ″, 2.658680776358274 ″, 2.658680776358274 ″  …  2.658680776358274 ″, 2.658680776358274 ″, 2.658680776358274 ″, 2.658680776358274 ″, 2.658680776358274 ″, 2.658680776358274 ″, 2.658680776358274 ″, 2.658680776358274 ″, 2.658680776358274 ″, 2.658680776358274 ″], Quantity{Float64, 𝐋 𝐓⁻¹, Unitful.FreeUnits{(km, s⁻¹), 𝐋 𝐓⁻¹, nothing}}[203.8479818802872 km s⁻¹, 203.80412914143074 km s⁻¹, 203.76173169258058 km s⁻¹, 203.7186163006607 km s⁻¹, 203.67567554354153 km s⁻¹, 203.63271538255563 km s⁻¹, 203.58950297130195 km s⁻¹, 203.5465234064493 km s⁻¹, 203.50428118853316 km s⁻¹, 203.4606030844775 km s⁻¹  …  129.77604902374028 km s⁻¹, 129.74650663661242 km s⁻¹, 129.7168769320842 km s⁻¹, 129.68726663142274 km s⁻¹, 129.65769513849477 km s⁻¹, 129.62789079916578 km s⁻¹, 129.59814467143704 km s⁻¹, 129.5684082456417 km s⁻¹, 129.53863301211283 km s⁻¹, 129.5088189708505 km s⁻¹], WCSTransform(naxis=3,cdelt=[0.0007385224378772984, 0.0007385224378772984, 8.77685546875e-11],crval=[145.89219, 0.059372, 3.806272705078125e-7],crpix=[1.0, 1.0, 1.0]), \"Generic Channel\", \"Generic Band\", 1, 1, 3835, Loki.SpectralRegion{Quantity{Float64, 𝐋, Unitful.FreeUnits{(Å,), 𝐋, nothing}}}((3726.979743238626 Å, 9010.67328345729 Å), Tuple{Quantity{Float64, 𝐋, Unitful.FreeUnits{(Å,), 𝐋, nothing}}, Quantity{Float64, 𝐋, Unitful.FreeUnits{(Å,), 𝐋, nothing}}}[], 1, BitVector[[1, 1, 1, 1, 1, 1, 1, 1, 1, 1  …  1, 1, 1, 1, 1, 1, 1, 1, 1, 1]], Quantity{Float64, 𝐋, Unitful.FreeUnits{(Å,), 𝐋, nothing}}[], Tuple{Quantity{Float64, 𝐋, Unitful.FreeUnits{(Å,), 𝐋, nothing}}, Quantity{Float64, 𝐋, Unitful.FreeUnits{(Å,), 𝐋, nothing}}}[], Loki.UVOptical), false, false, true, true, false, true, nothing)), \"spec-0266-51602-0001\", 0.021275453f0, 145.89219°, 0.059372°, \"SDSS\", false, false, true, true, false, true)"
      ]
     },
     "metadata": {},
     "output_type": "display_data"
    }
   ],
   "source": [
    "# Create a LOKI Cube object\n",
    "cube = from_data(Ω, z, λ, I; α=ra, δ=dec, psf_fwhm=psf_fwhm, R=R, wcs=nothing, psf_model=nothing,\n",
    "                 rest_frame=rest_frame, masked=masked, vacuum_wave=vacuum_wave, dereddened=dereddened, sky_aligned=sky_aligned, log_binned=log_binned)\n",
    "# Create an Observation object\n",
    "obs = from_cubes(\"spec-0266-51602-0001\", z, [cube], [0], inst=\"SDSS\")"
   ]
  },
  {
   "cell_type": "code",
   "execution_count": 5,
   "id": "8f602574",
   "metadata": {},
   "outputs": [
    {
     "data": {
      "text/plain": [
       "\"spec-0266-51602-0001_example\""
      ]
     },
     "metadata": {},
     "output_type": "display_data"
    }
   ],
   "source": [
    "channel = 0  # (this is just used as a dummy value when the instrument doesn't have distinct spectral channels)\n",
    "nm = \"spec-0266-51602-0001\"\n",
    "run_name = \"$(nm)_example\""
   ]
  },
  {
   "attachments": {},
   "cell_type": "markdown",
   "id": "4f793d58",
   "metadata": {},
   "source": [
    "Before fitting, we want to do some pre-processing on the data, just like in the MIRI example.  Exactly which pre-processing steps are performed are largely controlled by the boolean parameters listed above when creating the Cube object (i.e. `rest_frame`, `masked`, `vacuum_wave`, `dereddened`, `log_binned`, and `sky_aligned`). The corrections are actually carried out by calling the `correct!` function.  This is also where we could combine data from multiple channels into a single cube, if desired, using the `combine_channels!` function, but in this quick example we only have one sub-channel."
   ]
  },
  {
   "cell_type": "code",
   "execution_count": 6,
   "id": "3dfbae1c",
   "metadata": {},
   "outputs": [
    {
     "name": "stdout",
     "output_type": "stream",
     "text": [
      "\u001b[36m\u001b[1m[ \u001b[22m\u001b[39m\u001b[36m\u001b[1mInfo: \u001b[22m\u001b[39mUsing SFD98 dust map at (α=145.89219°, δ=0.059372°): E(B-V)=0.09877200600227425\n",
      "\u001b[36m\u001b[1m[ \u001b[22m\u001b[39m\u001b[36m\u001b[1mInfo: \u001b[22m\u001b[39mInterpolating NaNs in cube with channel Generic Channel, band Generic Band:\n",
      "\u001b[36m\u001b[1m[ \u001b[22m\u001b[39m\u001b[36m\u001b[1mInfo: \u001b[22m\u001b[39mCalculating statistical errors for each spaxel...\n",
      "\u001b[36m\u001b[1m[ \u001b[22m\u001b[39m\u001b[36m\u001b[1mInfo: \u001b[22m\u001b[39mWriting FITS file from Observation object\n"
     ]
    }
   ],
   "source": [
    "if isfile(\"$nm.channel$channel.rest_frame.fits\")\n",
    "    # If we've already performed this step in a previous run, just load in the pre-processed data\n",
    "    obs = from_fits([\"$nm.channel$channel.rest_frame.fits\"], obs.z);\n",
    "    \n",
    "else\n",
    "    # Convert to rest-frame wavelength vector, and mask out bad spaxels\n",
    "    correct!(obs)\n",
    "    \n",
    "    # We interpolate any rogue NaNs using a linear interpolation, since the MPFIT minimizer does not handle NaNs well.\n",
    "    interpolate_nans!(obs.channels[channel])\n",
    "\n",
    "    # Finally, we calculate the statistical errors (i.e. the standard deviation of the residuals with a cubic spline fit)\n",
    "    # and replace the errors in the cube with these, since the provided errors are typically underestimated.\n",
    "    # You can skip this step if you wish to use the default errors.\n",
    "    calculate_statistical_errors!(obs.channels[channel])\n",
    "    \n",
    "    # Save the pre-processed data as a FITS file so it can be quickly reloaded later\n",
    "    save_fits(\".\", obs, [channel]);\n",
    "end"
   ]
  },
  {
   "attachments": {},
   "cell_type": "markdown",
   "id": "baaa4ddb",
   "metadata": {},
   "source": [
    "Finally, we create the `CubeFitter` object and call the `fit_cube!` function to fit the data, same as with the MIRI example, but without an aperture argument since there is only one spaxel anyways."
   ]
  },
  {
   "cell_type": "code",
   "execution_count": 7,
   "id": "de75b965",
   "metadata": {},
   "outputs": [
    {
     "name": "stdout",
     "output_type": "stream",
     "text": [
      "\u001b[36m\u001b[1m[ \u001b[22m\u001b[39m\u001b[36m\u001b[1mInfo: \u001b[22m\u001b[39mPreparing output directories\n",
      "\u001b[33m\u001b[1m┌ \u001b[22m\u001b[39m\u001b[33m\u001b[1mWarning: \u001b[22m\u001b[39mThe maximum wavelength in the input spectrum is < 2 μm! Thermal dust emission will be disabled.\n",
      "\u001b[33m\u001b[1m└ \u001b[22m\u001b[39m\u001b[90m@ Loki ~/Dropbox/Astrophysics/Phoenix_Cluster/Loki/src/util/create_params.jl:330\u001b[39m\n",
      "\u001b[33m\u001b[1m┌ \u001b[22m\u001b[39m\u001b[33m\u001b[1mWarning: \u001b[22m\u001b[39mThere are no PAH features within the input wavelength range of the spectrum. The use_pah_templates option will be disabled.\n",
      "\u001b[33m\u001b[1m└ \u001b[22m\u001b[39m\u001b[90m@ Loki ~/Dropbox/Astrophysics/Phoenix_Cluster/Loki/src/util/create_params.jl:506\u001b[39m\n",
      "\u001b[36m\u001b[1m[ \u001b[22m\u001b[39m\u001b[36m\u001b[1mInfo: \u001b[22m\u001b[39mGenerating 400 simple stellar population templates with FSPS with ages ∈ (0.0010000000000000002 Gyr, 13.7 Gyr), log(Z/Zsun) ∈ (-2.3, 0.4)\n"
     ]
    },
    {
     "name": "stderr",
     "output_type": "stream",
     "text": [
      "\u001b[32mProgress: 100%|███████████████████████████| Time: 0:18:03 ( 2.71  s/it)\u001b[39m\u001b[K\n"
     ]
    },
    {
     "name": "stdout",
     "output_type": "stream",
     "text": [
      "\u001b[36m\u001b[1m┌ \u001b[22m\u001b[39m\u001b[36m\u001b[1mInfo: \u001b[22m\u001b[39m\n",
      "\u001b[36m\u001b[1m│ \u001b[22m\u001b[39m\n",
      "\u001b[36m\u001b[1m│ \u001b[22m\u001b[39m#############################################################################\n",
      "\u001b[36m\u001b[1m│ \u001b[22m\u001b[39m######## BEGINNING FULL CUBE FITTING ROUTINE FOR spec-0266-51602-0001_example ########\n",
      "\u001b[36m\u001b[1m│ \u001b[22m\u001b[39m#############################################################################\n",
      "\u001b[36m\u001b[1m│ \u001b[22m\u001b[39m\n",
      "\u001b[36m\u001b[1m│ \u001b[22m\u001b[39m------------------------\n",
      "\u001b[36m\u001b[1m│ \u001b[22m\u001b[39mWorker Processes:     1\n",
      "\u001b[36m\u001b[1m│ \u001b[22m\u001b[39mThreads per process:  1\n",
      "\u001b[36m\u001b[1m└ \u001b[22m\u001b[39m------------------------\n",
      "\u001b[36m\u001b[1m[ \u001b[22m\u001b[39m\u001b[36m\u001b[1mInfo: \u001b[22m\u001b[39m===> Preparing output data structures... <===\n",
      "\u001b[36m\u001b[1m[ \u001b[22m\u001b[39m\u001b[36m\u001b[1mInfo: \u001b[22m\u001b[39mIntegrating spectrum across the whole cube...\n",
      "\u001b[36m\u001b[1m[ \u001b[22m\u001b[39m\u001b[36m\u001b[1mInfo: \u001b[22m\u001b[39m===> Beginning integrated spectrum fitting... <===\n",
      "\u001b[36m\u001b[1m[ \u001b[22m\u001b[39m\u001b[36m\u001b[1mInfo: \u001b[22m\u001b[39m===> Generating parameter maps and model cubes... <===\n",
      "\u001b[36m\u001b[1m[ \u001b[22m\u001b[39m\u001b[36m\u001b[1mInfo: \u001b[22m\u001b[39m===> Writing FITS outputs... <===\n",
      "\u001b[36m\u001b[1m┌ \u001b[22m\u001b[39m\u001b[36m\u001b[1mInfo: \u001b[22m\u001b[39m\n",
      "\u001b[36m\u001b[1m│ \u001b[22m\u001b[39m\n",
      "\u001b[36m\u001b[1m│ \u001b[22m\u001b[39m#############################################################################\n",
      "\u001b[36m\u001b[1m│ \u001b[22m\u001b[39m################################### Done!! ##################################\n",
      "\u001b[36m\u001b[1m└ \u001b[22m\u001b[39m#############################################################################\n"
     ]
    },
    {
     "data": {
      "text/plain": [
       "(CubeFitter{Float32, Int64, Quantity{Float64, 𝐌 𝐋⁻¹ 𝐓⁻³, Unitful.FreeUnits{(Å⁻¹, erg, cm⁻², s⁻¹, sr⁻¹), 𝐌 𝐋⁻¹ 𝐓⁻³, nothing}}, Quantity{Float64, 𝐋 𝐓⁻¹, Unitful.FreeUnits{(km, s⁻¹), 𝐋 𝐓⁻¹, nothing}}, Quantity{Float64, 𝐋, Unitful.FreeUnits{(Å,), 𝐋, nothing}}}(DataCube{Vector{Quantity{Float64, 𝐋, Unitful.FreeUnits{(Å,), 𝐋, nothing}}}, Array{Quantity{Float64, 𝐌 𝐋⁻¹ 𝐓⁻³, Unitful.FreeUnits{(Å⁻¹, erg, cm⁻², s⁻¹, sr⁻¹), 𝐌 𝐋⁻¹ 𝐓⁻³, nothing}}, 3}}(Quantity{Float64, 𝐋, Unitful.FreeUnits{(Å,), 𝐋, nothing}}[3726.9797166572175 Å, 3727.83911809381 Å, 3728.6966070932694 Å, 3729.556486639145 Å, 3730.414453747888 Å, 3731.274572348405 Å, 3732.1330175664307 Å, 3732.9917018390984 Å, 3733.8525376035404 Å, 3734.711460930849 Å  …  8992.018351178973 Å, 8994.086651938193 Å, 8996.160690008812 Å, 8998.230903205165 Å, 9000.300160182951 Å, 9002.376110690704 Å, 9004.447280105624 Å, 9006.523230613375 Å, 9008.59535624686 Å, 9010.673219191745 Å], Quantity{Float64, 𝐌 𝐋⁻¹ 𝐓⁻³, Unitful.FreeUnits{(Å⁻¹, erg, cm⁻², s⁻¹, sr⁻¹), 𝐌 𝐋⁻¹ 𝐓⁻³, nothing}}[5.169836794301804e-6 erg Å⁻¹ cm⁻² s⁻¹ sr⁻¹;;; 5.885974044061726e-6 erg Å⁻¹ cm⁻² s⁻¹ sr⁻¹;;; 5.599768941047182e-6 erg Å⁻¹ cm⁻² s⁻¹ sr⁻¹;;; … ;;; 6.53539687202572e-6 erg Å⁻¹ cm⁻² s⁻¹ sr⁻¹;;; 6.718324349220518e-6 erg Å⁻¹ cm⁻² s⁻¹ sr⁻¹;;; 6.442433186485836e-6 erg Å⁻¹ cm⁻² s⁻¹ sr⁻¹], Quantity{Float64, 𝐌 𝐋⁻¹ 𝐓⁻³, Unitful.FreeUnits{(Å⁻¹, erg, cm⁻², s⁻¹, sr⁻¹), 𝐌 𝐋⁻¹ 𝐓⁻³, nothing}}[3.624687573827562e-7 erg Å⁻¹ cm⁻² s⁻¹ sr⁻¹;;; 3.624687573827562e-7 erg Å⁻¹ cm⁻² s⁻¹ sr⁻¹;;; 3.624687573827562e-7 erg Å⁻¹ cm⁻² s⁻¹ sr⁻¹;;; … ;;; 1.4546485001599767e-7 erg Å⁻¹ cm⁻² s⁻¹ sr⁻¹;;; 1.4520397544872105e-7 erg Å⁻¹ cm⁻² s⁻¹ sr⁻¹;;; 1.4667836028561887e-7 erg Å⁻¹ cm⁻² s⁻¹ sr⁻¹], Bool[0;;; 0;;; 0;;; … ;;; 0;;; 0;;; 0], nothing, 1.6614302919399334e-10 sr, 145.89219°, 0.059372°, 0.0 rad, Quantity{Float64, NoDims, Unitful.FreeUnits{(″,), NoDims, nothing}}[2.658680776358274 ″, 2.658680776358274 ″, 2.658680776358274 ″, 2.658680776358274 ″, 2.658680776358274 ″, 2.658680776358274 ″, 2.658680776358274 ″, 2.658680776358274 ″, 2.658680776358274 ″, 2.658680776358274 ″  …  2.658680776358274 ″, 2.658680776358274 ″, 2.658680776358274 ″, 2.658680776358274 ″, 2.658680776358274 ″, 2.658680776358274 ″, 2.658680776358274 ″, 2.658680776358274 ″, 2.658680776358274 ″, 2.658680776358274 ″], Quantity{Float64, 𝐋 𝐓⁻¹, Unitful.FreeUnits{(km, s⁻¹), 𝐋 𝐓⁻¹, nothing}}[203.8479818802872 km s⁻¹, 203.80412914143074 km s⁻¹, 203.76173169258058 km s⁻¹, 203.7186163006607 km s⁻¹, 203.67567554354153 km s⁻¹, 203.63271538255563 km s⁻¹, 203.58950297130195 km s⁻¹, 203.5465234064493 km s⁻¹, 203.50428118853316 km s⁻¹, 203.4606030844775 km s⁻¹  …  129.77604902374028 km s⁻¹, 129.74650663661242 km s⁻¹, 129.7168769320842 km s⁻¹, 129.68726663142274 km s⁻¹, 129.65769513849477 km s⁻¹, 129.62789079916578 km s⁻¹, 129.59814467143704 km s⁻¹, 129.5684082456417 km s⁻¹, 129.53863301211283 km s⁻¹, 129.5088189708505 km s⁻¹], WCSTransform(naxis=3,cdelt=[0.0007385224378772984, 0.0007385224378772984, 8.77685546875e-11],crval=[145.89219, 0.059372, 3.806272705078125e-7],crpix=[1.0, 1.0, 1.0]), \"Generic Channel\", \"Generic Band\", 1, 1, 3835, Loki.SpectralRegion{Quantity{Float64, 𝐋, Unitful.FreeUnits{(Å,), 𝐋, nothing}}}((3726.979743238626 Å, 9010.67328345729 Å), Tuple{Quantity{Float64, 𝐋, Unitful.FreeUnits{(Å,), 𝐋, nothing}}, Quantity{Float64, 𝐋, Unitful.FreeUnits{(Å,), 𝐋, nothing}}}[], 1, BitVector[[1, 1, 1, 1, 1, 1, 1, 1, 1, 1  …  1, 1, 1, 1, 1, 1, 1, 1, 1, 1]], Quantity{Float64, 𝐋, Unitful.FreeUnits{(Å,), 𝐋, nothing}}[], Tuple{Quantity{Float64, 𝐋, Unitful.FreeUnits{(Å,), 𝐋, nothing}}, Quantity{Float64, 𝐋, Unitful.FreeUnits{(Å,), 𝐋, nothing}}}[], Loki.UVOptical), true, true, true, true, true, true, nothing), 0.021275453f0, \"spec-0266-51602-0001_example\", Loki.SpectralRegion{Quantity{Float64, 𝐋, Unitful.FreeUnits{(Å,), 𝐋, nothing}}}((3726.979743238626 Å, 9010.67328345729 Å), Tuple{Quantity{Float64, 𝐋, Unitful.FreeUnits{(Å,), 𝐋, nothing}}, Quantity{Float64, 𝐋, Unitful.FreeUnits{(Å,), 𝐋, nothing}}}[], 1, BitVector[[1, 1, 1, 1, 1, 1, 1, 1, 1, 1  …  1, 1, 1, 1, 1, 1, 1, 1, 1, 1]], Quantity{Float64, 𝐋, Unitful.FreeUnits{(Å,), 𝐋, nothing}}[], Tuple{Quantity{Float64, 𝐋, Unitful.FreeUnits{(Å,), 𝐋, nothing}}, Quantity{Float64, 𝐋, Unitful.FreeUnits{(Å,), 𝐋, nothing}}}[], Loki.UVOptical), Loki.OutputOptions(:both, false, nothing, false, \"pmap\", true, true, false, false, true, false, 3.0, :flux, [3726.9797166572175, 3796.307513693717, 3862.343855969157, 3939.0206223394107, 3999.6391629039804, 4073.004630326076, 4139.7403674238585, 4210.628746837096, 4289.403375793366, 4351.359476800948  …  6565.022804333768, 6663.542883156573, 6793.31227361643, 6912.161828903723, 7032.362615195854, 7140.626076538516, 7282.659637442817, 7416.741050645713, 7892.071, 8024.617445969406]), Loki.FittingOptions{Float64, Int64}(0.0, \"d+\", \"calz\", true, nothing, nothing, nothing, nothing, true, 100.0, false, false, false, nothing, false, false, false, false, false, false, false, false, false, false, true, 0, 123456789, Vector{Symbol}[], 0.003, true, false, false), \"ModelParameters | Continuum parameters: 6, PAH parameters: 0, Line parameters: 136, Non-fit parameters: 376\", Array{Quantity{Float64, 𝐌 𝐋⁻¹ 𝐓⁻³, Unitful.FreeUnits{(Å⁻¹, erg, cm⁻², s⁻¹, sr⁻¹), 𝐌 𝐋⁻¹ 𝐓⁻³, nothing}}, 4}(undef, 1, 1, 3835, 0), String[], Loki.StellarPopulations{Quantity{Float64, 𝐋, Unitful.FreeUnits{(Å,), 𝐋, nothing}}, Quantity{Float64, 𝐓, Unitful.FreeUnits{(Gyr,), 𝐓, nothing}}, Quantity{Float64, 𝐋 𝐓⁻¹, Unitful.FreeUnits{(km, s⁻¹), 𝐋 𝐓⁻¹, nothing}}, Float64, Quantity{Float64, 𝐋⁻¹ 𝐓⁻³, Unitful.FreeUnits{(Å⁻¹, erg, cm⁻², s⁻¹, M⊙⁻¹), 𝐋⁻¹ 𝐓⁻³, nothing}}}(Quantity{Float64, 𝐋, Unitful.FreeUnits{(Å,), 𝐋, nothing}}[3652.4401223240748 Å, 3653.2823357319344 Å, 3654.1247433451467 Å, 3654.9673452084944 Å, 3655.81014136677 Å, 3656.653131864774 Å, 3657.49631674732 Å, 3658.339696059231 Å, 3659.18326984534 Å, 3660.027038150491 Å  …  9270.790289993414 Å, 9272.92803452096 Å, 9275.0662719894 Å, 9277.205002512404 Å, 9279.34422620366 Å, 9281.483943176896 Å, 9283.624153545847 Å, 9285.764857424292 Å, 9287.906054926027 Å, 9290.047746164875 Å], Quantity{Float64, 𝐓, Unitful.FreeUnits{(Gyr,), 𝐓, nothing}}[0.0010000000000000002 Gyr, 0.0012766438520306928 Gyr, 0.001629819524927765 Gyr, 0.002080699076418613 Gyr, 0.002656311683835762 Gyr, 0.0033911639802462223 Gyr, 0.004329308646609272 Gyr, 0.005526985267237045 Gyr, 0.007055991761682387 Gyr, 0.009007988502531025 Gyr  …  1.520872278661394 Gyr, 1.941612244276978 Gyr, 2.4787473346837188 Gyr, 3.164477545561434 Gyr, 4.03991080343018 Gyr, 5.157527289951513 Gyr, 6.584325506397116 Gyr, 8.405838677510754 Gyr, 10.731262268805907 Gyr, 13.7 Gyr], [-2.3, -2.0, -1.7, -1.4, -1.1, -0.8, -0.5, -0.2, 0.1, 0.4], Quantity{Float64, 𝐋⁻¹ 𝐓⁻³, Unitful.FreeUnits{(Å⁻¹, erg, cm⁻², s⁻¹, M⊙⁻¹), 𝐋⁻¹ 𝐓⁻³, nothing}}[3.1902651465123302e-24 erg Å⁻¹ cm⁻² s⁻¹ M⊙⁻¹ 3.1150183717446628e-24 erg Å⁻¹ cm⁻² s⁻¹ M⊙⁻¹ … 6.685076823994916e-27 erg Å⁻¹ cm⁻² s⁻¹ M⊙⁻¹ 4.7800980699648486e-27 erg Å⁻¹ cm⁻² s⁻¹ M⊙⁻¹; 4.286440917822489e-24 erg Å⁻¹ cm⁻² s⁻¹ M⊙⁻¹ 4.18520281562656e-24 erg Å⁻¹ cm⁻² s⁻¹ M⊙⁻¹ … 8.730082509685949e-27 erg Å⁻¹ cm⁻² s⁻¹ M⊙⁻¹ 6.206685101470971e-27 erg Å⁻¹ cm⁻² s⁻¹ M⊙⁻¹; … ; 3.5438244626677416e-25 erg Å⁻¹ cm⁻² s⁻¹ M⊙⁻¹ 3.043339870175301e-25 erg Å⁻¹ cm⁻² s⁻¹ M⊙⁻¹ … 2.4856661497443982e-26 erg Å⁻¹ cm⁻² s⁻¹ M⊙⁻¹ 2.0832263081547042e-26 erg Å⁻¹ cm⁻² s⁻¹ M⊙⁻¹; 3.5438244626677416e-25 erg Å⁻¹ cm⁻² s⁻¹ M⊙⁻¹ 3.043339870175301e-25 erg Å⁻¹ cm⁻² s⁻¹ M⊙⁻¹ … 2.4856661497443982e-26 erg Å⁻¹ cm⁻² s⁻¹ M⊙⁻¹ 2.0832263081547042e-26 erg Å⁻¹ cm⁻² s⁻¹ M⊙⁻¹], Quantity{Float64, 𝐋 𝐓⁻¹, Unitful.FreeUnits{(km, s⁻¹), 𝐋 𝐓⁻¹, nothing}}[-6056.619284973612 km s⁻¹]), nothing, 69.12094738648226 km s⁻¹, 400, 0, 0, 0, 0, 0, 34, 34, 6, 0, 136, 376, 518, Loki.var\"#86#88\"{DataCube{Vector{Quantity{Float64, 𝐋, Unitful.FreeUnits{(Å,), 𝐋, nothing}}}, Array{Quantity{Float64, 𝐌 𝐋⁻¹ 𝐓⁻³, Unitful.FreeUnits{(Å⁻¹, erg, cm⁻², s⁻¹, sr⁻¹), 𝐌 𝐋⁻¹ 𝐓⁻³, nothing}}, 3}}, Dierckx.Spline1D}(DataCube{Vector{Quantity{Float64, 𝐋, Unitful.FreeUnits{(Å,), 𝐋, nothing}}}, Array{Quantity{Float64, 𝐌 𝐋⁻¹ 𝐓⁻³, Unitful.FreeUnits{(Å⁻¹, erg, cm⁻², s⁻¹, sr⁻¹), 𝐌 𝐋⁻¹ 𝐓⁻³, nothing}}, 3}}(Quantity{Float64, 𝐋, Unitful.FreeUnits{(Å,), 𝐋, nothing}}[3726.9797166572175 Å, 3727.83911809381 Å, 3728.6966070932694 Å, 3729.556486639145 Å, 3730.414453747888 Å, 3731.274572348405 Å, 3732.1330175664307 Å, 3732.9917018390984 Å, 3733.8525376035404 Å, 3734.711460930849 Å  …  8992.018351178973 Å, 8994.086651938193 Å, 8996.160690008812 Å, 8998.230903205165 Å, 9000.300160182951 Å, 9002.376110690704 Å, 9004.447280105624 Å, 9006.523230613375 Å, 9008.59535624686 Å, 9010.673219191745 Å], Quantity{Float64, 𝐌 𝐋⁻¹ 𝐓⁻³, Unitful.FreeUnits{(Å⁻¹, erg, cm⁻², s⁻¹, sr⁻¹), 𝐌 𝐋⁻¹ 𝐓⁻³, nothing}}[5.169836794301804e-6 erg Å⁻¹ cm⁻² s⁻¹ sr⁻¹;;; 5.885974044061726e-6 erg Å⁻¹ cm⁻² s⁻¹ sr⁻¹;;; 5.599768941047182e-6 erg Å⁻¹ cm⁻² s⁻¹ sr⁻¹;;; … ;;; 6.53539687202572e-6 erg Å⁻¹ cm⁻² s⁻¹ sr⁻¹;;; 6.718324349220518e-6 erg Å⁻¹ cm⁻² s⁻¹ sr⁻¹;;; 6.442433186485836e-6 erg Å⁻¹ cm⁻² s⁻¹ sr⁻¹], Quantity{Float64, 𝐌 𝐋⁻¹ 𝐓⁻³, Unitful.FreeUnits{(Å⁻¹, erg, cm⁻², s⁻¹, sr⁻¹), 𝐌 𝐋⁻¹ 𝐓⁻³, nothing}}[3.624687573827562e-7 erg Å⁻¹ cm⁻² s⁻¹ sr⁻¹;;; 3.624687573827562e-7 erg Å⁻¹ cm⁻² s⁻¹ sr⁻¹;;; 3.624687573827562e-7 erg Å⁻¹ cm⁻² s⁻¹ sr⁻¹;;; … ;;; 1.4546485001599767e-7 erg Å⁻¹ cm⁻² s⁻¹ sr⁻¹;;; 1.4520397544872105e-7 erg Å⁻¹ cm⁻² s⁻¹ sr⁻¹;;; 1.4667836028561887e-7 erg Å⁻¹ cm⁻² s⁻¹ sr⁻¹], Bool[0;;; 0;;; 0;;; … ;;; 0;;; 0;;; 0], nothing, 1.6614302919399334e-10 sr, 145.89219°, 0.059372°, 0.0 rad, Quantity{Float64, NoDims, Unitful.FreeUnits{(″,), NoDims, nothing}}[2.658680776358274 ″, 2.658680776358274 ″, 2.658680776358274 ″, 2.658680776358274 ″, 2.658680776358274 ″, 2.658680776358274 ″, 2.658680776358274 ″, 2.658680776358274 ″, 2.658680776358274 ″, 2.658680776358274 ″  …  2.658680776358274 ″, 2.658680776358274 ″, 2.658680776358274 ″, 2.658680776358274 ″, 2.658680776358274 ″, 2.658680776358274 ″, 2.658680776358274 ″, 2.658680776358274 ″, 2.658680776358274 ″, 2.658680776358274 ″], Quantity{Float64, 𝐋 𝐓⁻¹, Unitful.FreeUnits{(km, s⁻¹), 𝐋 𝐓⁻¹, nothing}}[203.8479818802872 km s⁻¹, 203.80412914143074 km s⁻¹, 203.76173169258058 km s⁻¹, 203.7186163006607 km s⁻¹, 203.67567554354153 km s⁻¹, 203.63271538255563 km s⁻¹, 203.58950297130195 km s⁻¹, 203.5465234064493 km s⁻¹, 203.50428118853316 km s⁻¹, 203.4606030844775 km s⁻¹  …  129.77604902374028 km s⁻¹, 129.74650663661242 km s⁻¹, 129.7168769320842 km s⁻¹, 129.68726663142274 km s⁻¹, 129.65769513849477 km s⁻¹, 129.62789079916578 km s⁻¹, 129.59814467143704 km s⁻¹, 129.5684082456417 km s⁻¹, 129.53863301211283 km s⁻¹, 129.5088189708505 km s⁻¹], WCSTransform(naxis=3,cdelt=[0.0007385224378772984, 0.0007385224378772984, 8.77685546875e-11],crval=[145.89219, 0.059372, 3.806272705078125e-7],crpix=[1.0, 1.0, 1.0]), \"Generic Channel\", \"Generic Band\", 1, 1, 3835, Loki.SpectralRegion{Quantity{Float64, 𝐋, Unitful.FreeUnits{(Å,), 𝐋, nothing}}}((3726.979743238626 Å, 9010.67328345729 Å), Tuple{Quantity{Float64, 𝐋, Unitful.FreeUnits{(Å,), 𝐋, nothing}}, Quantity{Float64, 𝐋, Unitful.FreeUnits{(Å,), 𝐋, nothing}}}[], 1, BitVector[[1, 1, 1, 1, 1, 1, 1, 1, 1, 1  …  1, 1, 1, 1, 1, 1, 1, 1, 1, 1]], Quantity{Float64, 𝐋, Unitful.FreeUnits{(Å,), 𝐋, nothing}}[], Tuple{Quantity{Float64, 𝐋, Unitful.FreeUnits{(Å,), 𝐋, nothing}}, Quantity{Float64, 𝐋, Unitful.FreeUnits{(Å,), 𝐋, nothing}}}[], Loki.UVOptical), true, true, true, true, true, true, nothing), Spline1D(knots=[3726.98,3727.84 … 9008.6,9010.67] (3835 elements), k=1, extrapolation=\"nearest\", residual=0.0)), Dict{String, Tuple{Vector{<:Union{Quantity{Float64, 𝐋, Unitful.FreeUnits{(μm,), 𝐋, nothing}}, Quantity{Float64, 𝐋, Unitful.FreeUnits{(Å,), 𝐋, nothing}}}}, Vector{<:AbstractFloat}}}(\"dp\" => (Quantity{Float64, 𝐋, Unitful.FreeUnits{(μm,), 𝐋, nothing}}[4.872 μm, 4.901 μm, 4.93 μm, 4.958 μm, 4.987 μm, 5.015 μm, 5.044 μm, 5.072 μm, 5.101 μm, 5.13 μm  …  33.376 μm, 33.536 μm, 33.696 μm, 33.856 μm, 34.016 μm, 34.176 μm, 34.336 μm, 34.496 μm, 34.656 μm, 34.816 μm], [0.00013932881488852732, 0.00012685486467259, 0.00011438091445665264, 0.00010233710045505773, 8.98631502391204e-5, 7.781933623752588e-5, 6.534538602158853e-5, 5.3301572019993625e-5, 4.082762180405629e-5, 2.8353671588118956e-5  …  -0.010248753808906576, -0.008849555783209551, -0.008018046120299584, -0.007737073532587197, -0.0047568949322396225, -2.059222995799695e-5, 0.0010045279449709462, 0.0018514592908683103, 0.002922183468301147, 0.003849698889710785]), \"ohm\" => (Quantity{Float64, 𝐋, Unitful.FreeUnits{(μm,), 𝐋, nothing}}[0.00998911 μm, 0.0144932 μm, 0.0178575 μm, 0.0193776 μm, 0.0234454 μm, 0.0288864 μm, 0.03401 μm, 0.0411485 μm, 0.0535353 μm, 0.0690269 μm  …  41.5447 μm, 44.6626 μm, 47.1521 μm, 51.6185 μm, 55.4938 μm, 62.9911 μm, 67.7227 μm, 71.5013 μm, 80.4332 μm, 1000.0 μm], [80.35792803056988, 92.57227673224875, 96.21447502350316, 98.72196323549059, 98.72196323549059, 97.4602025521867, 92.57227673224875, 90.22099031451705, 90.22099031451705, 97.4602025521867  …  0.15092834394517635, 0.11973268358569357, 0.09746020255218671, 0.07632753305623508, 0.06212920293358144, 0.04504344741975528, 0.03810716463377603, 0.03265637791603, 0.025248574628261595, 0.0])), Dict{String, Dierckx.Spline1D}(\"dp\" => Spline1D(knots=[48720.0,49300.0 … 344960.0,348160.0] (359 elements), k=3, extrapolation=\"nearest\", residual=0.0), \"ohm\" => Spline1D(knots=[99.8911,178.575 … 715013.0,1.0e7] (78 elements), k=3, extrapolation=\"nearest\", residual=0.0)), Dict(:HeI_3889A => [1;;], :OI_06302A => [1;;], :HeII_4687A => [1;;], :HI_H_epsilon => [1;;], :OI_6048A => [1;;], :OII_3729A => [1;;], :HI_H_gamma => [1;;], :OIII_5008A => [1;;], :HI_H_alpha => [1;;], :NII_6550A => [1;;]…), Cosmology.FlatLCDM{Float64}(0.7, 0.73, 0.27, 0.0), Tuple{Quantity{Float64, 𝐋, Unitful.FreeUnits{(Å,), 𝐋, nothing}}, Quantity{Float64, 𝐋, Unitful.FreeUnits{(Å,), 𝐋, nothing}}}[(3720.8758796464986 Å, 3733.3081203535016 Å), (3723.654238102114 Å, 3736.095761897886 Å), (3863.4017749240643 Å, 3876.310225075936 Å), (3883.261596971335 Å, 3896.2364030286644 Å), (3883.677901490197 Å, 3896.654098509803 Å), (3961.974099333726 Å, 3975.211900666274 Å), (3964.5787479901046 Å, 3977.825252009896 Å), (4062.961389285657 Å, 4076.5366107143427 Å), (4070.6994620091477 Å, 4084.3005379908523 Å), (4096.057099369057 Å, 4109.742900630942 Å)  …  (6553.683372333056 Å, 6575.580627666944 Å), (6574.295936843689 Å, 6596.262063156312 Å), (6707.089091703074 Å, 6729.498908296926 Å), (6721.439118451552 Å, 6743.896881548448 Å), (7055.357272530025 Å, 7078.930727469976 Å), (7125.852502722753 Å, 7149.661497277246 Å), (7309.795206800051 Å, 7334.218793199948 Å), (7320.520289404679 Å, 7344.979710595321 Å), (7878.908442388227 Å, 7905.233557611773 Å), (7880.805273529322 Å, 7907.136726470677 Å)], 500.0 km s⁻¹, Number[0.0, 0.0, 0.0, 0.0, 0.0, 0.0], Number[0.0, 0.0, 0.0, 0.0, 0.0, 0.0, 0.0, 0.0, 0.0, 0.0  …  0.0, 0.0, 0.0, 0.0, 0.0, 0.0, 0.0, 0.0, 0.0, 0.0], Number[0.0, 0.0]), ParamMaps(Quantity{Float64}[0.3717738304583414;;; 0.44;;; 0.0;;; … ;;; 1.941612244276978 Gyr;;; -0.8;;; 0.4], Quantity{Float64}[0.008308234939021428;;; 0.0;;; 0.0;;; … ;;; NaN Gyr;;; NaN;;; NaN], Quantity{Float64}[0.008308234939021428;;; 0.0;;; 0.0;;; … ;;; NaN Gyr;;; NaN;;; NaN], Loki.AllParameters([\"extinction.E_BV\", \"extinction.E_BV_factor\", \"extinction.tau_97\", \"extinction.beta\", \"continuum.stellar_kinematics.vel\", \"continuum.stellar_kinematics.vdisp\", \"lines.OII_3727A.1.amp\", \"lines.OII_3727A.1.voff\", \"lines.OII_3727A.1.fwhm\", \"lines.OII_3727A.1.mixing\"  …  \"lines.FeXI_7894A.delta_v\", \"lines.FeXI_7894A.vmed\", \"lines.FeXI_7894A.vpeak\", \"statistics.chi2\", \"statistics.dof\", \"continuum.stellar_populations.mass\", \"continuum.stellar_populations.1.age\", \"continuum.stellar_populations.2.age\", \"continuum.stellar_populations.1.metallicity\", \"continuum.stellar_populations.2.metallicity\"], [\"\\$E(B-V)_{\\\\rm gas}\\$\", \"\\$E(B-V)_{\\\\rm stars}/E(B-V)_{\\\\rm gas}\\$\", \"\\$\\\\tau_{9.7}\\$\", \"\\$\\\\beta\\$\", \"\\$v_*\\$ (km s\\$^{-1}\\$)\", \"\\$\\\\sigma_*\\$ (km s\\$^{-1}\\$)\", \"\\$\\\\log_{10}(I / \\$ \\$\\\\mathrm{erg}\\\\,\\\\mathrm{s}^{-1}\\\\,\\\\mathrm{cm}^{-2}\\\\,\\\\mathrm{\\\\AA}^{-1}\\\\,\\\\mathrm{sr}^{-1}\\$\\$)\\$\", \"\\$v_{\\\\rm off}\\$ (km s\\$^{-1}\\$)\", \"FWHM (km s\\$^{-1}\\$)\", \"\\$\\\\eta\\$\"  …  \"\\$\\\\Delta v\\$ (km s\\$^{-1}\\$)\", \"\\$v_{\\\\rm med}\\$ (km s\\$^{-1}\\$)\", \"\\$v_{\\\\rm peak}\\$ (km s\\$^{-1}\\$)\", \"\\$\\\\chi^2\\$\", \"d.o.f.\", \"\\$\\\\log_{10}(M/M_\\\\odot)\\$\", \"Age (Gyr)\", \"Age (Gyr)\", \"\\$\\\\log_{10}(Z/Z_\\\\odot)\\$\", \"\\$\\\\log_{10}(Z/Z_\\\\odot)\\$\"], Vector{Loki.Transformation}[[], [], [], [], [], [], [Loki.RestframeTransform, Loki.NormalizeTransform, Loki.LogTransform], [], [], []  …  [], [], [], [], [], [Loki.LogTransform], [], [], [], []], Union{Loki.FitParameter, Loki.NonFitParameter}[\"Parameter: value = 0.0 | locked = false | limits = (0.0, 1.0)\", \"Parameter: value = 0.44 | locked = true | limits = (0.0, 10.0)\", \"Parameter: value = 0.0 | locked = true | limits = (0.0, 10.0)\", \"Parameter: value = 0.0 | locked = true | limits = (0.0, 1.0)\", \"Parameter: value = 0.0 km s⁻¹ | locked = false | limits = (-500.0 km s⁻¹, 500.0 km s⁻¹)\", \"Parameter: value = 100.0 km s⁻¹ | locked = false | limits = (0.0 km s⁻¹, 1000.0 km s⁻¹)\", \"Parameter: value = NaN | locked = false | limits = (0.0, Inf)\", \"Parameter: value = 0.0 km s⁻¹ | locked = false | limits = (-800.0 km s⁻¹, 800.0 km s⁻¹)\", \"Parameter: value = 500.0 km s⁻¹ | locked = false | limits = (0.0 km s⁻¹, 2000.0 km s⁻¹)\", \"Parameter: value = 1.0 | locked = true | limits = (0.0, 1.0)\"  …  Loki.NonFitParameter{Quantity{Float64, 𝐋 𝐓⁻¹, Unitful.FreeUnits{(km, s⁻¹), 𝐋 𝐓⁻¹, nothing}}}(Quantity{Float64, 𝐋 𝐓⁻¹, Unitful.FreeUnits{(km, s⁻¹), 𝐋 𝐓⁻¹, nothing}}), Loki.NonFitParameter{Quantity{Float64, 𝐋 𝐓⁻¹, Unitful.FreeUnits{(km, s⁻¹), 𝐋 𝐓⁻¹, nothing}}}(Quantity{Float64, 𝐋 𝐓⁻¹, Unitful.FreeUnits{(km, s⁻¹), 𝐋 𝐓⁻¹, nothing}}), Loki.NonFitParameter{Quantity{Float64, 𝐋 𝐓⁻¹, Unitful.FreeUnits{(km, s⁻¹), 𝐋 𝐓⁻¹, nothing}}}(Quantity{Float64, 𝐋 𝐓⁻¹, Unitful.FreeUnits{(km, s⁻¹), 𝐋 𝐓⁻¹, nothing}}), Loki.NonFitParameter{Float64}(Float64), Loki.NonFitParameter{Int64}(Int64), Loki.NonFitParameter{Quantity{Float64, 𝐌, Unitful.FreeUnits{(M⊙,), 𝐌, nothing}}}(Quantity{Float64, 𝐌, Unitful.FreeUnits{(M⊙,), 𝐌, nothing}}), Loki.NonFitParameter{Quantity{Float64, 𝐓, Unitful.FreeUnits{(Gyr,), 𝐓, nothing}}}(Quantity{Float64, 𝐓, Unitful.FreeUnits{(Gyr,), 𝐓, nothing}}), Loki.NonFitParameter{Quantity{Float64, 𝐓, Unitful.FreeUnits{(Gyr,), 𝐓, nothing}}}(Quantity{Float64, 𝐓, Unitful.FreeUnits{(Gyr,), 𝐓, nothing}}), Loki.NonFitParameter{Float64}(Float64), Loki.NonFitParameter{Float64}(Float64)])), CubeModel{Float32, Quantity{Float32, 𝐌 𝐋⁻¹ 𝐓⁻³, Unitful.FreeUnits{(Å⁻¹, erg, cm⁻², s⁻¹, sr⁻¹), 𝐌 𝐋⁻¹ 𝐓⁻³, nothing}}}(Quantity{Float32, 𝐌 𝐋⁻¹ 𝐓⁻³, Unitful.FreeUnits{(Å⁻¹, erg, cm⁻², s⁻¹, sr⁻¹), 𝐌 𝐋⁻¹ 𝐓⁻³, nothing}}[5.31479f-6 erg Å⁻¹ cm⁻² s⁻¹ sr⁻¹; 5.591304f-6 erg Å⁻¹ cm⁻² s⁻¹ sr⁻¹; … ; 6.304831f-6 erg Å⁻¹ cm⁻² s⁻¹ sr⁻¹; 6.307591f-6 erg Å⁻¹ cm⁻² s⁻¹ sr⁻¹;;;], Float32[0.41372293; 0.4137931; … ; 0.7198329; 0.71990967;;;], Float32[0.13455054; 0.13460238; … ; 0.4737253; 0.47384015;;;], Float32[1.0; 1.0; … ; 1.0; 1.0;;;;], nothing, nothing, Quantity{Float32, 𝐌 𝐋⁻¹ 𝐓⁻³, Unitful.FreeUnits{(Å⁻¹, erg, cm⁻², s⁻¹, sr⁻¹), 𝐌 𝐋⁻¹ 𝐓⁻³, nothing}}[5.537537f-6 erg Å⁻¹ cm⁻² s⁻¹ sr⁻¹; 5.865536f-6 erg Å⁻¹ cm⁻² s⁻¹ sr⁻¹; … ; 8.758742f-6 erg Å⁻¹ cm⁻² s⁻¹ sr⁻¹; 8.761642f-6 erg Å⁻¹ cm⁻² s⁻¹ sr⁻¹;;;], nothing, nothing, Array{Quantity{Float32, 𝐌 𝐋⁻¹ 𝐓⁻³, Unitful.FreeUnits{(Å⁻¹, erg, cm⁻², s⁻¹, sr⁻¹), 𝐌 𝐋⁻¹ 𝐓⁻³, nothing}}, 4}(undef, 3835, 1, 1, 0), Array{Quantity{Float32, 𝐌 𝐋⁻¹ 𝐓⁻³, Unitful.FreeUnits{(Å⁻¹, erg, cm⁻², s⁻¹, sr⁻¹), 𝐌 𝐋⁻¹ 𝐓⁻³, nothing}}, 4}(undef, 3835, 1, 1, 0), nothing, Array{Quantity{Float32, 𝐌 𝐋⁻¹ 𝐓⁻³, Unitful.FreeUnits{(Å⁻¹, erg, cm⁻², s⁻¹, sr⁻¹), 𝐌 𝐋⁻¹ 𝐓⁻³, nothing}}, 4}(undef, 3835, 1, 1, 0), Array{Float32, 4}(undef, 3835, 1, 1, 0), Array{Quantity{Float32, 𝐌 𝐋⁻¹ 𝐓⁻³, Unitful.FreeUnits{(Å⁻¹, erg, cm⁻², s⁻¹, sr⁻¹), 𝐌 𝐋⁻¹ 𝐓⁻³, nothing}}, 4}(undef, 3835, 1, 1, 0), Quantity{Float32, 𝐌 𝐋⁻¹ 𝐓⁻³, Unitful.FreeUnits{(Å⁻¹, erg, cm⁻², s⁻¹, sr⁻¹), 𝐌 𝐋⁻¹ 𝐓⁻³, nothing}}[1.8162405f-5 erg Å⁻¹ cm⁻² s⁻¹ sr⁻¹; 1.6796543f-5 erg Å⁻¹ cm⁻² s⁻¹ sr⁻¹; … ; 0.0f0 erg Å⁻¹ cm⁻² s⁻¹ sr⁻¹; 0.0f0 erg Å⁻¹ cm⁻² s⁻¹ sr⁻¹;;;; 4.3108157f-6 erg Å⁻¹ cm⁻² s⁻¹ sr⁻¹; 6.711107f-6 erg Å⁻¹ cm⁻² s⁻¹ sr⁻¹; … ; 0.0f0 erg Å⁻¹ cm⁻² s⁻¹ sr⁻¹; 0.0f0 erg Å⁻¹ cm⁻² s⁻¹ sr⁻¹;;;; 0.0f0 erg Å⁻¹ cm⁻² s⁻¹ sr⁻¹; 0.0f0 erg Å⁻¹ cm⁻² s⁻¹ sr⁻¹; … ; 0.0f0 erg Å⁻¹ cm⁻² s⁻¹ sr⁻¹; 0.0f0 erg Å⁻¹ cm⁻² s⁻¹ sr⁻¹;;;; … ;;;; 0.0f0 erg Å⁻¹ cm⁻² s⁻¹ sr⁻¹; 0.0f0 erg Å⁻¹ cm⁻² s⁻¹ sr⁻¹; … ; 0.0f0 erg Å⁻¹ cm⁻² s⁻¹ sr⁻¹; 0.0f0 erg Å⁻¹ cm⁻² s⁻¹ sr⁻¹;;;; 0.0f0 erg Å⁻¹ cm⁻² s⁻¹ sr⁻¹; 0.0f0 erg Å⁻¹ cm⁻² s⁻¹ sr⁻¹; … ; 0.0f0 erg Å⁻¹ cm⁻² s⁻¹ sr⁻¹; 0.0f0 erg Å⁻¹ cm⁻² s⁻¹ sr⁻¹;;;; 0.0f0 erg Å⁻¹ cm⁻² s⁻¹ sr⁻¹; 0.0f0 erg Å⁻¹ cm⁻² s⁻¹ sr⁻¹; … ; 0.0f0 erg Å⁻¹ cm⁻² s⁻¹ sr⁻¹; 0.0f0 erg Å⁻¹ cm⁻² s⁻¹ sr⁻¹]))"
      ]
     },
     "metadata": {},
     "output_type": "display_data"
    }
   ],
   "source": [
    "# To see a full list of keyword arguments, please refer to the docstring, which can be accessed by typing `?CubeFitter` in the command\n",
    "# line after importing Loki.\n",
    "\n",
    "cube_fitter = CubeFitter(\n",
    "    obs.channels[channel],\n",
    "    obs.z, \n",
    "    run_name; \n",
    "    parallel=false, \n",
    "    plot_spaxels=:both, \n",
    "    plot_maps=false,  # <= this disables plotting 2D parameter maps, which we do here because it's a 1x1 cube and maps wouldn't really be informative\n",
    "    save_fits=true,\n",
    "    extinction_curve=\"calz\", \n",
    "    linemask_width=500.0u\"km/s\"\n",
    ")\n",
    "\n",
    "# Call the fit_cube! function on the cube_fitter object, using the aperture we defined.\n",
    "fit_cube!(cube_fitter)"
   ]
  },
  {
   "attachments": {},
   "cell_type": "markdown",
   "id": "05295663",
   "metadata": {},
   "source": [
    "And the results can be found in the \"output_[run_name]\" directory!\n",
    "Here is our fit of the SDSS spectrum of spec-0266-51602-0001:\n",
    "\n",
    "![results_1D](./spec-0266-51602-0001.jpg)\n",
    "\n",
    "The orange line shows the final model.  The decomposed components of the model consist of:\n",
    "- Stellar continuum, in pink\n",
    "- Emission lines, in purple\n",
    "- Extinction, in dotted gray (read from the right axis)\n",
    "\n",
    "You will also notice that emission lines get nice labels at the top of the plot.\n",
    "\n",
    "The stellar population decomposition is also shown across a grid of age and metallicity here:\n",
    "\n",
    "![results_ssp](./spec-0266-51602-0001.stellar_grid.jpg)\n",
    "\n",
    "The upper panel shows the weights in luminosity fractions, while the lower panel shows them in mass fractions. As expected for a red galaxy, we have a stellar population of mostly older, metal-poor stars.  The total stellar mass calculated by this model is also shown in the title."
   ]
  }
 ],
 "metadata": {
  "kernelspec": {
   "display_name": "Julia 1.10.9",
   "language": "julia",
   "name": "julia-1.10"
  },
  "language_info": {
   "file_extension": ".jl",
   "mimetype": "application/julia",
   "name": "julia",
   "version": "1.10.9"
  }
 },
 "nbformat": 4,
 "nbformat_minor": 5
}
