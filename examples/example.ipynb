{
 "cells": [
  {
   "attachments": {},
   "cell_type": "markdown",
   "id": "faa40c44",
   "metadata": {},
   "source": [
    "# Likelihood Optimization of gas Kinematics in IFUs (LOKI)\n",
    "## Fitting example\n",
    "\n",
    "Michael Reefe"
   ]
  },
  {
   "attachments": {},
   "cell_type": "markdown",
   "id": "288ac322",
   "metadata": {},
   "source": [
    "First things first, we need to import the LOKI code. We can do so locally using the `Pkg` module. First we activate the LOKI module, then we instantiate, precompile, and finally import it with the following block of code.\n",
    "\n",
    "Some aspects of the code may utilize multiprocessing. To take advantage of this, we first must import the `Distributed` package and add parallel CPU processes. Then, our following imports must be encased in an `@everywhere` block to ensure they are loaded onto each CPU process individually."
   ]
  },
  {
   "cell_type": "code",
   "execution_count": 1,
   "id": "f0e24f14",
   "metadata": {},
   "outputs": [
    {
     "data": {
      "text/plain": [
       "4-element Vector{Int64}:\n",
       " 2\n",
       " 3\n",
       " 4\n",
       " 5"
      ]
     },
     "metadata": {},
     "output_type": "display_data"
    }
   ],
   "source": [
    "using Distributed\n",
    "procs = addprocs(Sys.CPU_THREADS)"
   ]
  },
  {
   "cell_type": "code",
   "execution_count": 2,
   "id": "df851689",
   "metadata": {},
   "outputs": [
    {
     "name": "stderr",
     "output_type": "stream",
     "text": [
      "\u001b[32m\u001b[1m  Activating\u001b[22m\u001b[39m project at `~/Dropbox/Astrophysics/Phoenix_Cluster/Loki`\n"
     ]
    },
    {
     "name": "stdout",
     "output_type": "stream",
     "text": [
      "      From worker 4:\t\u001b[32m\u001b[1m  Activating\u001b[22m\u001b[39m project at `~/Dropbox/Astrophysics/Phoenix_Cluster/Loki`\n",
      "      From worker 3:\t\u001b[32m\u001b[1m  Activating\u001b[22m\u001b[39m project at `~/Dropbox/Astrophysics/Phoenix_Cluster/Loki`\n",
      "      From worker 5:\t\u001b[32m\u001b[1m  Activating\u001b[22m\u001b[39m project at `~/Dropbox/Astrophysics/Phoenix_Cluster/Loki`\n",
      "      From worker 2:\t\u001b[32m\u001b[1m  Activating\u001b[22m\u001b[39m project at `~/Dropbox/Astrophysics/Phoenix_Cluster/Loki`\n"
     ]
    }
   ],
   "source": [
    "@everywhere begin\n",
    "    using Pkg\n",
    "    Pkg.activate(dirname(@__DIR__))\n",
    "    Pkg.instantiate()\n",
    "    Pkg.precompile()\n",
    "    using Loki\n",
    "end"
   ]
  },
  {
   "attachments": {},
   "cell_type": "markdown",
   "id": "ff1c7a50",
   "metadata": {},
   "source": [
    "### NOTE 1: \n",
    "\n",
    "Alternatively, we could have started julia with the command-line argument `--project=/path/to/Loki`. This is my preferred way of starting the code, but this is difficult to demonstrate using a Jupyter notebook. If you choose to start julia this way, the above block is unnecessary since the project is already activated and precompiled. You would just need to add a single line like `@everywhere using Loki`. Additionally, you would have to modify the `addprocs` call with the argument `exeflags=\"--project=/path/to/Loki\"`, which tells the Distributed module that the worker processes should also be started using the Loki project.  \n",
    "\n",
    "So, all together, in your file (let's call it `example.jl`) you would have:\n",
    "```julia\n",
    "using Distributed\n",
    "procs = addprocs(Sys.CPU_THREADS, exeflags=\"--project=/path/to/Loki\")\n",
    "@everywhere using Loki\n",
    "```\n",
    "And from the terminal you would start the code using:\n",
    "`julia --project=/path/to/Loki example.jl`"
   ]
  },
  {
   "attachments": {},
   "cell_type": "markdown",
   "id": "2ad11bf4",
   "metadata": {},
   "source": [
    "### NOTE 2:\n",
    "\n",
    "If you plan on running Loki in a High-Performance Computing (HPC) environment, you can also take advantage of julia's built-in distributed package in a very similar way. In fact, if you plan on running on only a single node, then no changes should be necessary at all from the above example. However, if you wish to spread out over multiple nodes, some changes will be required, since by default the above will only add additional processes onto one node. If you cluster uses Slurm, then you can use the `SlurmClusterManager` package like so:\n",
    "\n",
    "```julia\n",
    "using Distributed\n",
    "using SlurmClusterManager\n",
    "procs = addprocs(SlurmManager(), exeflags=\"--project=/path/to/Loki\")\n",
    "@everywhere using Loki\n",
    "```\n",
    "\n",
    "Then, you would start julia from within an sbatch script specifying how many nodes, tasks, and CPUs you need. I strongly recommend using the `\"--project\"` flag approach described above when on a cluster, as I have run into strange issues with the other approach causing julia to start thinking pid files are stale and removing them."
   ]
  },
  {
   "attachments": {},
   "cell_type": "markdown",
   "id": "2862b182",
   "metadata": {},
   "source": [
    "Now we want to load in our data. For this example, we'll be using the channel 1 data for NGC 7469, which is located in the same folder as this notebook. Unfortunately the JWST reduced data does not include a redshift, so we must provide the redshift ourselves.  We can use the `from_fits` function to load in the JWST-formatted FITS files, along with the redshift."
   ]
  },
  {
   "cell_type": "code",
   "execution_count": 11,
   "id": "08c04fee",
   "metadata": {},
   "outputs": [
    {
     "name": "stdout",
     "output_type": "stream",
     "text": [
      "\u001b[36m\u001b[1m[ \u001b[22m\u001b[39m\u001b[36m\u001b[1mInfo: \u001b[22m\u001b[39mInitializing DataCube struct from Level3_ch1-medium_s3d.fits\n"
     ]
    }
   ],
   "source": [
    "# The redshift of the target object: NGC 7469\n",
    "z = 0.016317\n",
    "# The semicolon at the end suppresses printing the output Observation object, which is long and not very enlightening\n",
    "# obs = from_fits([\"Level3_ch1-long_s3d.fits\", \"Level3_ch1-medium_s3d.fits\", \"Level3_ch1-short_s3d.fits\"], z);\n",
    "obs = from_fits([\"Level3_ch1-medium_s3d.fits\"], z);"
   ]
  },
  {
   "attachments": {},
   "cell_type": "markdown",
   "id": "aea827e4",
   "metadata": {},
   "source": [
    "Next, we create some variables that we will use later. We will be fitting channel 1 data, and we can take the `name` property from the Observation object we just loaded in to get the name of the target. Here, `run_name` is just a unique identifier that we will use for this run."
   ]
  },
  {
   "cell_type": "code",
   "execution_count": 12,
   "id": "8f602574",
   "metadata": {},
   "outputs": [
    {
     "data": {
      "text/plain": [
       "\"NGC_7469_chB1_nuc_aperture\""
      ]
     },
     "metadata": {},
     "output_type": "display_data"
    }
   ],
   "source": [
    "# channel = 1\n",
    "channel = :B1\n",
    "nm = replace(obs.name, \" \" => \"_\") \n",
    "run_name = \"$(nm)_ch$(channel)_nuc_aperture\""
   ]
  },
  {
   "attachments": {},
   "cell_type": "markdown",
   "id": "4f793d58",
   "metadata": {},
   "source": [
    "Before fitting, we want to do some pre-processing on the data. We have three separate sub-channel cubes (\"short\", \"medium\", and \"long\") that we would like to combine into a single full-channel cube. We also want to convert the data to the rest-frame and mask out / interpolate any bad data points.  All of this is achieved in the next block of code.  Importantly, even if you already have full-channel data, you may want to consider using the sub-channel data and combining them using the methodology below. The reasoning for this is that, at least as of early 2023, the MIRI data processing pipeline can sometimes leave large discontinuous jumps in the continuum level between sub-channel and channel boundaries due to small misalignments in the WCS grids.  The `combine_channels!` function attempts to minimize this problem by adjusting the WCS parameters based on centroiding the images, and it also allows for a constrained rescaling factor (<50%) to be applied between channels."
   ]
  },
  {
   "cell_type": "code",
   "execution_count": 13,
   "id": "3dfbae1c",
   "metadata": {},
   "outputs": [
    {
     "name": "stdout",
     "output_type": "stream",
     "text": [
      "Calculating statistical errors for each spaxel...\n"
     ]
    },
    {
     "name": "stderr",
     "output_type": "stream",
     "text": [
      "\u001b[32mProgress: 100%|█████████████████████████████████████████| Time: 0:00:17\u001b[39m\u001b[K\n"
     ]
    },
    {
     "name": "stdout",
     "output_type": "stream",
     "text": [
      "\u001b[36m\u001b[1m[ \u001b[22m\u001b[39m\u001b[36m\u001b[1mInfo: \u001b[22m\u001b[39mWriting FITS file from Observation object\n"
     ]
    }
   ],
   "source": [
    "if isfile(\"$nm.channel$channel.rest_frame.fits\")\n",
    "    # If we've already performed this step in a previous run, just load in the pre-processed data\n",
    "    obs = from_fits([\"$nm.channel$channel.rest_frame.fits\"], obs.z);\n",
    "    \n",
    "else\n",
    "    # Convert to rest-frame wavelength vector, and mask out bad spaxels\n",
    "    correct!(obs)\n",
    "    \n",
    "    # Reproject the sub-channels onto the same WCS grid and combine them into one full channel\n",
    "    # - The [:A1, :B1, :C1] vector gives the names of each channel to concatenate. By default, JWST subchannels are\n",
    "    #   given labels of \"A\" for short, \"B\" for medium, and \"C\" for long, followed by the channel number.  \n",
    "    # - The \"out_id\" argument will determine the label given to the combined channel data. \n",
    "    # combine_channels!(obs, [:A1,:B1,:C1], out_id=channel)\n",
    "\n",
    "    # the input data cubes are already in the sky frame, so we dont need to use the rotate_to_sky_axes! function\n",
    "    \n",
    "    # We interpolate any rogue NaNs using a linear interpolation, since the MPFIT minimizer does not handle NaNs well.\n",
    "    interpolate_nans!(obs.channels[channel])\n",
    "\n",
    "    # Finally, we calculate the statistical errors (i.e. the standard deviation of the residuals with a cubic spline fit)\n",
    "    # and replace the errors in the cube with these, since the provided errors are typically underestimated.\n",
    "    # You can skip this step if you wish to use the default errors.\n",
    "    calculate_statistical_errors!(obs.channels[channel])\n",
    "    \n",
    "    # Save the pre-processed data as a FITS file so it can be quickly reloaded later\n",
    "    save_fits(\".\", obs, [channel]);\n",
    "end"
   ]
  },
  {
   "attachments": {},
   "cell_type": "markdown",
   "id": "338875b8",
   "metadata": {},
   "source": [
    "We next create an aperture to define the region of interest that we would like to fit. We can do this with the `make_aperture` function. We can customize the aperture's shape, centroid, radius, etc."
   ]
  },
  {
   "cell_type": "code",
   "execution_count": 14,
   "id": "757e7d95",
   "metadata": {},
   "outputs": [
    {
     "name": "stdout",
     "output_type": "stream",
     "text": [
      "\u001b[36m\u001b[1m[ \u001b[22m\u001b[39m\u001b[36m\u001b[1mInfo: \u001b[22m\u001b[39mCreating a circular aperture at 23:03:15.610, +8:52:26.10\n",
      "\u001b[36m\u001b[1m[ \u001b[22m\u001b[39m\u001b[36m\u001b[1mInfo: \u001b[22m\u001b[39mAperture centroid adjusted to -0h56m44.38569300100127s, 8d52m26.12090632736212s\n"
     ]
    },
    {
     "data": {
      "text/plain": [
       "9×8 Photometry.Aperture.CircularAperture{Float64} with indices 20:28×19:26:\n",
       " 0.0         0.0       0.0372539  0.228876  …  0.0204693  0.0       0.0\n",
       " 0.0         0.374826  0.935547   1.0          0.897961   0.285587  0.0\n",
       " 0.283437    0.995886  1.0        1.0          1.0        0.973664  0.178833\n",
       " 0.742123    1.0       1.0        1.0          1.0        1.0       0.615297\n",
       " 0.897838    1.0       1.0        1.0          1.0        1.0       0.771013\n",
       " 0.786372    1.0       1.0        1.0       …  1.0        1.0       0.659546\n",
       " 0.380034    1.0       1.0        1.0          1.0        0.996642  0.256566\n",
       " 0.00176909  0.533396  0.991837   1.0          0.974882   0.425294  0.0\n",
       " 0.0         0.0       0.143649   0.39156      0.106232   0.0       0.0"
      ]
     },
     "metadata": {},
     "output_type": "display_data"
    }
   ],
   "source": [
    "# - The first argument is the data cube\n",
    "# - The second argument is the aperture shape, which may be one of: (Circular, Rectangular, Elliptical)\n",
    "# - Next are the right ascension in sexagesimal hours and the declination in sexagesimal degrees\n",
    "# - The next arguments depend on the aperture shape:\n",
    "#    - For circles, it is the radius in arcseconds\n",
    "#    - For rectangles, it is the width in arcseconds, height in arcseconds, and rotation angle in degrees\n",
    "#    - For ellipses, it is the semimajor axis in arcseconds, semiminor axis in arcseconds, and rotation angle in degrees\n",
    "# - The auto_centroid argument, if true, will adjust the aperture centroid to the closest peak in brightness\n",
    "# - The scale_psf argument, if true, will create a series of apertures with increasing radii that scale at the same rate as the PSF\n",
    "ap = make_aperture(obs.channels[channel], :Circular, \"23:03:15.610\", \"+8:52:26.10\", 0.5, auto_centroid=true)"
   ]
  },
  {
   "attachments": {},
   "cell_type": "markdown",
   "id": "baaa4ddb",
   "metadata": {},
   "source": [
    "Finally, we create the `CubeFitter` object and call the `fit_cube!` function to fit the data. To ensure we fit the data within the aperture, we must provide the `ap` argument.\n",
    "\n",
    "If you instead wish to fit each spaxel individually, you may omit the `ap` argument. Be warned that this will take substantially longer. If you wish to fit each spaxel individually, it is recommended to enable the \"parallel\" option to allow multiple spaxels to be fit simultaneously. Doing this will also allow the code to produce 2D parameter maps of each fit parameter."
   ]
  },
  {
   "cell_type": "code",
   "execution_count": 15,
   "id": "de75b965",
   "metadata": {},
   "outputs": [
    {
     "name": "stdout",
     "output_type": "stream",
     "text": [
      "\u001b[36m\u001b[1m[ \u001b[22m\u001b[39m\u001b[36m\u001b[1mInfo: \u001b[22m\u001b[39mPreparing output directories\n",
      "\u001b[36m\u001b[1m┌ \u001b[22m\u001b[39m\u001b[36m\u001b[1mInfo: \u001b[22m\u001b[39m\n",
      "\u001b[36m\u001b[1m│ \u001b[22m\u001b[39m\n",
      "\u001b[36m\u001b[1m│ \u001b[22m\u001b[39m#############################################################################\n",
      "\u001b[36m\u001b[1m│ \u001b[22m\u001b[39m######## BEGINNING FULL CUBE FITTING ROUTINE FOR NGC_7469_chB1_nuc_aperture_mir ########\n",
      "\u001b[36m\u001b[1m│ \u001b[22m\u001b[39m#############################################################################\n",
      "\u001b[36m\u001b[1m│ \u001b[22m\u001b[39m\n",
      "\u001b[36m\u001b[1m│ \u001b[22m\u001b[39m------------------------\n",
      "\u001b[36m\u001b[1m│ \u001b[22m\u001b[39mWorker Processes:     4\n",
      "\u001b[36m\u001b[1m│ \u001b[22m\u001b[39mThreads per process:  1\n",
      "\u001b[36m\u001b[1m└ \u001b[22m\u001b[39m------------------------\n",
      "\u001b[36m\u001b[1m[ \u001b[22m\u001b[39m\u001b[36m\u001b[1mInfo: \u001b[22m\u001b[39m===> Preparing output data structures... <===\n",
      "\u001b[36m\u001b[1m[ \u001b[22m\u001b[39m\u001b[36m\u001b[1mInfo: \u001b[22m\u001b[39mPerforming aperture photometry to get an integrated spectrum...\n",
      "\u001b[36m\u001b[1m[ \u001b[22m\u001b[39m\u001b[36m\u001b[1mInfo: \u001b[22m\u001b[39m===> Beginning integrated spectrum fitting... <===\n",
      "\u001b[36m\u001b[1m[ \u001b[22m\u001b[39m\u001b[36m\u001b[1mInfo: \u001b[22m\u001b[39m===> Generating parameter maps and model cubes... <===\n",
      "\u001b[36m\u001b[1m[ \u001b[22m\u001b[39m\u001b[36m\u001b[1mInfo: \u001b[22m\u001b[39m===> Writing FITS outputs... <===\n",
      "\u001b[36m\u001b[1m┌ \u001b[22m\u001b[39m\u001b[36m\u001b[1mInfo: \u001b[22m\u001b[39m\n",
      "\u001b[36m\u001b[1m│ \u001b[22m\u001b[39m\n",
      "\u001b[36m\u001b[1m│ \u001b[22m\u001b[39m#############################################################################\n",
      "\u001b[36m\u001b[1m│ \u001b[22m\u001b[39m################################### Done!! ##################################\n",
      "\u001b[36m\u001b[1m└ \u001b[22m\u001b[39m#############################################################################\n"
     ]
    },
    {
     "data": {
      "text/plain": [
       "(CubeFitter{Float64, Int64, ComplexF64}(DataCube([5.569521957619528, 5.570309113575584, 5.571096269531639, 5.571883425487694, 5.57267058144375, 5.573457737399805, 5.57424489335586, 5.575032049311916, 5.575819205267971, 5.576606361224026  …  6.516470572754108, 6.517257728710163, 6.518044884666219, 6.518832040622274, 6.519619196578329, 6.520406352534385, 6.52119350849044, 6.521980664446495, 6.522767820402551, 6.523554976358606], [NaN NaN … NaN NaN; NaN NaN … NaN NaN; … ; NaN NaN … NaN NaN; NaN NaN … NaN NaN;;; NaN NaN … NaN NaN; NaN NaN … NaN NaN; … ; NaN NaN … NaN NaN; NaN NaN … NaN NaN;;; NaN NaN … NaN NaN; NaN NaN … NaN NaN; … ; NaN NaN … NaN NaN; NaN NaN … NaN NaN;;; … ;;; NaN NaN … NaN NaN; NaN NaN … NaN NaN; … ; NaN NaN … NaN NaN; NaN NaN … NaN NaN;;; NaN NaN … NaN NaN; NaN NaN … NaN NaN; … ; NaN NaN … NaN NaN; NaN NaN … NaN NaN;;; NaN NaN … NaN NaN; NaN NaN … NaN NaN; … ; NaN NaN … NaN NaN; NaN NaN … NaN NaN], [NaN NaN … NaN NaN; NaN NaN … NaN NaN; … ; NaN NaN … NaN NaN; NaN NaN … NaN NaN;;; NaN NaN … NaN NaN; NaN NaN … NaN NaN; … ; NaN NaN … NaN NaN; NaN NaN … NaN NaN;;; NaN NaN … NaN NaN; NaN NaN … NaN NaN; … ; NaN NaN … NaN NaN; NaN NaN … NaN NaN;;; … ;;; NaN NaN … NaN NaN; NaN NaN … NaN NaN; … ; NaN NaN … NaN NaN; NaN NaN … NaN NaN;;; NaN NaN … NaN NaN; NaN NaN … NaN NaN; … ; NaN NaN … NaN NaN; NaN NaN … NaN NaN;;; NaN NaN … NaN NaN; NaN NaN … NaN NaN; … ; NaN NaN … NaN NaN; NaN NaN … NaN NaN], Bool[1 1 … 1 1; 1 1 … 1 1; … ; 1 1 … 1 1; 1 1 … 1 1;;; 1 1 … 1 1; 1 1 … 1 1; … ; 1 1 … 1 1; 1 1 … 1 1;;; 1 1 … 1 1; 1 1 … 1 1; … ; 1 1 … 1 1; 1 1 … 1 1;;; … ;;; 1 1 … 1 1; 1 1 … 1 1; … ; 1 1 … 1 1; 1 1 … 1 1;;; 1 1 … 1 1; 1 1 … 1 1; … ; 1 1 … 1 1; 1 1 … 1 1;;; 1 1 … 1 1; 1 1 … 1 1; … ; 1 1 … 1 1; 1 1 … 1 1], nothing, 3.97217570860291e-13, 345.8150416666667, 8.873894444444446, -0.0, [0.20279319496426618, 0.20281959496359925, 0.20284599496293237, 0.20287239496226545, 0.20289879496159852, 0.2029251949609316, 0.20295159496026466, 0.20297799495959773, 0.2030043949589308, 0.20303079495826393  …  0.23455239416196133, 0.2345787941612944, 0.23460519416062747, 0.23463159415996054, 0.23465799415929361, 0.23468439415862674, 0.2347107941579598, 0.23473719415729288, 0.23476359415662595, 0.23478999415595903], [80.59207720192467, 80.60785550100947, 80.62363997944789, 80.63943064087071, 80.6552274889116, 80.67103052720704, 80.68683975939639, 80.70265518912181, 80.71847682002839, 80.734304655764  …  82.48533953192909, 82.52376970679452, 82.5622357078262, 82.6007375851454, 82.63927538896688, 82.67784916959926, 82.71645897744503, 82.76105308314152, 82.81609740152483, 82.87121498851414], WCSTransform(naxis=3,cdelt=[3.61111097865634e-5, 3.61111097865634e-5, 7.999999797902999e-10],crval=[-14.1849374145667, 8.87390670833446, 5.660399847402005e-6],crpix=[24.0, 22.0, 1.0]), \"1\", \"MEDIUM\", 47, 43, 1213, :MIR, true, true, true, true, nothing), 0.016317, \"NGC_7469_chB1_nuc_aperture_mir\", :MIR, Tuple[], :both, true, nothing, false, \"pmap\", true, false, false, false, true, false, 0.0, \"kvt\", false, Dierckx.Spline1D[Spline1D(knots=[0.2,0.24 … 100.0,500.0] (107 elements), k=3, extrapolation=\"nearest\", residual=0.0), Spline1D(knots=[0.2,0.24 … 100.0,500.0] (107 elements), k=3, extrapolation=\"nearest\", residual=0.0), Spline1D(knots=[7.80481,8.00481 … 12.971,13.171] (114 elements), k=3, extrapolation=\"nearest\", residual=0.0)], nothing, nothing, true, true, false, nothing, false, false, false, false, false, false, false, false, Bool[0], Bool[0], true, Loki.MIRContinuum(\"Parameter: value = 5000.0 | locked = true | limits = (4999.9, 5000.1)\", Parameter[\"Parameter: value = 400.0 | locked = false | limits = (35.0, 1500.0)\", \"Parameter: value = 300.0 | locked = false | limits = (35.0, 300.0)\", \"Parameter: value = 100.0 | locked = false | limits = (35.0, 300.0)\"], Parameter[], \"Parameter: value = 0.1 | locked = false | limits = (0.0, 3.0)\", \"Parameter: value = 0.0017 | locked = false | limits = (0.0, 0.003)\", \"Parameter: value = 0.03 | locked = false | limits = (0.0, 3.0)\", \"Parameter: value = 0.06 | locked = false | limits = (0.0, 3.0)\", \"Parameter: value = 0.48 | locked = true | limits = (0.43, 0.53)\", \"Parameter: value = 0.0 | locked = true | limits = (0.0, 1.0)\", \"Parameter: value = 0.1 | locked = true | limits = (0.0, 1.0)\", \"Parameter: value = 1.0 | locked = true | limits = (0.5, 1.0)\", \"Parameter: value = 1200.0 | locked = false | limits = (800.0, 1600.0)\", \"Parameter: value = 0.5 | locked = false | limits = (0.0, 1.0)\", \"Parameter: value = 0.1 | locked = false | limits = (0.0, 100.0)\", \"Parameter: value = 0.1 | locked = false | limits = (0.0, 100.0)\", \"Parameter: value = 10.0178 | locked = true | limits = (10.0, 10.8)\", Parameter[]), 1, BitVector[[1, 1, 1, 1, 1, 1, 1, 1, 1, 1  …  1, 1, 1, 1, 1, 1, 1, 1, 1, 1]], 3, 0, 8, 0, 0, Array{Float64, 4}(undef, 47, 43, 1213, 0), String[], DustFeatures([\"PAH_525\", \"PAH_527\", \"PAH_570\", \"PAH_587\", \"PAH_600\", \"PAH_621\", \"PAH_633\", \"PAH_670\"], [:Drude, :Drude, :Drude, :Drude, :Drude, :Drude, :Drude, :Drude], Parameter[\"Parameter: value = 5.253 | locked = false | limits = (5.203, 5.303)\", \"Parameter: value = 5.266 | locked = false | limits = (5.216, 5.316)\", \"Parameter: value = 5.699 | locked = false | limits = (5.649, 5.749)\", \"Parameter: value = 5.856 | locked = false | limits = (5.806, 5.906)\", \"Parameter: value = 6.019 | locked = false | limits = (5.969, 6.069)\", \"Parameter: value = 6.214 | locked = false | limits = (6.164000000000001, 6.264)\", \"Parameter: value = 6.329 | locked = false | limits = (6.279, 6.379)\", \"Parameter: value = 6.705 | locked = false | limits = (6.655, 6.755)\"], Parameter[\"Parameter: value = 0.032 | locked = false | limits = (0.028800000000000003, 0.0352)\", \"Parameter: value = 0.138 | locked = false | limits = (0.12420000000000002, 0.15180000000000002)\", \"Parameter: value = 0.153 | locked = false | limits = (0.1377, 0.1683)\", \"Parameter: value = 0.119 | locked = false | limits = (0.1071, 0.13090000000000002)\", \"Parameter: value = 0.085 | locked = false | limits = (0.07650000000000001, 0.09350000000000001)\", \"Parameter: value = 0.105 | locked = false | limits = (0.0945, 0.1155)\", \"Parameter: value = 0.206 | locked = false | limits = (0.18539999999999998, 0.2266)\", \"Parameter: value = 0.515 | locked = false | limits = (0.4635, 0.5665000000000001)\"], Union{Nothing, Parameter}[nothing, nothing, nothing, nothing, nothing, nothing, nothing, nothing], Union{Nothing, Parameter}[nothing, nothing, nothing, nothing, nothing, nothing, nothing, nothing], Union{Nothing, String}[nothing, nothing, nothing, nothing, nothing, \"6.2\", \"6.2\", nothing], Bool[0, 0, 0, 0, 0, 0, 0, 0]), DustFeatures(String[], Symbol[], Parameter[], Parameter[], Union{Nothing, Parameter}[], Union{Nothing, Parameter}[], Union{Nothing, String}[], Bool[]), Parameter[], 0, nothing, nothing, nothing, 0.0, 0.0, 0.0, 0, 2, 2, 2, Dict(:MgV_5609 => [1 1 … 1 1; 1 1 … 1 1; … ; 1 1 … 1 1; 1 1 … 1 1], :H200_S6 => [1 1 … 1 1; 1 1 … 1 1; … ; 1 1 … 1 1; 1 1 … 1 1]), Bool[0, 0, 0], TransitionLines([:MgV_5609, :H200_S6], [\"[Mg \\$\\\\textsc{v}\\$]\", \"H\\$_2\\$ 0-0 \\$S(6)\\$\"], Bool[1, 1], AbstractFloat[5.60985, 6.10857], [-1, -1], Union{Nothing, Symbol}[:Voigt :Voigt; :Voigt :Voigt], Union{Nothing, Symbol}[nothing nothing; nothing nothing], Union{Nothing, Symbol}[:hi :hi; :H2 :H2], Union{Nothing, Symbol}[:hi :hi; :H2 :H2], Union{Nothing, Parameter}[\"Parameter: value = 0.1 | locked = false | limits = (0.0, 1.0)\"; \"Parameter: value = 0.1 | locked = false | limits = (0.0, 1.0)\";;], Union{Nothing, Parameter}[\"Parameter: value = 0.0 | locked = false | limits = (-800.0, 800.0)\" \"Parameter: value = 0.0 | locked = false | limits = (-800.0, 800.0)\"; \"Parameter: value = 0.0 | locked = false | limits = (-800.0, 800.0)\" \"Parameter: value = 0.0 | locked = false | limits = (-800.0, 800.0)\"], Union{Nothing, Parameter}[\"Parameter: value = 300.0 | locked = false | limits = (0.0, 1500.0)\" \"Parameter: value = 300.0 | locked = false | limits = (0.0, 1500.0)\"; \"Parameter: value = 300.0 | locked = false | limits = (0.0, 1500.0)\" \"Parameter: value = 300.0 | locked = false | limits = (0.0, 1500.0)\"], Union{Nothing, Parameter}[nothing nothing; nothing nothing], Union{Nothing, Parameter}[nothing nothing; nothing nothing], Union{Nothing, Parameter}[\"Parameter: value = 1.0 | locked = false | limits = (0.0, 1.0)\" \"Parameter: value = 1.0 | locked = false | limits = (0.0, 1.0)\"; \"Parameter: value = 1.0 | locked = false | limits = (0.0, 1.0)\" \"Parameter: value = 1.0 | locked = false | limits = (0.0, 1.0)\"], [[:OII_03727, :OII_03729]], false, false, false), TiedKinematics([Symbol[], Symbol[]], Vector{Dict{Symbol, <:Real}}[[], []], [[:hi, :H2], [:hi, :H2]], Vector{Parameter}[[\"Parameter: value = 0.0 | locked = false | limits = (-800.0, 800.0)\", \"Parameter: value = 0.0 | locked = false | limits = (-800.0, 800.0)\"], [\"Parameter: value = 0.0 | locked = false | limits = (-800.0, 800.0)\", \"Parameter: value = 0.0 | locked = false | limits = (-800.0, 800.0)\"]], [[:hi, :H2], [:hi, :H2]], Vector{Parameter}[[\"Parameter: value = 100.0 | locked = false | limits = (0.0, 1500.0)\", \"Parameter: value = 100.0 | locked = false | limits = (0.0, 1500.0)\"], [\"Parameter: value = 100.0 | locked = false | limits = (0.0, 1500.0)\", \"Parameter: value = 100.0 | locked = false | limits = (0.0, 1500.0)\"]]), true, \"Parameter: value = 1.0 | locked = true | limits = (0.0, 1.0)\", 43, 16, 46, Cosmology.FlatLCDM{Float64}(0.7, 0.73, 0.27, 0.0), false, 0, 123456789, :med, Vector{Symbol}[], 0.003, true, false, 3, 3, 3.0, Tuple{Float64, Float64}[], 3.0, :flux, [0.0, 0.0, 0.0, 0.0, 0.0, 0.0, 0.0, 0.0, 0.0, 0.0  …  0.0, 0.0, 0.0, 0.0, 0.0, 0.0, 0.0, 0.0, 0.0, 0.0], [0.0, 0.0, 0.0, 0.0, 0.0, 0.0, 0.0, 0.0, 0.0, 0.0, 0.0, 0.0, 0.0, 0.0, 0.0, 0.0], [0.0, 0.0], nothing, nothing, nothing, nothing, nothing, nothing, Bool[0], [1.0]), ParamMaps{Float64}([-8.08572439577531;;; 5000.0;;; -5.711139263848397;;; … ;;; 2.5663430454971574;;; 2311.929566756858;;; 1164.0], [31.96906036593506;;; 0.0;;; 89.97163865478245;;; … ;;; -37.40316741659554;;; 0.0;;; 0.0], [31.96906036593506;;; 0.0;;; 89.97163865478245;;; … ;;; -37.40316741659554;;; 0.0;;; 0.0], [\"continuum.stellar.amp\", \"continuum.stellar.temp\", \"continuum.dust.1.amp\", \"continuum.dust.1.temp\", \"continuum.dust.2.amp\", \"continuum.dust.2.temp\", \"continuum.dust.3.amp\", \"continuum.dust.3.temp\", \"extinction.tau_9_7\", \"extinction.tau_ice\"  …  \"lines.H200_S6.2.flux\", \"lines.H200_S6.2.eqw\", \"lines.H200_S6.2.SNR\", \"lines.H200_S6.n_comps\", \"lines.H200_S6.w80\", \"lines.H200_S6.delta_v\", \"lines.H200_S6.vmed\", \"lines.H200_S6.vpeak\", \"statistics.chi2\", \"statistics.dof\"], [\"-\", \"K\", \"-\", \"K\", \"-\", \"K\", \"-\", \"K\", \"-\", \"-\"  …  \"log(erg.s-1.cm-2)\", \"um\", \"-\", \"-\", \"km/s\", \"km/s\", \"km/s\", \"km/s\", \"-\", \"-\"], AbstractString[L\"$\\log_{10}(A_{*})$\", L\"$T$ (K)\", L\"$\\log_{10}(A_{\\rm dust})$\", L\"$T$ (K)\", L\"$\\log_{10}(A_{\\rm dust})$\", L\"$T$ (K)\", L\"$\\log_{10}(A_{\\rm dust})$\", L\"$T$ (K)\", L\"$\\tau_{9.7}$\", L\"$\\tau_{\\rm ice}$\"  …  \"\\$\\\\log_{10}(F /\\$ erg s\\$^{-1}\\$ cm\\$^{-2}\\$)\", \"\\$W_{\\\\rm eq}\\$ (\\$\\\\mu\\$m)\", \"\\$S/N\\$\", \"\\$n_{\\\\rm comp}\\$\", \"\\$W_{80}\\$ (km s\\$^{-1}\\$)\", \"\\$\\\\Delta v\\$ (km s\\$^{-1}\\$)\", \"\\$v_{\\\\rm med}\\$ (km s\\$^{-1}\\$)\", \"\\$v_{\\\\rm peak}\\$ (km s\\$^{-1}\\$)\", L\"$\\chi^2$\", \"d.o.f.\"], [1, 0, 1, 0, 1, 0, 1, 0, 0, 0  …  0, 2, 0, 0, 0, 0, 0, 0, 0, 0], Bool[1, 0, 1, 0, 1, 0, 1, 0, 0, 0  …  1, 0, 0, 0, 0, 0, 0, 0, 0, 0], Bool[0, 0, 0, 0, 0, 0, 0, 0, 0, 0  …  0, 0, 0, 0, 0, 0, 0, 0, 0, 0], Bool[0, 0, 0, 0, 0, 0, 0, 0, 0, 0  …  1, 1, 1, 1, 1, 1, 1, 1, 0, 0], Bool[0, 0, 0, 0, 0, 0, 0, 0, 0, 0  …  0, 0, 0, 0, 0, 0, 0, 0, 0, 0]), Loki.MIRCubeModel{Float32}(Float32[0.0; 0.0; … ; 0.0; 0.0;;;], Float32[0.0; 0.0; … ; 0.0; 0.0;;;], Float32[0.0; 0.0; … ; 0.0; 0.0;;;], Float32[0.0; 0.0; … ; 0.0; 0.0;;;], Float32[0.0; 0.0; … ; 0.0; 0.0;;;; 0.0; 0.0; … ; 0.0; 0.0;;;; 0.0; 0.0; … ; 0.0; 0.0], Array{Float32, 4}(undef, 1213, 1, 1, 0), Float32[0.0; 0.0; … ; 0.0; 0.0;;;; 0.0; 0.0; … ; 0.0; 0.0;;;; 0.0; 0.0; … ; 0.0; 0.0;;;; 0.0; 0.0; … ; 0.0; 0.0;;;; 0.0; 0.0; … ; 0.0; 0.0;;;; 0.0; 0.0; … ; 0.0; 0.0;;;; 0.0; 0.0; … ; 0.0; 0.0;;;; 0.0; 0.0; … ; 0.0; 0.0], Array{Float32, 4}(undef, 1213, 1, 1, 0), Float32[0.0; 0.0; … ; 0.0; 0.0;;;;], Float32[0.0; 0.0; … ; 0.0; 0.0;;;], Float32[0.0; 0.0; … ; 0.0; 0.0;;;], Float32[0.0; 0.0; … ; 0.0; 0.0;;;], Array{Float32, 4}(undef, 1213, 1, 1, 0), Float32[0.0; 0.0; … ; 0.0; 0.0;;;; 0.0; 0.0; … ; 0.0; 0.0]))"
      ]
     },
     "metadata": {},
     "output_type": "display_data"
    }
   ],
   "source": [
    "# To see a full list of keyword arguments, please refer to the docstring, which can be accessed by typing `?CubeFitter` in the command\n",
    "# line after importing Loki.\n",
    "cube_fitter = CubeFitter(obs.channels[channel], obs.z, run_name; parallel=false, plot_spaxels=:both, \n",
    "    plot_maps=true, save_fits=true, use_pah_templates=false, fit_sil_emission=true, save_full_model=false)\n",
    "\n",
    "# Call the fit_cube! function on the cube_fitter object, using the aperture we defined.\n",
    "fit_cube!(cube_fitter, ap)"
   ]
  },
  {
   "attachments": {},
   "cell_type": "markdown",
   "id": "05295663",
   "metadata": {},
   "source": [
    "And the results can be found in the \"output_[run_name]\" directory!\n",
    "Here is our fit of channel 1B of the nuclear spectrum of NGC 7469\\*:\n",
    "\n",
    "![results_1D](./NGC_7469_spaxel_1_1.png)\n",
    "\n",
    "\\*side note: it is generally not a good idea to fit only one channel here, this was done just as a quick example to get you started. The continuum components can be degenerate with the very flat extinction profile if you only fit one channel. LOKI has been built with the assumption/hope that one is fitting multiple MIRI channels combined into a single spectrum. Channel 2 in particular is crucial because it contains a large silicate absorption feature (at least at this redshift), but fitting just channel 2 by itself is also not advised because the shape of the extinction profile can be degenerate with the large wings of the PAH features to the left and right."
   ]
  }
 ],
 "metadata": {
  "kernelspec": {
   "display_name": "Julia 1.10.4",
   "language": "julia",
   "name": "julia-1.10"
  },
  "language_info": {
   "file_extension": ".jl",
   "mimetype": "application/julia",
   "name": "julia",
   "version": "1.10.4"
  }
 },
 "nbformat": 4,
 "nbformat_minor": 5
}
