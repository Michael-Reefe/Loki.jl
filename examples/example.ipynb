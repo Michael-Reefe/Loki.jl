{
 "cells": [
  {
   "attachments": {},
   "cell_type": "markdown",
   "id": "faa40c44",
   "metadata": {},
   "source": [
    "# Likelihood Optimization of gas Kinematics in IFUs (LOKI)\n",
    "## Fitting example\n",
    "\n",
    "Michael Reefe"
   ]
  },
  {
   "attachments": {},
   "cell_type": "markdown",
   "id": "288ac322",
   "metadata": {},
   "source": [
    "First things first, we need to import the LOKI code. We can do so locally using the `Pkg` module. First we activate the LOKI module, then we instantiate, precompile, and finally import it with the following block of code.\n",
    "\n",
    "Some aspects of the code may utilize multiprocessing. To take advantage of this, we first must import the `Distributed` package and add parallel CPU processes. Then, our following imports must be encased in an `@everywhere` block to ensure they are loaded onto each CPU process individually."
   ]
  },
  {
   "cell_type": "code",
   "execution_count": 1,
   "id": "f0e24f14",
   "metadata": {},
   "outputs": [
    {
     "data": {
      "text/plain": [
       "4-element Vector{Int64}:\n",
       " 2\n",
       " 3\n",
       " 4\n",
       " 5"
      ]
     },
     "metadata": {},
     "output_type": "display_data"
    }
   ],
   "source": [
    "using Distributed\n",
    "procs = addprocs(Sys.CPU_THREADS)"
   ]
  },
  {
   "cell_type": "code",
   "execution_count": 2,
   "id": "df851689",
   "metadata": {},
   "outputs": [
    {
     "name": "stderr",
     "output_type": "stream",
     "text": [
      "\u001b[32m\u001b[1m  Activating\u001b[22m\u001b[39m project at `~/Dropbox/Astrophysics/Phoenix_Cluster/Loki`\n"
     ]
    },
    {
     "name": "stdout",
     "output_type": "stream",
     "text": [
      "      From worker 5:\t\u001b[32m\u001b[1m  Activating\u001b[22m\u001b[39m project at `~/Dropbox/Astrophysics/Phoenix_Cluster/Loki`\n"
     ]
    },
    {
     "name": "stdout",
     "output_type": "stream",
     "text": [
      "      From worker 2:\t\u001b[32m\u001b[1m  Activating\u001b[22m\u001b[39m project at `~/Dropbox/Astrophysics/Phoenix_Cluster/Loki`\n",
      "      From worker 3:\t\u001b[32m\u001b[1m  Activating\u001b[22m\u001b[39m project at `~/Dropbox/Astrophysics/Phoenix_Cluster/Loki`\n",
      "      From worker 4:\t\u001b[32m\u001b[1m  Activating\u001b[22m\u001b[39m project at `~/Dropbox/Astrophysics/Phoenix_Cluster/Loki`\n"
     ]
    }
   ],
   "source": [
    "@everywhere begin\n",
    "    using Pkg\n",
    "    Pkg.activate(dirname(@__DIR__))\n",
    "    Pkg.instantiate()\n",
    "    Pkg.precompile()\n",
    "    using Loki\n",
    "end"
   ]
  },
  {
   "attachments": {},
   "cell_type": "markdown",
   "id": "ff1c7a50",
   "metadata": {},
   "source": [
    "### NOTE 1: \n",
    "\n",
    "Alternatively, we could have started julia with the command-line argument `--project=/path/to/Loki`. This is my preferred way of starting the code, but this is difficult to demonstrate using a Jupyter notebook. If you choose to start julia this way, the above block is unnecessary since the project is already activated and precompiled. You would just need to add a single line like `@everywhere using Loki`. Additionally, you would have to modify the `addprocs` call with the argument `exeflags=\"--project=/path/to/Loki\"`, which tells the Distributed module that the worker processes should also be started using the Loki project.  \n",
    "\n",
    "So, all together, in your file (let's call it `example.jl`) you would have:\n",
    "```julia\n",
    "using Distributed\n",
    "procs = addprocs(Sys.CPU_THREADS, exeflags=\"--project=/path/to/Loki\")\n",
    "@everywhere using Loki\n",
    "```\n",
    "And from the terminal you would start the code using:\n",
    "`julia --project=/path/to/Loki example.jl`"
   ]
  },
  {
   "attachments": {},
   "cell_type": "markdown",
   "id": "2ad11bf4",
   "metadata": {},
   "source": [
    "### NOTE 2:\n",
    "\n",
    "If you plan on running Loki in a High-Performance Computing (HPC) environment, you can also take advantage of julia's built-in distributed package in a very similar way. In fact, if you plan on running on only a single node, then no changes should be necessary at all from the above example. However, if you wish to spread out over multiple nodes, some changes will be required, since by default the above will only add additional processes onto one node. If you cluster uses Slurm, then you can use the `SlurmClusterManager` package like so:\n",
    "\n",
    "```julia\n",
    "using Distributed\n",
    "using SlurmClusterManager\n",
    "procs = addprocs(SlurmManager(), exeflags=\"--project=/path/to/Loki\")\n",
    "@everywhere using Loki\n",
    "```\n",
    "\n",
    "Then, you would start julia from within an sbatch script specifying how many nodes, tasks, and CPUs you need. I strongly recommend using the `\"--project\"` flag approach described above when on a cluster, as I have run into strange issues with the other approach causing julia to start thinking pid files are stale and removing them."
   ]
  },
  {
   "attachments": {},
   "cell_type": "markdown",
   "id": "2862b182",
   "metadata": {},
   "source": [
    "Now we want to load in our data. For this example, we'll be using the channel 1 data for NGC 7469, which is located in the same folder as this notebook. Unfortunately the JWST reduced data does not include a redshift, so we must provide the redshift ourselves.  We can use the `from_fits` function to load in the JWST-formatted FITS files, along with the redshift."
   ]
  },
  {
   "cell_type": "code",
   "execution_count": 3,
   "id": "08c04fee",
   "metadata": {},
   "outputs": [
    {
     "name": "stdout",
     "output_type": "stream",
     "text": [
      "\u001b[36m\u001b[1m[ \u001b[22m\u001b[39m\u001b[36m\u001b[1mInfo: \u001b[22m\u001b[39mInitializing DataCube struct from Level3_ch1-long_s3d.fits\n",
      "\u001b[36m\u001b[1m[ \u001b[22m\u001b[39m\u001b[36m\u001b[1mInfo: \u001b[22m\u001b[39mInitializing DataCube struct from Level3_ch1-medium_s3d.fits\n"
     ]
    },
    {
     "name": "stdout",
     "output_type": "stream",
     "text": [
      "\u001b[36m\u001b[1m[ \u001b[22m\u001b[39m\u001b[36m\u001b[1mInfo: \u001b[22m\u001b[39mInitializing DataCube struct from Level3_ch1-short_s3d.fits\n"
     ]
    }
   ],
   "source": [
    "# The redshift of the target object: NGC 7469\n",
    "z = 0.016317\n",
    "# The semicolon at the end suppresses printing the output Observation object, which is long and not very enlightening\n",
    "obs = from_fits([\"Level3_ch1-long_s3d.fits\", \"Level3_ch1-medium_s3d.fits\", \"Level3_ch1-short_s3d.fits\"], z);"
   ]
  },
  {
   "attachments": {},
   "cell_type": "markdown",
   "id": "aea827e4",
   "metadata": {},
   "source": [
    "Next, we create some variables that we will use later. We will be fitting channel 1 data, and we can take the `name` property from the Observation object we just loaded in to get the name of the target. Here, `run_name` is just a unique identifier that we will use for this run."
   ]
  },
  {
   "cell_type": "code",
   "execution_count": 4,
   "id": "8f602574",
   "metadata": {},
   "outputs": [
    {
     "data": {
      "text/plain": [
       "\"NGC_7469_ch1_nuc_aperture\""
      ]
     },
     "metadata": {},
     "output_type": "display_data"
    }
   ],
   "source": [
    "channel = 1\n",
    "nm = replace(obs.name, \" \" => \"_\") \n",
    "run_name = \"$(nm)_ch$(channel)_nuc_aperture\""
   ]
  },
  {
   "attachments": {},
   "cell_type": "markdown",
   "id": "4f793d58",
   "metadata": {},
   "source": [
    "Before fitting, we want to do some pre-processing on the data. We have three separate sub-channel cubes (\"short\", \"medium\", and \"long\") that we would like to combine into a single full-channel cube. We also want to convert the data to the rest-frame and mask out / interpolate any bad data points.  All of this is achieved in the next block of code.  Importantly, even if you already have full-channel data, you may want to consider using the sub-channel data and combining them using the methodology below. The reasoning for this is that, at least as of early 2023, the MIRI data processing pipeline can sometimes leave large discontinuous jumps in the continuum level between sub-channel and channel boundaries due to small misalignments in the WCS grids.  The `reproject_channels!` function attempts to minimize this problem by adjusting the WCS parameters based on centroiding the images, and it also allows for a constrained rescaling factor (<50%) to be applied between channels."
   ]
  },
  {
   "cell_type": "code",
   "execution_count": 5,
   "id": "3dfbae1c",
   "metadata": {},
   "outputs": [
    {
     "name": "stdout",
     "output_type": "stream",
     "text": [
      "\u001b[36m\u001b[1m[ \u001b[22m\u001b[39m\u001b[36m\u001b[1mInfo: \u001b[22m\u001b[39mAligning World Coordinate Systems for channels [:A1, :B1, :C1]...\n",
      "\u001b[36m\u001b[1m[ \u001b[22m\u001b[39m\u001b[36m\u001b[1mInfo: \u001b[22m\u001b[39mThe centroid offset relative to channel A1 for channel A1 is [0.0, 0.0]\n"
     ]
    },
    {
     "name": "stdout",
     "output_type": "stream",
     "text": [
      "\u001b[36m\u001b[1m[ \u001b[22m\u001b[39m\u001b[36m\u001b[1mInfo: \u001b[22m\u001b[39mThe centroid offset relative to channel A1 for channel B1 is [3.3975387694340498e-6, -4.563400841206544e-6]\n",
      "\u001b[36m\u001b[1m[ \u001b[22m\u001b[39m\u001b[36m\u001b[1mInfo: \u001b[22m\u001b[39mThe centroid offset relative to channel A1 for channel C1 is [1.8270547830212536e-6, 3.989378985380654e-6]\n"
     ]
    },
    {
     "name": "stderr",
     "output_type": "stream",
     "text": [
      "WARNING: The fit may be unsuccessful; check fit_info['message'] for more information. [astropy.modeling.fitting]\n"
     ]
    },
    {
     "name": "stdout",
     "output_type": "stream",
     "text": [
      "\u001b[36m\u001b[1m[ \u001b[22m\u001b[39m\u001b[36m\u001b[1mInfo: \u001b[22m\u001b[39mReprojecting NGC 7469 channel A1 onto the optimal (47, 43) WCS grid...\n",
      "\u001b[36m\u001b[1m[ \u001b[22m\u001b[39m\u001b[36m\u001b[1mInfo: \u001b[22m\u001b[39mReprojecting NGC 7469 channel B1 onto the optimal (47, 43) WCS grid...\n"
     ]
    },
    {
     "name": "stdout",
     "output_type": "stream",
     "text": [
      "\u001b[36m\u001b[1m[ \u001b[22m\u001b[39m\u001b[36m\u001b[1mInfo: \u001b[22m\u001b[39mReprojecting NGC 7469 channel C1 onto the optimal (47, 43) WCS grid...\n",
      "\u001b[36m\u001b[1m[ \u001b[22m\u001b[39m\u001b[36m\u001b[1mInfo: \u001b[22m\u001b[39mMinimum/Maximum scale factor for channel 2: (-Inf, Inf)\n"
     ]
    },
    {
     "name": "stdout",
     "output_type": "stream",
     "text": [
      "\u001b[33m\u001b[1m┌ \u001b[22m\u001b[39m\u001b[33m\u001b[1mWarning: \u001b[22m\u001b[39m\n",
      "\u001b[33m\u001b[1m│ \u001b[22m\u001b[39mSpectres: new_wave contains values outside the range in old_wave, new_fluxes and new_errs will be filled with the value set in the 'fill' keyword argument. \n",
      "\u001b[33m\u001b[1m└ \u001b[22m\u001b[39m\u001b[90m@ Loki ~/Dropbox/Astrophysics/Phoenix_Cluster/Loki/src/util/math.jl:727\u001b[39m\n",
      "\u001b[36m\u001b[1m[ \u001b[22m\u001b[39m\u001b[36m\u001b[1mInfo: \u001b[22m\u001b[39mMinimum/Maximum scale factor for channel 3: (0.0, Inf)\n"
     ]
    },
    {
     "name": "stdout",
     "output_type": "stream",
     "text": [
      "\u001b[33m\u001b[1m┌ \u001b[22m\u001b[39m\u001b[33m\u001b[1mWarning: \u001b[22m\u001b[39mThe wavelength dimension has not be resampled to be linear when concatenating multiple full channels! Only overlapping regions between channels have been resampled to a median resolution!\n",
      "\u001b[33m\u001b[1m└ \u001b[22m\u001b[39m\u001b[90m@ Loki ~/Dropbox/Astrophysics/Phoenix_Cluster/Loki/src/core/cubedata.jl:1176\u001b[39m\n",
      "\u001b[36m\u001b[1m[ \u001b[22m\u001b[39m\u001b[36m\u001b[1mInfo: \u001b[22m\u001b[39mMasking bins with bad data...\n"
     ]
    },
    {
     "name": "stdout",
     "output_type": "stream",
     "text": [
      "\u001b[36m\u001b[1m[ \u001b[22m\u001b[39m\u001b[36m\u001b[1mInfo: \u001b[22m\u001b[39mDone!\n",
      "\u001b[36m\u001b[1m[ \u001b[22m\u001b[39m\u001b[36m\u001b[1mInfo: \u001b[22m\u001b[39mWriting FITS file from Observation object\n"
     ]
    }
   ],
   "source": [
    "if isfile(\"$nm.channel$channel.rest_frame.fits\")\n",
    "    # If we've already performed this step in a previous run, just load in the pre-processed data\n",
    "    obs = from_fits([\"$nm.channel$channel.rest_frame.fits\"], obs.z);\n",
    "    \n",
    "else\n",
    "    # Convert to rest-frame wavelength vector, and mask out bad spaxels\n",
    "    correct!(obs)\n",
    "    \n",
    "    # Reproject the sub-channels onto the same WCS grid and combine them into one full channel\n",
    "    # - The [:A1, :B1, :C1] vector gives the names of each channel to concatenate. By default, JWST subchannels are\n",
    "    #   given labels of \"A\" for short, \"B\" for medium, and \"C\" for long, followed by the channel number.  \n",
    "    # - The \"out_id\" argument will determine the label given to the combined channel data. \n",
    "    # - The \"method\" argument determines how the data is reprojected. The options are:\n",
    "    #    - adaptive: this is the recommended method, which uses the adaptive algorithm from DeForest (2004)\n",
    "    #    - interp: this is the fastest method and does a simple 2D cubic spline interpolation\n",
    "    #    - exact: this is the slowest method and calculates the exact spherical area overlap\n",
    "    #    More information about these methods can be found by referring to the docs for the python \"reproject\" package \n",
    "    #    (https://reproject.readthedocs.io/en/stable/)\n",
    "    reproject_channels!(obs, [:A1,:B1,:C1], out_id=channel, method=:adaptive)\n",
    "    \n",
    "    # Finally, we interpolate any rogue NaNs using a linear interpolation, since the MPFIT minimizer does not handle\n",
    "    # NaNs well.\n",
    "    interpolate_nans!(obs.channels[channel], obs.z)\n",
    "    \n",
    "    # Save the pre-processed data as a FITS file so it can be quickly reloaded later\n",
    "    save_fits(\".\", obs, channel);\n",
    "end"
   ]
  },
  {
   "attachments": {},
   "cell_type": "markdown",
   "id": "338875b8",
   "metadata": {},
   "source": [
    "We next create an aperture to define the region of interest that we would like to fit. We can do this with the `make_aperture` function. We can customize the aperture's shape, centroid, radius, etc."
   ]
  },
  {
   "cell_type": "code",
   "execution_count": 6,
   "id": "757e7d95",
   "metadata": {},
   "outputs": [
    {
     "name": "stdout",
     "output_type": "stream",
     "text": [
      "\u001b[36m\u001b[1m[ \u001b[22m\u001b[39m\u001b[36m\u001b[1mInfo: \u001b[22m\u001b[39mCreating a(n) Circular aperture at 23:03:15.610, +8:52:26.10\n",
      "\u001b[36m\u001b[1m[ \u001b[22m\u001b[39m\u001b[36m\u001b[1mInfo: \u001b[22m\u001b[39mAperture centroid adjusted to -0h56m44.37664242239492s, 8d52m26.019945997019818s\n"
     ]
    },
    {
     "data": {
      "text/plain": [
       "PyObject <CircularAperture([22.40442905, 22.37057861], r=3.84615398720886)>"
      ]
     },
     "metadata": {},
     "output_type": "display_data"
    }
   ],
   "source": [
    "# - The first argument is the data cube\n",
    "# - The second argument is the aperture shape, which may be one of: (Circular, Rectangular, Elliptical)\n",
    "# - Next are the right ascension in sexagesimal hours and the declination in sexagesimal degrees\n",
    "# - The next arguments depend on the aperture shape:\n",
    "#    - For circles, it is the radius in arcseconds\n",
    "#    - For rectangles, it is the width in arcseconds, height in arcseconds, and rotation angle in degrees\n",
    "#    - For ellipses, it is the semimajor axis in arcseconds, semiminor axis in arcseconds, and rotation angle in degrees\n",
    "# - The auto_centroid argument, if true, will adjust the aperture centroid to the closest peak in brightness\n",
    "# - The scale_psf argument, if true, will create a series of apertures with increasing radii that scale at the same rate as the PSF\n",
    "ap = make_aperture(obs.channels[channel], :Circular, \"23:03:15.610\", \"+8:52:26.10\", 0.5, auto_centroid=true)"
   ]
  },
  {
   "attachments": {},
   "cell_type": "markdown",
   "id": "baaa4ddb",
   "metadata": {},
   "source": [
    "Finally, we create the `CubeFitter` object and call the `fit_cube!` function to fit the data. To ensure we fit the data within the aperture, we must provide the `ap` argument.\n",
    "\n",
    "If you instead wish to fit each spaxel individually, you may omit the `ap` argument. Be warned that this will take substantially longer. If you wish to fit each spaxel individually, it is recommended to enable the \"parallel\" option to allow multiple spaxels to be fit simultaneously. Doing this will also allow the code to produce 2D parameter maps of each fit parameter."
   ]
  },
  {
   "cell_type": "code",
   "execution_count": 7,
   "id": "de75b965",
   "metadata": {},
   "outputs": [
    {
     "name": "stdout",
     "output_type": "stream",
     "text": [
      "\u001b[36m\u001b[1m[ \u001b[22m\u001b[39m\u001b[36m\u001b[1mInfo: \u001b[22m\u001b[39mPreparing output directories\n",
      "\u001b[36m\u001b[1m┌ \u001b[22m\u001b[39m\u001b[36m\u001b[1mInfo: \u001b[22m\u001b[39m\n",
      "\u001b[36m\u001b[1m│ \u001b[22m\u001b[39m\n",
      "\u001b[36m\u001b[1m│ \u001b[22m\u001b[39m#############################################################################\n",
      "\u001b[36m\u001b[1m│ \u001b[22m\u001b[39m######## BEGINNING FULL CUBE FITTING ROUTINE FOR NGC_7469_ch1_nuc_aperture ########\n",
      "\u001b[36m\u001b[1m│ \u001b[22m\u001b[39m#############################################################################\n",
      "\u001b[36m\u001b[1m│ \u001b[22m\u001b[39m\n",
      "\u001b[36m\u001b[1m│ \u001b[22m\u001b[39m------------------------\n",
      "\u001b[36m\u001b[1m│ \u001b[22m\u001b[39mWorker Processes:     4\n",
      "\u001b[36m\u001b[1m│ \u001b[22m\u001b[39mThreads per process:  1\n",
      "\u001b[36m\u001b[1m└ \u001b[22m\u001b[39m------------------------\n"
     ]
    },
    {
     "name": "stdout",
     "output_type": "stream",
     "text": [
      "\u001b[36m\u001b[1m[ \u001b[22m\u001b[39m\u001b[36m\u001b[1mInfo: \u001b[22m\u001b[39m===> Preparing output data structures... <===\n"
     ]
    },
    {
     "name": "stdout",
     "output_type": "stream",
     "text": [
      "\u001b[36m\u001b[1m[ \u001b[22m\u001b[39m\u001b[36m\u001b[1mInfo: \u001b[22m\u001b[39m===> Beginninng integrated spectrum fitting... <===\n",
      "\u001b[36m\u001b[1m[ \u001b[22m\u001b[39m\u001b[36m\u001b[1mInfo: \u001b[22m\u001b[39m===> Generating parameter maps and model cubes... <===\n"
     ]
    },
    {
     "name": "stdout",
     "output_type": "stream",
     "text": [
      "\u001b[36m\u001b[1m[ \u001b[22m\u001b[39m\u001b[36m\u001b[1mInfo: \u001b[22m\u001b[39m===> Writing FITS outputs... <===\n",
      "\u001b[36m\u001b[1m┌ \u001b[22m\u001b[39m\u001b[36m\u001b[1mInfo: \u001b[22m\u001b[39m\n",
      "\u001b[36m\u001b[1m│ \u001b[22m\u001b[39m\n",
      "\u001b[36m\u001b[1m│ \u001b[22m\u001b[39m#############################################################################\n",
      "\u001b[36m\u001b[1m│ \u001b[22m\u001b[39m################################### Done!! ##################################\n",
      "\u001b[36m\u001b[1m└ \u001b[22m\u001b[39m#############################################################################\n"
     ]
    },
    {
     "data": {
      "text/plain": [
       "(CubeFitter{Float64, Int64}(DataCube([4.82172402445037, 4.822511180406426, 4.823298336362481, 4.824085492318536, 4.824872648274592, 4.825659804230647, 4.826446960186702, 4.827234116142758, 4.828021272098813, 4.828808428054868  …  7.519701216949793, 7.520488372905848, 7.521275528861904, 7.522062684817959, 7.522849840774014, 7.52363699673007, 7.524424152686125, 7.52521130864218, 7.525998464598236, 7.526785620554291], [NaN NaN … NaN NaN; NaN NaN … NaN NaN; … ; NaN NaN … NaN NaN; NaN NaN … NaN NaN;;; NaN NaN … NaN NaN; NaN NaN … NaN NaN; … ; NaN NaN … NaN NaN; NaN NaN … NaN NaN;;; NaN NaN … NaN NaN; NaN NaN … NaN NaN; … ; NaN NaN … NaN NaN; NaN NaN … NaN NaN;;; … ;;; NaN NaN … NaN NaN; NaN NaN … NaN NaN; … ; NaN NaN … NaN NaN; NaN NaN … NaN NaN;;; NaN NaN … NaN NaN; NaN NaN … NaN NaN; … ; NaN NaN … NaN NaN; NaN NaN … NaN NaN;;; NaN NaN … NaN NaN; NaN NaN … NaN NaN; … ; NaN NaN … NaN NaN; NaN NaN … NaN NaN], [NaN NaN … NaN NaN; NaN NaN … NaN NaN; … ; NaN NaN … NaN NaN; NaN NaN … NaN NaN;;; NaN NaN … NaN NaN; NaN NaN … NaN NaN; … ; NaN NaN … NaN NaN; NaN NaN … NaN NaN;;; NaN NaN … NaN NaN; NaN NaN … NaN NaN; … ; NaN NaN … NaN NaN; NaN NaN … NaN NaN;;; … ;;; NaN NaN … NaN NaN; NaN NaN … NaN NaN; … ; NaN NaN … NaN NaN; NaN NaN … NaN NaN;;; NaN NaN … NaN NaN; NaN NaN … NaN NaN; … ; NaN NaN … NaN NaN; NaN NaN … NaN NaN;;; NaN NaN … NaN NaN; NaN NaN … NaN NaN; … ; NaN NaN … NaN NaN; NaN NaN … NaN NaN], [1 1 … 1 1; 1 1 … 1 1; … ; 1 1 … 1 1; 1 1 … 1 1;;; 1 1 … 1 1; 1 1 … 1 1; … ; 1 1 … 1 1; 1 1 … 1 1;;; 1 1 … 1 1; 1 1 … 1 1; … ; 1 1 … 1 1; 1 1 … 1 1;;; … ;;; 1 1 … 1 1; 1 1 … 1 1; … ; 1 1 … 1 1; 1 1 … 1 1;;; 1 1 … 1 1; 1 1 … 1 1; … ; 1 1 … 1 1; 1 1 … 1 1;;; 1 1 … 1 1; 1 1 … 1 1; … ; 1 1 … 1 1; 1 1 … 1 1], 3.97217570860291e-13, 345.8150416666667, 8.873894444444446, [0.26771320314679176, 0.2677396031461249, 0.26776600314545795, 0.267792403144791, 0.2678188031441241, 0.26784520314345717, 0.26787160314279024, 0.26789800314212336, 0.26792440314145644, 0.2679508031407895  …  0.35819920599632316, 0.35822560599565617, 0.3582520059949893, 0.35827840599432237, 0.35830480599365544, 0.35833120599298857, 0.35835760599232164, 0.3583840059916547, 0.3584104059909878, 0.35843680599032085], [87.8286176553519, 87.82155493753106, 87.81449335551251, 87.80743290902227, 87.80037359778647, 87.79331542153133, 87.78625837998315, 87.77920247286833, 87.77214769991333, 87.76509406084473  …  90.50654237262158, 90.49378778833122, 90.48103679839976, 90.46828940130803, 90.45554559553773, 90.44280537957137, 90.43006875189238, 90.41733571098497, 90.40460625533429, 90.39188038342624], PyObject WCS Keywords\n",
       "\n",
       "Number of WCS axes: 2\n",
       "CTYPE : 'RA---TAN'  'DEC--TAN'  \n",
       "CRVAL : -14.18496099262386  8.873881047443243  \n",
       "CRPIX : 24.0  22.0  \n",
       "PC1_1 PC1_2  : -1.0  0.0  \n",
       "PC2_1 PC2_2  : 0.0  1.0  \n",
       "CDELT : 3.61111097865634e-05  3.61111097865634e-05  \n",
       "NAXIS : 47  43  1050, \"MULTIPLE\", \"MULTIPLE\", 47, 43, 3436, true, true), 0.016317, \"NGC_7469_ch1_nuc_aperture\", Tuple[], :both, true, nothing, false, true, false, false, false, true, false, \"kvt\", true, true, false, false, Bool[0 0 … 0 0; 0 0 … 0 0; … ; 0 0 … 0 0; 0 0 … 0 0], Continuum(\"Parameter: value = 5000.0 | locked = true | limits = (4999.9, 5000.1)\", Parameter[\"Parameter: value = 500.0 | locked = true | limits = (499.9, 500.1)\", \"Parameter: value = 300.0 | locked = true | limits = (299.9, 300.1)\", \"Parameter: value = 200.0 | locked = true | limits = (199.9, 200.1)\", \"Parameter: value = 135.0 | locked = true | limits = (134.9, 135.1)\", \"Parameter: value = 90.0 | locked = true | limits = (89.9, 90.1)\", \"Parameter: value = 65.0 | locked = true | limits = (64.9, 65.1)\", \"Parameter: value = 50.0 | locked = true | limits = (49.9, 50.1)\", \"Parameter: value = 40.0 | locked = true | limits = (39.9, 40.1)\", \"Parameter: value = 35.0 | locked = true | limits = (34.9, 35.1)\"], Parameter[], \"Parameter: value = 0.1 | locked = false | limits = (0.0, 100.0)\", \"Parameter: value = 0.48 | locked = false | limits = (0.43, 0.53)\", \"Parameter: value = 0.1 | locked = false | limits = (0.0, 1.0)\", \"Parameter: value = 0.1 | locked = true | limits = (0.0, 1.0)\", \"Parameter: value = 1200.0 | locked = false | limits = (800.0, 1600.0)\", \"Parameter: value = 0.5 | locked = false | limits = (0.0, 1.0)\", \"Parameter: value = 0.1 | locked = false | limits = (0.0, 100.0)\", \"Parameter: value = 0.1 | locked = false | limits = (0.0, 100.0)\", \"Parameter: value = 10.0178 | locked = true | limits = (10.0, 10.8)\"), 9, 0, 16, 0, DustFeatures([\"PAH_5.24\", \"PAH_5.27\", \"PAH_5.70\", \"PAH_5.87\", \"PAH_6.00\", \"PAH_6.18\", \"PAH_6.20\", \"PAH_6.22\", \"PAH_6.30\", \"PAH_6.69\", \"PAH_7.42\", \"PAH_7.52\", \"PAH_7.60\", \"PAH_7.75\", \"PAH_7.85\", \"PAH_7.96\"], [:Drude, :Drude, :Drude, :Drude, :Drude, :Drude, :Drude, :Drude, :Drude, :Drude, :Drude, :Drude, :Drude, :Drude, :Drude, :Drude], Parameter[\"Parameter: value = 5.24 | locked = false | limits = (5.19, 5.29)\", \"Parameter: value = 5.27 | locked = false | limits = (5.22, 5.319999999999999)\", \"Parameter: value = 5.7 | locked = false | limits = (5.65, 5.75)\", \"Parameter: value = 5.87 | locked = false | limits = (5.82, 5.92)\", \"Parameter: value = 6.0 | locked = false | limits = (5.95, 6.05)\", \"Parameter: value = 6.18 | locked = false | limits = (6.13, 6.2299999999999995)\", \"Parameter: value = 6.2 | locked = false | limits = (6.15, 6.25)\", \"Parameter: value = 6.22 | locked = false | limits = (6.17, 6.27)\", \"Parameter: value = 6.3 | locked = false | limits = (6.25, 6.35)\", \"Parameter: value = 6.69 | locked = false | limits = (6.640000000000001, 6.74)\", \"Parameter: value = 7.42 | locked = false | limits = (7.37, 7.47)\", \"Parameter: value = 7.52 | locked = false | limits = (7.47, 7.569999999999999)\", \"Parameter: value = 7.6 | locked = false | limits = (7.55, 7.6499999999999995)\", \"Parameter: value = 7.75 | locked = false | limits = (7.7, 7.8)\", \"Parameter: value = 7.85 | locked = false | limits = (7.8, 7.8999999999999995)\", \"Parameter: value = 7.96 | locked = false | limits = (7.91, 8.01)\"], Parameter[\"Parameter: value = 0.058 | locked = false | limits = (0.023200000000000002, 0.0812)\", \"Parameter: value = 0.179 | locked = false | limits = (0.0716, 0.2506)\", \"Parameter: value = 0.2 | locked = false | limits = (0.08000000000000002, 0.27999999999999997)\", \"Parameter: value = 0.2 | locked = false | limits = (0.08000000000000002, 0.27999999999999997)\", \"Parameter: value = 0.198 | locked = false | limits = (0.0792, 0.2772)\", \"Parameter: value = 0.05 | locked = false | limits = (0.020000000000000004, 0.06999999999999999)\", \"Parameter: value = 0.07 | locked = false | limits = (0.028000000000000004, 0.098)\", \"Parameter: value = 0.114 | locked = false | limits = (0.0456, 0.1596)\", \"Parameter: value = 0.189 | locked = false | limits = (0.0756, 0.2646)\", \"Parameter: value = 0.468 | locked = false | limits = (0.18720000000000003, 0.6552)\", \"Parameter: value = 0.935 | locked = false | limits = (0.37400000000000005, 1.0285000000000002)\", \"Parameter: value = 0.226 | locked = false | limits = (0.09040000000000001, 0.3164)\", \"Parameter: value = 0.334 | locked = false | limits = (0.13360000000000002, 0.4676)\", \"Parameter: value = 0.113 | locked = false | limits = (0.045200000000000004, 0.1582)\", \"Parameter: value = 0.175 | locked = false | limits = (0.06999999999999999, 0.24499999999999997)\", \"Parameter: value = 0.283 | locked = false | limits = (0.1132, 0.39619999999999994)\"], Union{Nothing, Parameter}[nothing, nothing, nothing, nothing, nothing, nothing, nothing, nothing, nothing, nothing, nothing, nothing, nothing, nothing, nothing, nothing], Union{Nothing, Parameter}[nothing, nothing, nothing, nothing, nothing, nothing, nothing, nothing, nothing, nothing, nothing, nothing, nothing, nothing, nothing, nothing], Bool[0, 0, 0, 0, 0, 0, 0, 0, 0, 0, 0, 0, 0, 0, 0, 0]), DustFeatures(String[], Symbol[], Parameter[], Parameter[], Union{Nothing, Parameter}[], Union{Nothing, Parameter}[], Bool[]), Parameter[], 19, 0, 2, TransitionLines([:FeII_4889, :H200_S8, :FeII_5062, :HI_Hu_delta, :HeII_5228, :FeII_5340, :FeVIII_5447, :MgVII_5503, :H200_S7, :MgV_5609, :HI_Hu_gamma, :H200_S6, :NiII_6636, :FeII_6721, :H200_S5, :ArII_6985, :NaIII_7318, :HI_Pf_alpha, :HI_Hu_beta], [\"[Fe II]\", \"H\\$_2\\$ 0-0 \\$S(8)\\$\", \"[Fe II]\", \"Hu\\$\\\\delta\\$\", \"He II\", \"[Fe II]\", \"[Fe VIII]\", \"[Mg VII]\", \"H\\$_2\\$ 0-0 \\$S(7)\\$\", \"[Mg V]\", \"Hu\\$\\\\gamma\\$\", \"H\\$_2\\$ 0-0 \\$S(6)\\$\", \"[Ni II]\", \"[Fe II]\", \"H\\$_2\\$ 0-0 \\$S(5)\\$\", \"[Ar II]\", \"[Na III]\", \"Pf\\$\\\\alpha\\$\", \"Hu\\$\\\\beta\\$\"], Bool[1, 1, 1, 1, 1, 1, 1, 1, 1, 1, 1, 1, 1, 1, 1, 1, 1, 1, 1], AbstractFloat[4.889137, 5.05312, 5.06235, 5.129, 5.2279972, 5.340169, 5.4466, 5.5032, 5.51118, 5.60985, 5.908, 6.10857, 6.636, 6.721283, 6.90952, 6.985274, 7.3177, 7.4599, 7.503], Union{Nothing, Symbol}[:Voigt nothing; :Voigt nothing; … ; :Voigt nothing; :Voigt nothing], Union{Nothing, Symbol}[nothing nothing; nothing nothing; … ; nothing nothing; nothing nothing], Union{Nothing, Symbol}[nothing nothing; nothing nothing; … ; nothing nothing; nothing nothing], Union{Nothing, Parameter}[\"Parameter: value = 0.0 | locked = false | limits = (-500.0, 500.0)\" nothing; \"Parameter: value = 0.0 | locked = false | limits = (-500.0, 500.0)\" nothing; … ; \"Parameter: value = 0.0 | locked = false | limits = (-500.0, 500.0)\" nothing; \"Parameter: value = 0.0 | locked = false | limits = (-500.0, 500.0)\" nothing], Union{Nothing, Parameter}[\"Parameter: value = 100.0 | locked = false | limits = (0.0, 500.0)\" nothing; \"Parameter: value = 100.0 | locked = false | limits = (0.0, 500.0)\" nothing; … ; \"Parameter: value = 100.0 | locked = false | limits = (0.0, 500.0)\" nothing; \"Parameter: value = 100.0 | locked = false | limits = (0.0, 500.0)\" nothing], Union{Nothing, Parameter}[nothing nothing; nothing nothing; … ; nothing nothing; nothing nothing], Union{Nothing, Parameter}[nothing nothing; nothing nothing; … ; nothing nothing; nothing nothing], Union{Nothing, Parameter}[\"Parameter: value = 0.5 | locked = false | limits = (0.0, 1.0)\" nothing; \"Parameter: value = 0.5 | locked = false | limits = (0.0, 1.0)\" nothing; … ; \"Parameter: value = 0.5 | locked = false | limits = (0.0, 1.0)\" nothing; \"Parameter: value = 0.5 | locked = false | limits = (0.0, 1.0)\" nothing]), TiedKinematics([Symbol[], Symbol[]], Vector{Parameter}[[], []], [Symbol[], Symbol[]], Vector{Parameter}[[], []]), true, \"Parameter: value = 0.5 | locked = false | limits = (0.0, 1.0)\", 78, 76, 70, Cosmology.FlatLCDM{Float64}(1.0, 0.73, 0.27, 0.0), true, 0, 123456789, [0.0, 0.0, 0.0, 0.0, 0.0, 0.0, 0.0, 0.0, 0.0, 0.0  …  0.0, 0.0, 0.0, 0.0, 0.0, 0.0, 0.0, 0.0, 0.0, 0.0], [0.0, 0.0, 0.0, 0.0, 0.0, 0.0, 0.0, 0.0, 0.0, 0.0  …  0.0, 0.0, 0.0, 0.0, 0.0, 0.0, 0.0, 0.0, 0.0, 0.0], [0.0, 0.0]), ParamMaps{Float64}(Dict(:temp => [5000.0;;], :amp => [-8.421825144573774;;]), Dict(5 => Dict(:temp => [90.0;;], :amp => [-Inf;;]), 4 => Dict(:temp => [135.0;;], :amp => [-2.0039233155974245;;]), 6 => Dict(:temp => [65.0;;], :amp => [-Inf;;]), 7 => Dict(:temp => [50.0;;], :amp => [-Inf;;]), 2 => Dict(:temp => [300.0;;], :amp => [-4.957266098001953;;]), 9 => Dict(:temp => [35.0;;], :amp => [-Inf;;]), 8 => Dict(:temp => [40.0;;], :amp => [-Inf;;]), 3 => Dict(:temp => [200.0;;], :amp => [-3.850894514002479;;]), 1 => Dict(:temp => [500.0;;], :amp => [-5.982367009697176;;])), Dict{Int64, Dict{Symbol, Matrix{Float64}}}(), Dict(\"PAH_6.30\" => Dict(:flux => [-13.019252563542567;;], :SNR => [5.58819668226585;;], :mean => [6.453612949999999;;], :fwhm => [0.21089307014412498;;], :amp => [-14.662881281745253;;]), \"PAH_5.24\" => Dict(:flux => [-13.908497133015992;;], :SNR => [3.0046863240224155;;], :mean => [5.333558687560525;;], :fwhm => [0.034737612696220575;;], :amp => [-14.934435185129594;;]), \"PAH_7.75\" => Dict(:flux => [-Inf;;], :SNR => [NaN;;], :mean => [7.927272599999999;;], :fwhm => [0.0720788827139401;;], :amp => [-Inf;;]), \"PAH_5.27\" => Dict(:flux => [-Inf;;], :SNR => [0.0;;], :mean => [5.406806439999999;;], :fwhm => [0.2546890402;;], :amp => [-Inf;;]), \"PAH_6.00\" => Dict(:flux => [-Inf;;], :SNR => [0.0;;], :mean => [6.1252243178277865;;], :fwhm => [0.26653417858916795;;], :amp => [-Inf;;]), \"PAH_6.20\" => Dict(:flux => [-12.838948766143805;;], :SNR => [16.42049696462889;;], :mean => [6.314102944482626;;], :fwhm => [0.08423953809530871;;], :amp => [-14.103013666144626;;]), \"PAH_5.87\" => Dict(:flux => [-14.438524541992079;;], :SNR => [0.42550730596932507;;], :mean => [5.9994985559310345;;], :fwhm => [0.08130536000000001;;], :amp => [-15.731586052591247;;]), \"PAH_5.70\" => Dict(:flux => [-12.802375925790392;;], :SNR => [4.232351428930858;;], :mean => [5.74219105;;], :fwhm => [0.2845687599999999;;], :amp => [-14.677580111148163;;]), \"PAH_7.85\" => Dict(:flux => [-Inf;;], :SNR => [NaN;;], :mean => [8.021338722555218;;], :fwhm => [0.11220971896473263;;], :amp => [-Inf;;]), \"PAH_6.69\" => Dict(:flux => [-12.543851610444122;;], :SNR => [5.708576164228695;;], :mean => [6.84997658;;], :fwhm => [0.6658908983999999;;], :amp => [-14.635048755780273;;])…), Dict{String, Dict{Symbol, Matrix{Float64}}}(), Dict(:beta => [0.1;;], :tau_9_7 => [0.6779060837510352;;], :tau_ice => [0.53;;], :tau_ch => [0.0080177978624327;;]), Dict(:tau_cold => [4.195885398352736;;], :temp => [1520.9877148600199;;], :amp => [-5.871959083359684;;], :frac => [1.0;;], :tau_warm => [0.17516214821284512;;], :sil_peak => [10.0178;;]), Dict(:H200_S8_1 => Dict(:flux => [-15.007940521559734;;], :SNR => [3.396191404129222;;], :voff => [-86.28955171274626;;], :mixing => [0.7991574884057013;;], :fwhm => [117.60373503017424;;], :amp => [-14.781437028771364;;]), :MgVII_5503_1 => Dict(:flux => [-13.732985745358672;;], :SNR => [18.331980000391944;;], :voff => [-81.8400546513174;;], :mixing => [0.7991574884057013;;], :fwhm => [500.0;;], :amp => [-14.012183144788747;;]), :NaIII_7318_1 => Dict(:flux => [-14.274576536710459;;], :SNR => [15.906822955516041;;], :voff => [-62.3691529179792;;], :mixing => [0.7991574884057013;;], :fwhm => [302.9637313760789;;], :amp => [-14.22342780842347;;]), :FeII_5062_1 => Dict(:flux => [-14.650539117806334;;], :SNR => [6.930561099917103;;], :voff => [-500.0;;], :mixing => [0.7991574884057013;;], :fwhm => [138.45858080321707;;], :amp => [-14.473425103667864;;]), :HI_Hu_delta_1 => Dict(:flux => [-14.971702112893501;;], :SNR => [2.6926060823270555;;], :voff => [13.892409975401703;;], :mixing => [0.7991574884057013;;], :fwhm => [188.05390479025584;;], :amp => [-14.890644755896275;;]), :H200_S7_1 => Dict(:flux => [-13.824615530304653;;], :SNR => [34.35226354467209;;], :voff => [45.546245649934775;;], :mixing => [0.7991574884057013;;], :fwhm => [197.78041350983355;;], :amp => [-13.726026077517885;;]), :HI_Hu_gamma_1 => Dict(:flux => [-15.047500525539332;;], :SNR => [2.6344452630249706;;], :voff => [-229.10307499123783;;], :mixing => [0.7991574884057013;;], :fwhm => [230.1520910964855;;], :amp => [-14.981663592898771;;]), :FeII_6721_1 => Dict(:flux => [-15.380144401805088;;], :SNR => [1.2465883250573437;;], :voff => [7.5257833420585385;;], :mixing => [0.7991574884057013;;], :fwhm => [305.7588871976307;;], :amp => [-15.370077845039159;;]), :H200_S5_1 => Dict(:flux => [-13.648907239886606;;], :SNR => [76.20486384012673;;], :voff => [17.72174789587531;;], :mixing => [0.7991574884057013;;], :fwhm => [219.27849566946827;;], :amp => [-13.495716980925483;;]), :HI_Hu_beta_1 => Dict(:flux => [-15.769486901078217;;], :SNR => [1.923664449206386;;], :voff => [253.37856612194915;;], :mixing => [0.7991574884057013;;], :fwhm => [0.0;;], :amp => [-15.166930867334406;;])…), Dict(:dof => [3312.0;;], :chi2 => [57667.536255412255;;])), ParamMaps{Float64}[ParamMaps{Float64}(Dict(:temp => [0.0;;], :amp => [4.682311074112649;;]), Dict(5 => Dict(:temp => [0.0;;], :amp => [NaN;;]), 4 => Dict(:temp => [0.0;;], :amp => [5.4645057617095425;;]), 6 => Dict(:temp => [0.0;;], :amp => [NaN;;]), 7 => Dict(:temp => [0.0;;], :amp => [NaN;;]), 2 => Dict(:temp => [0.0;;], :amp => [7.658639695466097;;]), 9 => Dict(:temp => [0.0;;], :amp => [NaN;;]), 8 => Dict(:temp => [0.0;;], :amp => [NaN;;]), 3 => Dict(:temp => [0.0;;], :amp => [11.82318847312805;;]), 1 => Dict(:temp => [0.0;;], :amp => [7.764141271558802;;])), Dict{Int64, Dict{Symbol, Matrix{Float64}}}(), Dict(\"PAH_6.30\" => Dict(:flux => [0.3292768132733693;;], :SNR => [0.0;;], :mean => [0.0;;], :fwhm => [0.0179030990815524;;], :amp => [0.3272063054696661;;]), \"PAH_5.24\" => Dict(:flux => [0.45228467921028476;;], :SNR => [0.0;;], :mean => [0.0014810623605421372;;], :fwhm => [0.005007443855059896;;], :amp => [0.44793095658475746;;]), \"PAH_7.75\" => Dict(:flux => [NaN;;], :SNR => [0.0;;], :mean => [0.0;;], :fwhm => [0.0;;], :amp => [NaN;;]), \"PAH_5.27\" => Dict(:flux => [NaN;;], :SNR => [0.0;;], :mean => [0.0;;], :fwhm => [0.0;;], :amp => [NaN;;]), \"PAH_6.00\" => Dict(:flux => [NaN;;], :SNR => [0.0;;], :mean => [0.0;;], :fwhm => [0.0;;], :amp => [NaN;;]), \"PAH_6.20\" => Dict(:flux => [0.34672151272095497;;], :SNR => [0.0;;], :mean => [0.0026681971194879818;;], :fwhm => [0.008231887968160318;;], :amp => [0.3441141990846925;;]), \"PAH_5.87\" => Dict(:flux => [0.40879119435307565;;], :SNR => [0.0;;], :mean => [0.014914924433818755;;], :fwhm => [0.0;;], :amp => [0.408785491235515;;]), \"PAH_5.70\" => Dict(:flux => [0.4030668288397316;;], :SNR => [0.0;;], :mean => [0.0;;], :fwhm => [0.0;;], :amp => [0.4030668288397316;;]), \"PAH_7.85\" => Dict(:flux => [NaN;;], :SNR => [0.0;;], :mean => [0.0;;], :fwhm => [0.0;;], :amp => [NaN;;]), \"PAH_6.69\" => Dict(:flux => [0.37157239858299557;;], :SNR => [0.0;;], :mean => [0.0;;], :fwhm => [0.0;;], :amp => [0.3715723985829956;;])…), Dict{String, Dict{Symbol, Matrix{Float64}}}(), Dict(:beta => [0.0;;], :tau_9_7 => [3.6098384012490543;;], :tau_ice => [0.0;;], :tau_ch => [0.0009420905862116085;;]), Dict(:tau_cold => [10.775300390730216;;], :temp => [0.0;;], :amp => [20.839667975263723;;], :frac => [0.0;;], :tau_warm => [0.0;;], :sil_peak => [0.0;;]), Dict(:H200_S8_1 => Dict(:flux => [0.17961924688244302;;], :SNR => [0.0;;], :voff => [18.14940725709364;;], :mixing => [0.011817963844200308;;], :fwhm => [57.12907014505169;;], :amp => [0.11404593326936999;;]), :MgVII_5503_1 => Dict(:flux => [0.006364768850630904;;], :SNR => [0.0;;], :voff => [4.520374271240789;;], :mixing => [0.011817963844200308;;], :fwhm => [0.0;;], :amp => [0.006114003801553666;;]), :NaIII_7318_1 => Dict(:flux => [0.019847175059374944;;], :SNR => [0.0;;], :voff => [4.527258928759673;;], :mixing => [0.011817963844200308;;], :fwhm => [11.399747240087251;;], :amp => [0.012683286360261115;;]), :FeII_5062_1 => Dict(:flux => [0.08677527280274586;;], :SNR => [0.0;;], :voff => [0.0;;], :mixing => [0.011817963844200308;;], :fwhm => [27.842974662408707;;], :amp => [0.05907224058763171;;]), :HI_Hu_delta_1 => Dict(:flux => [0.14678198002713447;;], :SNR => [0.0;;], :voff => [22.006969619683073;;], :mixing => [0.011817963844200308;;], :fwhm => [58.40870521595973;;], :amp => [0.09421234177163995;;]), :H200_S7_1 => Dict(:flux => [0.009686214382913094;;], :SNR => [0.0;;], :voff => [1.4666954418151632;;], :mixing => [0.011817963844200308;;], :fwhm => [3.893884144846182;;], :amp => [0.005987121723202163;;]), :HI_Hu_gamma_1 => Dict(:flux => [0.14824053912673596;;], :SNR => [0.0;;], :voff => [26.499349814384516;;], :mixing => [0.011817963844200308;;], :fwhm => [68.37167140068787;;], :amp => [0.0951524065895532;;]), :FeII_6721_1 => Dict(:flux => [0.29030833268730727;;], :SNR => [0.0;;], :voff => [67.18706229369093;;], :mixing => [0.011817963844200308;;], :fwhm => [169.19341820540862;;], :amp => [0.1863397123568417;;]), :H200_S5_1 => Dict(:flux => [0.004832805181322105;;], :SNR => [0.0;;], :voff => [0.7577180970514056;;], :mixing => [0.011817963844200308;;], :fwhm => [2.011437697905685;;], :amp => [0.002859731335507622;;]), :HI_Hu_beta_1 => Dict(:flux => [0.16410192179018607;;], :SNR => [0.0;;], :voff => [21.09121475194223;;], :mixing => [0.011817963844200308;;], :fwhm => [0.0;;], :amp => [0.16409237623663775;;])…), Dict(:dof => [NaN;;], :chi2 => [NaN;;])), ParamMaps{Float64}(Dict(:temp => [0.0;;], :amp => [4.682311074112649;;]), Dict(5 => Dict(:temp => [0.0;;], :amp => [NaN;;]), 4 => Dict(:temp => [0.0;;], :amp => [5.4645057617095425;;]), 6 => Dict(:temp => [0.0;;], :amp => [NaN;;]), 7 => Dict(:temp => [0.0;;], :amp => [NaN;;]), 2 => Dict(:temp => [0.0;;], :amp => [7.658639695466097;;]), 9 => Dict(:temp => [0.0;;], :amp => [NaN;;]), 8 => Dict(:temp => [0.0;;], :amp => [NaN;;]), 3 => Dict(:temp => [0.0;;], :amp => [11.82318847312805;;]), 1 => Dict(:temp => [0.0;;], :amp => [7.764141271558802;;])), Dict{Int64, Dict{Symbol, Matrix{Float64}}}(), Dict(\"PAH_6.30\" => Dict(:flux => [0.3292768132733693;;], :SNR => [0.0;;], :mean => [0.0;;], :fwhm => [0.0179030990815524;;], :amp => [0.3272063054696661;;]), \"PAH_5.24\" => Dict(:flux => [0.45228467921028476;;], :SNR => [0.0;;], :mean => [0.0014810623605421372;;], :fwhm => [0.005007443855059896;;], :amp => [0.44793095658475746;;]), \"PAH_7.75\" => Dict(:flux => [NaN;;], :SNR => [0.0;;], :mean => [0.0;;], :fwhm => [0.0;;], :amp => [NaN;;]), \"PAH_5.27\" => Dict(:flux => [NaN;;], :SNR => [0.0;;], :mean => [0.0;;], :fwhm => [0.0;;], :amp => [NaN;;]), \"PAH_6.00\" => Dict(:flux => [NaN;;], :SNR => [0.0;;], :mean => [0.0;;], :fwhm => [0.0;;], :amp => [NaN;;]), \"PAH_6.20\" => Dict(:flux => [0.34672151272095497;;], :SNR => [0.0;;], :mean => [0.0026681971194879818;;], :fwhm => [0.008231887968160318;;], :amp => [0.3441141990846925;;]), \"PAH_5.87\" => Dict(:flux => [0.40879119435307565;;], :SNR => [0.0;;], :mean => [0.014914924433818755;;], :fwhm => [0.0;;], :amp => [0.408785491235515;;]), \"PAH_5.70\" => Dict(:flux => [0.4030668288397316;;], :SNR => [0.0;;], :mean => [0.0;;], :fwhm => [0.0;;], :amp => [0.4030668288397316;;]), \"PAH_7.85\" => Dict(:flux => [NaN;;], :SNR => [0.0;;], :mean => [0.0;;], :fwhm => [0.0;;], :amp => [NaN;;]), \"PAH_6.69\" => Dict(:flux => [0.37157239858299557;;], :SNR => [0.0;;], :mean => [0.0;;], :fwhm => [0.0;;], :amp => [0.3715723985829956;;])…), Dict{String, Dict{Symbol, Matrix{Float64}}}(), Dict(:beta => [0.0;;], :tau_9_7 => [3.6098384012490543;;], :tau_ice => [0.0;;], :tau_ch => [0.0009420905862116085;;]), Dict(:tau_cold => [10.775300390730216;;], :temp => [0.0;;], :amp => [20.839667975263723;;], :frac => [0.0;;], :tau_warm => [0.0;;], :sil_peak => [0.0;;]), Dict(:H200_S8_1 => Dict(:flux => [0.17961924688244302;;], :SNR => [0.0;;], :voff => [18.14940725709364;;], :mixing => [0.011817963844200308;;], :fwhm => [57.12907014505169;;], :amp => [0.11404593326936999;;]), :MgVII_5503_1 => Dict(:flux => [0.006364768850630904;;], :SNR => [0.0;;], :voff => [4.520374271240789;;], :mixing => [0.011817963844200308;;], :fwhm => [0.0;;], :amp => [0.006114003801553666;;]), :NaIII_7318_1 => Dict(:flux => [0.019847175059374944;;], :SNR => [0.0;;], :voff => [4.527258928759673;;], :mixing => [0.011817963844200308;;], :fwhm => [11.399747240087251;;], :amp => [0.012683286360261115;;]), :FeII_5062_1 => Dict(:flux => [0.08677527280274586;;], :SNR => [0.0;;], :voff => [0.0;;], :mixing => [0.011817963844200308;;], :fwhm => [27.842974662408707;;], :amp => [0.05907224058763171;;]), :HI_Hu_delta_1 => Dict(:flux => [0.14678198002713447;;], :SNR => [0.0;;], :voff => [22.006969619683073;;], :mixing => [0.011817963844200308;;], :fwhm => [58.40870521595973;;], :amp => [0.09421234177163995;;]), :H200_S7_1 => Dict(:flux => [0.009686214382913094;;], :SNR => [0.0;;], :voff => [1.4666954418151632;;], :mixing => [0.011817963844200308;;], :fwhm => [3.893884144846182;;], :amp => [0.005987121723202163;;]), :HI_Hu_gamma_1 => Dict(:flux => [0.14824053912673596;;], :SNR => [0.0;;], :voff => [26.499349814384516;;], :mixing => [0.011817963844200308;;], :fwhm => [68.37167140068787;;], :amp => [0.0951524065895532;;]), :FeII_6721_1 => Dict(:flux => [0.29030833268730727;;], :SNR => [0.0;;], :voff => [67.18706229369093;;], :mixing => [0.011817963844200308;;], :fwhm => [169.19341820540862;;], :amp => [0.1863397123568417;;]), :H200_S5_1 => Dict(:flux => [0.004832805181322105;;], :SNR => [0.0;;], :voff => [0.7577180970514056;;], :mixing => [0.011817963844200308;;], :fwhm => [2.011437697905685;;], :amp => [0.002859731335507622;;]), :HI_Hu_beta_1 => Dict(:flux => [0.16410192179018607;;], :SNR => [0.0;;], :voff => [21.09121475194223;;], :mixing => [0.011817963844200308;;], :fwhm => [0.0;;], :amp => [0.16409237623663775;;])…), Dict(:dof => [NaN;;], :chi2 => [NaN;;]))], CubeModel{Float32}([0.0;;; 0.0;;; 0.0;;; … ;;; 0.0;;; 0.0;;; 0.0], [0.0;;; 0.0;;; 0.0;;; … ;;; 0.0;;; 0.0;;; 0.0], [0.0;;; 0.0;;; 0.0;;; … ;;; 0.0;;; 0.0;;; 0.0;;;; 0.0;;; 0.0;;; 0.0;;; … ;;; 0.0;;; 0.0;;; 0.0;;;; 0.0;;; 0.0;;; 0.0;;; … ;;; 0.0;;; 0.0;;; 0.0;;;; 0.0;;; 0.0;;; 0.0;;; … ;;; 0.0;;; 0.0;;; 0.0;;;; 0.0;;; 0.0;;; 0.0;;; … ;;; 0.0;;; 0.0;;; 0.0;;;; 0.0;;; 0.0;;; 0.0;;; … ;;; 0.0;;; 0.0;;; 0.0;;;; 0.0;;; 0.0;;; 0.0;;; … ;;; 0.0;;; 0.0;;; 0.0;;;; 0.0;;; 0.0;;; 0.0;;; … ;;; 0.0;;; 0.0;;; 0.0;;;; 0.0;;; 0.0;;; 0.0;;; … ;;; 0.0;;; 0.0;;; 0.0], Array{Float32, 4}(undef, 1, 1, 3436, 0), [0.0;;; 0.0;;; 0.0;;; … ;;; 0.0;;; 0.0;;; 0.0;;;; 0.0;;; 0.0;;; 0.0;;; … ;;; 0.0;;; 0.0;;; 0.0;;;; 0.0;;; 0.0;;; 0.0;;; … ;;; 0.0;;; 0.0;;; 0.0;;;; … ;;;; 0.0;;; 0.0;;; 0.0;;; … ;;; 0.0;;; 0.0;;; 0.0;;;; 0.0;;; 0.0;;; 0.0;;; … ;;; 0.0;;; 0.0;;; 0.0;;;; 0.0;;; 0.0;;; 0.0;;; … ;;; 0.0;;; 0.0;;; 0.0], Array{Float32, 4}(undef, 1, 1, 3436, 0), [0.0;;; 0.0;;; 0.0;;; … ;;; 0.0;;; 0.0;;; 0.0], [0.0;;; 0.0;;; 0.0;;; … ;;; 0.0;;; 0.0;;; 0.0], [0.0;;; 0.0;;; 0.0;;; … ;;; 0.0;;; 0.0;;; 0.0], [0.0;;; 0.0;;; 0.0;;; … ;;; 0.0;;; 0.0;;; 0.0], [0.0;;; 0.0;;; 0.0;;; … ;;; 0.0;;; 0.0;;; 0.0;;;; 0.0;;; 0.0;;; 0.0;;; … ;;; 0.0;;; 0.0;;; 0.0;;;; 0.0;;; 0.0;;; 0.0;;; … ;;; 0.0;;; 0.0;;; 0.0;;;; … ;;;; 0.0;;; 0.0;;; 0.0;;; … ;;; 0.0;;; 0.0;;; 0.0;;;; 0.0;;; 0.0;;; 0.0;;; … ;;; 0.0;;; 0.0;;; 0.0;;;; 0.0;;; 0.0;;; 0.0;;; … ;;; 0.0;;; 0.0;;; 0.0]))"
      ]
     },
     "metadata": {},
     "output_type": "display_data"
    }
   ],
   "source": [
    "# To see a full list of keyword arguments, please refer to the docstring, which can be accessed by typing `?CubeFitter` in the command\n",
    "# line after importing Loki.\n",
    "cube_fitter = CubeFitter(obs.channels[channel], obs.z, run_name; parallel=false, plot_spaxels=:both, \n",
    "    plot_maps=true, save_fits=true, use_pah_templates=false, fit_sil_emission=true, save_full_model=false)\n",
    "\n",
    "# Call the fit_cube! function on the cube_fitter object, using the aperture we defined.\n",
    "fit_cube!(cube_fitter, ap)"
   ]
  },
  {
   "attachments": {},
   "cell_type": "markdown",
   "id": "05295663",
   "metadata": {},
   "source": [
    "And the results can be found in the \"output_[run_name]\" directory!\n",
    "Here is our fit of channel 1 of the nuclear spectrum of NGC 7469\\*:\n",
    "\n",
    "![results_1D](./NGC_7469_spaxel_1_1.png)\n",
    "\n",
    "\\*side note: it is generally not a good idea to fit only one channel here, this was done just as a quick example to get you started. The continuum components can be degenerate with the very flat extinction profile if you only fit one channel. LOKI has been built with the assumption/hope that one is fitting multiple MIRI channels combined into a single spectrum. Channel 2 in particular is crucial because it contains a large silicate absorption feature, but fitting just channel 2 by itself is also not advised because the shape of the extinction profile can be degenerate with the large wings of the PAH features to the left and right."
   ]
  }
 ],
 "metadata": {
  "kernelspec": {
   "display_name": "Julia 1.9.0",
   "language": "julia",
   "name": "julia-1.9"
  },
  "language_info": {
   "file_extension": ".jl",
   "mimetype": "application/julia",
   "name": "julia",
   "version": "1.9.0"
  }
 },
 "nbformat": 4,
 "nbformat_minor": 5
}
