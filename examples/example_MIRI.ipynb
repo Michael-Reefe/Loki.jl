{
 "cells": [
  {
   "attachments": {},
   "cell_type": "markdown",
   "id": "faa40c44",
   "metadata": {},
   "source": [
    "# Likelihood Optimization of gas Kinematics in IFUs (LOKI)\n",
    "## Fitting example: MIRI\n",
    "\n",
    "Michael Reefe\n",
    "\n",
    "This example notebook provides a quick tutorial on how to run LOKI using JWST MIRI/MRS formatted data."
   ]
  },
  {
   "attachments": {},
   "cell_type": "markdown",
   "id": "288ac322",
   "metadata": {},
   "source": [
    "First things first, we need to import the LOKI code. Remember we need to activate our project first (refer to the installation section of the README). We can do so simply by:"
   ]
  },
  {
   "cell_type": "code",
   "execution_count": 1,
   "id": "323538a7",
   "metadata": {},
   "outputs": [
    {
     "name": "stderr",
     "output_type": "stream",
     "text": [
      "\u001b[32m\u001b[1m  Activating\u001b[22m\u001b[39m project at `~/Dropbox/Astrophysics/Phoenix_Cluster/Loki`\n",
      "\u001b[32m\u001b[1mPrecompiling\u001b[22m\u001b[39m packages...\n",
      "  12874.1 ms\u001b[32m  ✓ \u001b[39mLoki\n",
      "  1 dependency successfully precompiled in 15 seconds. 308 already precompiled.\n"
     ]
    }
   ],
   "source": [
    "using Pkg\n",
    "Pkg.activate(dirname(@__DIR__))\n",
    "Pkg.instantiate()\n",
    "Pkg.precompile()\n",
    "\n",
    "using Loki"
   ]
  },
  {
   "cell_type": "markdown",
   "id": "df1c9385",
   "metadata": {},
   "source": [
    "\n",
    "Some aspects of the code may utilize multiprocessing. To take advantage of this, we first must import the `Distributed` package and add parallel CPU processes. Then, our following imports must be encased in an `@everywhere` block to ensure they are loaded onto each CPU process individually. For example:"
   ]
  },
  {
   "cell_type": "markdown",
   "id": "df851689",
   "metadata": {},
   "source": [
    "```julia\n",
    "@everywhere begin\n",
    "    using Pkg\n",
    "    Pkg.activate(dirname(@__DIR__))\n",
    "    Pkg.instantiate()\n",
    "    Pkg.precompile()\n",
    "    using Loki\n",
    "end\n",
    "```"
   ]
  },
  {
   "attachments": {},
   "cell_type": "markdown",
   "id": "ff1c7a50",
   "metadata": {},
   "source": [
    "### NOTE 1: \n",
    "\n",
    "Alternatively, we could have started julia with the command-line argument `--project=/path/to/Loki`. This is my preferred way of starting the code when in a project setting, but this is difficult to demonstrate using a Jupyter notebook. If you choose to start julia this way, the above block is unnecessary since the project is already activated and precompiled. You would just need to add a single line like `@everywhere using Loki`. Additionally, you would have to modify the `addprocs` call with the argument `exeflags=\"--project=/path/to/Loki\"`, which tells the Distributed module that the worker processes should also be started using the Loki project.  \n",
    "\n",
    "So, all together, in your file (let's call it `example.jl`) you would have:\n",
    "```julia\n",
    "using Distributed\n",
    "procs = addprocs(Sys.CPU_THREADS, exeflags=\"--project=/path/to/Loki\")\n",
    "@everywhere using Loki\n",
    "```\n",
    "And from the terminal you would start the code using:\n",
    "`julia --project=/path/to/Loki example.jl`"
   ]
  },
  {
   "attachments": {},
   "cell_type": "markdown",
   "id": "2ad11bf4",
   "metadata": {},
   "source": [
    "### NOTE 2:\n",
    "\n",
    "If you plan on running Loki in a High-Performance Computing (HPC) environment, you can also take advantage of julia's built-in distributed package in a very similar way. In fact, if you plan on running on only a single node, then no changes should be necessary at all from the above example. However, if you wish to spread out over multiple nodes, some changes will be required, since by default the above will only add additional processes onto one node. If you cluster uses Slurm, then you can use the `SlurmClusterManager` package like so:\n",
    "\n",
    "```julia\n",
    "using Distributed\n",
    "using SlurmClusterManager\n",
    "procs = addprocs(SlurmManager(), exeflags=\"--project=/path/to/Loki\")\n",
    "@everywhere using Loki\n",
    "```\n",
    "\n",
    "Then, you would start julia from within an sbatch script specifying how many nodes, tasks, and CPUs you need. I strongly recommend using the `\"--project\"` flag approach described above when on a cluster, as I have run into strange issues with the other approach causing julia to start thinking pid files are stale and removing them."
   ]
  },
  {
   "attachments": {},
   "cell_type": "markdown",
   "id": "2862b182",
   "metadata": {},
   "source": [
    "Now we want to load in our data. For this example, we'll be using the channel 1 data for NGC 7469, which is located in the same folder as this notebook. Unfortunately the JWST reduced data does not include a redshift, so we must provide the redshift ourselves.  We can use the `from_fits` function to load in the JWST-formatted FITS files, along with the redshift."
   ]
  },
  {
   "cell_type": "code",
   "execution_count": 2,
   "id": "08c04fee",
   "metadata": {},
   "outputs": [
    {
     "name": "stdout",
     "output_type": "stream",
     "text": [
      "\u001b[36m\u001b[1m[ \u001b[22m\u001b[39m\u001b[36m\u001b[1mInfo: \u001b[22m\u001b[39mInitializing DataCube struct from Level3_ch1-medium_s3d.fits\n"
     ]
    }
   ],
   "source": [
    "# The redshift of the target object: NGC 7469\n",
    "z = 0.016317\n",
    "# The semicolon at the end suppresses printing the output Observation object, which is long and not very enlightening\n",
    "# obs = from_fits([\"Level3_ch1-long_s3d.fits\", \"Level3_ch1-medium_s3d.fits\", \"Level3_ch1-short_s3d.fits\"], z);\n",
    "obs = from_fits([\"Level3_ch1-medium_s3d.fits\"], z);"
   ]
  },
  {
   "attachments": {},
   "cell_type": "markdown",
   "id": "aea827e4",
   "metadata": {},
   "source": [
    "Next, we create some variables that we will use later. We will be fitting channel 1 data, and we can take the `name` property from the Observation object we just loaded in to get the name of the target. Here, `run_name` is just a unique identifier that we will use for this run."
   ]
  },
  {
   "cell_type": "code",
   "execution_count": 3,
   "id": "8f602574",
   "metadata": {},
   "outputs": [
    {
     "data": {
      "text/plain": [
       "\"NGC_7469_chB1_nuc_aperture\""
      ]
     },
     "metadata": {},
     "output_type": "display_data"
    }
   ],
   "source": [
    "# channel = 1\n",
    "channel = :B1\n",
    "nm = replace(obs.name, \" \" => \"_\") \n",
    "run_name = \"$(nm)_ch$(channel)_nuc_aperture\""
   ]
  },
  {
   "attachments": {},
   "cell_type": "markdown",
   "id": "4f793d58",
   "metadata": {},
   "source": [
    "Before fitting, we want to do some pre-processing on the data. We want to convert the data to the rest-frame, mast out / interpolate any bad pixels, and replace the JWST pipeline-generated errors with some more realistic ones.  All of this is achieved in the next block of code. This is also where we could combine data from multiple channels into a single cube, if desired, using the `combine_channels!` function, but in this quick example we only have one sub-channel."
   ]
  },
  {
   "cell_type": "code",
   "execution_count": 7,
   "id": "3dfbae1c",
   "metadata": {},
   "outputs": [
    {
     "name": "stdout",
     "output_type": "stream",
     "text": [
      "\u001b[36m\u001b[1m[ \u001b[22m\u001b[39m\u001b[36m\u001b[1mInfo: \u001b[22m\u001b[39mInitializing DataCube struct from NGC_7469.channelB1.rest_frame.fits\n"
     ]
    },
    {
     "data": {
      "text/plain": [
       "Observation(Dict{Any, DataCube}(:B1 => DataCube{Vector{Unitful.Quantity{Float64, 𝐋, Unitful.FreeUnits{(μm,), 𝐋, nothing}}}, Array{Unitful.Quantity{Float64, 𝐌 𝐓⁻², Unitful.FreeUnits{(erg, Hz⁻¹, cm⁻², s⁻¹, sr⁻¹), 𝐌 𝐓⁻², nothing}}, 3}}(Unitful.Quantity{Float64, 𝐋, Unitful.FreeUnits{(μm,), 𝐋, nothing}}[5.569521957619527 μm, 5.570309113575583 μm, 5.57109638078257 μm, 5.57188375925621 μm, 5.572671249012229 μm, 5.573458850066356 μm, 5.57424656243432 μm, 5.575034386131854 μm, 5.575822321174693 μm, 5.57661036757857 μm  …  6.514537321833719 μm, 6.515458039427231 μm, 6.516378887148309 μm, 6.517299865015345 μm, 6.518220973046733 μm, 6.519142211260869 μm, 6.52006357967615 μm, 6.520985078310981 μm, 6.521906707183765 μm, 6.52282846631291 μm], Unitful.Quantity{Float64, 𝐌 𝐓⁻², Unitful.FreeUnits{(erg, Hz⁻¹, cm⁻², s⁻¹, sr⁻¹), 𝐌 𝐓⁻², nothing}}[NaN erg Hz⁻¹ cm⁻² s⁻¹ sr⁻¹ NaN erg Hz⁻¹ cm⁻² s⁻¹ sr⁻¹ … NaN erg Hz⁻¹ cm⁻² s⁻¹ sr⁻¹ NaN erg Hz⁻¹ cm⁻² s⁻¹ sr⁻¹; NaN erg Hz⁻¹ cm⁻² s⁻¹ sr⁻¹ NaN erg Hz⁻¹ cm⁻² s⁻¹ sr⁻¹ … NaN erg Hz⁻¹ cm⁻² s⁻¹ sr⁻¹ NaN erg Hz⁻¹ cm⁻² s⁻¹ sr⁻¹; … ; NaN erg Hz⁻¹ cm⁻² s⁻¹ sr⁻¹ NaN erg Hz⁻¹ cm⁻² s⁻¹ sr⁻¹ … -8.082104404963277e-16 erg Hz⁻¹ cm⁻² s⁻¹ sr⁻¹ NaN erg Hz⁻¹ cm⁻² s⁻¹ sr⁻¹; NaN erg Hz⁻¹ cm⁻² s⁻¹ sr⁻¹ NaN erg Hz⁻¹ cm⁻² s⁻¹ sr⁻¹ … NaN erg Hz⁻¹ cm⁻² s⁻¹ sr⁻¹ NaN erg Hz⁻¹ cm⁻² s⁻¹ sr⁻¹;;; NaN erg Hz⁻¹ cm⁻² s⁻¹ sr⁻¹ NaN erg Hz⁻¹ cm⁻² s⁻¹ sr⁻¹ … NaN erg Hz⁻¹ cm⁻² s⁻¹ sr⁻¹ NaN erg Hz⁻¹ cm⁻² s⁻¹ sr⁻¹; NaN erg Hz⁻¹ cm⁻² s⁻¹ sr⁻¹ NaN erg Hz⁻¹ cm⁻² s⁻¹ sr⁻¹ … NaN erg Hz⁻¹ cm⁻² s⁻¹ sr⁻¹ NaN erg Hz⁻¹ cm⁻² s⁻¹ sr⁻¹; … ; NaN erg Hz⁻¹ cm⁻² s⁻¹ sr⁻¹ NaN erg Hz⁻¹ cm⁻² s⁻¹ sr⁻¹ … 7.699449028463712e-17 erg Hz⁻¹ cm⁻² s⁻¹ sr⁻¹ NaN erg Hz⁻¹ cm⁻² s⁻¹ sr⁻¹; NaN erg Hz⁻¹ cm⁻² s⁻¹ sr⁻¹ NaN erg Hz⁻¹ cm⁻² s⁻¹ sr⁻¹ … NaN erg Hz⁻¹ cm⁻² s⁻¹ sr⁻¹ NaN erg Hz⁻¹ cm⁻² s⁻¹ sr⁻¹;;; NaN erg Hz⁻¹ cm⁻² s⁻¹ sr⁻¹ NaN erg Hz⁻¹ cm⁻² s⁻¹ sr⁻¹ … NaN erg Hz⁻¹ cm⁻² s⁻¹ sr⁻¹ NaN erg Hz⁻¹ cm⁻² s⁻¹ sr⁻¹; NaN erg Hz⁻¹ cm⁻² s⁻¹ sr⁻¹ NaN erg Hz⁻¹ cm⁻² s⁻¹ sr⁻¹ … NaN erg Hz⁻¹ cm⁻² s⁻¹ sr⁻¹ NaN erg Hz⁻¹ cm⁻² s⁻¹ sr⁻¹; … ; NaN erg Hz⁻¹ cm⁻² s⁻¹ sr⁻¹ NaN erg Hz⁻¹ cm⁻² s⁻¹ sr⁻¹ … 3.552444242857882e-16 erg Hz⁻¹ cm⁻² s⁻¹ sr⁻¹ NaN erg Hz⁻¹ cm⁻² s⁻¹ sr⁻¹; NaN erg Hz⁻¹ cm⁻² s⁻¹ sr⁻¹ NaN erg Hz⁻¹ cm⁻² s⁻¹ sr⁻¹ … NaN erg Hz⁻¹ cm⁻² s⁻¹ sr⁻¹ NaN erg Hz⁻¹ cm⁻² s⁻¹ sr⁻¹;;; … ;;; NaN erg Hz⁻¹ cm⁻² s⁻¹ sr⁻¹ NaN erg Hz⁻¹ cm⁻² s⁻¹ sr⁻¹ … NaN erg Hz⁻¹ cm⁻² s⁻¹ sr⁻¹ NaN erg Hz⁻¹ cm⁻² s⁻¹ sr⁻¹; NaN erg Hz⁻¹ cm⁻² s⁻¹ sr⁻¹ 5.896278739581918e-16 erg Hz⁻¹ cm⁻² s⁻¹ sr⁻¹ … NaN erg Hz⁻¹ cm⁻² s⁻¹ sr⁻¹ NaN erg Hz⁻¹ cm⁻² s⁻¹ sr⁻¹; … ; NaN erg Hz⁻¹ cm⁻² s⁻¹ sr⁻¹ NaN erg Hz⁻¹ cm⁻² s⁻¹ sr⁻¹ … NaN erg Hz⁻¹ cm⁻² s⁻¹ sr⁻¹ NaN erg Hz⁻¹ cm⁻² s⁻¹ sr⁻¹; NaN erg Hz⁻¹ cm⁻² s⁻¹ sr⁻¹ NaN erg Hz⁻¹ cm⁻² s⁻¹ sr⁻¹ … NaN erg Hz⁻¹ cm⁻² s⁻¹ sr⁻¹ NaN erg Hz⁻¹ cm⁻² s⁻¹ sr⁻¹;;; NaN erg Hz⁻¹ cm⁻² s⁻¹ sr⁻¹ NaN erg Hz⁻¹ cm⁻² s⁻¹ sr⁻¹ … NaN erg Hz⁻¹ cm⁻² s⁻¹ sr⁻¹ NaN erg Hz⁻¹ cm⁻² s⁻¹ sr⁻¹; NaN erg Hz⁻¹ cm⁻² s⁻¹ sr⁻¹ 7.793917744323589e-16 erg Hz⁻¹ cm⁻² s⁻¹ sr⁻¹ … NaN erg Hz⁻¹ cm⁻² s⁻¹ sr⁻¹ NaN erg Hz⁻¹ cm⁻² s⁻¹ sr⁻¹; … ; NaN erg Hz⁻¹ cm⁻² s⁻¹ sr⁻¹ NaN erg Hz⁻¹ cm⁻² s⁻¹ sr⁻¹ … NaN erg Hz⁻¹ cm⁻² s⁻¹ sr⁻¹ NaN erg Hz⁻¹ cm⁻² s⁻¹ sr⁻¹; NaN erg Hz⁻¹ cm⁻² s⁻¹ sr⁻¹ NaN erg Hz⁻¹ cm⁻² s⁻¹ sr⁻¹ … NaN erg Hz⁻¹ cm⁻² s⁻¹ sr⁻¹ NaN erg Hz⁻¹ cm⁻² s⁻¹ sr⁻¹;;; NaN erg Hz⁻¹ cm⁻² s⁻¹ sr⁻¹ NaN erg Hz⁻¹ cm⁻² s⁻¹ sr⁻¹ … NaN erg Hz⁻¹ cm⁻² s⁻¹ sr⁻¹ NaN erg Hz⁻¹ cm⁻² s⁻¹ sr⁻¹; NaN erg Hz⁻¹ cm⁻² s⁻¹ sr⁻¹ 4.0677451341152604e-16 erg Hz⁻¹ cm⁻² s⁻¹ sr⁻¹ … NaN erg Hz⁻¹ cm⁻² s⁻¹ sr⁻¹ NaN erg Hz⁻¹ cm⁻² s⁻¹ sr⁻¹; … ; NaN erg Hz⁻¹ cm⁻² s⁻¹ sr⁻¹ NaN erg Hz⁻¹ cm⁻² s⁻¹ sr⁻¹ … NaN erg Hz⁻¹ cm⁻² s⁻¹ sr⁻¹ NaN erg Hz⁻¹ cm⁻² s⁻¹ sr⁻¹; NaN erg Hz⁻¹ cm⁻² s⁻¹ sr⁻¹ NaN erg Hz⁻¹ cm⁻² s⁻¹ sr⁻¹ … NaN erg Hz⁻¹ cm⁻² s⁻¹ sr⁻¹ NaN erg Hz⁻¹ cm⁻² s⁻¹ sr⁻¹], Unitful.Quantity{Float64, 𝐌 𝐓⁻², Unitful.FreeUnits{(erg, Hz⁻¹, cm⁻², s⁻¹, sr⁻¹), 𝐌 𝐓⁻², nothing}}[NaN erg Hz⁻¹ cm⁻² s⁻¹ sr⁻¹ NaN erg Hz⁻¹ cm⁻² s⁻¹ sr⁻¹ … NaN erg Hz⁻¹ cm⁻² s⁻¹ sr⁻¹ NaN erg Hz⁻¹ cm⁻² s⁻¹ sr⁻¹; NaN erg Hz⁻¹ cm⁻² s⁻¹ sr⁻¹ NaN erg Hz⁻¹ cm⁻² s⁻¹ sr⁻¹ … NaN erg Hz⁻¹ cm⁻² s⁻¹ sr⁻¹ NaN erg Hz⁻¹ cm⁻² s⁻¹ sr⁻¹; … ; NaN erg Hz⁻¹ cm⁻² s⁻¹ sr⁻¹ NaN erg Hz⁻¹ cm⁻² s⁻¹ sr⁻¹ … NaN erg Hz⁻¹ cm⁻² s⁻¹ sr⁻¹ NaN erg Hz⁻¹ cm⁻² s⁻¹ sr⁻¹; NaN erg Hz⁻¹ cm⁻² s⁻¹ sr⁻¹ NaN erg Hz⁻¹ cm⁻² s⁻¹ sr⁻¹ … NaN erg Hz⁻¹ cm⁻² s⁻¹ sr⁻¹ NaN erg Hz⁻¹ cm⁻² s⁻¹ sr⁻¹;;; NaN erg Hz⁻¹ cm⁻² s⁻¹ sr⁻¹ NaN erg Hz⁻¹ cm⁻² s⁻¹ sr⁻¹ … NaN erg Hz⁻¹ cm⁻² s⁻¹ sr⁻¹ NaN erg Hz⁻¹ cm⁻² s⁻¹ sr⁻¹; NaN erg Hz⁻¹ cm⁻² s⁻¹ sr⁻¹ NaN erg Hz⁻¹ cm⁻² s⁻¹ sr⁻¹ … NaN erg Hz⁻¹ cm⁻² s⁻¹ sr⁻¹ NaN erg Hz⁻¹ cm⁻² s⁻¹ sr⁻¹; … ; NaN erg Hz⁻¹ cm⁻² s⁻¹ sr⁻¹ NaN erg Hz⁻¹ cm⁻² s⁻¹ sr⁻¹ … NaN erg Hz⁻¹ cm⁻² s⁻¹ sr⁻¹ NaN erg Hz⁻¹ cm⁻² s⁻¹ sr⁻¹; NaN erg Hz⁻¹ cm⁻² s⁻¹ sr⁻¹ NaN erg Hz⁻¹ cm⁻² s⁻¹ sr⁻¹ … NaN erg Hz⁻¹ cm⁻² s⁻¹ sr⁻¹ NaN erg Hz⁻¹ cm⁻² s⁻¹ sr⁻¹;;; NaN erg Hz⁻¹ cm⁻² s⁻¹ sr⁻¹ NaN erg Hz⁻¹ cm⁻² s⁻¹ sr⁻¹ … NaN erg Hz⁻¹ cm⁻² s⁻¹ sr⁻¹ NaN erg Hz⁻¹ cm⁻² s⁻¹ sr⁻¹; NaN erg Hz⁻¹ cm⁻² s⁻¹ sr⁻¹ NaN erg Hz⁻¹ cm⁻² s⁻¹ sr⁻¹ … NaN erg Hz⁻¹ cm⁻² s⁻¹ sr⁻¹ NaN erg Hz⁻¹ cm⁻² s⁻¹ sr⁻¹; … ; NaN erg Hz⁻¹ cm⁻² s⁻¹ sr⁻¹ NaN erg Hz⁻¹ cm⁻² s⁻¹ sr⁻¹ … NaN erg Hz⁻¹ cm⁻² s⁻¹ sr⁻¹ NaN erg Hz⁻¹ cm⁻² s⁻¹ sr⁻¹; NaN erg Hz⁻¹ cm⁻² s⁻¹ sr⁻¹ NaN erg Hz⁻¹ cm⁻² s⁻¹ sr⁻¹ … NaN erg Hz⁻¹ cm⁻² s⁻¹ sr⁻¹ NaN erg Hz⁻¹ cm⁻² s⁻¹ sr⁻¹;;; … ;;; NaN erg Hz⁻¹ cm⁻² s⁻¹ sr⁻¹ NaN erg Hz⁻¹ cm⁻² s⁻¹ sr⁻¹ … NaN erg Hz⁻¹ cm⁻² s⁻¹ sr⁻¹ NaN erg Hz⁻¹ cm⁻² s⁻¹ sr⁻¹; NaN erg Hz⁻¹ cm⁻² s⁻¹ sr⁻¹ NaN erg Hz⁻¹ cm⁻² s⁻¹ sr⁻¹ … NaN erg Hz⁻¹ cm⁻² s⁻¹ sr⁻¹ NaN erg Hz⁻¹ cm⁻² s⁻¹ sr⁻¹; … ; NaN erg Hz⁻¹ cm⁻² s⁻¹ sr⁻¹ NaN erg Hz⁻¹ cm⁻² s⁻¹ sr⁻¹ … NaN erg Hz⁻¹ cm⁻² s⁻¹ sr⁻¹ NaN erg Hz⁻¹ cm⁻² s⁻¹ sr⁻¹; NaN erg Hz⁻¹ cm⁻² s⁻¹ sr⁻¹ NaN erg Hz⁻¹ cm⁻² s⁻¹ sr⁻¹ … NaN erg Hz⁻¹ cm⁻² s⁻¹ sr⁻¹ NaN erg Hz⁻¹ cm⁻² s⁻¹ sr⁻¹;;; NaN erg Hz⁻¹ cm⁻² s⁻¹ sr⁻¹ NaN erg Hz⁻¹ cm⁻² s⁻¹ sr⁻¹ … NaN erg Hz⁻¹ cm⁻² s⁻¹ sr⁻¹ NaN erg Hz⁻¹ cm⁻² s⁻¹ sr⁻¹; NaN erg Hz⁻¹ cm⁻² s⁻¹ sr⁻¹ NaN erg Hz⁻¹ cm⁻² s⁻¹ sr⁻¹ … NaN erg Hz⁻¹ cm⁻² s⁻¹ sr⁻¹ NaN erg Hz⁻¹ cm⁻² s⁻¹ sr⁻¹; … ; NaN erg Hz⁻¹ cm⁻² s⁻¹ sr⁻¹ NaN erg Hz⁻¹ cm⁻² s⁻¹ sr⁻¹ … NaN erg Hz⁻¹ cm⁻² s⁻¹ sr⁻¹ NaN erg Hz⁻¹ cm⁻² s⁻¹ sr⁻¹; NaN erg Hz⁻¹ cm⁻² s⁻¹ sr⁻¹ NaN erg Hz⁻¹ cm⁻² s⁻¹ sr⁻¹ … NaN erg Hz⁻¹ cm⁻² s⁻¹ sr⁻¹ NaN erg Hz⁻¹ cm⁻² s⁻¹ sr⁻¹;;; NaN erg Hz⁻¹ cm⁻² s⁻¹ sr⁻¹ NaN erg Hz⁻¹ cm⁻² s⁻¹ sr⁻¹ … NaN erg Hz⁻¹ cm⁻² s⁻¹ sr⁻¹ NaN erg Hz⁻¹ cm⁻² s⁻¹ sr⁻¹; NaN erg Hz⁻¹ cm⁻² s⁻¹ sr⁻¹ NaN erg Hz⁻¹ cm⁻² s⁻¹ sr⁻¹ … NaN erg Hz⁻¹ cm⁻² s⁻¹ sr⁻¹ NaN erg Hz⁻¹ cm⁻² s⁻¹ sr⁻¹; … ; NaN erg Hz⁻¹ cm⁻² s⁻¹ sr⁻¹ NaN erg Hz⁻¹ cm⁻² s⁻¹ sr⁻¹ … NaN erg Hz⁻¹ cm⁻² s⁻¹ sr⁻¹ NaN erg Hz⁻¹ cm⁻² s⁻¹ sr⁻¹; NaN erg Hz⁻¹ cm⁻² s⁻¹ sr⁻¹ NaN erg Hz⁻¹ cm⁻² s⁻¹ sr⁻¹ … NaN erg Hz⁻¹ cm⁻² s⁻¹ sr⁻¹ NaN erg Hz⁻¹ cm⁻² s⁻¹ sr⁻¹], Bool[1 1 … 1 1; 1 1 … 1 1; … ; 1 1 … 1 1; 1 1 … 1 1;;; 1 1 … 1 1; 1 1 … 1 1; … ; 1 1 … 1 1; 1 1 … 1 1;;; 1 1 … 1 1; 1 1 … 1 1; … ; 1 1 … 1 1; 1 1 … 1 1;;; … ;;; 1 1 … 1 1; 1 1 … 1 1; … ; 1 1 … 1 1; 1 1 … 1 1;;; 1 1 … 1 1; 1 1 … 1 1; … ; 1 1 … 1 1; 1 1 … 1 1;;; 1 1 … 1 1; 1 1 … 1 1; … ; 1 1 … 1 1; 1 1 … 1 1], nothing, 3.97217570860291e-13 sr, 345.815041666667°, 8.87389444444445°, -1.209953826265757 rad, Unitful.Quantity{Float64, NoDims, Unitful.FreeUnits{(″,), NoDims, nothing}}[0.20279319496426618 ″, 0.20281959496359925 ″, 0.20284599869411737 ″, 0.2028724061563478 ″, 0.2028988173508179 ″, 0.20292523227805534 ″, 0.20295165093858755 ″, 0.20297807333294215 ″, 0.20300449946164692 ″, 0.20303092932522956 ″  …  0.23448755590136466 ″, 0.23451843535246664 ″, 0.23454931916784696 ″, 0.23458020734812243 ″, 0.2346110998939099 ″, 0.23464199680582645 ″, 0.23467289808448896 ″, 0.2347038037305148 ″, 0.23473471374452118 ″, 0.23476562812712531 ″], Unitful.Quantity{Float64, 𝐋 𝐓⁻¹, Unitful.FreeUnits{(km, s⁻¹), 𝐋 𝐓⁻¹, nothing}}[77.29660130054437 km s⁻¹, 77.29864215252096 km s⁻¹, 77.3006834007388 km s⁻¹, 77.30272504529293 km s⁻¹, 77.30476708627835 km s⁻¹, 77.30680952379014 km s⁻¹, 77.30885235792337 km s⁻¹, 77.31089558877315 km s⁻¹, 77.31293921643459 km s⁻¹, 77.31498324100284 km s⁻¹  …  79.82687111394188 km s⁻¹, 79.82941710293262 km s⁻¹, 79.83196361077252 km s⁻¹, 79.8345106439415 km s⁻¹, 79.83705821005947 km s⁻¹, 79.8396062954228 km s⁻¹, 79.84215490015596 km s⁻¹, 79.84470402438347 km s⁻¹, 79.84725366822992 km s⁻¹, 79.84980384097248 km s⁻¹], WCSTransform(naxis=3,cdelt=[3.61111097865634e-5, 3.61111097865634e-5, 7.999999797903e-10],crval=[-14.1849374145667, 8.87390670833446, 5.660399847402e-6],crpix=[17.0, 20.0, 1.0]), \"B1\", \"MEDIUM\", 33, 39, 1119, Loki.SpectralRegion{Unitful.Quantity{Float64, 𝐋, Unitful.FreeUnits{(μm,), 𝐋, nothing}}}((5.569521957619527 μm, 6.52282846631291 μm), Tuple{Unitful.Quantity{Float64, 𝐋, Unitful.FreeUnits{(μm,), 𝐋, nothing}}, Unitful.Quantity{Float64, 𝐋, Unitful.FreeUnits{(μm,), 𝐋, nothing}}}[], 1, BitVector[[1, 1, 1, 1, 1, 1, 1, 1, 1, 1  …  1, 1, 1, 1, 1, 1, 1, 1, 1, 1]], Unitful.Quantity{Float64, 𝐋, Unitful.FreeUnits{(μm,), 𝐋, nothing}}[5.7 μm, 6.58 μm], Tuple{Unitful.Quantity{Float64, 𝐋, Unitful.FreeUnits{(μm,), 𝐋, nothing}}, Unitful.Quantity{Float64, 𝐋, Unitful.FreeUnits{(μm,), 𝐋, nothing}}}[], Loki.Infrared), true, true, true, true, true, false, nothing)), \"NGC 7469\", 0.016317, 345.815041666667°, 8.87389444444445°, \"MIRI\", true, true, true, true, true, false)"
      ]
     },
     "metadata": {},
     "output_type": "display_data"
    }
   ],
   "source": [
    "if isfile(\"$nm.channel$channel.rest_frame.fits\")\n",
    "    # If we've already performed this step in a previous run, just load in the pre-processed data\n",
    "    obs = from_fits([\"$nm.channel$channel.rest_frame.fits\"], obs.z);\n",
    "    \n",
    "else\n",
    "    # Convert to rest-frame wavelength vector, and mask out bad spaxels\n",
    "    correct!(obs)\n",
    "    \n",
    "    # Reproject the sub-channels onto the same WCS grid and combine them into one full channel\n",
    "    # - The [:A1, :B1, :C1] vector gives the names of each channel to concatenate. By default, JWST subchannels are\n",
    "    #   given labels of \"A\" for short, \"B\" for medium, and \"C\" for long, followed by the channel number.  \n",
    "    # - The \"out_id\" argument will determine the label given to the combined channel data. \n",
    "    # combine_channels!(obs, [:A1,:B1,:C1], out_id=channel)\n",
    "\n",
    "    # the input data cubes are already in the sky frame, so we dont need to use the rotate_to_sky_axes! function\n",
    "    \n",
    "    # We interpolate any rogue NaNs using a linear interpolation, since the MPFIT minimizer does not handle NaNs well.\n",
    "    interpolate_nans!(obs.channels[channel])\n",
    "\n",
    "    # Finally, we calculate the statistical errors (i.e. the standard deviation of the residuals with a cubic spline fit)\n",
    "    # and replace the errors in the cube with these, since the provided errors are typically underestimated.\n",
    "    # You can skip this step if you wish to use the default errors.\n",
    "    calculate_statistical_errors!(obs.channels[channel])\n",
    "    \n",
    "    # Save the pre-processed data as a FITS file so it can be quickly reloaded later\n",
    "    save_fits(\".\", obs, [channel]);\n",
    "end"
   ]
  },
  {
   "attachments": {},
   "cell_type": "markdown",
   "id": "338875b8",
   "metadata": {},
   "source": [
    "We next create an aperture to define the region of interest that we would like to fit. We can do this with the `make_aperture` function. We can customize the aperture's shape, centroid, radius, etc."
   ]
  },
  {
   "cell_type": "code",
   "execution_count": 8,
   "id": "757e7d95",
   "metadata": {},
   "outputs": [
    {
     "name": "stdout",
     "output_type": "stream",
     "text": [
      "\u001b[36m\u001b[1m[ \u001b[22m\u001b[39m\u001b[36m\u001b[1mInfo: \u001b[22m\u001b[39mCreating a circular aperture at 23:03:15.610, +8:52:26.10\n",
      "\u001b[36m\u001b[1m[ \u001b[22m\u001b[39m\u001b[36m\u001b[1mInfo: \u001b[22m\u001b[39mAperture centroid adjusted to 0h56m44.384367413044856s, 8d52m26.122293063559994s\n"
     ]
    },
    {
     "data": {
      "text/plain": [
       "8×9 Photometry.Aperture.CircularAperture{Float64} with indices 14:21×16:24:\n",
       " 0.0          0.0       0.240967   …  0.501674  0.0272194  0.0\n",
       " 0.0          0.280688  0.983525      1.0       0.706297   0.00430573\n",
       " 0.000634748  0.847435  1.0           1.0       1.0        0.294459\n",
       " 0.0917088    1.0       1.0           1.0       1.0        0.538098\n",
       " 0.0663343    0.997272  1.0           1.0       1.0        0.509995\n",
       " 0.0          0.756991  1.0        …  1.0       0.997322   0.206058\n",
       " 0.0          0.161489  0.915917      0.999973  0.523823   0.0\n",
       " 0.0          0.0       0.0962037     0.28933   0.0        0.0"
      ]
     },
     "metadata": {},
     "output_type": "display_data"
    }
   ],
   "source": [
    "# - The first argument is the data cube\n",
    "# - The second argument is the aperture shape, which may be one of: (Circular, Rectangular, Elliptical)\n",
    "# - Next are the right ascension in sexagesimal hours and the declination in sexagesimal degrees\n",
    "# - The next arguments depend on the aperture shape:\n",
    "#    - For circles, it is the radius in arcseconds\n",
    "#    - For rectangles, it is the width in arcseconds, height in arcseconds, and rotation angle in degrees\n",
    "#    - For ellipses, it is the semimajor axis in arcseconds, semiminor axis in arcseconds, and rotation angle in degrees\n",
    "# - The auto_centroid argument, if true, will adjust the aperture centroid to the closest peak in brightness\n",
    "# - The scale_psf argument, if true, will create a series of apertures with increasing radii that scale at the same rate as the PSF\n",
    "ap = make_aperture(obs.channels[channel], :Circular, \"23:03:15.610\", \"+8:52:26.10\", 0.5, auto_centroid=true)"
   ]
  },
  {
   "attachments": {},
   "cell_type": "markdown",
   "id": "baaa4ddb",
   "metadata": {},
   "source": [
    "Finally, we create the `CubeFitter` object and call the `fit_cube!` function to fit the data. To ensure we fit the data within the aperture, we must provide the `ap` argument.\n",
    "\n",
    "If you instead wish to fit each spaxel individually, you may omit the `ap` argument. Be warned that this will take substantially longer. If you wish to fit each spaxel individually, it is recommended to enable the \"parallel\" option to allow multiple spaxels to be fit simultaneously. Doing this will also allow the code to produce 2D parameter maps of each fit parameter."
   ]
  },
  {
   "cell_type": "code",
   "execution_count": 9,
   "id": "de75b965",
   "metadata": {},
   "outputs": [
    {
     "name": "stdout",
     "output_type": "stream",
     "text": [
      "\u001b[36m\u001b[1m[ \u001b[22m\u001b[39m\u001b[36m\u001b[1mInfo: \u001b[22m\u001b[39mPreparing output directories\n",
      "\u001b[36m\u001b[1m┌ \u001b[22m\u001b[39m\u001b[36m\u001b[1mInfo: \u001b[22m\u001b[39m\n",
      "\u001b[36m\u001b[1m│ \u001b[22m\u001b[39m\n",
      "\u001b[36m\u001b[1m│ \u001b[22m\u001b[39m#############################################################################\n",
      "\u001b[36m\u001b[1m│ \u001b[22m\u001b[39m######## BEGINNING FULL CUBE FITTING ROUTINE FOR NGC_7469_chB1_nuc_aperture ########\n",
      "\u001b[36m\u001b[1m│ \u001b[22m\u001b[39m#############################################################################\n",
      "\u001b[36m\u001b[1m│ \u001b[22m\u001b[39m\n",
      "\u001b[36m\u001b[1m│ \u001b[22m\u001b[39m------------------------\n",
      "\u001b[36m\u001b[1m│ \u001b[22m\u001b[39mWorker Processes:     1\n",
      "\u001b[36m\u001b[1m│ \u001b[22m\u001b[39mThreads per process:  1\n",
      "\u001b[36m\u001b[1m└ \u001b[22m\u001b[39m------------------------\n",
      "\u001b[36m\u001b[1m[ \u001b[22m\u001b[39m\u001b[36m\u001b[1mInfo: \u001b[22m\u001b[39m===> Preparing output data structures... <===\n",
      "\u001b[36m\u001b[1m[ \u001b[22m\u001b[39m\u001b[36m\u001b[1mInfo: \u001b[22m\u001b[39mPerforming aperture photometry to get an integrated spectrum...\n",
      "\u001b[36m\u001b[1m[ \u001b[22m\u001b[39m\u001b[36m\u001b[1mInfo: \u001b[22m\u001b[39m===> Beginning integrated spectrum fitting... <===\n",
      "\u001b[33m\u001b[1m┌ \u001b[22m\u001b[39m\u001b[33m\u001b[1mWarning: \u001b[22m\u001b[39mattempting to remove probably stale pidfile\n",
      "\u001b[33m\u001b[1m│ \u001b[22m\u001b[39m  path = \"/Users/mreefe/.jlassetregistry.lock\"\n",
      "\u001b[33m\u001b[1m└ \u001b[22m\u001b[39m\u001b[90m@ Pidfile ~/.julia/packages/Pidfile/DDu3M/src/Pidfile.jl:260\u001b[39m\n",
      "\u001b[36m\u001b[1m[ \u001b[22m\u001b[39m\u001b[36m\u001b[1mInfo: \u001b[22m\u001b[39m===> Generating parameter maps and model cubes... <===\n",
      "\u001b[36m\u001b[1m[ \u001b[22m\u001b[39m\u001b[36m\u001b[1mInfo: \u001b[22m\u001b[39m===> Writing FITS outputs... <===\n",
      "\u001b[36m\u001b[1m┌ \u001b[22m\u001b[39m\u001b[36m\u001b[1mInfo: \u001b[22m\u001b[39m\n",
      "\u001b[36m\u001b[1m│ \u001b[22m\u001b[39m\n",
      "\u001b[36m\u001b[1m│ \u001b[22m\u001b[39m#############################################################################\n",
      "\u001b[36m\u001b[1m│ \u001b[22m\u001b[39m################################### Done!! ##################################\n",
      "\u001b[36m\u001b[1m└ \u001b[22m\u001b[39m#############################################################################\n"
     ]
    },
    {
     "data": {
      "text/plain": [
       "(CubeFitter{Float64, Int64, Unitful.Quantity{Float64, 𝐌 𝐓⁻², Unitful.FreeUnits{(erg, Hz⁻¹, cm⁻², s⁻¹, sr⁻¹), 𝐌 𝐓⁻², nothing}}, Unitful.Quantity{Float64, 𝐋 𝐓⁻¹, Unitful.FreeUnits{(km, s⁻¹), 𝐋 𝐓⁻¹, nothing}}, Unitful.Quantity{Float64, 𝐋, Unitful.FreeUnits{(μm,), 𝐋, nothing}}}(DataCube{Vector{Unitful.Quantity{Float64, 𝐋, Unitful.FreeUnits{(μm,), 𝐋, nothing}}}, Array{Unitful.Quantity{Float64, 𝐌 𝐓⁻², Unitful.FreeUnits{(erg, Hz⁻¹, cm⁻², s⁻¹, sr⁻¹), 𝐌 𝐓⁻², nothing}}, 3}}(Unitful.Quantity{Float64, 𝐋, Unitful.FreeUnits{(μm,), 𝐋, nothing}}[5.569521957619527 μm, 5.570309113575583 μm, 5.57109638078257 μm, 5.57188375925621 μm, 5.572671249012229 μm, 5.573458850066356 μm, 5.57424656243432 μm, 5.575034386131854 μm, 5.575822321174693 μm, 5.57661036757857 μm  …  6.514537321833719 μm, 6.515458039427231 μm, 6.516378887148309 μm, 6.517299865015345 μm, 6.518220973046733 μm, 6.519142211260869 μm, 6.52006357967615 μm, 6.520985078310981 μm, 6.521906707183765 μm, 6.52282846631291 μm], Unitful.Quantity{Float64, 𝐌 𝐓⁻², Unitful.FreeUnits{(erg, Hz⁻¹, cm⁻², s⁻¹, sr⁻¹), 𝐌 𝐓⁻², nothing}}[NaN erg Hz⁻¹ cm⁻² s⁻¹ sr⁻¹ NaN erg Hz⁻¹ cm⁻² s⁻¹ sr⁻¹ … NaN erg Hz⁻¹ cm⁻² s⁻¹ sr⁻¹ NaN erg Hz⁻¹ cm⁻² s⁻¹ sr⁻¹; NaN erg Hz⁻¹ cm⁻² s⁻¹ sr⁻¹ NaN erg Hz⁻¹ cm⁻² s⁻¹ sr⁻¹ … NaN erg Hz⁻¹ cm⁻² s⁻¹ sr⁻¹ NaN erg Hz⁻¹ cm⁻² s⁻¹ sr⁻¹; … ; NaN erg Hz⁻¹ cm⁻² s⁻¹ sr⁻¹ NaN erg Hz⁻¹ cm⁻² s⁻¹ sr⁻¹ … -8.082104404963277e-16 erg Hz⁻¹ cm⁻² s⁻¹ sr⁻¹ NaN erg Hz⁻¹ cm⁻² s⁻¹ sr⁻¹; NaN erg Hz⁻¹ cm⁻² s⁻¹ sr⁻¹ NaN erg Hz⁻¹ cm⁻² s⁻¹ sr⁻¹ … NaN erg Hz⁻¹ cm⁻² s⁻¹ sr⁻¹ NaN erg Hz⁻¹ cm⁻² s⁻¹ sr⁻¹;;; NaN erg Hz⁻¹ cm⁻² s⁻¹ sr⁻¹ NaN erg Hz⁻¹ cm⁻² s⁻¹ sr⁻¹ … NaN erg Hz⁻¹ cm⁻² s⁻¹ sr⁻¹ NaN erg Hz⁻¹ cm⁻² s⁻¹ sr⁻¹; NaN erg Hz⁻¹ cm⁻² s⁻¹ sr⁻¹ NaN erg Hz⁻¹ cm⁻² s⁻¹ sr⁻¹ … NaN erg Hz⁻¹ cm⁻² s⁻¹ sr⁻¹ NaN erg Hz⁻¹ cm⁻² s⁻¹ sr⁻¹; … ; NaN erg Hz⁻¹ cm⁻² s⁻¹ sr⁻¹ NaN erg Hz⁻¹ cm⁻² s⁻¹ sr⁻¹ … 7.699449028463712e-17 erg Hz⁻¹ cm⁻² s⁻¹ sr⁻¹ NaN erg Hz⁻¹ cm⁻² s⁻¹ sr⁻¹; NaN erg Hz⁻¹ cm⁻² s⁻¹ sr⁻¹ NaN erg Hz⁻¹ cm⁻² s⁻¹ sr⁻¹ … NaN erg Hz⁻¹ cm⁻² s⁻¹ sr⁻¹ NaN erg Hz⁻¹ cm⁻² s⁻¹ sr⁻¹;;; NaN erg Hz⁻¹ cm⁻² s⁻¹ sr⁻¹ NaN erg Hz⁻¹ cm⁻² s⁻¹ sr⁻¹ … NaN erg Hz⁻¹ cm⁻² s⁻¹ sr⁻¹ NaN erg Hz⁻¹ cm⁻² s⁻¹ sr⁻¹; NaN erg Hz⁻¹ cm⁻² s⁻¹ sr⁻¹ NaN erg Hz⁻¹ cm⁻² s⁻¹ sr⁻¹ … NaN erg Hz⁻¹ cm⁻² s⁻¹ sr⁻¹ NaN erg Hz⁻¹ cm⁻² s⁻¹ sr⁻¹; … ; NaN erg Hz⁻¹ cm⁻² s⁻¹ sr⁻¹ NaN erg Hz⁻¹ cm⁻² s⁻¹ sr⁻¹ … 3.552444242857882e-16 erg Hz⁻¹ cm⁻² s⁻¹ sr⁻¹ NaN erg Hz⁻¹ cm⁻² s⁻¹ sr⁻¹; NaN erg Hz⁻¹ cm⁻² s⁻¹ sr⁻¹ NaN erg Hz⁻¹ cm⁻² s⁻¹ sr⁻¹ … NaN erg Hz⁻¹ cm⁻² s⁻¹ sr⁻¹ NaN erg Hz⁻¹ cm⁻² s⁻¹ sr⁻¹;;; … ;;; NaN erg Hz⁻¹ cm⁻² s⁻¹ sr⁻¹ NaN erg Hz⁻¹ cm⁻² s⁻¹ sr⁻¹ … NaN erg Hz⁻¹ cm⁻² s⁻¹ sr⁻¹ NaN erg Hz⁻¹ cm⁻² s⁻¹ sr⁻¹; NaN erg Hz⁻¹ cm⁻² s⁻¹ sr⁻¹ 5.896278739581918e-16 erg Hz⁻¹ cm⁻² s⁻¹ sr⁻¹ … NaN erg Hz⁻¹ cm⁻² s⁻¹ sr⁻¹ NaN erg Hz⁻¹ cm⁻² s⁻¹ sr⁻¹; … ; NaN erg Hz⁻¹ cm⁻² s⁻¹ sr⁻¹ NaN erg Hz⁻¹ cm⁻² s⁻¹ sr⁻¹ … NaN erg Hz⁻¹ cm⁻² s⁻¹ sr⁻¹ NaN erg Hz⁻¹ cm⁻² s⁻¹ sr⁻¹; NaN erg Hz⁻¹ cm⁻² s⁻¹ sr⁻¹ NaN erg Hz⁻¹ cm⁻² s⁻¹ sr⁻¹ … NaN erg Hz⁻¹ cm⁻² s⁻¹ sr⁻¹ NaN erg Hz⁻¹ cm⁻² s⁻¹ sr⁻¹;;; NaN erg Hz⁻¹ cm⁻² s⁻¹ sr⁻¹ NaN erg Hz⁻¹ cm⁻² s⁻¹ sr⁻¹ … NaN erg Hz⁻¹ cm⁻² s⁻¹ sr⁻¹ NaN erg Hz⁻¹ cm⁻² s⁻¹ sr⁻¹; NaN erg Hz⁻¹ cm⁻² s⁻¹ sr⁻¹ 7.793917744323589e-16 erg Hz⁻¹ cm⁻² s⁻¹ sr⁻¹ … NaN erg Hz⁻¹ cm⁻² s⁻¹ sr⁻¹ NaN erg Hz⁻¹ cm⁻² s⁻¹ sr⁻¹; … ; NaN erg Hz⁻¹ cm⁻² s⁻¹ sr⁻¹ NaN erg Hz⁻¹ cm⁻² s⁻¹ sr⁻¹ … NaN erg Hz⁻¹ cm⁻² s⁻¹ sr⁻¹ NaN erg Hz⁻¹ cm⁻² s⁻¹ sr⁻¹; NaN erg Hz⁻¹ cm⁻² s⁻¹ sr⁻¹ NaN erg Hz⁻¹ cm⁻² s⁻¹ sr⁻¹ … NaN erg Hz⁻¹ cm⁻² s⁻¹ sr⁻¹ NaN erg Hz⁻¹ cm⁻² s⁻¹ sr⁻¹;;; NaN erg Hz⁻¹ cm⁻² s⁻¹ sr⁻¹ NaN erg Hz⁻¹ cm⁻² s⁻¹ sr⁻¹ … NaN erg Hz⁻¹ cm⁻² s⁻¹ sr⁻¹ NaN erg Hz⁻¹ cm⁻² s⁻¹ sr⁻¹; NaN erg Hz⁻¹ cm⁻² s⁻¹ sr⁻¹ 4.0677451341152604e-16 erg Hz⁻¹ cm⁻² s⁻¹ sr⁻¹ … NaN erg Hz⁻¹ cm⁻² s⁻¹ sr⁻¹ NaN erg Hz⁻¹ cm⁻² s⁻¹ sr⁻¹; … ; NaN erg Hz⁻¹ cm⁻² s⁻¹ sr⁻¹ NaN erg Hz⁻¹ cm⁻² s⁻¹ sr⁻¹ … NaN erg Hz⁻¹ cm⁻² s⁻¹ sr⁻¹ NaN erg Hz⁻¹ cm⁻² s⁻¹ sr⁻¹; NaN erg Hz⁻¹ cm⁻² s⁻¹ sr⁻¹ NaN erg Hz⁻¹ cm⁻² s⁻¹ sr⁻¹ … NaN erg Hz⁻¹ cm⁻² s⁻¹ sr⁻¹ NaN erg Hz⁻¹ cm⁻² s⁻¹ sr⁻¹], Unitful.Quantity{Float64, 𝐌 𝐓⁻², Unitful.FreeUnits{(erg, Hz⁻¹, cm⁻², s⁻¹, sr⁻¹), 𝐌 𝐓⁻², nothing}}[NaN erg Hz⁻¹ cm⁻² s⁻¹ sr⁻¹ NaN erg Hz⁻¹ cm⁻² s⁻¹ sr⁻¹ … NaN erg Hz⁻¹ cm⁻² s⁻¹ sr⁻¹ NaN erg Hz⁻¹ cm⁻² s⁻¹ sr⁻¹; NaN erg Hz⁻¹ cm⁻² s⁻¹ sr⁻¹ NaN erg Hz⁻¹ cm⁻² s⁻¹ sr⁻¹ … NaN erg Hz⁻¹ cm⁻² s⁻¹ sr⁻¹ NaN erg Hz⁻¹ cm⁻² s⁻¹ sr⁻¹; … ; NaN erg Hz⁻¹ cm⁻² s⁻¹ sr⁻¹ NaN erg Hz⁻¹ cm⁻² s⁻¹ sr⁻¹ … NaN erg Hz⁻¹ cm⁻² s⁻¹ sr⁻¹ NaN erg Hz⁻¹ cm⁻² s⁻¹ sr⁻¹; NaN erg Hz⁻¹ cm⁻² s⁻¹ sr⁻¹ NaN erg Hz⁻¹ cm⁻² s⁻¹ sr⁻¹ … NaN erg Hz⁻¹ cm⁻² s⁻¹ sr⁻¹ NaN erg Hz⁻¹ cm⁻² s⁻¹ sr⁻¹;;; NaN erg Hz⁻¹ cm⁻² s⁻¹ sr⁻¹ NaN erg Hz⁻¹ cm⁻² s⁻¹ sr⁻¹ … NaN erg Hz⁻¹ cm⁻² s⁻¹ sr⁻¹ NaN erg Hz⁻¹ cm⁻² s⁻¹ sr⁻¹; NaN erg Hz⁻¹ cm⁻² s⁻¹ sr⁻¹ NaN erg Hz⁻¹ cm⁻² s⁻¹ sr⁻¹ … NaN erg Hz⁻¹ cm⁻² s⁻¹ sr⁻¹ NaN erg Hz⁻¹ cm⁻² s⁻¹ sr⁻¹; … ; NaN erg Hz⁻¹ cm⁻² s⁻¹ sr⁻¹ NaN erg Hz⁻¹ cm⁻² s⁻¹ sr⁻¹ … NaN erg Hz⁻¹ cm⁻² s⁻¹ sr⁻¹ NaN erg Hz⁻¹ cm⁻² s⁻¹ sr⁻¹; NaN erg Hz⁻¹ cm⁻² s⁻¹ sr⁻¹ NaN erg Hz⁻¹ cm⁻² s⁻¹ sr⁻¹ … NaN erg Hz⁻¹ cm⁻² s⁻¹ sr⁻¹ NaN erg Hz⁻¹ cm⁻² s⁻¹ sr⁻¹;;; NaN erg Hz⁻¹ cm⁻² s⁻¹ sr⁻¹ NaN erg Hz⁻¹ cm⁻² s⁻¹ sr⁻¹ … NaN erg Hz⁻¹ cm⁻² s⁻¹ sr⁻¹ NaN erg Hz⁻¹ cm⁻² s⁻¹ sr⁻¹; NaN erg Hz⁻¹ cm⁻² s⁻¹ sr⁻¹ NaN erg Hz⁻¹ cm⁻² s⁻¹ sr⁻¹ … NaN erg Hz⁻¹ cm⁻² s⁻¹ sr⁻¹ NaN erg Hz⁻¹ cm⁻² s⁻¹ sr⁻¹; … ; NaN erg Hz⁻¹ cm⁻² s⁻¹ sr⁻¹ NaN erg Hz⁻¹ cm⁻² s⁻¹ sr⁻¹ … NaN erg Hz⁻¹ cm⁻² s⁻¹ sr⁻¹ NaN erg Hz⁻¹ cm⁻² s⁻¹ sr⁻¹; NaN erg Hz⁻¹ cm⁻² s⁻¹ sr⁻¹ NaN erg Hz⁻¹ cm⁻² s⁻¹ sr⁻¹ … NaN erg Hz⁻¹ cm⁻² s⁻¹ sr⁻¹ NaN erg Hz⁻¹ cm⁻² s⁻¹ sr⁻¹;;; … ;;; NaN erg Hz⁻¹ cm⁻² s⁻¹ sr⁻¹ NaN erg Hz⁻¹ cm⁻² s⁻¹ sr⁻¹ … NaN erg Hz⁻¹ cm⁻² s⁻¹ sr⁻¹ NaN erg Hz⁻¹ cm⁻² s⁻¹ sr⁻¹; NaN erg Hz⁻¹ cm⁻² s⁻¹ sr⁻¹ NaN erg Hz⁻¹ cm⁻² s⁻¹ sr⁻¹ … NaN erg Hz⁻¹ cm⁻² s⁻¹ sr⁻¹ NaN erg Hz⁻¹ cm⁻² s⁻¹ sr⁻¹; … ; NaN erg Hz⁻¹ cm⁻² s⁻¹ sr⁻¹ NaN erg Hz⁻¹ cm⁻² s⁻¹ sr⁻¹ … NaN erg Hz⁻¹ cm⁻² s⁻¹ sr⁻¹ NaN erg Hz⁻¹ cm⁻² s⁻¹ sr⁻¹; NaN erg Hz⁻¹ cm⁻² s⁻¹ sr⁻¹ NaN erg Hz⁻¹ cm⁻² s⁻¹ sr⁻¹ … NaN erg Hz⁻¹ cm⁻² s⁻¹ sr⁻¹ NaN erg Hz⁻¹ cm⁻² s⁻¹ sr⁻¹;;; NaN erg Hz⁻¹ cm⁻² s⁻¹ sr⁻¹ NaN erg Hz⁻¹ cm⁻² s⁻¹ sr⁻¹ … NaN erg Hz⁻¹ cm⁻² s⁻¹ sr⁻¹ NaN erg Hz⁻¹ cm⁻² s⁻¹ sr⁻¹; NaN erg Hz⁻¹ cm⁻² s⁻¹ sr⁻¹ NaN erg Hz⁻¹ cm⁻² s⁻¹ sr⁻¹ … NaN erg Hz⁻¹ cm⁻² s⁻¹ sr⁻¹ NaN erg Hz⁻¹ cm⁻² s⁻¹ sr⁻¹; … ; NaN erg Hz⁻¹ cm⁻² s⁻¹ sr⁻¹ NaN erg Hz⁻¹ cm⁻² s⁻¹ sr⁻¹ … NaN erg Hz⁻¹ cm⁻² s⁻¹ sr⁻¹ NaN erg Hz⁻¹ cm⁻² s⁻¹ sr⁻¹; NaN erg Hz⁻¹ cm⁻² s⁻¹ sr⁻¹ NaN erg Hz⁻¹ cm⁻² s⁻¹ sr⁻¹ … NaN erg Hz⁻¹ cm⁻² s⁻¹ sr⁻¹ NaN erg Hz⁻¹ cm⁻² s⁻¹ sr⁻¹;;; NaN erg Hz⁻¹ cm⁻² s⁻¹ sr⁻¹ NaN erg Hz⁻¹ cm⁻² s⁻¹ sr⁻¹ … NaN erg Hz⁻¹ cm⁻² s⁻¹ sr⁻¹ NaN erg Hz⁻¹ cm⁻² s⁻¹ sr⁻¹; NaN erg Hz⁻¹ cm⁻² s⁻¹ sr⁻¹ NaN erg Hz⁻¹ cm⁻² s⁻¹ sr⁻¹ … NaN erg Hz⁻¹ cm⁻² s⁻¹ sr⁻¹ NaN erg Hz⁻¹ cm⁻² s⁻¹ sr⁻¹; … ; NaN erg Hz⁻¹ cm⁻² s⁻¹ sr⁻¹ NaN erg Hz⁻¹ cm⁻² s⁻¹ sr⁻¹ … NaN erg Hz⁻¹ cm⁻² s⁻¹ sr⁻¹ NaN erg Hz⁻¹ cm⁻² s⁻¹ sr⁻¹; NaN erg Hz⁻¹ cm⁻² s⁻¹ sr⁻¹ NaN erg Hz⁻¹ cm⁻² s⁻¹ sr⁻¹ … NaN erg Hz⁻¹ cm⁻² s⁻¹ sr⁻¹ NaN erg Hz⁻¹ cm⁻² s⁻¹ sr⁻¹], Bool[1 1 … 1 1; 1 1 … 1 1; … ; 1 1 … 1 1; 1 1 … 1 1;;; 1 1 … 1 1; 1 1 … 1 1; … ; 1 1 … 1 1; 1 1 … 1 1;;; 1 1 … 1 1; 1 1 … 1 1; … ; 1 1 … 1 1; 1 1 … 1 1;;; … ;;; 1 1 … 1 1; 1 1 … 1 1; … ; 1 1 … 1 1; 1 1 … 1 1;;; 1 1 … 1 1; 1 1 … 1 1; … ; 1 1 … 1 1; 1 1 … 1 1;;; 1 1 … 1 1; 1 1 … 1 1; … ; 1 1 … 1 1; 1 1 … 1 1], nothing, 3.97217570860291e-13 sr, 345.815041666667°, 8.87389444444445°, -1.209953826265757 rad, Unitful.Quantity{Float64, NoDims, Unitful.FreeUnits{(″,), NoDims, nothing}}[0.20279319496426618 ″, 0.20281959496359925 ″, 0.20284599869411737 ″, 0.2028724061563478 ″, 0.2028988173508179 ″, 0.20292523227805534 ″, 0.20295165093858755 ″, 0.20297807333294215 ″, 0.20300449946164692 ″, 0.20303092932522956 ″  …  0.23448755590136466 ″, 0.23451843535246664 ″, 0.23454931916784696 ″, 0.23458020734812243 ″, 0.2346110998939099 ″, 0.23464199680582645 ″, 0.23467289808448896 ″, 0.2347038037305148 ″, 0.23473471374452118 ″, 0.23476562812712531 ″], Unitful.Quantity{Float64, 𝐋 𝐓⁻¹, Unitful.FreeUnits{(km, s⁻¹), 𝐋 𝐓⁻¹, nothing}}[77.29660130054437 km s⁻¹, 77.29864215252096 km s⁻¹, 77.3006834007388 km s⁻¹, 77.30272504529293 km s⁻¹, 77.30476708627835 km s⁻¹, 77.30680952379014 km s⁻¹, 77.30885235792337 km s⁻¹, 77.31089558877315 km s⁻¹, 77.31293921643459 km s⁻¹, 77.31498324100284 km s⁻¹  …  79.82687111394188 km s⁻¹, 79.82941710293262 km s⁻¹, 79.83196361077252 km s⁻¹, 79.8345106439415 km s⁻¹, 79.83705821005947 km s⁻¹, 79.8396062954228 km s⁻¹, 79.84215490015596 km s⁻¹, 79.84470402438347 km s⁻¹, 79.84725366822992 km s⁻¹, 79.84980384097248 km s⁻¹], WCSTransform(naxis=3,cdelt=[3.61111097865634e-5, 3.61111097865634e-5, 7.999999797903e-10],crval=[-14.1849374145667, 8.87390670833446, 5.660399847402e-6],crpix=[17.0, 20.0, 1.0]), \"B1\", \"MEDIUM\", 33, 39, 1119, Loki.SpectralRegion{Unitful.Quantity{Float64, 𝐋, Unitful.FreeUnits{(μm,), 𝐋, nothing}}}((5.569521957619527 μm, 6.52282846631291 μm), Tuple{Unitful.Quantity{Float64, 𝐋, Unitful.FreeUnits{(μm,), 𝐋, nothing}}, Unitful.Quantity{Float64, 𝐋, Unitful.FreeUnits{(μm,), 𝐋, nothing}}}[], 1, BitVector[[1, 1, 1, 1, 1, 1, 1, 1, 1, 1  …  1, 1, 1, 1, 1, 1, 1, 1, 1, 1]], Unitful.Quantity{Float64, 𝐋, Unitful.FreeUnits{(μm,), 𝐋, nothing}}[5.7 μm, 6.58 μm], Tuple{Unitful.Quantity{Float64, 𝐋, Unitful.FreeUnits{(μm,), 𝐋, nothing}}, Unitful.Quantity{Float64, 𝐋, Unitful.FreeUnits{(μm,), 𝐋, nothing}}}[], Loki.Infrared), true, true, true, true, true, false, nothing), 0.016317, \"NGC_7469_chB1_nuc_aperture\", Loki.SpectralRegion{Unitful.Quantity{Float64, 𝐋, Unitful.FreeUnits{(μm,), 𝐋, nothing}}}((5.569521957619527 μm, 6.52282846631291 μm), Tuple{Unitful.Quantity{Float64, 𝐋, Unitful.FreeUnits{(μm,), 𝐋, nothing}}, Unitful.Quantity{Float64, 𝐋, Unitful.FreeUnits{(μm,), 𝐋, nothing}}}[], 1, BitVector[[1, 1, 1, 1, 1, 1, 1, 1, 1, 1  …  1, 1, 1, 1, 1, 1, 1, 1, 1, 1]], Unitful.Quantity{Float64, 𝐋, Unitful.FreeUnits{(μm,), 𝐋, nothing}}[5.7 μm, 6.58 μm], Tuple{Unitful.Quantity{Float64, 𝐋, Unitful.FreeUnits{(μm,), 𝐋, nothing}}, Unitful.Quantity{Float64, 𝐋, Unitful.FreeUnits{(μm,), 𝐋, nothing}}}[], Loki.Infrared), Loki.OutputOptions(:both, true, nothing, false, \"pmap\", true, false, false, false, true, false, 3.0, :flux, [5.60985, 6.10857]), Loki.FittingOptions{Float64, Int64}(0.0, \"d+\", \"calz\", true, nothing, nothing, nothing, nothing, false, 100.0, true, false, false, nothing, false, false, false, false, false, false, false, false, false, false, true, 0, 123456789, Vector{Symbol}[], 0.003, true, false, false), \"ModelParameters | Continuum parameters: 18, PAH parameters: 28, Line parameters: 12, Non-fit parameters: 71\", Array{Unitful.Quantity{Float64, 𝐌 𝐓⁻², Unitful.FreeUnits{(erg, Hz⁻¹, cm⁻², s⁻¹, sr⁻¹), 𝐌 𝐓⁻², nothing}}, 4}(undef, 33, 39, 1119, 0), String[], nothing, nothing, NaN km s⁻¹, 0, 4, 0, 7, 0, 0, 3, 3, 46, 28, 12, 71, 129, Loki.var\"#84#86\"{DataCube{Vector{Unitful.Quantity{Float64, 𝐋, Unitful.FreeUnits{(μm,), 𝐋, nothing}}}, Array{Unitful.Quantity{Float64, 𝐌 𝐓⁻², Unitful.FreeUnits{(erg, Hz⁻¹, cm⁻², s⁻¹, sr⁻¹), 𝐌 𝐓⁻², nothing}}, 3}}, Dierckx.Spline1D}(DataCube{Vector{Unitful.Quantity{Float64, 𝐋, Unitful.FreeUnits{(μm,), 𝐋, nothing}}}, Array{Unitful.Quantity{Float64, 𝐌 𝐓⁻², Unitful.FreeUnits{(erg, Hz⁻¹, cm⁻², s⁻¹, sr⁻¹), 𝐌 𝐓⁻², nothing}}, 3}}(Unitful.Quantity{Float64, 𝐋, Unitful.FreeUnits{(μm,), 𝐋, nothing}}[5.569521957619527 μm, 5.570309113575583 μm, 5.57109638078257 μm, 5.57188375925621 μm, 5.572671249012229 μm, 5.573458850066356 μm, 5.57424656243432 μm, 5.575034386131854 μm, 5.575822321174693 μm, 5.57661036757857 μm  …  6.514537321833719 μm, 6.515458039427231 μm, 6.516378887148309 μm, 6.517299865015345 μm, 6.518220973046733 μm, 6.519142211260869 μm, 6.52006357967615 μm, 6.520985078310981 μm, 6.521906707183765 μm, 6.52282846631291 μm], Unitful.Quantity{Float64, 𝐌 𝐓⁻², Unitful.FreeUnits{(erg, Hz⁻¹, cm⁻², s⁻¹, sr⁻¹), 𝐌 𝐓⁻², nothing}}[NaN erg Hz⁻¹ cm⁻² s⁻¹ sr⁻¹ NaN erg Hz⁻¹ cm⁻² s⁻¹ sr⁻¹ … NaN erg Hz⁻¹ cm⁻² s⁻¹ sr⁻¹ NaN erg Hz⁻¹ cm⁻² s⁻¹ sr⁻¹; NaN erg Hz⁻¹ cm⁻² s⁻¹ sr⁻¹ NaN erg Hz⁻¹ cm⁻² s⁻¹ sr⁻¹ … NaN erg Hz⁻¹ cm⁻² s⁻¹ sr⁻¹ NaN erg Hz⁻¹ cm⁻² s⁻¹ sr⁻¹; … ; NaN erg Hz⁻¹ cm⁻² s⁻¹ sr⁻¹ NaN erg Hz⁻¹ cm⁻² s⁻¹ sr⁻¹ … -8.082104404963277e-16 erg Hz⁻¹ cm⁻² s⁻¹ sr⁻¹ NaN erg Hz⁻¹ cm⁻² s⁻¹ sr⁻¹; NaN erg Hz⁻¹ cm⁻² s⁻¹ sr⁻¹ NaN erg Hz⁻¹ cm⁻² s⁻¹ sr⁻¹ … NaN erg Hz⁻¹ cm⁻² s⁻¹ sr⁻¹ NaN erg Hz⁻¹ cm⁻² s⁻¹ sr⁻¹;;; NaN erg Hz⁻¹ cm⁻² s⁻¹ sr⁻¹ NaN erg Hz⁻¹ cm⁻² s⁻¹ sr⁻¹ … NaN erg Hz⁻¹ cm⁻² s⁻¹ sr⁻¹ NaN erg Hz⁻¹ cm⁻² s⁻¹ sr⁻¹; NaN erg Hz⁻¹ cm⁻² s⁻¹ sr⁻¹ NaN erg Hz⁻¹ cm⁻² s⁻¹ sr⁻¹ … NaN erg Hz⁻¹ cm⁻² s⁻¹ sr⁻¹ NaN erg Hz⁻¹ cm⁻² s⁻¹ sr⁻¹; … ; NaN erg Hz⁻¹ cm⁻² s⁻¹ sr⁻¹ NaN erg Hz⁻¹ cm⁻² s⁻¹ sr⁻¹ … 7.699449028463712e-17 erg Hz⁻¹ cm⁻² s⁻¹ sr⁻¹ NaN erg Hz⁻¹ cm⁻² s⁻¹ sr⁻¹; NaN erg Hz⁻¹ cm⁻² s⁻¹ sr⁻¹ NaN erg Hz⁻¹ cm⁻² s⁻¹ sr⁻¹ … NaN erg Hz⁻¹ cm⁻² s⁻¹ sr⁻¹ NaN erg Hz⁻¹ cm⁻² s⁻¹ sr⁻¹;;; NaN erg Hz⁻¹ cm⁻² s⁻¹ sr⁻¹ NaN erg Hz⁻¹ cm⁻² s⁻¹ sr⁻¹ … NaN erg Hz⁻¹ cm⁻² s⁻¹ sr⁻¹ NaN erg Hz⁻¹ cm⁻² s⁻¹ sr⁻¹; NaN erg Hz⁻¹ cm⁻² s⁻¹ sr⁻¹ NaN erg Hz⁻¹ cm⁻² s⁻¹ sr⁻¹ … NaN erg Hz⁻¹ cm⁻² s⁻¹ sr⁻¹ NaN erg Hz⁻¹ cm⁻² s⁻¹ sr⁻¹; … ; NaN erg Hz⁻¹ cm⁻² s⁻¹ sr⁻¹ NaN erg Hz⁻¹ cm⁻² s⁻¹ sr⁻¹ … 3.552444242857882e-16 erg Hz⁻¹ cm⁻² s⁻¹ sr⁻¹ NaN erg Hz⁻¹ cm⁻² s⁻¹ sr⁻¹; NaN erg Hz⁻¹ cm⁻² s⁻¹ sr⁻¹ NaN erg Hz⁻¹ cm⁻² s⁻¹ sr⁻¹ … NaN erg Hz⁻¹ cm⁻² s⁻¹ sr⁻¹ NaN erg Hz⁻¹ cm⁻² s⁻¹ sr⁻¹;;; … ;;; NaN erg Hz⁻¹ cm⁻² s⁻¹ sr⁻¹ NaN erg Hz⁻¹ cm⁻² s⁻¹ sr⁻¹ … NaN erg Hz⁻¹ cm⁻² s⁻¹ sr⁻¹ NaN erg Hz⁻¹ cm⁻² s⁻¹ sr⁻¹; NaN erg Hz⁻¹ cm⁻² s⁻¹ sr⁻¹ 5.896278739581918e-16 erg Hz⁻¹ cm⁻² s⁻¹ sr⁻¹ … NaN erg Hz⁻¹ cm⁻² s⁻¹ sr⁻¹ NaN erg Hz⁻¹ cm⁻² s⁻¹ sr⁻¹; … ; NaN erg Hz⁻¹ cm⁻² s⁻¹ sr⁻¹ NaN erg Hz⁻¹ cm⁻² s⁻¹ sr⁻¹ … NaN erg Hz⁻¹ cm⁻² s⁻¹ sr⁻¹ NaN erg Hz⁻¹ cm⁻² s⁻¹ sr⁻¹; NaN erg Hz⁻¹ cm⁻² s⁻¹ sr⁻¹ NaN erg Hz⁻¹ cm⁻² s⁻¹ sr⁻¹ … NaN erg Hz⁻¹ cm⁻² s⁻¹ sr⁻¹ NaN erg Hz⁻¹ cm⁻² s⁻¹ sr⁻¹;;; NaN erg Hz⁻¹ cm⁻² s⁻¹ sr⁻¹ NaN erg Hz⁻¹ cm⁻² s⁻¹ sr⁻¹ … NaN erg Hz⁻¹ cm⁻² s⁻¹ sr⁻¹ NaN erg Hz⁻¹ cm⁻² s⁻¹ sr⁻¹; NaN erg Hz⁻¹ cm⁻² s⁻¹ sr⁻¹ 7.793917744323589e-16 erg Hz⁻¹ cm⁻² s⁻¹ sr⁻¹ … NaN erg Hz⁻¹ cm⁻² s⁻¹ sr⁻¹ NaN erg Hz⁻¹ cm⁻² s⁻¹ sr⁻¹; … ; NaN erg Hz⁻¹ cm⁻² s⁻¹ sr⁻¹ NaN erg Hz⁻¹ cm⁻² s⁻¹ sr⁻¹ … NaN erg Hz⁻¹ cm⁻² s⁻¹ sr⁻¹ NaN erg Hz⁻¹ cm⁻² s⁻¹ sr⁻¹; NaN erg Hz⁻¹ cm⁻² s⁻¹ sr⁻¹ NaN erg Hz⁻¹ cm⁻² s⁻¹ sr⁻¹ … NaN erg Hz⁻¹ cm⁻² s⁻¹ sr⁻¹ NaN erg Hz⁻¹ cm⁻² s⁻¹ sr⁻¹;;; NaN erg Hz⁻¹ cm⁻² s⁻¹ sr⁻¹ NaN erg Hz⁻¹ cm⁻² s⁻¹ sr⁻¹ … NaN erg Hz⁻¹ cm⁻² s⁻¹ sr⁻¹ NaN erg Hz⁻¹ cm⁻² s⁻¹ sr⁻¹; NaN erg Hz⁻¹ cm⁻² s⁻¹ sr⁻¹ 4.0677451341152604e-16 erg Hz⁻¹ cm⁻² s⁻¹ sr⁻¹ … NaN erg Hz⁻¹ cm⁻² s⁻¹ sr⁻¹ NaN erg Hz⁻¹ cm⁻² s⁻¹ sr⁻¹; … ; NaN erg Hz⁻¹ cm⁻² s⁻¹ sr⁻¹ NaN erg Hz⁻¹ cm⁻² s⁻¹ sr⁻¹ … NaN erg Hz⁻¹ cm⁻² s⁻¹ sr⁻¹ NaN erg Hz⁻¹ cm⁻² s⁻¹ sr⁻¹; NaN erg Hz⁻¹ cm⁻² s⁻¹ sr⁻¹ NaN erg Hz⁻¹ cm⁻² s⁻¹ sr⁻¹ … NaN erg Hz⁻¹ cm⁻² s⁻¹ sr⁻¹ NaN erg Hz⁻¹ cm⁻² s⁻¹ sr⁻¹], Unitful.Quantity{Float64, 𝐌 𝐓⁻², Unitful.FreeUnits{(erg, Hz⁻¹, cm⁻², s⁻¹, sr⁻¹), 𝐌 𝐓⁻², nothing}}[NaN erg Hz⁻¹ cm⁻² s⁻¹ sr⁻¹ NaN erg Hz⁻¹ cm⁻² s⁻¹ sr⁻¹ … NaN erg Hz⁻¹ cm⁻² s⁻¹ sr⁻¹ NaN erg Hz⁻¹ cm⁻² s⁻¹ sr⁻¹; NaN erg Hz⁻¹ cm⁻² s⁻¹ sr⁻¹ NaN erg Hz⁻¹ cm⁻² s⁻¹ sr⁻¹ … NaN erg Hz⁻¹ cm⁻² s⁻¹ sr⁻¹ NaN erg Hz⁻¹ cm⁻² s⁻¹ sr⁻¹; … ; NaN erg Hz⁻¹ cm⁻² s⁻¹ sr⁻¹ NaN erg Hz⁻¹ cm⁻² s⁻¹ sr⁻¹ … NaN erg Hz⁻¹ cm⁻² s⁻¹ sr⁻¹ NaN erg Hz⁻¹ cm⁻² s⁻¹ sr⁻¹; NaN erg Hz⁻¹ cm⁻² s⁻¹ sr⁻¹ NaN erg Hz⁻¹ cm⁻² s⁻¹ sr⁻¹ … NaN erg Hz⁻¹ cm⁻² s⁻¹ sr⁻¹ NaN erg Hz⁻¹ cm⁻² s⁻¹ sr⁻¹;;; NaN erg Hz⁻¹ cm⁻² s⁻¹ sr⁻¹ NaN erg Hz⁻¹ cm⁻² s⁻¹ sr⁻¹ … NaN erg Hz⁻¹ cm⁻² s⁻¹ sr⁻¹ NaN erg Hz⁻¹ cm⁻² s⁻¹ sr⁻¹; NaN erg Hz⁻¹ cm⁻² s⁻¹ sr⁻¹ NaN erg Hz⁻¹ cm⁻² s⁻¹ sr⁻¹ … NaN erg Hz⁻¹ cm⁻² s⁻¹ sr⁻¹ NaN erg Hz⁻¹ cm⁻² s⁻¹ sr⁻¹; … ; NaN erg Hz⁻¹ cm⁻² s⁻¹ sr⁻¹ NaN erg Hz⁻¹ cm⁻² s⁻¹ sr⁻¹ … NaN erg Hz⁻¹ cm⁻² s⁻¹ sr⁻¹ NaN erg Hz⁻¹ cm⁻² s⁻¹ sr⁻¹; NaN erg Hz⁻¹ cm⁻² s⁻¹ sr⁻¹ NaN erg Hz⁻¹ cm⁻² s⁻¹ sr⁻¹ … NaN erg Hz⁻¹ cm⁻² s⁻¹ sr⁻¹ NaN erg Hz⁻¹ cm⁻² s⁻¹ sr⁻¹;;; NaN erg Hz⁻¹ cm⁻² s⁻¹ sr⁻¹ NaN erg Hz⁻¹ cm⁻² s⁻¹ sr⁻¹ … NaN erg Hz⁻¹ cm⁻² s⁻¹ sr⁻¹ NaN erg Hz⁻¹ cm⁻² s⁻¹ sr⁻¹; NaN erg Hz⁻¹ cm⁻² s⁻¹ sr⁻¹ NaN erg Hz⁻¹ cm⁻² s⁻¹ sr⁻¹ … NaN erg Hz⁻¹ cm⁻² s⁻¹ sr⁻¹ NaN erg Hz⁻¹ cm⁻² s⁻¹ sr⁻¹; … ; NaN erg Hz⁻¹ cm⁻² s⁻¹ sr⁻¹ NaN erg Hz⁻¹ cm⁻² s⁻¹ sr⁻¹ … NaN erg Hz⁻¹ cm⁻² s⁻¹ sr⁻¹ NaN erg Hz⁻¹ cm⁻² s⁻¹ sr⁻¹; NaN erg Hz⁻¹ cm⁻² s⁻¹ sr⁻¹ NaN erg Hz⁻¹ cm⁻² s⁻¹ sr⁻¹ … NaN erg Hz⁻¹ cm⁻² s⁻¹ sr⁻¹ NaN erg Hz⁻¹ cm⁻² s⁻¹ sr⁻¹;;; … ;;; NaN erg Hz⁻¹ cm⁻² s⁻¹ sr⁻¹ NaN erg Hz⁻¹ cm⁻² s⁻¹ sr⁻¹ … NaN erg Hz⁻¹ cm⁻² s⁻¹ sr⁻¹ NaN erg Hz⁻¹ cm⁻² s⁻¹ sr⁻¹; NaN erg Hz⁻¹ cm⁻² s⁻¹ sr⁻¹ NaN erg Hz⁻¹ cm⁻² s⁻¹ sr⁻¹ … NaN erg Hz⁻¹ cm⁻² s⁻¹ sr⁻¹ NaN erg Hz⁻¹ cm⁻² s⁻¹ sr⁻¹; … ; NaN erg Hz⁻¹ cm⁻² s⁻¹ sr⁻¹ NaN erg Hz⁻¹ cm⁻² s⁻¹ sr⁻¹ … NaN erg Hz⁻¹ cm⁻² s⁻¹ sr⁻¹ NaN erg Hz⁻¹ cm⁻² s⁻¹ sr⁻¹; NaN erg Hz⁻¹ cm⁻² s⁻¹ sr⁻¹ NaN erg Hz⁻¹ cm⁻² s⁻¹ sr⁻¹ … NaN erg Hz⁻¹ cm⁻² s⁻¹ sr⁻¹ NaN erg Hz⁻¹ cm⁻² s⁻¹ sr⁻¹;;; NaN erg Hz⁻¹ cm⁻² s⁻¹ sr⁻¹ NaN erg Hz⁻¹ cm⁻² s⁻¹ sr⁻¹ … NaN erg Hz⁻¹ cm⁻² s⁻¹ sr⁻¹ NaN erg Hz⁻¹ cm⁻² s⁻¹ sr⁻¹; NaN erg Hz⁻¹ cm⁻² s⁻¹ sr⁻¹ NaN erg Hz⁻¹ cm⁻² s⁻¹ sr⁻¹ … NaN erg Hz⁻¹ cm⁻² s⁻¹ sr⁻¹ NaN erg Hz⁻¹ cm⁻² s⁻¹ sr⁻¹; … ; NaN erg Hz⁻¹ cm⁻² s⁻¹ sr⁻¹ NaN erg Hz⁻¹ cm⁻² s⁻¹ sr⁻¹ … NaN erg Hz⁻¹ cm⁻² s⁻¹ sr⁻¹ NaN erg Hz⁻¹ cm⁻² s⁻¹ sr⁻¹; NaN erg Hz⁻¹ cm⁻² s⁻¹ sr⁻¹ NaN erg Hz⁻¹ cm⁻² s⁻¹ sr⁻¹ … NaN erg Hz⁻¹ cm⁻² s⁻¹ sr⁻¹ NaN erg Hz⁻¹ cm⁻² s⁻¹ sr⁻¹;;; NaN erg Hz⁻¹ cm⁻² s⁻¹ sr⁻¹ NaN erg Hz⁻¹ cm⁻² s⁻¹ sr⁻¹ … NaN erg Hz⁻¹ cm⁻² s⁻¹ sr⁻¹ NaN erg Hz⁻¹ cm⁻² s⁻¹ sr⁻¹; NaN erg Hz⁻¹ cm⁻² s⁻¹ sr⁻¹ NaN erg Hz⁻¹ cm⁻² s⁻¹ sr⁻¹ … NaN erg Hz⁻¹ cm⁻² s⁻¹ sr⁻¹ NaN erg Hz⁻¹ cm⁻² s⁻¹ sr⁻¹; … ; NaN erg Hz⁻¹ cm⁻² s⁻¹ sr⁻¹ NaN erg Hz⁻¹ cm⁻² s⁻¹ sr⁻¹ … NaN erg Hz⁻¹ cm⁻² s⁻¹ sr⁻¹ NaN erg Hz⁻¹ cm⁻² s⁻¹ sr⁻¹; NaN erg Hz⁻¹ cm⁻² s⁻¹ sr⁻¹ NaN erg Hz⁻¹ cm⁻² s⁻¹ sr⁻¹ … NaN erg Hz⁻¹ cm⁻² s⁻¹ sr⁻¹ NaN erg Hz⁻¹ cm⁻² s⁻¹ sr⁻¹], Bool[1 1 … 1 1; 1 1 … 1 1; … ; 1 1 … 1 1; 1 1 … 1 1;;; 1 1 … 1 1; 1 1 … 1 1; … ; 1 1 … 1 1; 1 1 … 1 1;;; 1 1 … 1 1; 1 1 … 1 1; … ; 1 1 … 1 1; 1 1 … 1 1;;; … ;;; 1 1 … 1 1; 1 1 … 1 1; … ; 1 1 … 1 1; 1 1 … 1 1;;; 1 1 … 1 1; 1 1 … 1 1; … ; 1 1 … 1 1; 1 1 … 1 1;;; 1 1 … 1 1; 1 1 … 1 1; … ; 1 1 … 1 1; 1 1 … 1 1], nothing, 3.97217570860291e-13 sr, 345.815041666667°, 8.87389444444445°, -1.209953826265757 rad, Unitful.Quantity{Float64, NoDims, Unitful.FreeUnits{(″,), NoDims, nothing}}[0.20279319496426618 ″, 0.20281959496359925 ″, 0.20284599869411737 ″, 0.2028724061563478 ″, 0.2028988173508179 ″, 0.20292523227805534 ″, 0.20295165093858755 ″, 0.20297807333294215 ″, 0.20300449946164692 ″, 0.20303092932522956 ″  …  0.23448755590136466 ″, 0.23451843535246664 ″, 0.23454931916784696 ″, 0.23458020734812243 ″, 0.2346110998939099 ″, 0.23464199680582645 ″, 0.23467289808448896 ″, 0.2347038037305148 ″, 0.23473471374452118 ″, 0.23476562812712531 ″], Unitful.Quantity{Float64, 𝐋 𝐓⁻¹, Unitful.FreeUnits{(km, s⁻¹), 𝐋 𝐓⁻¹, nothing}}[77.29660130054437 km s⁻¹, 77.29864215252096 km s⁻¹, 77.3006834007388 km s⁻¹, 77.30272504529293 km s⁻¹, 77.30476708627835 km s⁻¹, 77.30680952379014 km s⁻¹, 77.30885235792337 km s⁻¹, 77.31089558877315 km s⁻¹, 77.31293921643459 km s⁻¹, 77.31498324100284 km s⁻¹  …  79.82687111394188 km s⁻¹, 79.82941710293262 km s⁻¹, 79.83196361077252 km s⁻¹, 79.8345106439415 km s⁻¹, 79.83705821005947 km s⁻¹, 79.8396062954228 km s⁻¹, 79.84215490015596 km s⁻¹, 79.84470402438347 km s⁻¹, 79.84725366822992 km s⁻¹, 79.84980384097248 km s⁻¹], WCSTransform(naxis=3,cdelt=[3.61111097865634e-5, 3.61111097865634e-5, 7.999999797903e-10],crval=[-14.1849374145667, 8.87390670833446, 5.660399847402e-6],crpix=[17.0, 20.0, 1.0]), \"B1\", \"MEDIUM\", 33, 39, 1119, Loki.SpectralRegion{Unitful.Quantity{Float64, 𝐋, Unitful.FreeUnits{(μm,), 𝐋, nothing}}}((5.569521957619527 μm, 6.52282846631291 μm), Tuple{Unitful.Quantity{Float64, 𝐋, Unitful.FreeUnits{(μm,), 𝐋, nothing}}, Unitful.Quantity{Float64, 𝐋, Unitful.FreeUnits{(μm,), 𝐋, nothing}}}[], 1, BitVector[[1, 1, 1, 1, 1, 1, 1, 1, 1, 1  …  1, 1, 1, 1, 1, 1, 1, 1, 1, 1]], Unitful.Quantity{Float64, 𝐋, Unitful.FreeUnits{(μm,), 𝐋, nothing}}[5.7 μm, 6.58 μm], Tuple{Unitful.Quantity{Float64, 𝐋, Unitful.FreeUnits{(μm,), 𝐋, nothing}}, Unitful.Quantity{Float64, 𝐋, Unitful.FreeUnits{(μm,), 𝐋, nothing}}}[], Loki.Infrared), true, true, true, true, true, false, nothing), Spline1D(knots=[5.56952,5.57031 … 6.52191,6.52283] (1119 elements), k=1, extrapolation=\"nearest\", residual=0.0)), Dict{String, Tuple{Vector{<:Union{Unitful.Quantity{Float64, 𝐋, Unitful.FreeUnits{(μm,), 𝐋, nothing}}, Unitful.Quantity{Float64, 𝐋, Unitful.FreeUnits{(Å,), 𝐋, nothing}}}}, Vector{<:AbstractFloat}}}(\"dp\" => (Unitful.Quantity{Float64, 𝐋, Unitful.FreeUnits{(μm,), 𝐋, nothing}}[4.872 μm, 4.901 μm, 4.93 μm, 4.958 μm, 4.987 μm, 5.015 μm, 5.044 μm, 5.072 μm, 5.101 μm, 5.13 μm  …  33.376 μm, 33.536 μm, 33.696 μm, 33.856 μm, 34.016 μm, 34.176 μm, 34.336 μm, 34.496 μm, 34.656 μm, 34.816 μm], [0.00013932881488852732, 0.00012685486467259, 0.00011438091445665264, 0.00010233710045505773, 8.98631502391204e-5, 7.781933623752588e-5, 6.534538602158853e-5, 5.3301572019993625e-5, 4.082762180405629e-5, 2.8353671588118956e-5  …  -0.010248753808906576, -0.008849555783209551, -0.008018046120299584, -0.007737073532587197, -0.0047568949322396225, -2.059222995799695e-5, 0.0010045279449709462, 0.0018514592908683103, 0.002922183468301147, 0.003849698889710785]), \"ohm\" => (Unitful.Quantity{Float64, 𝐋, Unitful.FreeUnits{(μm,), 𝐋, nothing}}[0.00998911 μm, 0.0144932 μm, 0.0178575 μm, 0.0193776 μm, 0.0234454 μm, 0.0288864 μm, 0.03401 μm, 0.0411485 μm, 0.0535353 μm, 0.0690269 μm  …  41.5447 μm, 44.6626 μm, 47.1521 μm, 51.6185 μm, 55.4938 μm, 62.9911 μm, 67.7227 μm, 71.5013 μm, 80.4332 μm, 1000.0 μm], [80.35792803056988, 92.57227673224875, 96.21447502350316, 98.72196323549059, 98.72196323549059, 97.4602025521867, 92.57227673224875, 90.22099031451705, 90.22099031451705, 97.4602025521867  …  0.15092834394517635, 0.11973268358569357, 0.09746020255218671, 0.07632753305623508, 0.06212920293358144, 0.04504344741975528, 0.03810716463377603, 0.03265637791603, 0.025248574628261595, 0.0])), Dict{String, Dierckx.Spline1D}(\"dp\" => Spline1D(knots=[4.872,4.93 … 34.496,34.816] (359 elements), k=3, extrapolation=\"nearest\", residual=0.0), \"ohm\" => Spline1D(knots=[0.00998911,0.0178575 … 71.5013,1000.0] (78 elements), k=3, extrapolation=\"nearest\", residual=0.0)), Dict(:MgV_5609m => [1 1 … 1 1; 1 1 … 1 1; … ; 1 1 … 1 1; 1 1 … 1 1], :HI_Hu_gamma => [1 1 … 1 1; 1 1 … 1 1; … ; 1 1 … 1 1; 1 1 … 1 1], :H200_S6 => [1 1 … 1 1; 1 1 … 1 1; … ; 1 1 … 1 1; 1 1 … 1 1]), Cosmology.FlatLCDM{Float64}(0.7, 0.73, 0.27, 0.0), Tuple{Unitful.Quantity{Float64, 𝐋, Unitful.FreeUnits{(μm,), 𝐋, nothing}}, Unitful.Quantity{Float64, 𝐋, Unitful.FreeUnits{(μm,), 𝐋, nothing}}}[(5.591137554605527 μm, 5.628562445394474 μm), (5.888293033255694 μm, 5.927706966744307 μm), (6.088194003749955 μm, 6.128945996250047 μm)], 1000.0 km s⁻¹, Number[0.0, 0.0, 0.0, 0.0, 0.0, 0.0, 0.0, 0.0, 0.0, 0.0  …  0.0, 0.0, 0.0, 0.0, 0.0, 0.0, 0.0, 0.0, 0.0, 0.0], Number[0.0, 0.0, 0.0, 0.0, 0.0, 0.0, 0.0, 0.0, 0.0, 0.0, 0.0, 0.0], Number[0.0, 0.0]), ParamMaps(Unitful.Quantity{Float64}[0.0;;; 0.0;;; 0.12308036092158757;;; … ;;; 14.767518926371114 km s⁻¹;;; 1664.1652073262421;;; 1074.0], Unitful.Quantity{Float64}[0.0;;; 0.0;;; 51.10672565452836;;; … ;;; 0.025305880235240608 km s⁻¹;;; 0.0;;; 0.0], Unitful.Quantity{Float64}[0.0;;; 0.0;;; 51.10672565452836;;; … ;;; 0.025305880235240608 km s⁻¹;;; 0.0;;; 0.0], Loki.AllParameters([\"extinction.E_BV\", \"extinction.E_BV_factor\", \"extinction.tau_97\", \"extinction.beta\", \"continuum.dust.1.amp\", \"continuum.dust.1.temp\", \"continuum.dust.2.amp\", \"continuum.dust.2.temp\", \"continuum.dust.3.amp\", \"continuum.dust.3.temp\"  …  \"lines.H200_S6.total_flux\", \"lines.H200_S6.total_eqw\", \"lines.H200_S6.total_snr\", \"lines.H200_S6.n_comps\", \"lines.H200_S6.w80\", \"lines.H200_S6.delta_v\", \"lines.H200_S6.vmed\", \"lines.H200_S6.vpeak\", \"statistics.chi2\", \"statistics.dof\"], [\"\\$E(B-V)_{\\\\rm gas}\\$\", \"\\$E(B-V)_{\\\\rm stars}/E(B-V)_{\\\\rm gas}\\$\", \"\\$\\\\tau_{9.7}\\$\", \"\\$\\\\beta\\$\", \"\\$\\\\log_{10}(A_{\\\\rm dust})\\$\", \"\\$T\\$ (K)\", \"\\$\\\\log_{10}(A_{\\\\rm dust})\\$\", \"\\$T\\$ (K)\", \"\\$\\\\log_{10}(A_{\\\\rm dust})\\$\", \"\\$T\\$ (K)\"  …  \"\\$\\\\log_{10}(F /\\$ \\$\\\\mathrm{erg}\\\\,\\\\mathrm{s}^{-1}\\\\,\\\\mathrm{cm}^{-2}\\$\\$)\\$\", \"\\$W_{\\\\rm eq}\\$ (\\$\\\\mathrm{\\\\mu{}m}\\$)\", \"\\$S/N\\$\", \"\\$n_{\\\\rm comp}\\$\", \"\\$W_{80}\\$ (km s\\$^{-1}\\$)\", \"\\$\\\\Delta v\\$ (km s\\$^{-1}\\$)\", \"\\$v_{\\\\rm med}\\$ (km s\\$^{-1}\\$)\", \"\\$v_{\\\\rm peak}\\$ (km s\\$^{-1}\\$)\", \"\\$\\\\chi^2\\$\", \"d.o.f.\"], Vector{Loki.Transformation}[[], [], [], [], [Loki.RestframeTransform, Loki.LogTransform], [], [Loki.RestframeTransform, Loki.LogTransform], [], [Loki.RestframeTransform, Loki.LogTransform], []  …  [Loki.LogTransform], [Loki.RestframeTransform], [], [], [], [], [], [], [], []], Union{Loki.FitParameter, Loki.NonFitParameter}[\"Parameter: value = 0.0 | locked = true | limits = (0.0, 1.0)\", \"Parameter: value = 0.0 | locked = true | limits = (0.0, 10.0)\", \"Parameter: value = 0.1 | locked = false | limits = (0.0, 10.0)\", \"Parameter: value = 0.1 | locked = true | limits = (0.0, 1.0)\", \"Parameter: value = NaN | locked = false | limits = (0.0, Inf)\", \"Parameter: value = 400.0 K | locked = false | limits = (35.0 K, 1500.0 K)\", \"Parameter: value = NaN | locked = false | limits = (0.0, Inf)\", \"Parameter: value = 300.0 K | locked = false | limits = (35.0 K, 300.0 K)\", \"Parameter: value = NaN | locked = false | limits = (0.0, Inf)\", \"Parameter: value = 100.0 K | locked = false | limits = (35.0 K, 300.0 K)\"  …  Loki.NonFitParameter{Unitful.Quantity{Float64, 𝐌 𝐓⁻³, Unitful.FreeUnits{(erg, cm⁻², s⁻¹), 𝐌 𝐓⁻³, nothing}}}(Unitful.Quantity{Float64, 𝐌 𝐓⁻³, Unitful.FreeUnits{(erg, cm⁻², s⁻¹), 𝐌 𝐓⁻³, nothing}}), Loki.NonFitParameter{Unitful.Quantity{Float64, 𝐋, Unitful.FreeUnits{(μm,), 𝐋, nothing}}}(Unitful.Quantity{Float64, 𝐋, Unitful.FreeUnits{(μm,), 𝐋, nothing}}), Loki.NonFitParameter{Float64}(Float64), Loki.NonFitParameter{Int64}(Int64), Loki.NonFitParameter{Unitful.Quantity{Float64, 𝐋 𝐓⁻¹, Unitful.FreeUnits{(km, s⁻¹), 𝐋 𝐓⁻¹, nothing}}}(Unitful.Quantity{Float64, 𝐋 𝐓⁻¹, Unitful.FreeUnits{(km, s⁻¹), 𝐋 𝐓⁻¹, nothing}}), Loki.NonFitParameter{Unitful.Quantity{Float64, 𝐋 𝐓⁻¹, Unitful.FreeUnits{(km, s⁻¹), 𝐋 𝐓⁻¹, nothing}}}(Unitful.Quantity{Float64, 𝐋 𝐓⁻¹, Unitful.FreeUnits{(km, s⁻¹), 𝐋 𝐓⁻¹, nothing}}), Loki.NonFitParameter{Unitful.Quantity{Float64, 𝐋 𝐓⁻¹, Unitful.FreeUnits{(km, s⁻¹), 𝐋 𝐓⁻¹, nothing}}}(Unitful.Quantity{Float64, 𝐋 𝐓⁻¹, Unitful.FreeUnits{(km, s⁻¹), 𝐋 𝐓⁻¹, nothing}}), Loki.NonFitParameter{Unitful.Quantity{Float64, 𝐋 𝐓⁻¹, Unitful.FreeUnits{(km, s⁻¹), 𝐋 𝐓⁻¹, nothing}}}(Unitful.Quantity{Float64, 𝐋 𝐓⁻¹, Unitful.FreeUnits{(km, s⁻¹), 𝐋 𝐓⁻¹, nothing}}), Loki.NonFitParameter{Float64}(Float64), Loki.NonFitParameter{Int64}(Int64)])), CubeModel{Float32, Unitful.Quantity{Float32, 𝐌 𝐓⁻², Unitful.FreeUnits{(erg, Hz⁻¹, cm⁻², s⁻¹, sr⁻¹), 𝐌 𝐓⁻², nothing}}}(Unitful.Quantity{Float32, 𝐌 𝐓⁻², Unitful.FreeUnits{(erg, Hz⁻¹, cm⁻², s⁻¹, sr⁻¹), 𝐌 𝐓⁻², nothing}}[0.0f0 erg Hz⁻¹ cm⁻² s⁻¹ sr⁻¹; 0.0f0 erg Hz⁻¹ cm⁻² s⁻¹ sr⁻¹; … ; 0.0f0 erg Hz⁻¹ cm⁻² s⁻¹ sr⁻¹; 0.0f0 erg Hz⁻¹ cm⁻² s⁻¹ sr⁻¹;;;], Float32[0.0; 0.0; … ; 0.0; 0.0;;;], Float32[0.0; 0.0; … ; 0.0; 0.0;;;], Float32[0.0; 0.0; … ; 0.0; 0.0;;;;], nothing, nothing, Unitful.Quantity{Float32, 𝐌 𝐓⁻², Unitful.FreeUnits{(erg, Hz⁻¹, cm⁻², s⁻¹, sr⁻¹), 𝐌 𝐓⁻², nothing}}[0.0f0 erg Hz⁻¹ cm⁻² s⁻¹ sr⁻¹; 0.0f0 erg Hz⁻¹ cm⁻² s⁻¹ sr⁻¹; … ; 0.0f0 erg Hz⁻¹ cm⁻² s⁻¹ sr⁻¹; 0.0f0 erg Hz⁻¹ cm⁻² s⁻¹ sr⁻¹;;;], nothing, nothing, Array{Unitful.Quantity{Float32, 𝐌 𝐓⁻², Unitful.FreeUnits{(erg, Hz⁻¹, cm⁻², s⁻¹, sr⁻¹), 𝐌 𝐓⁻², nothing}}, 4}(undef, 1119, 1, 1, 0), Unitful.Quantity{Float32, 𝐌 𝐓⁻², Unitful.FreeUnits{(erg, Hz⁻¹, cm⁻², s⁻¹, sr⁻¹), 𝐌 𝐓⁻², nothing}}[0.0f0 erg Hz⁻¹ cm⁻² s⁻¹ sr⁻¹; 0.0f0 erg Hz⁻¹ cm⁻² s⁻¹ sr⁻¹; … ; 0.0f0 erg Hz⁻¹ cm⁻² s⁻¹ sr⁻¹; 0.0f0 erg Hz⁻¹ cm⁻² s⁻¹ sr⁻¹;;;; 0.0f0 erg Hz⁻¹ cm⁻² s⁻¹ sr⁻¹; 0.0f0 erg Hz⁻¹ cm⁻² s⁻¹ sr⁻¹; … ; 0.0f0 erg Hz⁻¹ cm⁻² s⁻¹ sr⁻¹; 0.0f0 erg Hz⁻¹ cm⁻² s⁻¹ sr⁻¹;;;; 0.0f0 erg Hz⁻¹ cm⁻² s⁻¹ sr⁻¹; 0.0f0 erg Hz⁻¹ cm⁻² s⁻¹ sr⁻¹; … ; 0.0f0 erg Hz⁻¹ cm⁻² s⁻¹ sr⁻¹; 0.0f0 erg Hz⁻¹ cm⁻² s⁻¹ sr⁻¹;;;; 0.0f0 erg Hz⁻¹ cm⁻² s⁻¹ sr⁻¹; 0.0f0 erg Hz⁻¹ cm⁻² s⁻¹ sr⁻¹; … ; 0.0f0 erg Hz⁻¹ cm⁻² s⁻¹ sr⁻¹; 0.0f0 erg Hz⁻¹ cm⁻² s⁻¹ sr⁻¹], Unitful.Quantity{Float32, 𝐌 𝐓⁻², Unitful.FreeUnits{(erg, Hz⁻¹, cm⁻², s⁻¹, sr⁻¹), 𝐌 𝐓⁻², nothing}}[0.0f0 erg Hz⁻¹ cm⁻² s⁻¹ sr⁻¹; 0.0f0 erg Hz⁻¹ cm⁻² s⁻¹ sr⁻¹; … ; 0.0f0 erg Hz⁻¹ cm⁻² s⁻¹ sr⁻¹; 0.0f0 erg Hz⁻¹ cm⁻² s⁻¹ sr⁻¹;;;], Array{Unitful.Quantity{Float32, 𝐌 𝐓⁻², Unitful.FreeUnits{(erg, Hz⁻¹, cm⁻², s⁻¹, sr⁻¹), 𝐌 𝐓⁻², nothing}}, 4}(undef, 1119, 1, 1, 0), Array{Float32, 4}(undef, 1119, 1, 1, 0), Unitful.Quantity{Float32, 𝐌 𝐓⁻², Unitful.FreeUnits{(erg, Hz⁻¹, cm⁻², s⁻¹, sr⁻¹), 𝐌 𝐓⁻², nothing}}[0.0f0 erg Hz⁻¹ cm⁻² s⁻¹ sr⁻¹; 0.0f0 erg Hz⁻¹ cm⁻² s⁻¹ sr⁻¹; … ; 0.0f0 erg Hz⁻¹ cm⁻² s⁻¹ sr⁻¹; 0.0f0 erg Hz⁻¹ cm⁻² s⁻¹ sr⁻¹;;;; 0.0f0 erg Hz⁻¹ cm⁻² s⁻¹ sr⁻¹; 0.0f0 erg Hz⁻¹ cm⁻² s⁻¹ sr⁻¹; … ; 0.0f0 erg Hz⁻¹ cm⁻² s⁻¹ sr⁻¹; 0.0f0 erg Hz⁻¹ cm⁻² s⁻¹ sr⁻¹;;;; 0.0f0 erg Hz⁻¹ cm⁻² s⁻¹ sr⁻¹; 0.0f0 erg Hz⁻¹ cm⁻² s⁻¹ sr⁻¹; … ; 0.0f0 erg Hz⁻¹ cm⁻² s⁻¹ sr⁻¹; 0.0f0 erg Hz⁻¹ cm⁻² s⁻¹ sr⁻¹;;;; 0.0f0 erg Hz⁻¹ cm⁻² s⁻¹ sr⁻¹; 0.0f0 erg Hz⁻¹ cm⁻² s⁻¹ sr⁻¹; … ; 0.0f0 erg Hz⁻¹ cm⁻² s⁻¹ sr⁻¹; 0.0f0 erg Hz⁻¹ cm⁻² s⁻¹ sr⁻¹;;;; 0.0f0 erg Hz⁻¹ cm⁻² s⁻¹ sr⁻¹; 0.0f0 erg Hz⁻¹ cm⁻² s⁻¹ sr⁻¹; … ; 0.0f0 erg Hz⁻¹ cm⁻² s⁻¹ sr⁻¹; 0.0f0 erg Hz⁻¹ cm⁻² s⁻¹ sr⁻¹;;;; 0.0f0 erg Hz⁻¹ cm⁻² s⁻¹ sr⁻¹; 0.0f0 erg Hz⁻¹ cm⁻² s⁻¹ sr⁻¹; … ; 0.0f0 erg Hz⁻¹ cm⁻² s⁻¹ sr⁻¹; 0.0f0 erg Hz⁻¹ cm⁻² s⁻¹ sr⁻¹;;;; 0.0f0 erg Hz⁻¹ cm⁻² s⁻¹ sr⁻¹; 0.0f0 erg Hz⁻¹ cm⁻² s⁻¹ sr⁻¹; … ; 0.0f0 erg Hz⁻¹ cm⁻² s⁻¹ sr⁻¹; 0.0f0 erg Hz⁻¹ cm⁻² s⁻¹ sr⁻¹], Unitful.Quantity{Float32, 𝐌 𝐓⁻², Unitful.FreeUnits{(erg, Hz⁻¹, cm⁻², s⁻¹, sr⁻¹), 𝐌 𝐓⁻², nothing}}[0.0f0 erg Hz⁻¹ cm⁻² s⁻¹ sr⁻¹; 0.0f0 erg Hz⁻¹ cm⁻² s⁻¹ sr⁻¹; … ; 0.0f0 erg Hz⁻¹ cm⁻² s⁻¹ sr⁻¹; 0.0f0 erg Hz⁻¹ cm⁻² s⁻¹ sr⁻¹;;;; 0.0f0 erg Hz⁻¹ cm⁻² s⁻¹ sr⁻¹; 0.0f0 erg Hz⁻¹ cm⁻² s⁻¹ sr⁻¹; … ; 0.0f0 erg Hz⁻¹ cm⁻² s⁻¹ sr⁻¹; 0.0f0 erg Hz⁻¹ cm⁻² s⁻¹ sr⁻¹;;;; 0.0f0 erg Hz⁻¹ cm⁻² s⁻¹ sr⁻¹; 0.0f0 erg Hz⁻¹ cm⁻² s⁻¹ sr⁻¹; … ; 0.0f0 erg Hz⁻¹ cm⁻² s⁻¹ sr⁻¹; 0.0f0 erg Hz⁻¹ cm⁻² s⁻¹ sr⁻¹]))"
      ]
     },
     "metadata": {},
     "output_type": "display_data"
    }
   ],
   "source": [
    "# To see a full list of keyword arguments, please refer to the docstring, which can be accessed by typing `?CubeFitter` in the command\n",
    "# line after importing Loki.\n",
    "cube_fitter = CubeFitter(obs.channels[channel], obs.z, run_name; parallel=false, plot_spaxels=:both, \n",
    "    plot_maps=true, save_fits=true, use_pah_templates=false, fit_sil_emission=true, save_full_model=false,\n",
    "    fit_stellar_continuum=false)\n",
    "\n",
    "# Call the fit_cube! function on the cube_fitter object, using the aperture we defined.\n",
    "fit_cube!(cube_fitter, ap)"
   ]
  },
  {
   "attachments": {},
   "cell_type": "markdown",
   "id": "05295663",
   "metadata": {},
   "source": [
    "And the results can be found in the \"output_[run_name]\" directory!\n",
    "Here is our fit of channel 1B of the nuclear spectrum of NGC 7469\\*:\n",
    "\n",
    "![results_1D](./NGC_7469_spaxel_1_1.nucleus.jpg)\n",
    "\n",
    "The orange line shows the final model.  The decomposed components of the model consist of:\n",
    "- Thermal dust continuum, in gray\n",
    "- Stellar continuum, in pink\n",
    "- Hot silicate dust emission, in green\n",
    "- PAHs, in blue\n",
    "- Emission lines, in purple\n",
    "- Extinction, in dotted gray (read from the right axis)\n",
    "\n",
    "The thicker gray line that lies close to the final orange model is showing the combined continuum components from the dust and stars (but excluding the PAHs).\n",
    "\n",
    "You will also notice that emission lines get nice labels at the top of the plot.\n",
    "\n",
    "\\*Side note: it is generally not a good idea to fit such a small wavelength range with just this one sub-channel, this was done just as a quick example to get you started. The continuum components can be degenerate with the very flat extinction profile if you happen to land on a relatively featureless part of the continuum (such as the section shown here). This is less of a problem at shorter wavelengths, due to the complicated shape of the stellar continuum, and around 10-18 microns where there are large silicate absorption features. If you absolutely must fit a part of the spectrum like the one shown here, just take the return values for the continuum and extinction with a grain of salt."
   ]
  }
 ],
 "metadata": {
  "kernelspec": {
   "display_name": "Julia 1.10.9",
   "language": "julia",
   "name": "julia-1.10"
  },
  "language_info": {
   "file_extension": ".jl",
   "mimetype": "application/julia",
   "name": "julia",
   "version": "1.10.9"
  }
 },
 "nbformat": 4,
 "nbformat_minor": 5
}
